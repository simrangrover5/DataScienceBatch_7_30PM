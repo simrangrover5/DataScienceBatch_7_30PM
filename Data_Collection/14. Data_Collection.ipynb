{
 "cells": [
  {
   "cell_type": "markdown",
   "metadata": {},
   "source": [
    "    1. API\n",
    "    2. Web Scraping\n",
    "    3. Internet datasets \n",
    "    4. Survey"
   ]
  },
  {
   "cell_type": "markdown",
   "metadata": {},
   "source": [
    "    HTTP --> Hyper Text Transfer Protocol\n",
    "    \n",
    "        Request --> head --> Methods --> GET, POST, PUT, PATCH, DELETE\n",
    "        \n",
    "            GET METHOD --> brings data from server\n",
    "            POST METHOD --> request + data --> server POST\n",
    "            PUT --> update data\n",
    "            PATCH --> partial update data\n",
    "            DELETE --> delete data"
   ]
  },
  {
   "cell_type": "markdown",
   "metadata": {},
   "source": [
    "#### API\n",
    "\n",
    "    API --> Application Programming Interface\n",
    "    Such that you can exchange data between them"
   ]
  },
  {
   "cell_type": "code",
   "execution_count": null,
   "metadata": {},
   "outputs": [],
   "source": []
  }
 ],
 "metadata": {
  "kernelspec": {
   "display_name": "Python 3",
   "language": "python",
   "name": "python3"
  },
  "language_info": {
   "codemirror_mode": {
    "name": "ipython",
    "version": 3
   },
   "file_extension": ".py",
   "mimetype": "text/x-python",
   "name": "python",
   "nbconvert_exporter": "python",
   "pygments_lexer": "ipython3",
   "version": "3.8.5"
  }
 },
 "nbformat": 4,
 "nbformat_minor": 4
}
