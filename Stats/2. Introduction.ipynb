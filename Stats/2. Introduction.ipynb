{
 "cells": [
  {
   "cell_type": "code",
   "execution_count": 1,
   "metadata": {},
   "outputs": [],
   "source": [
    "s = \"abcd@123456\"\n",
    "# 6543@\n",
    "# s = \"12345@abcdefg\" --> gfedc@"
   ]
  },
  {
   "cell_type": "code",
   "execution_count": 3,
   "metadata": {},
   "outputs": [
    {
     "data": {
      "text/plain": [
       "'65432@'"
      ]
     },
     "execution_count": 3,
     "metadata": {},
     "output_type": "execute_result"
    }
   ],
   "source": [
    "s = 'abcde@123456'\n",
    "l = s.split('@')\n",
    "s1 = s[::-1]\n",
    "s1[:len(l[0])]+'@'"
   ]
  },
  {
   "cell_type": "code",
   "execution_count": 5,
   "metadata": {},
   "outputs": [
    {
     "name": "stdout",
     "output_type": "stream",
     "text": [
      "1234@abcdef\n"
     ]
    },
    {
     "data": {
      "text/plain": [
       "'fedc'"
      ]
     },
     "execution_count": 5,
     "metadata": {},
     "output_type": "execute_result"
    }
   ],
   "source": [
    "s=input()\n",
    "i=s.index('@')\n",
    "a=s[-1:-i-1:-1] + \"@\"   # i = 4, s[-1:-5:-1]\n",
    "a"
   ]
  },
  {
   "cell_type": "code",
   "execution_count": 6,
   "metadata": {},
   "outputs": [
    {
     "data": {
      "text/plain": [
       "'1234@abcdef'"
      ]
     },
     "execution_count": 6,
     "metadata": {},
     "output_type": "execute_result"
    }
   ],
   "source": [
    "s"
   ]
  },
  {
   "cell_type": "code",
   "execution_count": 8,
   "metadata": {},
   "outputs": [],
   "source": [
    "s1, s2 = s.split(\"@\")"
   ]
  },
  {
   "cell_type": "code",
   "execution_count": 9,
   "metadata": {},
   "outputs": [
    {
     "data": {
      "text/plain": [
       "'1234'"
      ]
     },
     "execution_count": 9,
     "metadata": {},
     "output_type": "execute_result"
    }
   ],
   "source": [
    "s1"
   ]
  },
  {
   "cell_type": "code",
   "execution_count": 13,
   "metadata": {},
   "outputs": [
    {
     "data": {
      "text/plain": [
       "'fedc'"
      ]
     },
     "execution_count": 13,
     "metadata": {},
     "output_type": "execute_result"
    }
   ],
   "source": [
    "s2[-1:-5:-1]"
   ]
  },
  {
   "cell_type": "code",
   "execution_count": 22,
   "metadata": {},
   "outputs": [],
   "source": [
    "l1 = ['hello', 'how', 'you?', 'you', 'good']\n",
    "l2 = ['?', 'are', 'hope', 'are' , 'hi']\n",
    "# hello hi how are you? hope you are good"
   ]
  },
  {
   "cell_type": "code",
   "execution_count": 15,
   "metadata": {},
   "outputs": [
    {
     "name": "stdout",
     "output_type": "stream",
     "text": [
      "hello hi how are you? hope you are good ? "
     ]
    }
   ],
   "source": [
    "for i in range(len(l1)):\n",
    "    print(l1[i],l2[-i-1],sep=' ',end=' ')\n",
    "#"
   ]
  },
  {
   "cell_type": "code",
   "execution_count": 18,
   "metadata": {},
   "outputs": [
    {
     "name": "stdout",
     "output_type": "stream",
     "text": [
      "hello hi how are you? hope you are good ? \n"
     ]
    }
   ],
   "source": [
    "l1=['hello','how','you?','you','good']\n",
    "l2=['?','are','hope','are','hi']\n",
    "l3=l2[::-1]\n",
    "s=\"\"\n",
    "for i in range(0,len(l1)):\n",
    "    s=s+l1[i]+\" \"\n",
    "    s=s+l3[i]+\" \"\n",
    "print(s)"
   ]
  },
  {
   "cell_type": "code",
   "execution_count": 19,
   "metadata": {},
   "outputs": [
    {
     "name": "stdout",
     "output_type": "stream",
     "text": [
      "hello hi\n",
      "how are\n",
      "you? hope\n",
      "you are\n",
      "good ?\n"
     ]
    }
   ],
   "source": [
    "l2.reverse() # or l2 = l2[::-1]\n",
    "for idx in range(len(l1)):\n",
    "    print(l1[idx], l2[idx])"
   ]
  },
  {
   "cell_type": "code",
   "execution_count": 20,
   "metadata": {},
   "outputs": [
    {
     "name": "stdout",
     "output_type": "stream",
     "text": [
      "0\n",
      "1\n",
      "2\n",
      "3\n",
      "4\n"
     ]
    }
   ],
   "source": [
    "for i in range(len(l1)):\n",
    "    print(i)"
   ]
  },
  {
   "cell_type": "code",
   "execution_count": 23,
   "metadata": {},
   "outputs": [
    {
     "name": "stdout",
     "output_type": "stream",
     "text": [
      "hello hi how are you? hope you are good ? \n"
     ]
    }
   ],
   "source": [
    "s = \"\"\n",
    "for i in range(len(l1)):\n",
    "    s += l1[i] + \" \" + l2[-i-1] + \" \"\n",
    "print(s)"
   ]
  },
  {
   "cell_type": "code",
   "execution_count": 30,
   "metadata": {},
   "outputs": [
    {
     "name": "stdout",
     "output_type": "stream",
     "text": [
      "hello hi how are you? hope you are good ? \n"
     ]
    }
   ],
   "source": [
    "l1=['hello','how','you?','you','good']\n",
    "l2=['?','are','hope','are','hi']\n",
    "if len(l1) == len(l2): \n",
    "    l3=l2[::-1]\n",
    "    s = \"\"\n",
    "    for i in range(len(l1)):\n",
    "        s += l1[i] + \" \" + l3[i] + \" \"\n",
    "    print(s)"
   ]
  },
  {
   "cell_type": "code",
   "execution_count": 25,
   "metadata": {},
   "outputs": [
    {
     "data": {
      "text/plain": [
       "['hello', 'how', 'you?', 'you', 'good']"
      ]
     },
     "execution_count": 25,
     "metadata": {},
     "output_type": "execute_result"
    }
   ],
   "source": [
    "l1"
   ]
  },
  {
   "cell_type": "code",
   "execution_count": 27,
   "metadata": {},
   "outputs": [
    {
     "data": {
      "text/plain": [
       "['hi', 'are', 'hope', 'are', '?']"
      ]
     },
     "execution_count": 27,
     "metadata": {},
     "output_type": "execute_result"
    }
   ],
   "source": [
    "l3"
   ]
  },
  {
   "cell_type": "code",
   "execution_count": 32,
   "metadata": {},
   "outputs": [],
   "source": [
    "##### profiles on which you can apply after data science"
   ]
  },
  {
   "cell_type": "markdown",
   "metadata": {},
   "source": [
    "### Data Science\n",
    "    \n",
    "        What is data science???\n",
    "        \n",
    "            Data --> Anything is data \n",
    "                     Raw fact or figure\n",
    "            Simran    Jaipur     B.tech \n",
    "            \n",
    "            Information --> Processed form of data or collection of data \n",
    "                \n",
    "                Simran lives in Jaipur and she has completed her graduation in B.tech\n",
    "           \n",
    "           \n",
    "            Data is all about getting insights/useful information from data such that it can help in company growth or solves some problem"
   ]
  },
  {
   "cell_type": "code",
   "execution_count": null,
   "metadata": {},
   "outputs": [],
   "source": []
  }
 ],
 "metadata": {
  "kernelspec": {
   "display_name": "Python 3",
   "language": "python",
   "name": "python3"
  },
  "language_info": {
   "codemirror_mode": {
    "name": "ipython",
    "version": 3
   },
   "file_extension": ".py",
   "mimetype": "text/x-python",
   "name": "python",
   "nbconvert_exporter": "python",
   "pygments_lexer": "ipython3",
   "version": "3.8.5"
  }
 },
 "nbformat": 4,
 "nbformat_minor": 4
}
