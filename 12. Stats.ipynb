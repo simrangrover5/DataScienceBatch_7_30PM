{
 "cells": [
  {
   "cell_type": "code",
   "execution_count": 1,
   "metadata": {},
   "outputs": [],
   "source": [
    "import numpy as np\n",
    "import matplotlib.pyplot as plt"
   ]
  },
  {
   "cell_type": "markdown",
   "metadata": {},
   "source": [
    "#### Non continuity data frequency distribution"
   ]
  },
  {
   "cell_type": "markdown",
   "metadata": {},
   "source": [
    "#### Continuity/Grouped data frequency distribution"
   ]
  },
  {
   "cell_type": "code",
   "execution_count": 2,
   "metadata": {},
   "outputs": [],
   "source": [
    "data = np.random.randint(10, 50, 100)"
   ]
  },
  {
   "cell_type": "code",
   "execution_count": 3,
   "metadata": {},
   "outputs": [
    {
     "data": {
      "text/plain": [
       "array([26, 22, 21, 16, 19, 49, 33, 15, 26, 41, 32, 22, 35, 25, 35, 34, 17,\n",
       "       22, 18, 48, 32, 43, 43, 38, 32, 18, 22, 24, 27, 21, 22, 35, 20, 11,\n",
       "       44, 16, 19, 24, 22, 20, 10, 29, 47, 24, 47, 45, 10, 14, 32, 47, 46,\n",
       "       30, 27, 18, 49, 13, 30, 25, 30, 41, 26, 19, 23, 44, 21, 47, 17, 31,\n",
       "       45, 29, 33, 13, 18, 23, 24, 43, 40, 21, 46, 27, 44, 44, 25, 17, 13,\n",
       "       41, 21, 31, 45, 19, 20, 40, 35, 22, 12, 30, 41, 20, 13, 47])"
      ]
     },
     "execution_count": 3,
     "metadata": {},
     "output_type": "execute_result"
    }
   ],
   "source": [
    "data"
   ]
  },
  {
   "cell_type": "code",
   "execution_count": 7,
   "metadata": {},
   "outputs": [],
   "source": [
    "N = 100\n",
    "k = round(1 + 3.322 * np.log10(N))\n",
    "range_ = max(data) - min(data)\n",
    "size = round(range_/k)"
   ]
  },
  {
   "cell_type": "code",
   "execution_count": 8,
   "metadata": {},
   "outputs": [
    {
     "data": {
      "text/plain": [
       "8"
      ]
     },
     "execution_count": 8,
     "metadata": {},
     "output_type": "execute_result"
    }
   ],
   "source": [
    "k"
   ]
  },
  {
   "cell_type": "code",
   "execution_count": 9,
   "metadata": {},
   "outputs": [
    {
     "data": {
      "text/plain": [
       "5"
      ]
     },
     "execution_count": 9,
     "metadata": {},
     "output_type": "execute_result"
    }
   ],
   "source": [
    "size"
   ]
  },
  {
   "cell_type": "code",
   "execution_count": null,
   "metadata": {},
   "outputs": [],
   "source": [
    "10-15, 15-20, 20-25, 25-30, 30-35, 35-40, 40-45, 45-50"
   ]
  },
  {
   "cell_type": "code",
   "execution_count": 12,
   "metadata": {},
   "outputs": [],
   "source": [
    "intervals = list(range(10, 50+1, size))"
   ]
  },
  {
   "cell_type": "code",
   "execution_count": 13,
   "metadata": {},
   "outputs": [
    {
     "data": {
      "text/plain": [
       "[10, 15, 20, 25, 30, 35, 40, 45, 50]"
      ]
     },
     "execution_count": 13,
     "metadata": {},
     "output_type": "execute_result"
    }
   ],
   "source": [
    "intervals"
   ]
  },
  {
   "cell_type": "code",
   "execution_count": 21,
   "metadata": {},
   "outputs": [
    {
     "name": "stdout",
     "output_type": "stream",
     "text": [
      "[9, 14, 22, 11, 13, 5, 13, 13]\n"
     ]
    }
   ],
   "source": [
    "freq = []\n",
    "data = list(data)\n",
    "for i in range(len(intervals)-1):\n",
    "    ll = intervals[i]\n",
    "    ul = intervals[i+1]\n",
    "    count = 0\n",
    "    for ele in range(ll, ul): # range(10, 15) --> 10, 11, 12, 13, 14\n",
    "        count += data.count(ele)\n",
    "    freq.append(count)\n",
    "print(freq)"
   ]
  },
  {
   "cell_type": "code",
   "execution_count": 24,
   "metadata": {},
   "outputs": [
    {
     "name": "stdout",
     "output_type": "stream",
     "text": [
      "15 1\n",
      "16 2\n",
      "17 3\n",
      "18 4\n",
      "19 4\n"
     ]
    }
   ],
   "source": [
    "for i in range(15, 20):\n",
    "    print(i, data.count(i))"
   ]
  },
  {
   "cell_type": "code",
   "execution_count": 20,
   "metadata": {},
   "outputs": [
    {
     "data": {
      "text/plain": [
       "49"
      ]
     },
     "execution_count": 20,
     "metadata": {},
     "output_type": "execute_result"
    }
   ],
   "source": [
    "max(data)"
   ]
  },
  {
   "cell_type": "code",
   "execution_count": 25,
   "metadata": {},
   "outputs": [
    {
     "name": "stdout",
     "output_type": "stream",
     "text": [
      "[9, 14, 22, 11, 13, 5, 13, 13]\n"
     ]
    }
   ],
   "source": [
    "N = 100\n",
    "k = round(1 + 3.322 * np.log10(N))\n",
    "range_ = max(data) - min(data)\n",
    "size = round(range_/k)\n",
    "intervals = list(range(10, 50+1, size))\n",
    "freq = []\n",
    "data = list(data)\n",
    "for i in range(len(intervals)-1):\n",
    "    ll = intervals[i]\n",
    "    ul = intervals[i+1]\n",
    "    count = 0\n",
    "    for ele in range(ll, ul): # range(10, 15) --> 10, 11, 12, 13, 14\n",
    "        count += data.count(ele)\n",
    "    freq.append(count)\n",
    "print(freq)"
   ]
  },
  {
   "cell_type": "code",
   "execution_count": 40,
   "metadata": {},
   "outputs": [
    {
     "name": "stdout",
     "output_type": "stream",
     "text": [
      "__________________________________________________\n",
      "CLASSES\t\t|\t\tFREQUENCY\t|\n",
      "__________________________________________________\n",
      "10 - 15\t\t|\t\t9\t\t|\n",
      "__________________________________________________\n",
      "15 - 20\t\t|\t\t14\t\t|\n",
      "__________________________________________________\n",
      "20 - 25\t\t|\t\t22\t\t|\n",
      "__________________________________________________\n",
      "25 - 30\t\t|\t\t11\t\t|\n",
      "__________________________________________________\n",
      "30 - 35\t\t|\t\t13\t\t|\n",
      "__________________________________________________\n",
      "35 - 40\t\t|\t\t5\t\t|\n",
      "__________________________________________________\n",
      "40 - 45\t\t|\t\t13\t\t|\n",
      "__________________________________________________\n",
      "45 - 50\t\t|\t\t13\t\t|\n",
      "__________________________________________________\n"
     ]
    }
   ],
   "source": [
    "print(\"_\"*50)\n",
    "print(\"CLASSES\\t\\t|\\t\\tFREQUENCY\\t|\")\n",
    "print(\"_\"*50)\n",
    "int_ = []\n",
    "for i in range(len(intervals)-1):\n",
    "    int_.append(f\"{intervals[i]} - {intervals[i+1]}\")\n",
    "    print(f\"{intervals[i]} - {intervals[i+1]}\\t\\t|\\t\\t{freq[i]}\\t\\t|\")\n",
    "    print(\"_\"*50)"
   ]
  },
  {
   "cell_type": "code",
   "execution_count": 34,
   "metadata": {},
   "outputs": [
    {
     "data": {
      "text/plain": [
       "9"
      ]
     },
     "execution_count": 34,
     "metadata": {},
     "output_type": "execute_result"
    }
   ],
   "source": [
    "len(intervals)"
   ]
  },
  {
   "cell_type": "code",
   "execution_count": 35,
   "metadata": {},
   "outputs": [
    {
     "data": {
      "text/plain": [
       "8"
      ]
     },
     "execution_count": 35,
     "metadata": {},
     "output_type": "execute_result"
    }
   ],
   "source": [
    "len(freq)"
   ]
  },
  {
   "cell_type": "code",
   "execution_count": 41,
   "metadata": {},
   "outputs": [
    {
     "data": {
      "text/plain": [
       "<BarContainer object of 8 artists>"
      ]
     },
     "execution_count": 41,
     "metadata": {},
     "output_type": "execute_result"
    },
    {
     "data": {
      "image/png": "[encoded data removed]",
      "text/plain": [
       "<Figure size 432x288 with 1 Axes>"
      ]
     },
     "metadata": {
      "needs_background": "light"
     },
     "output_type": "display_data"
    }
   ],
   "source": [
    "plt.bar(int_, freq)"
   ]
  },
  {
   "cell_type": "markdown",
   "metadata": {},
   "source": [
    "#### Make class intervals using both inclusive and exclusive method\n",
    "#### Include frequency percentage column in above methods table\n",
    "#### Create more than and less than CF table\n",
    "#### Cummulative Frequency distribution table "
   ]
  },
  {
   "cell_type": "markdown",
   "metadata": {},
   "source": []
  },
  {
   "cell_type": "code",
   "execution_count": null,
   "metadata": {},
   "outputs": [],
   "source": []
  }
 ],
 "metadata": {
  "kernelspec": {
   "display_name": "Python 3",
   "language": "python",
   "name": "python3"
  },
  "language_info": {
   "codemirror_mode": {
    "name": "ipython",
    "version": 3
   },
   "file_extension": ".py",
   "mimetype": "text/x-python",
   "name": "python",
   "nbconvert_exporter": "python",
   "pygments_lexer": "ipython3",
   "version": "3.8.5"
  }
 },
 "nbformat": 4,
 "nbformat_minor": 4
}
