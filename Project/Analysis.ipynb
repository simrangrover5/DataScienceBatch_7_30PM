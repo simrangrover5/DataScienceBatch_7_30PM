{
 "cells": [
  {
   "cell_type": "code",
   "execution_count": 1,
   "metadata": {},
   "outputs": [],
   "source": [
    "import pandas as pd\n",
    "import matplotlib.pyplot as plt\n",
    "import numpy as np\n",
    "import seaborn as sns"
   ]
  },
  {
   "cell_type": "markdown",
   "metadata": {},
   "source": [
    "#### Dataset used\n",
    "\n",
    "https://www.kaggle.com/promptcloud/jobs-on-naukricom"
   ]
  },
  {
   "cell_type": "code",
   "execution_count": 2,
   "metadata": {},
   "outputs": [],
   "source": [
    "plt.rcParams['figure.figsize'] = 11, 5\n",
    "plt.rcParams['figure.dpi'] = 100"
   ]
  },
  {
   "cell_type": "code",
   "execution_count": 3,
   "metadata": {},
   "outputs": [],
   "source": [
    "data = pd.read_csv(\"home/sdf/marketing_sample_for_naukri_com-jobs__20190701_20190830__30k_data.csv\")"
   ]
  },
  {
   "cell_type": "code",
   "execution_count": 4,
   "metadata": {},
   "outputs": [
    {
     "data": {
      "text/html": [
       "<div>\n",
       "<style scoped>\n",
       "    .dataframe tbody tr th:only-of-type {\n",
       "        vertical-align: middle;\n",
       "    }\n",
       "\n",
       "    .dataframe tbody tr th {\n",
       "        vertical-align: top;\n",
       "    }\n",
       "\n",
       "    .dataframe thead th {\n",
       "        text-align: right;\n",
       "    }\n",
       "</style>\n",
       "<table border=\"1\" class=\"dataframe\">\n",
       "  <thead>\n",
       "    <tr style=\"text-align: right;\">\n",
       "      <th></th>\n",
       "      <th>Uniq Id</th>\n",
       "      <th>Crawl Timestamp</th>\n",
       "      <th>Job Title</th>\n",
       "      <th>Job Salary</th>\n",
       "      <th>Job Experience Required</th>\n",
       "      <th>Key Skills</th>\n",
       "      <th>Role Category</th>\n",
       "      <th>Location</th>\n",
       "      <th>Functional Area</th>\n",
       "      <th>Industry</th>\n",
       "      <th>Role</th>\n",
       "    </tr>\n",
       "  </thead>\n",
       "  <tbody>\n",
       "    <tr>\n",
       "      <th>0</th>\n",
       "      <td>9be62c49a0b7ebe982a4af1edaa7bc5f</td>\n",
       "      <td>2019-07-05 01:46:07 +0000</td>\n",
       "      <td>Digital Media Planner</td>\n",
       "      <td>Not Disclosed by Recruiter</td>\n",
       "      <td>5 - 10 yrs</td>\n",
       "      <td>Media Planning| Digital Media</td>\n",
       "      <td>Advertising</td>\n",
       "      <td>Mumbai</td>\n",
       "      <td>Marketing , Advertising , MR , PR , Media Plan...</td>\n",
       "      <td>Advertising, PR, MR, Event Management</td>\n",
       "      <td>Media Planning Executive/Manager</td>\n",
       "    </tr>\n",
       "    <tr>\n",
       "      <th>1</th>\n",
       "      <td>3c52d436e39f596b22519da2612f6a56</td>\n",
       "      <td>2019-07-06 08:04:50 +0000</td>\n",
       "      <td>Online Bidding Executive</td>\n",
       "      <td>Not Disclosed by Recruiter</td>\n",
       "      <td>2 - 5 yrs</td>\n",
       "      <td>pre sales| closing| software knowledge| clien...</td>\n",
       "      <td>Retail Sales</td>\n",
       "      <td>Pune,Pune</td>\n",
       "      <td>Sales , Retail , Business Development</td>\n",
       "      <td>IT-Software, Software Services</td>\n",
       "      <td>Sales Executive/Officer</td>\n",
       "    </tr>\n",
       "    <tr>\n",
       "      <th>2</th>\n",
       "      <td>ffad8a2396c60be2bf6d0e2ff47c58d4</td>\n",
       "      <td>2019-08-05 15:50:44 +0000</td>\n",
       "      <td>Trainee Research/ Research Executive- Hi- Tec...</td>\n",
       "      <td>Not Disclosed by Recruiter</td>\n",
       "      <td>0 - 1 yrs</td>\n",
       "      <td>Computer science| Fabrication| Quality check|...</td>\n",
       "      <td>R&amp;D</td>\n",
       "      <td>Gurgaon</td>\n",
       "      <td>Engineering Design , R&amp;D</td>\n",
       "      <td>Recruitment, Staffing</td>\n",
       "      <td>R&amp;D Executive</td>\n",
       "    </tr>\n",
       "    <tr>\n",
       "      <th>3</th>\n",
       "      <td>7b921f51b5c2fb862b4a5f7a54c37f75</td>\n",
       "      <td>2019-08-05 15:31:56 +0000</td>\n",
       "      <td>Technical Support</td>\n",
       "      <td>2,00,000 - 4,00,000 PA.</td>\n",
       "      <td>0 - 5 yrs</td>\n",
       "      <td>Technical Support</td>\n",
       "      <td>Admin/Maintenance/Security/Datawarehousing</td>\n",
       "      <td>Mumbai</td>\n",
       "      <td>IT Software - Application Programming , Mainte...</td>\n",
       "      <td>IT-Software, Software Services</td>\n",
       "      <td>Technical Support Engineer</td>\n",
       "    </tr>\n",
       "    <tr>\n",
       "      <th>4</th>\n",
       "      <td>2d8b7d44e138a54d5dc841163138de50</td>\n",
       "      <td>2019-07-05 02:48:29 +0000</td>\n",
       "      <td>Software Test Engineer -hyderabad</td>\n",
       "      <td>Not Disclosed by Recruiter</td>\n",
       "      <td>2 - 5 yrs</td>\n",
       "      <td>manual testing| test engineering| test cases|...</td>\n",
       "      <td>Programming &amp; Design</td>\n",
       "      <td>Hyderabad</td>\n",
       "      <td>IT Software - QA &amp; Testing</td>\n",
       "      <td>IT-Software, Software Services</td>\n",
       "      <td>Testing Engineer</td>\n",
       "    </tr>\n",
       "  </tbody>\n",
       "</table>\n",
       "</div>"
      ],
      "text/plain": [
       "                            Uniq Id            Crawl Timestamp  \\\n",
       "0  9be62c49a0b7ebe982a4af1edaa7bc5f  2019-07-05 01:46:07 +0000   \n",
       "1  3c52d436e39f596b22519da2612f6a56  2019-07-06 08:04:50 +0000   \n",
       "2  ffad8a2396c60be2bf6d0e2ff47c58d4  2019-08-05 15:50:44 +0000   \n",
       "3  7b921f51b5c2fb862b4a5f7a54c37f75  2019-08-05 15:31:56 +0000   \n",
       "4  2d8b7d44e138a54d5dc841163138de50  2019-07-05 02:48:29 +0000   \n",
       "\n",
       "                                           Job Title  \\\n",
       "0                              Digital Media Planner   \n",
       "1                           Online Bidding Executive   \n",
       "2   Trainee Research/ Research Executive- Hi- Tec...   \n",
       "3                                  Technical Support   \n",
       "4                  Software Test Engineer -hyderabad   \n",
       "\n",
       "                     Job Salary Job Experience Required  \\\n",
       "0   Not Disclosed by Recruiter               5 - 10 yrs   \n",
       "1   Not Disclosed by Recruiter                2 - 5 yrs   \n",
       "2   Not Disclosed by Recruiter                0 - 1 yrs   \n",
       "3      2,00,000 - 4,00,000 PA.                0 - 5 yrs   \n",
       "4   Not Disclosed by Recruiter                2 - 5 yrs   \n",
       "\n",
       "                                          Key Skills  \\\n",
       "0                      Media Planning| Digital Media   \n",
       "1   pre sales| closing| software knowledge| clien...   \n",
       "2   Computer science| Fabrication| Quality check|...   \n",
       "3                                  Technical Support   \n",
       "4   manual testing| test engineering| test cases|...   \n",
       "\n",
       "                                Role Category   Location  \\\n",
       "0                                 Advertising     Mumbai   \n",
       "1                                Retail Sales  Pune,Pune   \n",
       "2                                         R&D    Gurgaon   \n",
       "3  Admin/Maintenance/Security/Datawarehousing     Mumbai   \n",
       "4                        Programming & Design  Hyderabad   \n",
       "\n",
       "                                     Functional Area  \\\n",
       "0  Marketing , Advertising , MR , PR , Media Plan...   \n",
       "1              Sales , Retail , Business Development   \n",
       "2                           Engineering Design , R&D   \n",
       "3  IT Software - Application Programming , Mainte...   \n",
       "4                         IT Software - QA & Testing   \n",
       "\n",
       "                                Industry                              Role  \n",
       "0  Advertising, PR, MR, Event Management  Media Planning Executive/Manager  \n",
       "1         IT-Software, Software Services           Sales Executive/Officer  \n",
       "2                  Recruitment, Staffing                     R&D Executive  \n",
       "3         IT-Software, Software Services        Technical Support Engineer  \n",
       "4         IT-Software, Software Services                  Testing Engineer  "
      ]
     },
     "execution_count": 4,
     "metadata": {},
     "output_type": "execute_result"
    }
   ],
   "source": [
    "data.head()"
   ]
  },
  {
   "cell_type": "code",
   "execution_count": 5,
   "metadata": {},
   "outputs": [
    {
     "name": "stdout",
     "output_type": "stream",
     "text": [
      "<class 'pandas.core.frame.DataFrame'>\n",
      "RangeIndex: 30000 entries, 0 to 29999\n",
      "Data columns (total 11 columns):\n",
      " #   Column                   Non-Null Count  Dtype \n",
      "---  ------                   --------------  ----- \n",
      " 0   Uniq Id                  30000 non-null  object\n",
      " 1   Crawl Timestamp          30000 non-null  object\n",
      " 2   Job Title                29425 non-null  object\n",
      " 3   Job Salary               29950 non-null  object\n",
      " 4   Job Experience Required  29427 non-null  object\n",
      " 5   Key Skills               28729 non-null  object\n",
      " 6   Role Category            27695 non-null  object\n",
      " 7   Location                 29423 non-null  object\n",
      " 8   Functional Area          29427 non-null  object\n",
      " 9   Industry                 29427 non-null  object\n",
      " 10  Role                     29099 non-null  object\n",
      "dtypes: object(11)\n",
      "memory usage: 2.5+ MB\n"
     ]
    }
   ],
   "source": [
    "data.info()"
   ]
  },
  {
   "cell_type": "code",
   "execution_count": 6,
   "metadata": {},
   "outputs": [
    {
     "data": {
      "text/html": [
       "<div>\n",
       "<style scoped>\n",
       "    .dataframe tbody tr th:only-of-type {\n",
       "        vertical-align: middle;\n",
       "    }\n",
       "\n",
       "    .dataframe tbody tr th {\n",
       "        vertical-align: top;\n",
       "    }\n",
       "\n",
       "    .dataframe thead th {\n",
       "        text-align: right;\n",
       "    }\n",
       "</style>\n",
       "<table border=\"1\" class=\"dataframe\">\n",
       "  <thead>\n",
       "    <tr style=\"text-align: right;\">\n",
       "      <th></th>\n",
       "      <th>Uniq Id</th>\n",
       "      <th>Crawl Timestamp</th>\n",
       "      <th>Job Title</th>\n",
       "      <th>Job Salary</th>\n",
       "      <th>Job Experience Required</th>\n",
       "      <th>Key Skills</th>\n",
       "      <th>Role Category</th>\n",
       "      <th>Location</th>\n",
       "      <th>Functional Area</th>\n",
       "      <th>Industry</th>\n",
       "      <th>Role</th>\n",
       "    </tr>\n",
       "  </thead>\n",
       "  <tbody>\n",
       "    <tr>\n",
       "      <th>count</th>\n",
       "      <td>30000</td>\n",
       "      <td>30000</td>\n",
       "      <td>29425</td>\n",
       "      <td>29950</td>\n",
       "      <td>29427</td>\n",
       "      <td>28729</td>\n",
       "      <td>27695</td>\n",
       "      <td>29423</td>\n",
       "      <td>29427</td>\n",
       "      <td>29427</td>\n",
       "      <td>29099</td>\n",
       "    </tr>\n",
       "    <tr>\n",
       "      <th>unique</th>\n",
       "      <td>30000</td>\n",
       "      <td>28865</td>\n",
       "      <td>23884</td>\n",
       "      <td>1258</td>\n",
       "      <td>256</td>\n",
       "      <td>26909</td>\n",
       "      <td>206</td>\n",
       "      <td>2573</td>\n",
       "      <td>72</td>\n",
       "      <td>122</td>\n",
       "      <td>649</td>\n",
       "    </tr>\n",
       "    <tr>\n",
       "      <th>top</th>\n",
       "      <td>5bb85cb9b314733d1c829bbab0dcaec2</td>\n",
       "      <td>2019-08-04 02:01:21 +0000</td>\n",
       "      <td>Sales Executive</td>\n",
       "      <td>Not Disclosed by Recruiter</td>\n",
       "      <td>2 - 5 yrs</td>\n",
       "      <td>Counselor| Mentor| Trainer| Advisor| Teaching</td>\n",
       "      <td>Programming &amp; Design</td>\n",
       "      <td>Bengaluru</td>\n",
       "      <td>IT Software - Application Programming , Mainte...</td>\n",
       "      <td>IT-Software, Software Services</td>\n",
       "      <td>Software Developer</td>\n",
       "    </tr>\n",
       "    <tr>\n",
       "      <th>freq</th>\n",
       "      <td>1</td>\n",
       "      <td>5</td>\n",
       "      <td>120</td>\n",
       "      <td>19731</td>\n",
       "      <td>2002</td>\n",
       "      <td>102</td>\n",
       "      <td>8551</td>\n",
       "      <td>4986</td>\n",
       "      <td>7400</td>\n",
       "      <td>10012</td>\n",
       "      <td>6396</td>\n",
       "    </tr>\n",
       "  </tbody>\n",
       "</table>\n",
       "</div>"
      ],
      "text/plain": [
       "                                 Uniq Id            Crawl Timestamp  \\\n",
       "count                              30000                      30000   \n",
       "unique                             30000                      28865   \n",
       "top     5bb85cb9b314733d1c829bbab0dcaec2  2019-08-04 02:01:21 +0000   \n",
       "freq                                   1                          5   \n",
       "\n",
       "               Job Title                    Job Salary  \\\n",
       "count              29425                         29950   \n",
       "unique             23884                          1258   \n",
       "top      Sales Executive   Not Disclosed by Recruiter    \n",
       "freq                 120                         19731   \n",
       "\n",
       "       Job Experience Required  \\\n",
       "count                    29427   \n",
       "unique                     256   \n",
       "top                  2 - 5 yrs   \n",
       "freq                      2002   \n",
       "\n",
       "                                            Key Skills         Role Category  \\\n",
       "count                                            28729                 27695   \n",
       "unique                                           26909                   206   \n",
       "top      Counselor| Mentor| Trainer| Advisor| Teaching  Programming & Design   \n",
       "freq                                               102                  8551   \n",
       "\n",
       "         Location                                    Functional Area  \\\n",
       "count       29423                                              29427   \n",
       "unique       2573                                                 72   \n",
       "top     Bengaluru  IT Software - Application Programming , Mainte...   \n",
       "freq         4986                                               7400   \n",
       "\n",
       "                              Industry                Role  \n",
       "count                            29427               29099  \n",
       "unique                             122                 649  \n",
       "top     IT-Software, Software Services  Software Developer  \n",
       "freq                             10012                6396  "
      ]
     },
     "execution_count": 6,
     "metadata": {},
     "output_type": "execute_result"
    }
   ],
   "source": [
    "data.describe(include=\"all\")"
   ]
  },
  {
   "cell_type": "markdown",
   "metadata": {},
   "source": [
    "##### cleaning data"
   ]
  },
  {
   "cell_type": "code",
   "execution_count": 8,
   "metadata": {},
   "outputs": [],
   "source": [
    "data.fillna(\"\", inplace=True)"
   ]
  },
  {
   "cell_type": "code",
   "execution_count": 9,
   "metadata": {},
   "outputs": [],
   "source": [
    "data.to_csv(\"cleaned_data.csv\")"
   ]
  },
  {
   "cell_type": "code",
   "execution_count": 10,
   "metadata": {},
   "outputs": [
    {
     "name": "stdout",
     "output_type": "stream",
     "text": [
      "<class 'pandas.core.frame.DataFrame'>\n",
      "RangeIndex: 30000 entries, 0 to 29999\n",
      "Data columns (total 11 columns):\n",
      " #   Column                   Non-Null Count  Dtype \n",
      "---  ------                   --------------  ----- \n",
      " 0   Uniq Id                  30000 non-null  object\n",
      " 1   Crawl Timestamp          30000 non-null  object\n",
      " 2   Job Title                30000 non-null  object\n",
      " 3   Job Salary               30000 non-null  object\n",
      " 4   Job Experience Required  30000 non-null  object\n",
      " 5   Key Skills               30000 non-null  object\n",
      " 6   Role Category            30000 non-null  object\n",
      " 7   Location                 30000 non-null  object\n",
      " 8   Functional Area          30000 non-null  object\n",
      " 9   Industry                 30000 non-null  object\n",
      " 10  Role                     30000 non-null  object\n",
      "dtypes: object(11)\n",
      "memory usage: 2.5+ MB\n"
     ]
    }
   ],
   "source": [
    "data.info()"
   ]
  },
  {
   "cell_type": "markdown",
   "metadata": {},
   "source": [
    "###### we are finding the unique values and their count in each column"
   ]
  },
  {
   "cell_type": "code",
   "execution_count": 11,
   "metadata": {},
   "outputs": [
    {
     "data": {
      "text/plain": [
       "Index(['Uniq Id', 'Crawl Timestamp', 'Job Title', 'Job Salary',\n",
       "       'Job Experience Required', 'Key Skills', 'Role Category', 'Location',\n",
       "       'Functional Area', 'Industry', 'Role'],\n",
       "      dtype='object')"
      ]
     },
     "execution_count": 11,
     "metadata": {},
     "output_type": "execute_result"
    }
   ],
   "source": [
    "data.columns"
   ]
  },
  {
   "cell_type": "markdown",
   "metadata": {},
   "source": [
    "#### Top 5 Job Titles Required in Naukri.com"
   ]
  },
  {
   "cell_type": "code",
   "execution_count": 15,
   "metadata": {},
   "outputs": [
    {
     "data": {
      "text/plain": [
       "<AxesSubplot:>"
      ]
     },
     "execution_count": 15,
     "metadata": {},
     "output_type": "execute_result"
    },
    {
     "data": {
      "image/png": "[encoded data removed]",
      "text/plain": [
       "<Figure size 1100x500 with 1 Axes>"
      ]
     },
     "metadata": {
      "needs_background": "light"
     },
     "output_type": "display_data"
    }
   ],
   "source": [
    "data['Job Title'].value_counts()[1:6].plot(kind=\"bar\")"
   ]
  },
  {
   "cell_type": "code",
   "execution_count": 16,
   "metadata": {},
   "outputs": [
    {
     "data": {
      "text/plain": [
       " Sales Executive                                  120\n",
       " Business Development Executive                   120\n",
       " PHP Developer                                    117\n",
       " Business Development Manager                      99\n",
       " Graphic Designer                                  84\n",
       "                                                 ... \n",
       " Faculty English / Hindi / Chemistry                1\n",
       " HR Recruiter ll Upto 18K ll Delhi ll Females       1\n",
       "Manager - Business Transformation                   1\n",
       " Admin-cum-Reception Exe.                           1\n",
       " Key Accounts Manager/Sr. Key Accounts Manager      1\n",
       "Name: Job Title, Length: 23884, dtype: int64"
      ]
     },
     "execution_count": 16,
     "metadata": {},
     "output_type": "execute_result"
    }
   ],
   "source": [
    "data['Job Title'].value_counts()[1:]"
   ]
  },
  {
   "cell_type": "code",
   "execution_count": 17,
   "metadata": {},
   "outputs": [],
   "source": [
    "### data scientist, python developer, python developer-machine learning, \n",
    "### back-office operation, back office operation"
   ]
  },
  {
   "cell_type": "markdown",
   "metadata": {},
   "source": [
    "###### Job Experience required by the companies"
   ]
  },
  {
   "cell_type": "code",
   "execution_count": 18,
   "metadata": {},
   "outputs": [
    {
     "data": {
      "text/plain": [
       "2 - 5 yrs         2002\n",
       "2 - 7 yrs         1659\n",
       "5 - 10 yrs        1510\n",
       "3 - 8 yrs         1366\n",
       "1 - 3 yrs         1189\n",
       "                  ... \n",
       " 12 - 17 Years       1\n",
       " 11 - 20 Years       1\n",
       " 12 - 13 Years       1\n",
       "2 - 12 yrs           1\n",
       "17 - 21 yrs          1\n",
       "Name: Job Experience Required, Length: 257, dtype: int64"
      ]
     },
     "execution_count": 18,
     "metadata": {},
     "output_type": "execute_result"
    }
   ],
   "source": [
    "data['Job Experience Required'].value_counts()"
   ]
  },
  {
   "cell_type": "code",
   "execution_count": 20,
   "metadata": {},
   "outputs": [],
   "source": [
    "data['Job Experience Required'] = data['Job Experience Required'].apply(lambda x: x.strip())"
   ]
  },
  {
   "cell_type": "code",
   "execution_count": 21,
   "metadata": {},
   "outputs": [
    {
     "data": {
      "text/plain": [
       "2 - 5 yrs      2002\n",
       "2 - 7 yrs      1659\n",
       "5 - 10 yrs     1510\n",
       "3 - 8 yrs      1366\n",
       "1 - 3 yrs      1189\n",
       "               ... \n",
       "2 - 12 yrs        1\n",
       "0 - 15 yrs        1\n",
       "17 - 27 yrs       1\n",
       "7 - 7 yrs         1\n",
       "17 - 21 yrs       1\n",
       "Name: Job Experience Required, Length: 256, dtype: int64"
      ]
     },
     "execution_count": 21,
     "metadata": {},
     "output_type": "execute_result"
    }
   ],
   "source": [
    "data['Job Experience Required'].value_counts()"
   ]
  },
  {
   "cell_type": "code",
   "execution_count": 23,
   "metadata": {},
   "outputs": [
    {
     "data": {
      "text/html": [
       "<div>\n",
       "<style scoped>\n",
       "    .dataframe tbody tr th:only-of-type {\n",
       "        vertical-align: middle;\n",
       "    }\n",
       "\n",
       "    .dataframe tbody tr th {\n",
       "        vertical-align: top;\n",
       "    }\n",
       "\n",
       "    .dataframe thead th {\n",
       "        text-align: right;\n",
       "    }\n",
       "</style>\n",
       "<table border=\"1\" class=\"dataframe\">\n",
       "  <thead>\n",
       "    <tr style=\"text-align: right;\">\n",
       "      <th></th>\n",
       "      <th>Uniq Id</th>\n",
       "      <th>Crawl Timestamp</th>\n",
       "      <th>Job Title</th>\n",
       "      <th>Job Salary</th>\n",
       "      <th>Job Experience Required</th>\n",
       "      <th>Key Skills</th>\n",
       "      <th>Role Category</th>\n",
       "      <th>Location</th>\n",
       "      <th>Functional Area</th>\n",
       "      <th>Industry</th>\n",
       "      <th>Role</th>\n",
       "    </tr>\n",
       "  </thead>\n",
       "  <tbody>\n",
       "    <tr>\n",
       "      <th>13</th>\n",
       "      <td>225c4680e3df32fbaf9c625ca18ae47c</td>\n",
       "      <td>2019-08-04 09:37:17 +0000</td>\n",
       "      <td>Oracle IDAM</td>\n",
       "      <td>Openings: 1</td>\n",
       "      <td>3 - 7 Years</td>\n",
       "      <td>Oracle IDAM|OIM|OAM</td>\n",
       "      <td>Programming &amp; Design</td>\n",
       "      <td>Bengaluru,Hyderabad,Kolkata,Chennai</td>\n",
       "      <td>IT Software - Application Programming , Mainte...</td>\n",
       "      <td>IT-Software / Software Services</td>\n",
       "      <td>Software Developer</td>\n",
       "    </tr>\n",
       "    <tr>\n",
       "      <th>40</th>\n",
       "      <td>da34a2185665cb96ce202b545dea3220</td>\n",
       "      <td>2019-08-05 03:00:12 +0000</td>\n",
       "      <td>Excellent Opportunity For ” Linux Device Drive...</td>\n",
       "      <td>Not Disclosed by Recruiter</td>\n",
       "      <td>2 - 7 Years</td>\n",
       "      <td>arm processor|c|device drivers|embedded linux|...</td>\n",
       "      <td>Programming &amp; Design</td>\n",
       "      <td>Hyderabad, Bengaluru</td>\n",
       "      <td>IT Software - Application Programming , Mainte...</td>\n",
       "      <td>IT-Software / Software Services</td>\n",
       "      <td>Software Developer</td>\n",
       "    </tr>\n",
       "    <tr>\n",
       "      <th>59</th>\n",
       "      <td>27ea5c0ad949c870e2861048bb3cf1d9</td>\n",
       "      <td>2019-07-05 15:31:50 +0000</td>\n",
       "      <td></td>\n",
       "      <td>INR 2,50,000 - 3,75,000 PA.</td>\n",
       "      <td></td>\n",
       "      <td>Marketing|Executive|Marketing|Marketing|Execut...</td>\n",
       "      <td></td>\n",
       "      <td></td>\n",
       "      <td></td>\n",
       "      <td></td>\n",
       "      <td></td>\n",
       "    </tr>\n",
       "    <tr>\n",
       "      <th>62</th>\n",
       "      <td>2ff35fa13cd07bba1bbed4dadd5acec8</td>\n",
       "      <td>2019-08-04 21:57:54 +0000</td>\n",
       "      <td></td>\n",
       "      <td>INR 20,00,000 - 30,00,000 PA.</td>\n",
       "      <td></td>\n",
       "      <td>Manager|Transformation|Manager|Transformation|...</td>\n",
       "      <td></td>\n",
       "      <td></td>\n",
       "      <td></td>\n",
       "      <td></td>\n",
       "      <td></td>\n",
       "    </tr>\n",
       "    <tr>\n",
       "      <th>99</th>\n",
       "      <td>272e816bf7c6b48782b2746905495660</td>\n",
       "      <td>2019-08-05 00:39:10 +0000</td>\n",
       "      <td>Enterprise Business Development Representative</td>\n",
       "      <td>Openings: 1</td>\n",
       "      <td>1 - 3 Years</td>\n",
       "      <td>market penetration|marketing|customer satisfac...</td>\n",
       "      <td>Channel Sales</td>\n",
       "      <td>Bengaluru</td>\n",
       "      <td>Sales , Retail , Business Development</td>\n",
       "      <td>IT-Software / Software Services</td>\n",
       "      <td>Sales Executive / Officer</td>\n",
       "    </tr>\n",
       "    <tr>\n",
       "      <th>...</th>\n",
       "      <td>...</td>\n",
       "      <td>...</td>\n",
       "      <td>...</td>\n",
       "      <td>...</td>\n",
       "      <td>...</td>\n",
       "      <td>...</td>\n",
       "      <td>...</td>\n",
       "      <td>...</td>\n",
       "      <td>...</td>\n",
       "      <td>...</td>\n",
       "      <td>...</td>\n",
       "    </tr>\n",
       "    <tr>\n",
       "      <th>29971</th>\n",
       "      <td>248adec7bd38619493f2492f8258aedf</td>\n",
       "      <td>2019-07-04 18:52:40 +0000</td>\n",
       "      <td></td>\n",
       "      <td>INR 1,75,000 - 2,75,000 PA.</td>\n",
       "      <td></td>\n",
       "      <td>Associates|Associate|Associates|Associate|Asso...</td>\n",
       "      <td></td>\n",
       "      <td></td>\n",
       "      <td></td>\n",
       "      <td></td>\n",
       "      <td></td>\n",
       "    </tr>\n",
       "    <tr>\n",
       "      <th>29975</th>\n",
       "      <td>0c55068faa2a3a45e0e749618f126371</td>\n",
       "      <td>2019-08-04 06:53:17 +0000</td>\n",
       "      <td>Nokia WING - Solution Architect CMP</td>\n",
       "      <td>Openings: 1</td>\n",
       "      <td>4 - 7 Years</td>\n",
       "      <td>PGW|SGW|Mobile Core Network|Networking|Use Cas...</td>\n",
       "      <td>System Design/Implementation/ERP/CRM</td>\n",
       "      <td>Noida,Chennai</td>\n",
       "      <td>IT Software - Network Administration , Security</td>\n",
       "      <td>Telecom / ISP</td>\n",
       "      <td>Solution Architect / Enterprise Architect</td>\n",
       "    </tr>\n",
       "    <tr>\n",
       "      <th>29985</th>\n",
       "      <td>cf304aecf4f614361fbec9def4d96859</td>\n",
       "      <td>2019-08-05 17:56:58 +0000</td>\n",
       "      <td>Senior Resident ( Critical care)</td>\n",
       "      <td>Not Disclosed by Recruiter</td>\n",
       "      <td>Not Mentioned</td>\n",
       "      <td></td>\n",
       "      <td></td>\n",
       "      <td>Delhi</td>\n",
       "      <td>Medical , Healthcare , R&amp;D , Pharmaceuticals ,...</td>\n",
       "      <td>Medical, Healthcare, Hospitals</td>\n",
       "      <td></td>\n",
       "    </tr>\n",
       "    <tr>\n",
       "      <th>29986</th>\n",
       "      <td>e70150ff9eab5aae70f75e22c427c65a</td>\n",
       "      <td>2019-07-05 06:52:20 +0000</td>\n",
       "      <td>Developer – OOPS</td>\n",
       "      <td>Not Disclosed by Recruiter</td>\n",
       "      <td>3 - 5 Years</td>\n",
       "      <td>node.js|object oriented programming|oops|java|...</td>\n",
       "      <td>Programming &amp; Design</td>\n",
       "      <td>Bengaluru</td>\n",
       "      <td>IT Software - Application Programming , Mainte...</td>\n",
       "      <td>IT-Software / Software Services</td>\n",
       "      <td>Software Developer</td>\n",
       "    </tr>\n",
       "    <tr>\n",
       "      <th>29989</th>\n",
       "      <td>fe1cee89dbf992191f078fd627646efe</td>\n",
       "      <td>2019-07-05 17:39:23 +0000</td>\n",
       "      <td>Penetration Testing</td>\n",
       "      <td>INR 7,00,000 - 8,00,000 PA.</td>\n",
       "      <td>0 - 4 Years</td>\n",
       "      <td>Web App|Mobile|Web Services|Burp Professional|...</td>\n",
       "      <td>Programming &amp; Design</td>\n",
       "      <td>Bengaluru</td>\n",
       "      <td>IT Software - Application Programming , Mainte...</td>\n",
       "      <td>IT-Software / Software Services</td>\n",
       "      <td>Testing Engineer</td>\n",
       "    </tr>\n",
       "  </tbody>\n",
       "</table>\n",
       "<p>2409 rows × 11 columns</p>\n",
       "</div>"
      ],
      "text/plain": [
       "                                Uniq Id            Crawl Timestamp  \\\n",
       "13     225c4680e3df32fbaf9c625ca18ae47c  2019-08-04 09:37:17 +0000   \n",
       "40     da34a2185665cb96ce202b545dea3220  2019-08-05 03:00:12 +0000   \n",
       "59     27ea5c0ad949c870e2861048bb3cf1d9  2019-07-05 15:31:50 +0000   \n",
       "62     2ff35fa13cd07bba1bbed4dadd5acec8  2019-08-04 21:57:54 +0000   \n",
       "99     272e816bf7c6b48782b2746905495660  2019-08-05 00:39:10 +0000   \n",
       "...                                 ...                        ...   \n",
       "29971  248adec7bd38619493f2492f8258aedf  2019-07-04 18:52:40 +0000   \n",
       "29975  0c55068faa2a3a45e0e749618f126371  2019-08-04 06:53:17 +0000   \n",
       "29985  cf304aecf4f614361fbec9def4d96859  2019-08-05 17:56:58 +0000   \n",
       "29986  e70150ff9eab5aae70f75e22c427c65a  2019-07-05 06:52:20 +0000   \n",
       "29989  fe1cee89dbf992191f078fd627646efe  2019-07-05 17:39:23 +0000   \n",
       "\n",
       "                                               Job Title  \\\n",
       "13                                           Oracle IDAM   \n",
       "40     Excellent Opportunity For ” Linux Device Drive...   \n",
       "59                                                         \n",
       "62                                                         \n",
       "99        Enterprise Business Development Representative   \n",
       "...                                                  ...   \n",
       "29971                                                      \n",
       "29975                Nokia WING - Solution Architect CMP   \n",
       "29985                   Senior Resident ( Critical care)   \n",
       "29986                                   Developer – OOPS   \n",
       "29989                                Penetration Testing   \n",
       "\n",
       "                            Job Salary Job Experience Required  \\\n",
       "13                         Openings: 1             3 - 7 Years   \n",
       "40          Not Disclosed by Recruiter             2 - 7 Years   \n",
       "59        INR 2,50,000 - 3,75,000 PA.                            \n",
       "62      INR 20,00,000 - 30,00,000 PA.                            \n",
       "99                         Openings: 1             1 - 3 Years   \n",
       "...                                ...                     ...   \n",
       "29971     INR 1,75,000 - 2,75,000 PA.                            \n",
       "29975                      Openings: 1             4 - 7 Years   \n",
       "29985      Not Disclosed by Recruiter            Not Mentioned   \n",
       "29986       Not Disclosed by Recruiter             3 - 5 Years   \n",
       "29989      INR 7,00,000 - 8,00,000 PA.             0 - 4 Years   \n",
       "\n",
       "                                              Key Skills  \\\n",
       "13                                   Oracle IDAM|OIM|OAM   \n",
       "40     arm processor|c|device drivers|embedded linux|...   \n",
       "59     Marketing|Executive|Marketing|Marketing|Execut...   \n",
       "62     Manager|Transformation|Manager|Transformation|...   \n",
       "99     market penetration|marketing|customer satisfac...   \n",
       "...                                                  ...   \n",
       "29971  Associates|Associate|Associates|Associate|Asso...   \n",
       "29975  PGW|SGW|Mobile Core Network|Networking|Use Cas...   \n",
       "29985                                                      \n",
       "29986  node.js|object oriented programming|oops|java|...   \n",
       "29989  Web App|Mobile|Web Services|Burp Professional|...   \n",
       "\n",
       "                              Role Category  \\\n",
       "13                     Programming & Design   \n",
       "40                     Programming & Design   \n",
       "59                                            \n",
       "62                                            \n",
       "99                            Channel Sales   \n",
       "...                                     ...   \n",
       "29971                                         \n",
       "29975  System Design/Implementation/ERP/CRM   \n",
       "29985                                         \n",
       "29986                  Programming & Design   \n",
       "29989                  Programming & Design   \n",
       "\n",
       "                                  Location  \\\n",
       "13     Bengaluru,Hyderabad,Kolkata,Chennai   \n",
       "40                    Hyderabad, Bengaluru   \n",
       "59                                           \n",
       "62                                           \n",
       "99                               Bengaluru   \n",
       "...                                    ...   \n",
       "29971                                        \n",
       "29975                        Noida,Chennai   \n",
       "29985                                Delhi   \n",
       "29986                            Bengaluru   \n",
       "29989                            Bengaluru   \n",
       "\n",
       "                                         Functional Area  \\\n",
       "13     IT Software - Application Programming , Mainte...   \n",
       "40     IT Software - Application Programming , Mainte...   \n",
       "59                                                         \n",
       "62                                                         \n",
       "99                 Sales , Retail , Business Development   \n",
       "...                                                  ...   \n",
       "29971                                                      \n",
       "29975    IT Software - Network Administration , Security   \n",
       "29985  Medical , Healthcare , R&D , Pharmaceuticals ,...   \n",
       "29986  IT Software - Application Programming , Mainte...   \n",
       "29989  IT Software - Application Programming , Mainte...   \n",
       "\n",
       "                              Industry  \\\n",
       "13     IT-Software / Software Services   \n",
       "40     IT-Software / Software Services   \n",
       "59                                       \n",
       "62                                       \n",
       "99     IT-Software / Software Services   \n",
       "...                                ...   \n",
       "29971                                    \n",
       "29975                    Telecom / ISP   \n",
       "29985   Medical, Healthcare, Hospitals   \n",
       "29986  IT-Software / Software Services   \n",
       "29989  IT-Software / Software Services   \n",
       "\n",
       "                                            Role  \n",
       "13                            Software Developer  \n",
       "40                            Software Developer  \n",
       "59                                                \n",
       "62                                                \n",
       "99                     Sales Executive / Officer  \n",
       "...                                          ...  \n",
       "29971                                             \n",
       "29975  Solution Architect / Enterprise Architect  \n",
       "29985                                             \n",
       "29986                         Software Developer  \n",
       "29989                           Testing Engineer  \n",
       "\n",
       "[2409 rows x 11 columns]"
      ]
     },
     "execution_count": 23,
     "metadata": {},
     "output_type": "execute_result"
    }
   ],
   "source": [
    "data[data['Job Experience Required'].apply(lambda x:True if \"yrs\" not in x.lower() else False)]"
   ]
  },
  {
   "cell_type": "code",
   "execution_count": 86,
   "metadata": {},
   "outputs": [],
   "source": [
    "def change(x):\n",
    "    if \"years\" in x.lower():\n",
    "        x = x.replace(\"years\", \"yrs\")\n",
    "    return x"
   ]
  },
  {
   "cell_type": "code",
   "execution_count": 88,
   "metadata": {},
   "outputs": [
    {
     "data": {
      "text/plain": [
       "0        5 - 10 yrs\n",
       "1         2 - 5 yrs\n",
       "2         0 - 1 yrs\n",
       "3         0 - 5 yrs\n",
       "4         2 - 5 yrs\n",
       "            ...    \n",
       "29995    9 - 12 yrs\n",
       "29996     1 - 5 yrs\n",
       "29997     4 - 6 yrs\n",
       "29998    5 - 10 yrs\n",
       "29999     2 - 7 yrs\n",
       "Name: Job Experience Required, Length: 30000, dtype: object"
      ]
     },
     "execution_count": 88,
     "metadata": {},
     "output_type": "execute_result"
    }
   ],
   "source": [
    "data['Job Experience Required'].apply(lambda x:change(str(x)))"
   ]
  },
  {
   "cell_type": "code",
   "execution_count": 93,
   "metadata": {},
   "outputs": [],
   "source": [
    "data['Job Experience Required'] = data['Job Experience Required'].apply(lambda x:change(str(x)))"
   ]
  },
  {
   "cell_type": "code",
   "execution_count": 94,
   "metadata": {},
   "outputs": [
    {
     "data": {
      "text/html": [
       "<div>\n",
       "<style scoped>\n",
       "    .dataframe tbody tr th:only-of-type {\n",
       "        vertical-align: middle;\n",
       "    }\n",
       "\n",
       "    .dataframe tbody tr th {\n",
       "        vertical-align: top;\n",
       "    }\n",
       "\n",
       "    .dataframe thead th {\n",
       "        text-align: right;\n",
       "    }\n",
       "</style>\n",
       "<table border=\"1\" class=\"dataframe\">\n",
       "  <thead>\n",
       "    <tr style=\"text-align: right;\">\n",
       "      <th></th>\n",
       "      <th>Uniq Id</th>\n",
       "      <th>Crawl Timestamp</th>\n",
       "      <th>Job Title</th>\n",
       "      <th>Job Salary</th>\n",
       "      <th>Job Experience Required</th>\n",
       "      <th>Key Skills</th>\n",
       "      <th>Role Category</th>\n",
       "      <th>Location</th>\n",
       "      <th>Functional Area</th>\n",
       "      <th>Industry</th>\n",
       "      <th>Role</th>\n",
       "      <th>Openings</th>\n",
       "    </tr>\n",
       "  </thead>\n",
       "  <tbody>\n",
       "    <tr>\n",
       "      <th>13</th>\n",
       "      <td>225c4680e3df32fbaf9c625ca18ae47c</td>\n",
       "      <td>2019-08-04 09:37:17 +0000</td>\n",
       "      <td>Oracle IDAM</td>\n",
       "      <td>NaN</td>\n",
       "      <td>3 - 7 Years</td>\n",
       "      <td>Oracle IDAM|OIM|OAM</td>\n",
       "      <td>Programming &amp; Design</td>\n",
       "      <td>Bengaluru,Hyderabad,Kolkata,Chennai</td>\n",
       "      <td>IT Software - Application Programming , Mainte...</td>\n",
       "      <td>IT-Software / Software Services</td>\n",
       "      <td>Software Developer</td>\n",
       "      <td>1.0</td>\n",
       "    </tr>\n",
       "    <tr>\n",
       "      <th>40</th>\n",
       "      <td>da34a2185665cb96ce202b545dea3220</td>\n",
       "      <td>2019-08-05 03:00:12 +0000</td>\n",
       "      <td>Excellent Opportunity For ” Linux Device Drive...</td>\n",
       "      <td>not disclosed by recruiter</td>\n",
       "      <td>2 - 7 Years</td>\n",
       "      <td>arm processor|c|device drivers|embedded linux|...</td>\n",
       "      <td>Programming &amp; Design</td>\n",
       "      <td>Hyderabad, Bengaluru</td>\n",
       "      <td>IT Software - Application Programming , Mainte...</td>\n",
       "      <td>IT-Software / Software Services</td>\n",
       "      <td>Software Developer</td>\n",
       "      <td>NaN</td>\n",
       "    </tr>\n",
       "    <tr>\n",
       "      <th>59</th>\n",
       "      <td>27ea5c0ad949c870e2861048bb3cf1d9</td>\n",
       "      <td>2019-07-05 15:31:50 +0000</td>\n",
       "      <td>NaN</td>\n",
       "      <td>2,50,000 - 3,75,000 pa.</td>\n",
       "      <td>nan</td>\n",
       "      <td>Marketing|Executive|Marketing|Marketing|Execut...</td>\n",
       "      <td>NaN</td>\n",
       "      <td>NaN</td>\n",
       "      <td>NaN</td>\n",
       "      <td>NaN</td>\n",
       "      <td>NaN</td>\n",
       "      <td>NaN</td>\n",
       "    </tr>\n",
       "    <tr>\n",
       "      <th>62</th>\n",
       "      <td>2ff35fa13cd07bba1bbed4dadd5acec8</td>\n",
       "      <td>2019-08-04 21:57:54 +0000</td>\n",
       "      <td>NaN</td>\n",
       "      <td>20,00,000 - 30,00,000 pa.</td>\n",
       "      <td>nan</td>\n",
       "      <td>Manager|Transformation|Manager|Transformation|...</td>\n",
       "      <td>NaN</td>\n",
       "      <td>NaN</td>\n",
       "      <td>NaN</td>\n",
       "      <td>NaN</td>\n",
       "      <td>NaN</td>\n",
       "      <td>NaN</td>\n",
       "    </tr>\n",
       "    <tr>\n",
       "      <th>99</th>\n",
       "      <td>272e816bf7c6b48782b2746905495660</td>\n",
       "      <td>2019-08-05 00:39:10 +0000</td>\n",
       "      <td>Enterprise Business Development Representative</td>\n",
       "      <td>NaN</td>\n",
       "      <td>1 - 3 Years</td>\n",
       "      <td>market penetration|marketing|customer satisfac...</td>\n",
       "      <td>Channel Sales</td>\n",
       "      <td>Bengaluru</td>\n",
       "      <td>Sales , Retail , Business Development</td>\n",
       "      <td>IT-Software / Software Services</td>\n",
       "      <td>Sales Executive / Officer</td>\n",
       "      <td>1.0</td>\n",
       "    </tr>\n",
       "    <tr>\n",
       "      <th>...</th>\n",
       "      <td>...</td>\n",
       "      <td>...</td>\n",
       "      <td>...</td>\n",
       "      <td>...</td>\n",
       "      <td>...</td>\n",
       "      <td>...</td>\n",
       "      <td>...</td>\n",
       "      <td>...</td>\n",
       "      <td>...</td>\n",
       "      <td>...</td>\n",
       "      <td>...</td>\n",
       "      <td>...</td>\n",
       "    </tr>\n",
       "    <tr>\n",
       "      <th>29971</th>\n",
       "      <td>248adec7bd38619493f2492f8258aedf</td>\n",
       "      <td>2019-07-04 18:52:40 +0000</td>\n",
       "      <td>NaN</td>\n",
       "      <td>1,75,000 - 2,75,000 pa.</td>\n",
       "      <td>nan</td>\n",
       "      <td>Associates|Associate|Associates|Associate|Asso...</td>\n",
       "      <td>NaN</td>\n",
       "      <td>NaN</td>\n",
       "      <td>NaN</td>\n",
       "      <td>NaN</td>\n",
       "      <td>NaN</td>\n",
       "      <td>NaN</td>\n",
       "    </tr>\n",
       "    <tr>\n",
       "      <th>29975</th>\n",
       "      <td>0c55068faa2a3a45e0e749618f126371</td>\n",
       "      <td>2019-08-04 06:53:17 +0000</td>\n",
       "      <td>Nokia WING - Solution Architect CMP</td>\n",
       "      <td>NaN</td>\n",
       "      <td>4 - 7 Years</td>\n",
       "      <td>PGW|SGW|Mobile Core Network|Networking|Use Cas...</td>\n",
       "      <td>System Design/Implementation/ERP/CRM</td>\n",
       "      <td>Noida,Chennai</td>\n",
       "      <td>IT Software - Network Administration , Security</td>\n",
       "      <td>Telecom / ISP</td>\n",
       "      <td>Solution Architect / Enterprise Architect</td>\n",
       "      <td>1.0</td>\n",
       "    </tr>\n",
       "    <tr>\n",
       "      <th>29985</th>\n",
       "      <td>cf304aecf4f614361fbec9def4d96859</td>\n",
       "      <td>2019-08-05 17:56:58 +0000</td>\n",
       "      <td>Senior Resident ( Critical care)</td>\n",
       "      <td>not disclosed by recruiter</td>\n",
       "      <td>Not Mentioned</td>\n",
       "      <td>NaN</td>\n",
       "      <td>NaN</td>\n",
       "      <td>Delhi</td>\n",
       "      <td>Medical , Healthcare , R&amp;D , Pharmaceuticals ,...</td>\n",
       "      <td>Medical, Healthcare, Hospitals</td>\n",
       "      <td>NaN</td>\n",
       "      <td>NaN</td>\n",
       "    </tr>\n",
       "    <tr>\n",
       "      <th>29986</th>\n",
       "      <td>e70150ff9eab5aae70f75e22c427c65a</td>\n",
       "      <td>2019-07-05 06:52:20 +0000</td>\n",
       "      <td>Developer – OOPS</td>\n",
       "      <td>not disclosed by recruiter</td>\n",
       "      <td>3 - 5 Years</td>\n",
       "      <td>node.js|object oriented programming|oops|java|...</td>\n",
       "      <td>Programming &amp; Design</td>\n",
       "      <td>Bengaluru</td>\n",
       "      <td>IT Software - Application Programming , Mainte...</td>\n",
       "      <td>IT-Software / Software Services</td>\n",
       "      <td>Software Developer</td>\n",
       "      <td>NaN</td>\n",
       "    </tr>\n",
       "    <tr>\n",
       "      <th>29989</th>\n",
       "      <td>fe1cee89dbf992191f078fd627646efe</td>\n",
       "      <td>2019-07-05 17:39:23 +0000</td>\n",
       "      <td>Penetration Testing</td>\n",
       "      <td>7,00,000 - 8,00,000 pa.</td>\n",
       "      <td>0 - 4 Years</td>\n",
       "      <td>Web App|Mobile|Web Services|Burp Professional|...</td>\n",
       "      <td>Programming &amp; Design</td>\n",
       "      <td>Bengaluru</td>\n",
       "      <td>IT Software - Application Programming , Mainte...</td>\n",
       "      <td>IT-Software / Software Services</td>\n",
       "      <td>Testing Engineer</td>\n",
       "      <td>NaN</td>\n",
       "    </tr>\n",
       "  </tbody>\n",
       "</table>\n",
       "<p>2407 rows × 12 columns</p>\n",
       "</div>"
      ],
      "text/plain": [
       "                                Uniq Id            Crawl Timestamp  \\\n",
       "13     225c4680e3df32fbaf9c625ca18ae47c  2019-08-04 09:37:17 +0000   \n",
       "40     da34a2185665cb96ce202b545dea3220  2019-08-05 03:00:12 +0000   \n",
       "59     27ea5c0ad949c870e2861048bb3cf1d9  2019-07-05 15:31:50 +0000   \n",
       "62     2ff35fa13cd07bba1bbed4dadd5acec8  2019-08-04 21:57:54 +0000   \n",
       "99     272e816bf7c6b48782b2746905495660  2019-08-05 00:39:10 +0000   \n",
       "...                                 ...                        ...   \n",
       "29971  248adec7bd38619493f2492f8258aedf  2019-07-04 18:52:40 +0000   \n",
       "29975  0c55068faa2a3a45e0e749618f126371  2019-08-04 06:53:17 +0000   \n",
       "29985  cf304aecf4f614361fbec9def4d96859  2019-08-05 17:56:58 +0000   \n",
       "29986  e70150ff9eab5aae70f75e22c427c65a  2019-07-05 06:52:20 +0000   \n",
       "29989  fe1cee89dbf992191f078fd627646efe  2019-07-05 17:39:23 +0000   \n",
       "\n",
       "                                               Job Title  \\\n",
       "13                                           Oracle IDAM   \n",
       "40     Excellent Opportunity For ” Linux Device Drive...   \n",
       "59                                                   NaN   \n",
       "62                                                   NaN   \n",
       "99        Enterprise Business Development Representative   \n",
       "...                                                  ...   \n",
       "29971                                                NaN   \n",
       "29975                Nokia WING - Solution Architect CMP   \n",
       "29985                   Senior Resident ( Critical care)   \n",
       "29986                                   Developer – OOPS   \n",
       "29989                                Penetration Testing   \n",
       "\n",
       "                       Job Salary Job Experience Required  \\\n",
       "13                            NaN             3 - 7 Years   \n",
       "40     not disclosed by recruiter             2 - 7 Years   \n",
       "59        2,50,000 - 3,75,000 pa.                     nan   \n",
       "62      20,00,000 - 30,00,000 pa.                     nan   \n",
       "99                            NaN             1 - 3 Years   \n",
       "...                           ...                     ...   \n",
       "29971     1,75,000 - 2,75,000 pa.                     nan   \n",
       "29975                         NaN             4 - 7 Years   \n",
       "29985  not disclosed by recruiter           Not Mentioned   \n",
       "29986  not disclosed by recruiter             3 - 5 Years   \n",
       "29989     7,00,000 - 8,00,000 pa.             0 - 4 Years   \n",
       "\n",
       "                                              Key Skills  \\\n",
       "13                                   Oracle IDAM|OIM|OAM   \n",
       "40     arm processor|c|device drivers|embedded linux|...   \n",
       "59     Marketing|Executive|Marketing|Marketing|Execut...   \n",
       "62     Manager|Transformation|Manager|Transformation|...   \n",
       "99     market penetration|marketing|customer satisfac...   \n",
       "...                                                  ...   \n",
       "29971  Associates|Associate|Associates|Associate|Asso...   \n",
       "29975  PGW|SGW|Mobile Core Network|Networking|Use Cas...   \n",
       "29985                                                NaN   \n",
       "29986  node.js|object oriented programming|oops|java|...   \n",
       "29989  Web App|Mobile|Web Services|Burp Professional|...   \n",
       "\n",
       "                              Role Category  \\\n",
       "13                     Programming & Design   \n",
       "40                     Programming & Design   \n",
       "59                                      NaN   \n",
       "62                                      NaN   \n",
       "99                            Channel Sales   \n",
       "...                                     ...   \n",
       "29971                                   NaN   \n",
       "29975  System Design/Implementation/ERP/CRM   \n",
       "29985                                   NaN   \n",
       "29986                  Programming & Design   \n",
       "29989                  Programming & Design   \n",
       "\n",
       "                                  Location  \\\n",
       "13     Bengaluru,Hyderabad,Kolkata,Chennai   \n",
       "40                    Hyderabad, Bengaluru   \n",
       "59                                     NaN   \n",
       "62                                     NaN   \n",
       "99                               Bengaluru   \n",
       "...                                    ...   \n",
       "29971                                  NaN   \n",
       "29975                        Noida,Chennai   \n",
       "29985                                Delhi   \n",
       "29986                            Bengaluru   \n",
       "29989                            Bengaluru   \n",
       "\n",
       "                                         Functional Area  \\\n",
       "13     IT Software - Application Programming , Mainte...   \n",
       "40     IT Software - Application Programming , Mainte...   \n",
       "59                                                   NaN   \n",
       "62                                                   NaN   \n",
       "99                 Sales , Retail , Business Development   \n",
       "...                                                  ...   \n",
       "29971                                                NaN   \n",
       "29975    IT Software - Network Administration , Security   \n",
       "29985  Medical , Healthcare , R&D , Pharmaceuticals ,...   \n",
       "29986  IT Software - Application Programming , Mainte...   \n",
       "29989  IT Software - Application Programming , Mainte...   \n",
       "\n",
       "                              Industry  \\\n",
       "13     IT-Software / Software Services   \n",
       "40     IT-Software / Software Services   \n",
       "59                                 NaN   \n",
       "62                                 NaN   \n",
       "99     IT-Software / Software Services   \n",
       "...                                ...   \n",
       "29971                              NaN   \n",
       "29975                    Telecom / ISP   \n",
       "29985   Medical, Healthcare, Hospitals   \n",
       "29986  IT-Software / Software Services   \n",
       "29989  IT-Software / Software Services   \n",
       "\n",
       "                                            Role  Openings  \n",
       "13                            Software Developer       1.0  \n",
       "40                            Software Developer       NaN  \n",
       "59                                           NaN       NaN  \n",
       "62                                           NaN       NaN  \n",
       "99                     Sales Executive / Officer       1.0  \n",
       "...                                          ...       ...  \n",
       "29971                                        NaN       NaN  \n",
       "29975  Solution Architect / Enterprise Architect       1.0  \n",
       "29985                                        NaN       NaN  \n",
       "29986                         Software Developer       NaN  \n",
       "29989                           Testing Engineer       NaN  \n",
       "\n",
       "[2407 rows x 12 columns]"
      ]
     },
     "execution_count": 94,
     "metadata": {},
     "output_type": "execute_result"
    }
   ],
   "source": [
    "data[data['Job Experience Required'].apply(lambda x:True if \"yrs\" not in x.lower() else False)]"
   ]
  },
  {
   "cell_type": "code",
   "execution_count": 62,
   "metadata": {},
   "outputs": [
    {
     "name": "stderr",
     "output_type": "stream",
     "text": [
      "C:\\Anaconda\\lib\\site-packages\\seaborn\\_decorators.py:36: FutureWarning: Pass the following variable as a keyword arg: x. From version 0.12, the only valid positional argument will be `data`, and passing other arguments without an explicit keyword will result in an error or misinterpretation.\n",
      "  warnings.warn(\n"
     ]
    },
    {
     "data": {
      "image/png": "[encoded data removed]",
      "text/plain": [
       "<Figure size 1100x500 with 1 Axes>"
      ]
     },
     "metadata": {
      "needs_background": "light"
     },
     "output_type": "display_data"
    }
   ],
   "source": [
    "sns.countplot(data['Job Experience Required'])\n",
    "plt.xticks(rotation=90)\n",
    "plt.show()"
   ]
  },
  {
   "cell_type": "code",
   "execution_count": 92,
   "metadata": {},
   "outputs": [
    {
     "data": {
      "text/html": [
       "<div>\n",
       "<style scoped>\n",
       "    .dataframe tbody tr th:only-of-type {\n",
       "        vertical-align: middle;\n",
       "    }\n",
       "\n",
       "    .dataframe tbody tr th {\n",
       "        vertical-align: top;\n",
       "    }\n",
       "\n",
       "    .dataframe thead th {\n",
       "        text-align: right;\n",
       "    }\n",
       "</style>\n",
       "<table border=\"1\" class=\"dataframe\">\n",
       "  <thead>\n",
       "    <tr style=\"text-align: right;\">\n",
       "      <th></th>\n",
       "      <th>Uniq Id</th>\n",
       "      <th>Crawl Timestamp</th>\n",
       "      <th>Job Title</th>\n",
       "      <th>Job Salary</th>\n",
       "      <th>Job Experience Required</th>\n",
       "      <th>Key Skills</th>\n",
       "      <th>Role Category</th>\n",
       "      <th>Location</th>\n",
       "      <th>Functional Area</th>\n",
       "      <th>Industry</th>\n",
       "      <th>Role</th>\n",
       "      <th>Openings</th>\n",
       "    </tr>\n",
       "  </thead>\n",
       "  <tbody>\n",
       "  </tbody>\n",
       "</table>\n",
       "</div>"
      ],
      "text/plain": [
       "Empty DataFrame\n",
       "Columns: [Uniq Id, Crawl Timestamp, Job Title, Job Salary, Job Experience Required, Key Skills, Role Category, Location, Functional Area, Industry, Role, Openings]\n",
       "Index: []"
      ]
     },
     "execution_count": 92,
     "metadata": {},
     "output_type": "execute_result"
    }
   ],
   "source": [
    "data[data['Job Experience Required'].apply(lambda x: True if \"30 years\" in x else False)]"
   ]
  },
  {
   "cell_type": "code",
   "execution_count": 61,
   "metadata": {},
   "outputs": [
    {
     "name": "stdout",
     "output_type": "stream",
     "text": [
      "hello\n"
     ]
    }
   ],
   "source": [
    "if \"years\" in \"30 years and yrs\":\n",
    "    print(\"hello\")"
   ]
  },
  {
   "cell_type": "code",
   "execution_count": 65,
   "metadata": {},
   "outputs": [
    {
     "data": {
      "text/plain": [
       "<AxesSubplot:>"
      ]
     },
     "execution_count": 65,
     "metadata": {},
     "output_type": "execute_result"
    },
    {
     "data": {
      "image/png": "[encoded data removed]",
      "text/plain": [
       "<Figure size 1100x500 with 1 Axes>"
      ]
     },
     "metadata": {
      "needs_background": "light"
     },
     "output_type": "display_data"
    }
   ],
   "source": [
    "data['Job Experience Required'].value_counts()[:10].plot(kind=\"bar\")"
   ]
  },
  {
   "cell_type": "markdown",
   "metadata": {},
   "source": [
    "    Freshers can also apply in this as there are job for freshers as well"
   ]
  },
  {
   "cell_type": "code",
   "execution_count": 66,
   "metadata": {},
   "outputs": [
    {
     "data": {
      "text/plain": [
       " Not Disclosed by Recruiter                                      19731\n",
       " Not Disclosed by Recruiter                                        618\n",
       "Openings: 1                                                        408\n",
       " Not disclosed                                                     288\n",
       " 2,00,000 - 3,00,000 PA.                                           170\n",
       "                                                                 ...  \n",
       " INR 7,00,000 - 12,00,000 PA. plus allowances and incentives         1\n",
       " salary+incentives                                                   1\n",
       " as per standards                                                    1\n",
       " INR 35,00,000 - 75,00,000 PA.                                       1\n",
       " Food & Accommodation for single on the campus.                      1\n",
       "Name: Job Salary, Length: 1259, dtype: int64"
      ]
     },
     "execution_count": 66,
     "metadata": {},
     "output_type": "execute_result"
    }
   ],
   "source": [
    "data['Job Salary'].value_counts()"
   ]
  },
  {
   "cell_type": "markdown",
   "metadata": {},
   "source": [
    "##### All the not disclosed should be consider into single"
   ]
  },
  {
   "cell_type": "code",
   "execution_count": 67,
   "metadata": {},
   "outputs": [],
   "source": [
    "data.to_csv(\"cleaned_data.csv\", )"
   ]
  },
  {
   "cell_type": "code",
   "execution_count": 6,
   "metadata": {},
   "outputs": [],
   "source": [
    "data = pd.read_csv(\"cleaned_data.csv\", index_col=0)"
   ]
  },
  {
   "cell_type": "code",
   "execution_count": 7,
   "metadata": {},
   "outputs": [
    {
     "data": {
      "text/html": [
       "<div>\n",
       "<style scoped>\n",
       "    .dataframe tbody tr th:only-of-type {\n",
       "        vertical-align: middle;\n",
       "    }\n",
       "\n",
       "    .dataframe tbody tr th {\n",
       "        vertical-align: top;\n",
       "    }\n",
       "\n",
       "    .dataframe thead th {\n",
       "        text-align: right;\n",
       "    }\n",
       "</style>\n",
       "<table border=\"1\" class=\"dataframe\">\n",
       "  <thead>\n",
       "    <tr style=\"text-align: right;\">\n",
       "      <th></th>\n",
       "      <th>Uniq Id</th>\n",
       "      <th>Crawl Timestamp</th>\n",
       "      <th>Job Title</th>\n",
       "      <th>Job Salary</th>\n",
       "      <th>Job Experience Required</th>\n",
       "      <th>Key Skills</th>\n",
       "      <th>Role Category</th>\n",
       "      <th>Location</th>\n",
       "      <th>Functional Area</th>\n",
       "      <th>Industry</th>\n",
       "      <th>Role</th>\n",
       "    </tr>\n",
       "  </thead>\n",
       "  <tbody>\n",
       "    <tr>\n",
       "      <th>0</th>\n",
       "      <td>9be62c49a0b7ebe982a4af1edaa7bc5f</td>\n",
       "      <td>2019-07-05 01:46:07 +0000</td>\n",
       "      <td>Digital Media Planner</td>\n",
       "      <td>Not Disclosed by Recruiter</td>\n",
       "      <td>5 - 10 yrs</td>\n",
       "      <td>Media Planning| Digital Media</td>\n",
       "      <td>Advertising</td>\n",
       "      <td>Mumbai</td>\n",
       "      <td>Marketing , Advertising , MR , PR , Media Plan...</td>\n",
       "      <td>Advertising, PR, MR, Event Management</td>\n",
       "      <td>Media Planning Executive/Manager</td>\n",
       "    </tr>\n",
       "    <tr>\n",
       "      <th>1</th>\n",
       "      <td>3c52d436e39f596b22519da2612f6a56</td>\n",
       "      <td>2019-07-06 08:04:50 +0000</td>\n",
       "      <td>Online Bidding Executive</td>\n",
       "      <td>Not Disclosed by Recruiter</td>\n",
       "      <td>2 - 5 yrs</td>\n",
       "      <td>pre sales| closing| software knowledge| clien...</td>\n",
       "      <td>Retail Sales</td>\n",
       "      <td>Pune,Pune</td>\n",
       "      <td>Sales , Retail , Business Development</td>\n",
       "      <td>IT-Software, Software Services</td>\n",
       "      <td>Sales Executive/Officer</td>\n",
       "    </tr>\n",
       "    <tr>\n",
       "      <th>2</th>\n",
       "      <td>ffad8a2396c60be2bf6d0e2ff47c58d4</td>\n",
       "      <td>2019-08-05 15:50:44 +0000</td>\n",
       "      <td>Trainee Research/ Research Executive- Hi- Tec...</td>\n",
       "      <td>Not Disclosed by Recruiter</td>\n",
       "      <td>0 - 1 yrs</td>\n",
       "      <td>Computer science| Fabrication| Quality check|...</td>\n",
       "      <td>R&amp;D</td>\n",
       "      <td>Gurgaon</td>\n",
       "      <td>Engineering Design , R&amp;D</td>\n",
       "      <td>Recruitment, Staffing</td>\n",
       "      <td>R&amp;D Executive</td>\n",
       "    </tr>\n",
       "    <tr>\n",
       "      <th>3</th>\n",
       "      <td>7b921f51b5c2fb862b4a5f7a54c37f75</td>\n",
       "      <td>2019-08-05 15:31:56 +0000</td>\n",
       "      <td>Technical Support</td>\n",
       "      <td>2,00,000 - 4,00,000 PA.</td>\n",
       "      <td>0 - 5 yrs</td>\n",
       "      <td>Technical Support</td>\n",
       "      <td>Admin/Maintenance/Security/Datawarehousing</td>\n",
       "      <td>Mumbai</td>\n",
       "      <td>IT Software - Application Programming , Mainte...</td>\n",
       "      <td>IT-Software, Software Services</td>\n",
       "      <td>Technical Support Engineer</td>\n",
       "    </tr>\n",
       "    <tr>\n",
       "      <th>4</th>\n",
       "      <td>2d8b7d44e138a54d5dc841163138de50</td>\n",
       "      <td>2019-07-05 02:48:29 +0000</td>\n",
       "      <td>Software Test Engineer -hyderabad</td>\n",
       "      <td>Not Disclosed by Recruiter</td>\n",
       "      <td>2 - 5 yrs</td>\n",
       "      <td>manual testing| test engineering| test cases|...</td>\n",
       "      <td>Programming &amp; Design</td>\n",
       "      <td>Hyderabad</td>\n",
       "      <td>IT Software - QA &amp; Testing</td>\n",
       "      <td>IT-Software, Software Services</td>\n",
       "      <td>Testing Engineer</td>\n",
       "    </tr>\n",
       "  </tbody>\n",
       "</table>\n",
       "</div>"
      ],
      "text/plain": [
       "                            Uniq Id            Crawl Timestamp  \\\n",
       "0  9be62c49a0b7ebe982a4af1edaa7bc5f  2019-07-05 01:46:07 +0000   \n",
       "1  3c52d436e39f596b22519da2612f6a56  2019-07-06 08:04:50 +0000   \n",
       "2  ffad8a2396c60be2bf6d0e2ff47c58d4  2019-08-05 15:50:44 +0000   \n",
       "3  7b921f51b5c2fb862b4a5f7a54c37f75  2019-08-05 15:31:56 +0000   \n",
       "4  2d8b7d44e138a54d5dc841163138de50  2019-07-05 02:48:29 +0000   \n",
       "\n",
       "                                           Job Title  \\\n",
       "0                              Digital Media Planner   \n",
       "1                           Online Bidding Executive   \n",
       "2   Trainee Research/ Research Executive- Hi- Tec...   \n",
       "3                                  Technical Support   \n",
       "4                  Software Test Engineer -hyderabad   \n",
       "\n",
       "                   Job Salary Job Experience Required  \\\n",
       "0  Not Disclosed by Recruiter              5 - 10 yrs   \n",
       "1  Not Disclosed by Recruiter               2 - 5 yrs   \n",
       "2  Not Disclosed by Recruiter               0 - 1 yrs   \n",
       "3    2,00,000 - 4,00,000 PA.                0 - 5 yrs   \n",
       "4  Not Disclosed by Recruiter               2 - 5 yrs   \n",
       "\n",
       "                                          Key Skills  \\\n",
       "0                      Media Planning| Digital Media   \n",
       "1   pre sales| closing| software knowledge| clien...   \n",
       "2   Computer science| Fabrication| Quality check|...   \n",
       "3                                  Technical Support   \n",
       "4   manual testing| test engineering| test cases|...   \n",
       "\n",
       "                                Role Category   Location  \\\n",
       "0                                 Advertising     Mumbai   \n",
       "1                                Retail Sales  Pune,Pune   \n",
       "2                                         R&D    Gurgaon   \n",
       "3  Admin/Maintenance/Security/Datawarehousing     Mumbai   \n",
       "4                        Programming & Design  Hyderabad   \n",
       "\n",
       "                                     Functional Area  \\\n",
       "0  Marketing , Advertising , MR , PR , Media Plan...   \n",
       "1              Sales , Retail , Business Development   \n",
       "2                           Engineering Design , R&D   \n",
       "3  IT Software - Application Programming , Mainte...   \n",
       "4                         IT Software - QA & Testing   \n",
       "\n",
       "                                Industry                              Role  \n",
       "0  Advertising, PR, MR, Event Management  Media Planning Executive/Manager  \n",
       "1         IT-Software, Software Services           Sales Executive/Officer  \n",
       "2                  Recruitment, Staffing                     R&D Executive  \n",
       "3         IT-Software, Software Services        Technical Support Engineer  \n",
       "4         IT-Software, Software Services                  Testing Engineer  "
      ]
     },
     "execution_count": 7,
     "metadata": {},
     "output_type": "execute_result"
    }
   ],
   "source": [
    "data.head()"
   ]
  },
  {
   "cell_type": "code",
   "execution_count": 9,
   "metadata": {},
   "outputs": [
    {
     "data": {
      "text/plain": [
       "Not Disclosed by Recruiter         20761\n",
       "Openings: 1                          408\n",
       " 2,00,000 - 3,00,000 PA.             170\n",
       " 2,00,000 - 4,00,000 PA.             150\n",
       " 3,00,000 - 5,00,000 PA.             140\n",
       "                                   ...  \n",
       " INR 3,00,000 - 7,50,000 PA.           1\n",
       " 16,00,000 - 31,00,000 PA.             1\n",
       " As per industry standard              1\n",
       " INR 35,00,000 - 50,00,000 PA.         1\n",
       " attractive salary                     1\n",
       "Name: Job Salary, Length: 1255, dtype: int64"
      ]
     },
     "execution_count": 9,
     "metadata": {},
     "output_type": "execute_result"
    }
   ],
   "source": [
    "data['Job Salary'].value_counts()"
   ]
  },
  {
   "cell_type": "code",
   "execution_count": 12,
   "metadata": {},
   "outputs": [
    {
     "data": {
      "text/plain": [
       "26.0     21624\n",
       "25.0      5357\n",
       "27.0       889\n",
       "11.0       523\n",
       "23.0       350\n",
       "         ...  \n",
       "58.0         1\n",
       "72.0         1\n",
       "80.0         1\n",
       "122.0        1\n",
       "116.0        1\n",
       "Name: Job Salary, Length: 104, dtype: int64"
      ]
     },
     "execution_count": 12,
     "metadata": {},
     "output_type": "execute_result"
    }
   ],
   "source": [
    "data['Job Salary'].str.len().value_counts()"
   ]
  },
  {
   "cell_type": "code",
   "execution_count": 15,
   "metadata": {},
   "outputs": [
    {
     "data": {
      "text/html": [
       "<div>\n",
       "<style scoped>\n",
       "    .dataframe tbody tr th:only-of-type {\n",
       "        vertical-align: middle;\n",
       "    }\n",
       "\n",
       "    .dataframe tbody tr th {\n",
       "        vertical-align: top;\n",
       "    }\n",
       "\n",
       "    .dataframe thead th {\n",
       "        text-align: right;\n",
       "    }\n",
       "</style>\n",
       "<table border=\"1\" class=\"dataframe\">\n",
       "  <thead>\n",
       "    <tr style=\"text-align: right;\">\n",
       "      <th></th>\n",
       "      <th>Uniq Id</th>\n",
       "      <th>Crawl Timestamp</th>\n",
       "      <th>Job Title</th>\n",
       "      <th>Job Salary</th>\n",
       "      <th>Job Experience Required</th>\n",
       "      <th>Key Skills</th>\n",
       "      <th>Role Category</th>\n",
       "      <th>Location</th>\n",
       "      <th>Functional Area</th>\n",
       "      <th>Industry</th>\n",
       "      <th>Role</th>\n",
       "    </tr>\n",
       "  </thead>\n",
       "  <tbody>\n",
       "    <tr>\n",
       "      <th>13</th>\n",
       "      <td>225c4680e3df32fbaf9c625ca18ae47c</td>\n",
       "      <td>2019-08-04 09:37:17 +0000</td>\n",
       "      <td>Oracle IDAM</td>\n",
       "      <td>Openings: 1</td>\n",
       "      <td>3 - 7 Years</td>\n",
       "      <td>Oracle IDAM|OIM|OAM</td>\n",
       "      <td>Programming &amp; Design</td>\n",
       "      <td>Bengaluru,Hyderabad,Kolkata,Chennai</td>\n",
       "      <td>IT Software - Application Programming , Mainte...</td>\n",
       "      <td>IT-Software / Software Services</td>\n",
       "      <td>Software Developer</td>\n",
       "    </tr>\n",
       "    <tr>\n",
       "      <th>99</th>\n",
       "      <td>272e816bf7c6b48782b2746905495660</td>\n",
       "      <td>2019-08-05 00:39:10 +0000</td>\n",
       "      <td>Enterprise Business Development Representative</td>\n",
       "      <td>Openings: 1</td>\n",
       "      <td>1 - 3 Years</td>\n",
       "      <td>market penetration|marketing|customer satisfac...</td>\n",
       "      <td>Channel Sales</td>\n",
       "      <td>Bengaluru</td>\n",
       "      <td>Sales , Retail , Business Development</td>\n",
       "      <td>IT-Software / Software Services</td>\n",
       "      <td>Sales Executive / Officer</td>\n",
       "    </tr>\n",
       "    <tr>\n",
       "      <th>150</th>\n",
       "      <td>87e6017ad6b2cb9f4f3f74d092697355</td>\n",
       "      <td>2019-08-04 14:29:40 +0000</td>\n",
       "      <td>Nokia WING Circuit Core - SMSC Engineer</td>\n",
       "      <td>Openings: 1</td>\n",
       "      <td>5 - 10 Years</td>\n",
       "      <td>Detail Design|Juniper|SMSC Engineer|Routing|IP...</td>\n",
       "      <td>Programming &amp; Design</td>\n",
       "      <td>Noida</td>\n",
       "      <td>IT Software - Network Administration , Security</td>\n",
       "      <td>Telecom / ISP</td>\n",
       "      <td>Software Developer</td>\n",
       "    </tr>\n",
       "    <tr>\n",
       "      <th>214</th>\n",
       "      <td>c63aa6a434a8380067a6b5180751852b</td>\n",
       "      <td>2019-07-04 06:06:45 +0000</td>\n",
       "      <td>HR Recruiter</td>\n",
       "      <td>50,000 - 1,00,000 PA.</td>\n",
       "      <td>0 - 2 yrs</td>\n",
       "      <td>Recruitment| Hiring| HR| Screening| Interview...</td>\n",
       "      <td>Other</td>\n",
       "      <td>Navi Mumbai</td>\n",
       "      <td>IT Software - Application Programming , Mainte...</td>\n",
       "      <td>IT-Software, Software Services</td>\n",
       "      <td>Fresher</td>\n",
       "    </tr>\n",
       "    <tr>\n",
       "      <th>281</th>\n",
       "      <td>98521df08929d6f969a0e7c0cbafd4f8</td>\n",
       "      <td>2019-08-06 03:50:45 +0000</td>\n",
       "      <td>Sales Engineer</td>\n",
       "      <td>60,000 - 3,00,000 PA.</td>\n",
       "      <td>2 - 7 yrs</td>\n",
       "      <td>Sales Engineering</td>\n",
       "      <td>Retail Sales</td>\n",
       "      <td>Bengaluru</td>\n",
       "      <td>Sales , Retail , Business Development</td>\n",
       "      <td>Automobile, Auto Anciliary, Auto Components</td>\n",
       "      <td>Sales/Business Development Manager</td>\n",
       "    </tr>\n",
       "    <tr>\n",
       "      <th>...</th>\n",
       "      <td>...</td>\n",
       "      <td>...</td>\n",
       "      <td>...</td>\n",
       "      <td>...</td>\n",
       "      <td>...</td>\n",
       "      <td>...</td>\n",
       "      <td>...</td>\n",
       "      <td>...</td>\n",
       "      <td>...</td>\n",
       "      <td>...</td>\n",
       "      <td>...</td>\n",
       "    </tr>\n",
       "    <tr>\n",
       "      <th>29824</th>\n",
       "      <td>fc3ed270c6a67bb46c993d1e3044ffe5</td>\n",
       "      <td>2019-07-05 16:14:11 +0000</td>\n",
       "      <td>CRM Manager with MNC Car Manufacturer Company</td>\n",
       "      <td>As per industry norms</td>\n",
       "      <td>2 - 7 yrs</td>\n",
       "      <td>CRM</td>\n",
       "      <td>Marketing</td>\n",
       "      <td>Mumbai</td>\n",
       "      <td>Marketing , Advertising , MR , PR , Media Plan...</td>\n",
       "      <td>Automobile, Auto Anciliary, Auto Components</td>\n",
       "      <td>Marketing Manager</td>\n",
       "    </tr>\n",
       "    <tr>\n",
       "      <th>29832</th>\n",
       "      <td>f57b6a87e4b2091bf9851324d6676bc4</td>\n",
       "      <td>2019-08-04 17:07:07 +0000</td>\n",
       "      <td>Design Engineer ( Must Exp. in Corel Draw)</td>\n",
       "      <td>50,000 - 1,50,000 PA.</td>\n",
       "      <td>0 - 2 yrs</td>\n",
       "      <td>Corel Draw| Corel Designer| Autocad Engineer|...</td>\n",
       "      <td>Other</td>\n",
       "      <td>Greater Noida</td>\n",
       "      <td>Design , Creative , User Experience</td>\n",
       "      <td>Printing, Packaging</td>\n",
       "      <td>Trainee</td>\n",
       "    </tr>\n",
       "    <tr>\n",
       "      <th>29898</th>\n",
       "      <td>db8a5ead82b82f579cb0d7fd35105726</td>\n",
       "      <td>2019-07-05 20:07:11 +0000</td>\n",
       "      <td>Adoption Manager - Pune</td>\n",
       "      <td>Openings: 3</td>\n",
       "      <td>6 - 11 Years</td>\n",
       "      <td>Product Management|cisco uc|Unified Communicat...</td>\n",
       "      <td>Operations</td>\n",
       "      <td>Pune</td>\n",
       "      <td>ITES , BPO , KPO , LPO , Customer Service , Op...</td>\n",
       "      <td>Telecom / ISP</td>\n",
       "      <td>Business Development Manager</td>\n",
       "    </tr>\n",
       "    <tr>\n",
       "      <th>29973</th>\n",
       "      <td>2f34135e17d168d8d36d3bec581d8947</td>\n",
       "      <td>2019-08-05 04:46:17 +0000</td>\n",
       "      <td>Day Care Teacher - Airoli / Malad / Nalasopar...</td>\n",
       "      <td>70,000 - 1,00,000 PA.</td>\n",
       "      <td>0 - 5 yrs</td>\n",
       "      <td>montessori| day care| teaching| Mulund| presc...</td>\n",
       "      <td>Teachers</td>\n",
       "      <td>Mumbai,Navi Mumbai,Thane</td>\n",
       "      <td>Teaching , Education , Training , Counselling</td>\n",
       "      <td>Education, Teaching, Training</td>\n",
       "      <td>DaycareTeacher / Incharge / Attendant</td>\n",
       "    </tr>\n",
       "    <tr>\n",
       "      <th>29975</th>\n",
       "      <td>0c55068faa2a3a45e0e749618f126371</td>\n",
       "      <td>2019-08-04 06:53:17 +0000</td>\n",
       "      <td>Nokia WING - Solution Architect CMP</td>\n",
       "      <td>Openings: 1</td>\n",
       "      <td>4 - 7 Years</td>\n",
       "      <td>PGW|SGW|Mobile Core Network|Networking|Use Cas...</td>\n",
       "      <td>System Design/Implementation/ERP/CRM</td>\n",
       "      <td>Noida,Chennai</td>\n",
       "      <td>IT Software - Network Administration , Security</td>\n",
       "      <td>Telecom / ISP</td>\n",
       "      <td>Solution Architect / Enterprise Architect</td>\n",
       "    </tr>\n",
       "  </tbody>\n",
       "</table>\n",
       "<p>873 rows × 11 columns</p>\n",
       "</div>"
      ],
      "text/plain": [
       "                                Uniq Id            Crawl Timestamp  \\\n",
       "13     225c4680e3df32fbaf9c625ca18ae47c  2019-08-04 09:37:17 +0000   \n",
       "99     272e816bf7c6b48782b2746905495660  2019-08-05 00:39:10 +0000   \n",
       "150    87e6017ad6b2cb9f4f3f74d092697355  2019-08-04 14:29:40 +0000   \n",
       "214    c63aa6a434a8380067a6b5180751852b  2019-07-04 06:06:45 +0000   \n",
       "281    98521df08929d6f969a0e7c0cbafd4f8  2019-08-06 03:50:45 +0000   \n",
       "...                                 ...                        ...   \n",
       "29824  fc3ed270c6a67bb46c993d1e3044ffe5  2019-07-05 16:14:11 +0000   \n",
       "29832  f57b6a87e4b2091bf9851324d6676bc4  2019-08-04 17:07:07 +0000   \n",
       "29898  db8a5ead82b82f579cb0d7fd35105726  2019-07-05 20:07:11 +0000   \n",
       "29973  2f34135e17d168d8d36d3bec581d8947  2019-08-05 04:46:17 +0000   \n",
       "29975  0c55068faa2a3a45e0e749618f126371  2019-08-04 06:53:17 +0000   \n",
       "\n",
       "                                               Job Title  \\\n",
       "13                                           Oracle IDAM   \n",
       "99        Enterprise Business Development Representative   \n",
       "150              Nokia WING Circuit Core - SMSC Engineer   \n",
       "214                                         HR Recruiter   \n",
       "281                                       Sales Engineer   \n",
       "...                                                  ...   \n",
       "29824      CRM Manager with MNC Car Manufacturer Company   \n",
       "29832         Design Engineer ( Must Exp. in Corel Draw)   \n",
       "29898                            Adoption Manager - Pune   \n",
       "29973   Day Care Teacher - Airoli / Malad / Nalasopar...   \n",
       "29975                Nokia WING - Solution Architect CMP   \n",
       "\n",
       "                    Job Salary Job Experience Required  \\\n",
       "13                 Openings: 1             3 - 7 Years   \n",
       "99                 Openings: 1             1 - 3 Years   \n",
       "150                Openings: 1            5 - 10 Years   \n",
       "214     50,000 - 1,00,000 PA.                0 - 2 yrs   \n",
       "281     60,000 - 3,00,000 PA.                2 - 7 yrs   \n",
       "...                        ...                     ...   \n",
       "29824   As per industry norms                2 - 7 yrs   \n",
       "29832   50,000 - 1,50,000 PA.                0 - 2 yrs   \n",
       "29898              Openings: 3            6 - 11 Years   \n",
       "29973   70,000 - 1,00,000 PA.                0 - 5 yrs   \n",
       "29975              Openings: 1             4 - 7 Years   \n",
       "\n",
       "                                              Key Skills  \\\n",
       "13                                   Oracle IDAM|OIM|OAM   \n",
       "99     market penetration|marketing|customer satisfac...   \n",
       "150    Detail Design|Juniper|SMSC Engineer|Routing|IP...   \n",
       "214     Recruitment| Hiring| HR| Screening| Interview...   \n",
       "281                                    Sales Engineering   \n",
       "...                                                  ...   \n",
       "29824                                                CRM   \n",
       "29832   Corel Draw| Corel Designer| Autocad Engineer|...   \n",
       "29898  Product Management|cisco uc|Unified Communicat...   \n",
       "29973   montessori| day care| teaching| Mulund| presc...   \n",
       "29975  PGW|SGW|Mobile Core Network|Networking|Use Cas...   \n",
       "\n",
       "                              Role Category  \\\n",
       "13                     Programming & Design   \n",
       "99                            Channel Sales   \n",
       "150                    Programming & Design   \n",
       "214                                   Other   \n",
       "281                            Retail Sales   \n",
       "...                                     ...   \n",
       "29824                             Marketing   \n",
       "29832                                 Other   \n",
       "29898                            Operations   \n",
       "29973                              Teachers   \n",
       "29975  System Design/Implementation/ERP/CRM   \n",
       "\n",
       "                                  Location  \\\n",
       "13     Bengaluru,Hyderabad,Kolkata,Chennai   \n",
       "99                               Bengaluru   \n",
       "150                                  Noida   \n",
       "214                            Navi Mumbai   \n",
       "281                              Bengaluru   \n",
       "...                                    ...   \n",
       "29824                               Mumbai   \n",
       "29832                        Greater Noida   \n",
       "29898                                 Pune   \n",
       "29973             Mumbai,Navi Mumbai,Thane   \n",
       "29975                        Noida,Chennai   \n",
       "\n",
       "                                         Functional Area  \\\n",
       "13     IT Software - Application Programming , Mainte...   \n",
       "99                 Sales , Retail , Business Development   \n",
       "150      IT Software - Network Administration , Security   \n",
       "214    IT Software - Application Programming , Mainte...   \n",
       "281                Sales , Retail , Business Development   \n",
       "...                                                  ...   \n",
       "29824  Marketing , Advertising , MR , PR , Media Plan...   \n",
       "29832                Design , Creative , User Experience   \n",
       "29898  ITES , BPO , KPO , LPO , Customer Service , Op...   \n",
       "29973      Teaching , Education , Training , Counselling   \n",
       "29975    IT Software - Network Administration , Security   \n",
       "\n",
       "                                          Industry  \\\n",
       "13                 IT-Software / Software Services   \n",
       "99                 IT-Software / Software Services   \n",
       "150                                  Telecom / ISP   \n",
       "214                 IT-Software, Software Services   \n",
       "281    Automobile, Auto Anciliary, Auto Components   \n",
       "...                                            ...   \n",
       "29824  Automobile, Auto Anciliary, Auto Components   \n",
       "29832                          Printing, Packaging   \n",
       "29898                                Telecom / ISP   \n",
       "29973                Education, Teaching, Training   \n",
       "29975                                Telecom / ISP   \n",
       "\n",
       "                                            Role  \n",
       "13                            Software Developer  \n",
       "99                     Sales Executive / Officer  \n",
       "150                           Software Developer  \n",
       "214                                      Fresher  \n",
       "281           Sales/Business Development Manager  \n",
       "...                                          ...  \n",
       "29824                          Marketing Manager  \n",
       "29832                                    Trainee  \n",
       "29898               Business Development Manager  \n",
       "29973      DaycareTeacher / Incharge / Attendant  \n",
       "29975  Solution Architect / Enterprise Architect  \n",
       "\n",
       "[873 rows x 11 columns]"
      ]
     },
     "execution_count": 15,
     "metadata": {},
     "output_type": "execute_result"
    }
   ],
   "source": [
    "data[data['Job Salary'].apply(lambda x:True if len(str(x))==23 or len(str(x))==11 else False)]"
   ]
  },
  {
   "cell_type": "code",
   "execution_count": 18,
   "metadata": {},
   "outputs": [
    {
     "data": {
      "text/plain": [
       "Not Disclosed by Recruiter                                  20761\n",
       " 2,00,000 - 3,00,000 PA.                                      170\n",
       " 2,00,000 - 4,00,000 PA.                                      150\n",
       " 3,00,000 - 5,00,000 PA.                                      140\n",
       " 3,00,000 - 8,00,000 PA.                                      112\n",
       "                                                            ...  \n",
       " Fixed salary + incentives                                      1\n",
       " INR 2,00,000 - 6,50,000 PA. Performance Bases Incentive        1\n",
       " Attractive incentive plans+ Cabs+meals                         1\n",
       " INR 3,25,000 - 8,00,000 PA.                                    1\n",
       " INR 10,00,000 - 12,00,000 PA.                                  1\n",
       "Name: Job Salary, Length: 1030, dtype: int64"
      ]
     },
     "execution_count": 18,
     "metadata": {},
     "output_type": "execute_result"
    }
   ],
   "source": [
    "data[data['Job Salary'].apply(lambda x:True if len(str(x))>=25 else False)]['Job Salary'].value_counts()"
   ]
  },
  {
   "cell_type": "code",
   "execution_count": 20,
   "metadata": {},
   "outputs": [
    {
     "data": {
      "text/plain": [
       "76"
      ]
     },
     "execution_count": 20,
     "metadata": {},
     "output_type": "execute_result"
    }
   ],
   "source": [
    "data['Job Salary'].apply(lambda x: True if \"incentives\" in str(x).lower() else False).sum()"
   ]
  },
  {
   "cell_type": "code",
   "execution_count": 21,
   "metadata": {},
   "outputs": [
    {
     "data": {
      "text/plain": [
       "Not Disclosed by Recruiter         20761\n",
       "Openings: 1                          408\n",
       " 2,00,000 - 3,00,000 PA.             170\n",
       " 2,00,000 - 4,00,000 PA.             150\n",
       " 3,00,000 - 5,00,000 PA.             140\n",
       "                                   ...  \n",
       " INR 3,00,000 - 7,50,000 PA.           1\n",
       " 16,00,000 - 31,00,000 PA.             1\n",
       " As per industry standard              1\n",
       " INR 35,00,000 - 50,00,000 PA.         1\n",
       " attractive salary                     1\n",
       "Name: Job Salary, Length: 1255, dtype: int64"
      ]
     },
     "execution_count": 21,
     "metadata": {},
     "output_type": "execute_result"
    }
   ],
   "source": [
    "data['Job Salary'].value_counts()"
   ]
  },
  {
   "cell_type": "code",
   "execution_count": 23,
   "metadata": {},
   "outputs": [],
   "source": [
    "data['Job Salary'] = data['Job Salary'].replace(\"INR\", \"\")"
   ]
  },
  {
   "cell_type": "code",
   "execution_count": 27,
   "metadata": {},
   "outputs": [],
   "source": [
    "data['Job Salary'] = data['Job Salary'].str.replace(\"INR\", \"\")"
   ]
  },
  {
   "cell_type": "code",
   "execution_count": 28,
   "metadata": {},
   "outputs": [
    {
     "data": {
      "text/plain": [
       "Not Disclosed by Recruiter                    20761\n",
       "Openings: 1                                     408\n",
       " 2,00,000 - 3,00,000 PA.                        170\n",
       " 2,00,000 - 4,00,000 PA.                        150\n",
       " 3,00,000 - 5,00,000 PA.                        140\n",
       "                                              ...  \n",
       "  4,00,000 - 4,75,000 PA.                         1\n",
       " 16,00,000 - 31,00,000 PA.                        1\n",
       "  1,75,000 - 2,25,000 PA.                         1\n",
       "  1,25,000 - 3,25,000 PA. Good Incentives         1\n",
       "  80,000 - 1,25,000 PA.                           1\n",
       "Name: Job Salary, Length: 1255, dtype: int64"
      ]
     },
     "execution_count": 28,
     "metadata": {},
     "output_type": "execute_result"
    }
   ],
   "source": [
    "data['Job Salary'].value_counts()"
   ]
  },
  {
   "cell_type": "code",
   "execution_count": 30,
   "metadata": {},
   "outputs": [],
   "source": [
    "data['Job Salary'] = data['Job Salary'].str.strip()"
   ]
  },
  {
   "cell_type": "code",
   "execution_count": 31,
   "metadata": {},
   "outputs": [
    {
     "data": {
      "text/plain": [
       "Not Disclosed by Recruiter                                                     20761\n",
       "Openings: 1                                                                      408\n",
       "2,00,000 - 4,00,000 PA.                                                          202\n",
       "2,00,000 - 3,00,000 PA.                                                          188\n",
       "3,00,000 - 5,00,000 PA.                                                          152\n",
       "                                                                               ...  \n",
       "40,000/-                                                                           1\n",
       "6,00,000 - 6,50,000 PA.                                                            1\n",
       "2,25,000 - 4,25,000 PA. Best in the industry + Incentiv...                         1\n",
       "Looking at candidates working in other Amc's in the Retail/ Banking channel        1\n",
       "2,00,000 - 5,00,000 PA. + Relocation Bonus + 15-30 Days...                         1\n",
       "Name: Job Salary, Length: 961, dtype: int64"
      ]
     },
     "execution_count": 31,
     "metadata": {},
     "output_type": "execute_result"
    }
   ],
   "source": [
    "data['Job Salary'].value_counts()"
   ]
  },
  {
   "cell_type": "markdown",
   "metadata": {},
   "source": [
    "###### openings --> 1, 2, 3"
   ]
  },
  {
   "cell_type": "code",
   "execution_count": 42,
   "metadata": {},
   "outputs": [],
   "source": [
    "data['Openings'] = data['Job Salary'].apply(lambda x: str(x).split(':')[1] if \"openings\" in str(x).lower() else np.nan)"
   ]
  },
  {
   "cell_type": "code",
   "execution_count": 39,
   "metadata": {},
   "outputs": [
    {
     "data": {
      "text/plain": [
       "       29419\n",
       "1        408\n",
       "2         57\n",
       "5         22\n",
       "10        18\n",
       "3         16\n",
       "4          9\n",
       "30         9\n",
       "15         8\n",
       "100        6\n",
       "7          4\n",
       "20         4\n",
       "12         3\n",
       "50         3\n",
       "55         2\n",
       "25         2\n",
       "6          2\n",
       "200        2\n",
       "70         1\n",
       "85         1\n",
       "11         1\n",
       "80         1\n",
       "21         1\n",
       "17         1\n",
       "dtype: int64"
      ]
     },
     "execution_count": 39,
     "metadata": {},
     "output_type": "execute_result"
    }
   ],
   "source": [
    "openings=[]\n",
    "for i in range(0,len(data)):\n",
    "    if 'openings' in str(data['Job Salary'][i]).lower():\n",
    "        openings.append(str(data['Job Salary'][i]).split(' ')[1])\n",
    "    else:\n",
    "        openings.append('')\n",
    "\n",
    "pd.Series(openings).value_counts()"
   ]
  },
  {
   "cell_type": "markdown",
   "metadata": {},
   "source": [
    "##### number of openings in most of the company "
   ]
  },
  {
   "cell_type": "code",
   "execution_count": 44,
   "metadata": {},
   "outputs": [
    {
     "data": {
      "text/plain": [
       "<AxesSubplot:>"
      ]
     },
     "execution_count": 44,
     "metadata": {},
     "output_type": "execute_result"
    },
    {
     "data": {
      "image/png": "[encoded data removed]",
      "text/plain": [
       "<Figure size 1100x500 with 1 Axes>"
      ]
     },
     "metadata": {
      "needs_background": "light"
     },
     "output_type": "display_data"
    }
   ],
   "source": [
    "data['Openings'].value_counts().plot(kind=\"bar\")"
   ]
  },
  {
   "cell_type": "code",
   "execution_count": 51,
   "metadata": {},
   "outputs": [],
   "source": [
    "data['Job Salary'] = data['Job Salary'].str.lower()"
   ]
  },
  {
   "cell_type": "code",
   "execution_count": 52,
   "metadata": {},
   "outputs": [],
   "source": [
    "data['Job Salary'] = data['Job Salary'].str.replace(\"openings\", \"\")"
   ]
  },
  {
   "cell_type": "code",
   "execution_count": 57,
   "metadata": {},
   "outputs": [],
   "source": [
    "data['Job Salary'] = data['Job Salary'].apply(lambda x: np.nan if \":\" in str(x) else x)"
   ]
  },
  {
   "cell_type": "code",
   "execution_count": 58,
   "metadata": {},
   "outputs": [
    {
     "data": {
      "text/plain": [
       "0        not disclosed by recruiter\n",
       "1        not disclosed by recruiter\n",
       "2        not disclosed by recruiter\n",
       "3           2,00,000 - 4,00,000 pa.\n",
       "4        not disclosed by recruiter\n",
       "                    ...            \n",
       "29995    not disclosed by recruiter\n",
       "29996    not disclosed by recruiter\n",
       "29997    not disclosed by recruiter\n",
       "29998    not disclosed by recruiter\n",
       "29999    not disclosed by recruiter\n",
       "Name: Job Salary, Length: 30000, dtype: object"
      ]
     },
     "execution_count": 58,
     "metadata": {},
     "output_type": "execute_result"
    }
   ],
   "source": [
    "data['Job Salary']"
   ]
  },
  {
   "cell_type": "code",
   "execution_count": 59,
   "metadata": {},
   "outputs": [
    {
     "data": {
      "text/html": [
       "<div>\n",
       "<style scoped>\n",
       "    .dataframe tbody tr th:only-of-type {\n",
       "        vertical-align: middle;\n",
       "    }\n",
       "\n",
       "    .dataframe tbody tr th {\n",
       "        vertical-align: top;\n",
       "    }\n",
       "\n",
       "    .dataframe thead th {\n",
       "        text-align: right;\n",
       "    }\n",
       "</style>\n",
       "<table border=\"1\" class=\"dataframe\">\n",
       "  <thead>\n",
       "    <tr style=\"text-align: right;\">\n",
       "      <th></th>\n",
       "      <th>Uniq Id</th>\n",
       "      <th>Crawl Timestamp</th>\n",
       "      <th>Job Title</th>\n",
       "      <th>Job Salary</th>\n",
       "      <th>Job Experience Required</th>\n",
       "      <th>Key Skills</th>\n",
       "      <th>Role Category</th>\n",
       "      <th>Location</th>\n",
       "      <th>Functional Area</th>\n",
       "      <th>Industry</th>\n",
       "      <th>Role</th>\n",
       "      <th>Openings</th>\n",
       "    </tr>\n",
       "  </thead>\n",
       "  <tbody>\n",
       "    <tr>\n",
       "      <th>0</th>\n",
       "      <td>9be62c49a0b7ebe982a4af1edaa7bc5f</td>\n",
       "      <td>2019-07-05 01:46:07 +0000</td>\n",
       "      <td>Digital Media Planner</td>\n",
       "      <td>not disclosed by recruiter</td>\n",
       "      <td>5 - 10 yrs</td>\n",
       "      <td>Media Planning| Digital Media</td>\n",
       "      <td>Advertising</td>\n",
       "      <td>Mumbai</td>\n",
       "      <td>Marketing , Advertising , MR , PR , Media Plan...</td>\n",
       "      <td>Advertising, PR, MR, Event Management</td>\n",
       "      <td>Media Planning Executive/Manager</td>\n",
       "      <td>NaN</td>\n",
       "    </tr>\n",
       "    <tr>\n",
       "      <th>1</th>\n",
       "      <td>3c52d436e39f596b22519da2612f6a56</td>\n",
       "      <td>2019-07-06 08:04:50 +0000</td>\n",
       "      <td>Online Bidding Executive</td>\n",
       "      <td>not disclosed by recruiter</td>\n",
       "      <td>2 - 5 yrs</td>\n",
       "      <td>pre sales| closing| software knowledge| clien...</td>\n",
       "      <td>Retail Sales</td>\n",
       "      <td>Pune,Pune</td>\n",
       "      <td>Sales , Retail , Business Development</td>\n",
       "      <td>IT-Software, Software Services</td>\n",
       "      <td>Sales Executive/Officer</td>\n",
       "      <td>NaN</td>\n",
       "    </tr>\n",
       "    <tr>\n",
       "      <th>2</th>\n",
       "      <td>ffad8a2396c60be2bf6d0e2ff47c58d4</td>\n",
       "      <td>2019-08-05 15:50:44 +0000</td>\n",
       "      <td>Trainee Research/ Research Executive- Hi- Tec...</td>\n",
       "      <td>not disclosed by recruiter</td>\n",
       "      <td>0 - 1 yrs</td>\n",
       "      <td>Computer science| Fabrication| Quality check|...</td>\n",
       "      <td>R&amp;D</td>\n",
       "      <td>Gurgaon</td>\n",
       "      <td>Engineering Design , R&amp;D</td>\n",
       "      <td>Recruitment, Staffing</td>\n",
       "      <td>R&amp;D Executive</td>\n",
       "      <td>NaN</td>\n",
       "    </tr>\n",
       "    <tr>\n",
       "      <th>3</th>\n",
       "      <td>7b921f51b5c2fb862b4a5f7a54c37f75</td>\n",
       "      <td>2019-08-05 15:31:56 +0000</td>\n",
       "      <td>Technical Support</td>\n",
       "      <td>2,00,000 - 4,00,000 pa.</td>\n",
       "      <td>0 - 5 yrs</td>\n",
       "      <td>Technical Support</td>\n",
       "      <td>Admin/Maintenance/Security/Datawarehousing</td>\n",
       "      <td>Mumbai</td>\n",
       "      <td>IT Software - Application Programming , Mainte...</td>\n",
       "      <td>IT-Software, Software Services</td>\n",
       "      <td>Technical Support Engineer</td>\n",
       "      <td>NaN</td>\n",
       "    </tr>\n",
       "    <tr>\n",
       "      <th>4</th>\n",
       "      <td>2d8b7d44e138a54d5dc841163138de50</td>\n",
       "      <td>2019-07-05 02:48:29 +0000</td>\n",
       "      <td>Software Test Engineer -hyderabad</td>\n",
       "      <td>not disclosed by recruiter</td>\n",
       "      <td>2 - 5 yrs</td>\n",
       "      <td>manual testing| test engineering| test cases|...</td>\n",
       "      <td>Programming &amp; Design</td>\n",
       "      <td>Hyderabad</td>\n",
       "      <td>IT Software - QA &amp; Testing</td>\n",
       "      <td>IT-Software, Software Services</td>\n",
       "      <td>Testing Engineer</td>\n",
       "      <td>NaN</td>\n",
       "    </tr>\n",
       "  </tbody>\n",
       "</table>\n",
       "</div>"
      ],
      "text/plain": [
       "                            Uniq Id            Crawl Timestamp  \\\n",
       "0  9be62c49a0b7ebe982a4af1edaa7bc5f  2019-07-05 01:46:07 +0000   \n",
       "1  3c52d436e39f596b22519da2612f6a56  2019-07-06 08:04:50 +0000   \n",
       "2  ffad8a2396c60be2bf6d0e2ff47c58d4  2019-08-05 15:50:44 +0000   \n",
       "3  7b921f51b5c2fb862b4a5f7a54c37f75  2019-08-05 15:31:56 +0000   \n",
       "4  2d8b7d44e138a54d5dc841163138de50  2019-07-05 02:48:29 +0000   \n",
       "\n",
       "                                           Job Title  \\\n",
       "0                              Digital Media Planner   \n",
       "1                           Online Bidding Executive   \n",
       "2   Trainee Research/ Research Executive- Hi- Tec...   \n",
       "3                                  Technical Support   \n",
       "4                  Software Test Engineer -hyderabad   \n",
       "\n",
       "                   Job Salary Job Experience Required  \\\n",
       "0  not disclosed by recruiter              5 - 10 yrs   \n",
       "1  not disclosed by recruiter               2 - 5 yrs   \n",
       "2  not disclosed by recruiter               0 - 1 yrs   \n",
       "3     2,00,000 - 4,00,000 pa.               0 - 5 yrs   \n",
       "4  not disclosed by recruiter               2 - 5 yrs   \n",
       "\n",
       "                                          Key Skills  \\\n",
       "0                      Media Planning| Digital Media   \n",
       "1   pre sales| closing| software knowledge| clien...   \n",
       "2   Computer science| Fabrication| Quality check|...   \n",
       "3                                  Technical Support   \n",
       "4   manual testing| test engineering| test cases|...   \n",
       "\n",
       "                                Role Category   Location  \\\n",
       "0                                 Advertising     Mumbai   \n",
       "1                                Retail Sales  Pune,Pune   \n",
       "2                                         R&D    Gurgaon   \n",
       "3  Admin/Maintenance/Security/Datawarehousing     Mumbai   \n",
       "4                        Programming & Design  Hyderabad   \n",
       "\n",
       "                                     Functional Area  \\\n",
       "0  Marketing , Advertising , MR , PR , Media Plan...   \n",
       "1              Sales , Retail , Business Development   \n",
       "2                           Engineering Design , R&D   \n",
       "3  IT Software - Application Programming , Mainte...   \n",
       "4                         IT Software - QA & Testing   \n",
       "\n",
       "                                Industry                              Role  \\\n",
       "0  Advertising, PR, MR, Event Management  Media Planning Executive/Manager   \n",
       "1         IT-Software, Software Services           Sales Executive/Officer   \n",
       "2                  Recruitment, Staffing                     R&D Executive   \n",
       "3         IT-Software, Software Services        Technical Support Engineer   \n",
       "4         IT-Software, Software Services                  Testing Engineer   \n",
       "\n",
       "  Openings  \n",
       "0      NaN  \n",
       "1      NaN  \n",
       "2      NaN  \n",
       "3      NaN  \n",
       "4      NaN  "
      ]
     },
     "execution_count": 59,
     "metadata": {},
     "output_type": "execute_result"
    }
   ],
   "source": [
    "data.head()"
   ]
  },
  {
   "cell_type": "code",
   "execution_count": 62,
   "metadata": {},
   "outputs": [
    {
     "data": {
      "text/plain": [
       "0                            Media Planning| Digital Media\n",
       "1         pre sales| closing| software knowledge| clien...\n",
       "2         Computer science| Fabrication| Quality check|...\n",
       "3                                        Technical Support\n",
       "4         manual testing| test engineering| test cases|...\n",
       "                               ...                        \n",
       "29995     Graphics| C++| USB| Project management| SOC| ...\n",
       "29996     Service delivery| LMS| CRE| Integration servi...\n",
       "29997        Counselor| Mentor| Trainer| Advisor| Teaching\n",
       "29998     Security Analysis| Software Development Life ...\n",
       "29999     Press release| Public relations| Publishing| ...\n",
       "Name: Key Skills, Length: 30000, dtype: object"
      ]
     },
     "execution_count": 62,
     "metadata": {},
     "output_type": "execute_result"
    }
   ],
   "source": [
    "data['Key Skills'].apply(lambda x: x)"
   ]
  },
  {
   "cell_type": "markdown",
   "metadata": {},
   "source": [
    "#### plot of top 10 skills"
   ]
  },
  {
   "cell_type": "code",
   "execution_count": 28,
   "metadata": {},
   "outputs": [
    {
     "data": {
      "text/plain": [
       "0       NaN\n",
       "1       NaN\n",
       "2       NaN\n",
       "3       NaN\n",
       "4       NaN\n",
       "         ..\n",
       "29995   NaN\n",
       "29996   NaN\n",
       "29997   NaN\n",
       "29998   NaN\n",
       "29999   NaN\n",
       "Name: Key Skills, Length: 30000, dtype: float64"
      ]
     },
     "execution_count": 28,
     "metadata": {},
     "output_type": "execute_result"
    }
   ],
   "source": [
    "key_skills = []\n",
    "temp['Key Skills'].apply(lambda x:key_skills.extend(str(x).lower().strip().split(\"|\")) if type(x) == str else x)"
   ]
  },
  {
   "cell_type": "code",
   "execution_count": 29,
   "metadata": {},
   "outputs": [],
   "source": [
    "key_skills = list(map(lambda x: x.strip(), key_skills))"
   ]
  },
  {
   "cell_type": "code",
   "execution_count": 30,
   "metadata": {},
   "outputs": [
    {
     "data": {
      "text/plain": [
       "<AxesSubplot:>"
      ]
     },
     "execution_count": 30,
     "metadata": {},
     "output_type": "execute_result"
    },
    {
     "data": {
      "image/png": "[encoded data removed]",
      "text/plain": [
       "<Figure size 1100x500 with 1 Axes>"
      ]
     },
     "metadata": {
      "needs_background": "light"
     },
     "output_type": "display_data"
    }
   ],
   "source": [
    "pd.Series(key_skills).value_counts()[:20].plot(kind=\"bar\")"
   ]
  },
  {
   "cell_type": "code",
   "execution_count": 85,
   "metadata": {},
   "outputs": [
    {
     "data": {
      "text/html": [
       "<div>\n",
       "<style scoped>\n",
       "    .dataframe tbody tr th:only-of-type {\n",
       "        vertical-align: middle;\n",
       "    }\n",
       "\n",
       "    .dataframe tbody tr th {\n",
       "        vertical-align: top;\n",
       "    }\n",
       "\n",
       "    .dataframe thead th {\n",
       "        text-align: right;\n",
       "    }\n",
       "</style>\n",
       "<table border=\"1\" class=\"dataframe\">\n",
       "  <thead>\n",
       "    <tr style=\"text-align: right;\">\n",
       "      <th></th>\n",
       "      <th>Uniq Id</th>\n",
       "      <th>Crawl Timestamp</th>\n",
       "      <th>Job Title</th>\n",
       "      <th>Job Salary</th>\n",
       "      <th>Job Experience Required</th>\n",
       "      <th>Key Skills</th>\n",
       "      <th>Role Category</th>\n",
       "      <th>Location</th>\n",
       "      <th>Functional Area</th>\n",
       "      <th>Industry</th>\n",
       "      <th>Role</th>\n",
       "      <th>Openings</th>\n",
       "    </tr>\n",
       "  </thead>\n",
       "  <tbody>\n",
       "    <tr>\n",
       "      <th>0</th>\n",
       "      <td>9be62c49a0b7ebe982a4af1edaa7bc5f</td>\n",
       "      <td>2019-07-05 01:46:07 +0000</td>\n",
       "      <td>Digital Media Planner</td>\n",
       "      <td>not disclosed by recruiter</td>\n",
       "      <td>5 - 10 yrs</td>\n",
       "      <td>Media Planning| Digital Media</td>\n",
       "      <td>Advertising</td>\n",
       "      <td>Mumbai</td>\n",
       "      <td>Marketing , Advertising , MR , PR , Media Plan...</td>\n",
       "      <td>Advertising, PR, MR, Event Management</td>\n",
       "      <td>Media Planning Executive/Manager</td>\n",
       "      <td>NaN</td>\n",
       "    </tr>\n",
       "    <tr>\n",
       "      <th>1</th>\n",
       "      <td>3c52d436e39f596b22519da2612f6a56</td>\n",
       "      <td>2019-07-06 08:04:50 +0000</td>\n",
       "      <td>Online Bidding Executive</td>\n",
       "      <td>not disclosed by recruiter</td>\n",
       "      <td>2 - 5 yrs</td>\n",
       "      <td>pre sales| closing| software knowledge| clien...</td>\n",
       "      <td>Retail Sales</td>\n",
       "      <td>Pune,Pune</td>\n",
       "      <td>Sales , Retail , Business Development</td>\n",
       "      <td>IT-Software, Software Services</td>\n",
       "      <td>Sales Executive/Officer</td>\n",
       "      <td>NaN</td>\n",
       "    </tr>\n",
       "    <tr>\n",
       "      <th>2</th>\n",
       "      <td>ffad8a2396c60be2bf6d0e2ff47c58d4</td>\n",
       "      <td>2019-08-05 15:50:44 +0000</td>\n",
       "      <td>Trainee Research/ Research Executive- Hi- Tec...</td>\n",
       "      <td>not disclosed by recruiter</td>\n",
       "      <td>0 - 1 yrs</td>\n",
       "      <td>Computer science| Fabrication| Quality check|...</td>\n",
       "      <td>R&amp;D</td>\n",
       "      <td>Gurgaon</td>\n",
       "      <td>Engineering Design , R&amp;D</td>\n",
       "      <td>Recruitment, Staffing</td>\n",
       "      <td>R&amp;D Executive</td>\n",
       "      <td>NaN</td>\n",
       "    </tr>\n",
       "    <tr>\n",
       "      <th>3</th>\n",
       "      <td>7b921f51b5c2fb862b4a5f7a54c37f75</td>\n",
       "      <td>2019-08-05 15:31:56 +0000</td>\n",
       "      <td>Technical Support</td>\n",
       "      <td>2,00,000 - 4,00,000 pa.</td>\n",
       "      <td>0 - 5 yrs</td>\n",
       "      <td>Technical Support</td>\n",
       "      <td>Admin/Maintenance/Security/Datawarehousing</td>\n",
       "      <td>Mumbai</td>\n",
       "      <td>IT Software - Application Programming , Mainte...</td>\n",
       "      <td>IT-Software, Software Services</td>\n",
       "      <td>Technical Support Engineer</td>\n",
       "      <td>NaN</td>\n",
       "    </tr>\n",
       "    <tr>\n",
       "      <th>4</th>\n",
       "      <td>2d8b7d44e138a54d5dc841163138de50</td>\n",
       "      <td>2019-07-05 02:48:29 +0000</td>\n",
       "      <td>Software Test Engineer -hyderabad</td>\n",
       "      <td>not disclosed by recruiter</td>\n",
       "      <td>2 - 5 yrs</td>\n",
       "      <td>manual testing| test engineering| test cases|...</td>\n",
       "      <td>Programming &amp; Design</td>\n",
       "      <td>Hyderabad</td>\n",
       "      <td>IT Software - QA &amp; Testing</td>\n",
       "      <td>IT-Software, Software Services</td>\n",
       "      <td>Testing Engineer</td>\n",
       "      <td>NaN</td>\n",
       "    </tr>\n",
       "  </tbody>\n",
       "</table>\n",
       "</div>"
      ],
      "text/plain": [
       "                            Uniq Id            Crawl Timestamp  \\\n",
       "0  9be62c49a0b7ebe982a4af1edaa7bc5f  2019-07-05 01:46:07 +0000   \n",
       "1  3c52d436e39f596b22519da2612f6a56  2019-07-06 08:04:50 +0000   \n",
       "2  ffad8a2396c60be2bf6d0e2ff47c58d4  2019-08-05 15:50:44 +0000   \n",
       "3  7b921f51b5c2fb862b4a5f7a54c37f75  2019-08-05 15:31:56 +0000   \n",
       "4  2d8b7d44e138a54d5dc841163138de50  2019-07-05 02:48:29 +0000   \n",
       "\n",
       "                                           Job Title  \\\n",
       "0                              Digital Media Planner   \n",
       "1                           Online Bidding Executive   \n",
       "2   Trainee Research/ Research Executive- Hi- Tec...   \n",
       "3                                  Technical Support   \n",
       "4                  Software Test Engineer -hyderabad   \n",
       "\n",
       "                   Job Salary Job Experience Required  \\\n",
       "0  not disclosed by recruiter              5 - 10 yrs   \n",
       "1  not disclosed by recruiter               2 - 5 yrs   \n",
       "2  not disclosed by recruiter               0 - 1 yrs   \n",
       "3     2,00,000 - 4,00,000 pa.               0 - 5 yrs   \n",
       "4  not disclosed by recruiter               2 - 5 yrs   \n",
       "\n",
       "                                          Key Skills  \\\n",
       "0                      Media Planning| Digital Media   \n",
       "1   pre sales| closing| software knowledge| clien...   \n",
       "2   Computer science| Fabrication| Quality check|...   \n",
       "3                                  Technical Support   \n",
       "4   manual testing| test engineering| test cases|...   \n",
       "\n",
       "                                Role Category   Location  \\\n",
       "0                                 Advertising     Mumbai   \n",
       "1                                Retail Sales  Pune,Pune   \n",
       "2                                         R&D    Gurgaon   \n",
       "3  Admin/Maintenance/Security/Datawarehousing     Mumbai   \n",
       "4                        Programming & Design  Hyderabad   \n",
       "\n",
       "                                     Functional Area  \\\n",
       "0  Marketing , Advertising , MR , PR , Media Plan...   \n",
       "1              Sales , Retail , Business Development   \n",
       "2                           Engineering Design , R&D   \n",
       "3  IT Software - Application Programming , Mainte...   \n",
       "4                         IT Software - QA & Testing   \n",
       "\n",
       "                                Industry                              Role  \\\n",
       "0  Advertising, PR, MR, Event Management  Media Planning Executive/Manager   \n",
       "1         IT-Software, Software Services           Sales Executive/Officer   \n",
       "2                  Recruitment, Staffing                     R&D Executive   \n",
       "3         IT-Software, Software Services        Technical Support Engineer   \n",
       "4         IT-Software, Software Services                  Testing Engineer   \n",
       "\n",
       "  Openings  \n",
       "0      NaN  \n",
       "1      NaN  \n",
       "2      NaN  \n",
       "3      NaN  \n",
       "4      NaN  "
      ]
     },
     "execution_count": 85,
     "metadata": {},
     "output_type": "execute_result"
    }
   ],
   "source": [
    "data.head()"
   ]
  },
  {
   "cell_type": "markdown",
   "metadata": {},
   "source": [
    "##### top 10 locations of companies"
   ]
  },
  {
   "cell_type": "code",
   "execution_count": 86,
   "metadata": {},
   "outputs": [
    {
     "data": {
      "text/plain": [
       "Bengaluru                                                   4986\n",
       "Mumbai                                                      3318\n",
       "Pune                                                        2431\n",
       "Hyderabad                                                   2144\n",
       "Gurgaon                                                     1715\n",
       "                                                            ... \n",
       "Delhi NCR,Australia,United States (U.S),Himachal Pradesh       1\n",
       " Pune, Vadodara                                                1\n",
       "Delhi NCR,Delhi,Gurgaon,Faridabad                              1\n",
       "Faridabad,Delhi NCR                                            1\n",
       "Chandigarh,Gurgaon,haryana                                     1\n",
       "Name: Location, Length: 2573, dtype: int64"
      ]
     },
     "execution_count": 86,
     "metadata": {},
     "output_type": "execute_result"
    }
   ],
   "source": [
    "data['Location'].value_counts()"
   ]
  },
  {
   "cell_type": "code",
   "execution_count": 103,
   "metadata": {},
   "outputs": [
    {
     "data": {
      "text/plain": [
       "0       NaN\n",
       "1       NaN\n",
       "2       NaN\n",
       "3       NaN\n",
       "4       NaN\n",
       "         ..\n",
       "29995   NaN\n",
       "29996   NaN\n",
       "29997   NaN\n",
       "29998   NaN\n",
       "29999   NaN\n",
       "Name: Location, Length: 30000, dtype: float64"
      ]
     },
     "execution_count": 103,
     "metadata": {},
     "output_type": "execute_result"
    }
   ],
   "source": [
    "location = []\n",
    "data['Location'].str.split(\",\").apply(lambda x:location.extend(x) if type(x) != float else x)"
   ]
  },
  {
   "cell_type": "code",
   "execution_count": 104,
   "metadata": {},
   "outputs": [
    {
     "data": {
      "text/plain": [
       "39578"
      ]
     },
     "execution_count": 104,
     "metadata": {},
     "output_type": "execute_result"
    }
   ],
   "source": [
    "len(location)"
   ]
  },
  {
   "cell_type": "code",
   "execution_count": 97,
   "metadata": {},
   "outputs": [],
   "source": [
    "location = list(map(lambda x: x.strip().lower(), location))"
   ]
  },
  {
   "cell_type": "code",
   "execution_count": 102,
   "metadata": {},
   "outputs": [],
   "source": [
    "location_ser = pd.Series(location)"
   ]
  },
  {
   "cell_type": "code",
   "execution_count": null,
   "metadata": {},
   "outputs": [],
   "source": [
    "location.split()"
   ]
  },
  {
   "cell_type": "code",
   "execution_count": 99,
   "metadata": {},
   "outputs": [
    {
     "data": {
      "text/plain": [
       "<AxesSubplot:>"
      ]
     },
     "execution_count": 99,
     "metadata": {},
     "output_type": "execute_result"
    },
    {
     "data": {
      "image/png": "[encoded data removed]",
      "text/plain": [
       "<Figure size 1100x500 with 1 Axes>"
      ]
     },
     "metadata": {
      "needs_background": "light"
     },
     "output_type": "display_data"
    }
   ],
   "source": [
    "pd.Series(location).value_counts()[:20].plot(kind=\"bar\")"
   ]
  },
  {
   "cell_type": "code",
   "execution_count": 110,
   "metadata": {},
   "outputs": [],
   "source": [
    "location = []\n",
    "def change(x):\n",
    "    location.extend(\" \".join(x.split(\",\")).split())"
   ]
  },
  {
   "cell_type": "code",
   "execution_count": 111,
   "metadata": {},
   "outputs": [
    {
     "data": {
      "text/plain": [
       "0       NaN\n",
       "1       NaN\n",
       "2       NaN\n",
       "3       NaN\n",
       "4       NaN\n",
       "         ..\n",
       "29995   NaN\n",
       "29996   NaN\n",
       "29997   NaN\n",
       "29998   NaN\n",
       "29999   NaN\n",
       "Name: Location, Length: 30000, dtype: float64"
      ]
     },
     "execution_count": 111,
     "metadata": {},
     "output_type": "execute_result"
    }
   ],
   "source": [
    "data['Location'].apply(lambda x:change(x) if type(x) != float else x)"
   ]
  },
  {
   "cell_type": "code",
   "execution_count": 112,
   "metadata": {},
   "outputs": [
    {
     "data": {
      "text/plain": [
       "Bengaluru     6926\n",
       "Mumbai        6047\n",
       "Delhi         4022\n",
       "Pune          3502\n",
       "Hyderabad     3273\n",
       "              ... \n",
       "ashoknagar       1\n",
       "Alandi)          1\n",
       "(NIT)            1\n",
       "Sadashiva        1\n",
       "(Ejipura)        1\n",
       "Length: 1172, dtype: int64"
      ]
     },
     "execution_count": 112,
     "metadata": {},
     "output_type": "execute_result"
    }
   ],
   "source": [
    "pd.Series(location).value_counts()"
   ]
  },
  {
   "cell_type": "markdown",
   "metadata": {},
   "source": [
    "#### remove area ()"
   ]
  },
  {
   "cell_type": "code",
   "execution_count": 114,
   "metadata": {},
   "outputs": [
    {
     "data": {
      "text/html": [
       "<div>\n",
       "<style scoped>\n",
       "    .dataframe tbody tr th:only-of-type {\n",
       "        vertical-align: middle;\n",
       "    }\n",
       "\n",
       "    .dataframe tbody tr th {\n",
       "        vertical-align: top;\n",
       "    }\n",
       "\n",
       "    .dataframe thead th {\n",
       "        text-align: right;\n",
       "    }\n",
       "</style>\n",
       "<table border=\"1\" class=\"dataframe\">\n",
       "  <thead>\n",
       "    <tr style=\"text-align: right;\">\n",
       "      <th></th>\n",
       "      <th>Uniq Id</th>\n",
       "      <th>Crawl Timestamp</th>\n",
       "      <th>Job Title</th>\n",
       "      <th>Job Salary</th>\n",
       "      <th>Job Experience Required</th>\n",
       "      <th>Key Skills</th>\n",
       "      <th>Role Category</th>\n",
       "      <th>Location</th>\n",
       "      <th>Functional Area</th>\n",
       "      <th>Industry</th>\n",
       "      <th>Role</th>\n",
       "      <th>Openings</th>\n",
       "    </tr>\n",
       "  </thead>\n",
       "  <tbody>\n",
       "    <tr>\n",
       "      <th>0</th>\n",
       "      <td>9be62c49a0b7ebe982a4af1edaa7bc5f</td>\n",
       "      <td>2019-07-05 01:46:07 +0000</td>\n",
       "      <td>Digital Media Planner</td>\n",
       "      <td>not disclosed by recruiter</td>\n",
       "      <td>5 - 10 yrs</td>\n",
       "      <td>Media Planning| Digital Media</td>\n",
       "      <td>Advertising</td>\n",
       "      <td>Mumbai</td>\n",
       "      <td>Marketing , Advertising , MR , PR , Media Plan...</td>\n",
       "      <td>Advertising, PR, MR, Event Management</td>\n",
       "      <td>Media Planning Executive/Manager</td>\n",
       "      <td>NaN</td>\n",
       "    </tr>\n",
       "    <tr>\n",
       "      <th>1</th>\n",
       "      <td>3c52d436e39f596b22519da2612f6a56</td>\n",
       "      <td>2019-07-06 08:04:50 +0000</td>\n",
       "      <td>Online Bidding Executive</td>\n",
       "      <td>not disclosed by recruiter</td>\n",
       "      <td>2 - 5 yrs</td>\n",
       "      <td>pre sales| closing| software knowledge| clien...</td>\n",
       "      <td>Retail Sales</td>\n",
       "      <td>Pune,Pune</td>\n",
       "      <td>Sales , Retail , Business Development</td>\n",
       "      <td>IT-Software, Software Services</td>\n",
       "      <td>Sales Executive/Officer</td>\n",
       "      <td>NaN</td>\n",
       "    </tr>\n",
       "    <tr>\n",
       "      <th>2</th>\n",
       "      <td>ffad8a2396c60be2bf6d0e2ff47c58d4</td>\n",
       "      <td>2019-08-05 15:50:44 +0000</td>\n",
       "      <td>Trainee Research/ Research Executive- Hi- Tec...</td>\n",
       "      <td>not disclosed by recruiter</td>\n",
       "      <td>0 - 1 yrs</td>\n",
       "      <td>Computer science| Fabrication| Quality check|...</td>\n",
       "      <td>R&amp;D</td>\n",
       "      <td>Gurgaon</td>\n",
       "      <td>Engineering Design , R&amp;D</td>\n",
       "      <td>Recruitment, Staffing</td>\n",
       "      <td>R&amp;D Executive</td>\n",
       "      <td>NaN</td>\n",
       "    </tr>\n",
       "    <tr>\n",
       "      <th>3</th>\n",
       "      <td>7b921f51b5c2fb862b4a5f7a54c37f75</td>\n",
       "      <td>2019-08-05 15:31:56 +0000</td>\n",
       "      <td>Technical Support</td>\n",
       "      <td>2,00,000 - 4,00,000 pa.</td>\n",
       "      <td>0 - 5 yrs</td>\n",
       "      <td>Technical Support</td>\n",
       "      <td>Admin/Maintenance/Security/Datawarehousing</td>\n",
       "      <td>Mumbai</td>\n",
       "      <td>IT Software - Application Programming , Mainte...</td>\n",
       "      <td>IT-Software, Software Services</td>\n",
       "      <td>Technical Support Engineer</td>\n",
       "      <td>NaN</td>\n",
       "    </tr>\n",
       "    <tr>\n",
       "      <th>4</th>\n",
       "      <td>2d8b7d44e138a54d5dc841163138de50</td>\n",
       "      <td>2019-07-05 02:48:29 +0000</td>\n",
       "      <td>Software Test Engineer -hyderabad</td>\n",
       "      <td>not disclosed by recruiter</td>\n",
       "      <td>2 - 5 yrs</td>\n",
       "      <td>manual testing| test engineering| test cases|...</td>\n",
       "      <td>Programming &amp; Design</td>\n",
       "      <td>Hyderabad</td>\n",
       "      <td>IT Software - QA &amp; Testing</td>\n",
       "      <td>IT-Software, Software Services</td>\n",
       "      <td>Testing Engineer</td>\n",
       "      <td>NaN</td>\n",
       "    </tr>\n",
       "  </tbody>\n",
       "</table>\n",
       "</div>"
      ],
      "text/plain": [
       "                            Uniq Id            Crawl Timestamp  \\\n",
       "0  9be62c49a0b7ebe982a4af1edaa7bc5f  2019-07-05 01:46:07 +0000   \n",
       "1  3c52d436e39f596b22519da2612f6a56  2019-07-06 08:04:50 +0000   \n",
       "2  ffad8a2396c60be2bf6d0e2ff47c58d4  2019-08-05 15:50:44 +0000   \n",
       "3  7b921f51b5c2fb862b4a5f7a54c37f75  2019-08-05 15:31:56 +0000   \n",
       "4  2d8b7d44e138a54d5dc841163138de50  2019-07-05 02:48:29 +0000   \n",
       "\n",
       "                                           Job Title  \\\n",
       "0                              Digital Media Planner   \n",
       "1                           Online Bidding Executive   \n",
       "2   Trainee Research/ Research Executive- Hi- Tec...   \n",
       "3                                  Technical Support   \n",
       "4                  Software Test Engineer -hyderabad   \n",
       "\n",
       "                   Job Salary Job Experience Required  \\\n",
       "0  not disclosed by recruiter              5 - 10 yrs   \n",
       "1  not disclosed by recruiter               2 - 5 yrs   \n",
       "2  not disclosed by recruiter               0 - 1 yrs   \n",
       "3     2,00,000 - 4,00,000 pa.               0 - 5 yrs   \n",
       "4  not disclosed by recruiter               2 - 5 yrs   \n",
       "\n",
       "                                          Key Skills  \\\n",
       "0                      Media Planning| Digital Media   \n",
       "1   pre sales| closing| software knowledge| clien...   \n",
       "2   Computer science| Fabrication| Quality check|...   \n",
       "3                                  Technical Support   \n",
       "4   manual testing| test engineering| test cases|...   \n",
       "\n",
       "                                Role Category   Location  \\\n",
       "0                                 Advertising     Mumbai   \n",
       "1                                Retail Sales  Pune,Pune   \n",
       "2                                         R&D    Gurgaon   \n",
       "3  Admin/Maintenance/Security/Datawarehousing     Mumbai   \n",
       "4                        Programming & Design  Hyderabad   \n",
       "\n",
       "                                     Functional Area  \\\n",
       "0  Marketing , Advertising , MR , PR , Media Plan...   \n",
       "1              Sales , Retail , Business Development   \n",
       "2                           Engineering Design , R&D   \n",
       "3  IT Software - Application Programming , Mainte...   \n",
       "4                         IT Software - QA & Testing   \n",
       "\n",
       "                                Industry                              Role  \\\n",
       "0  Advertising, PR, MR, Event Management  Media Planning Executive/Manager   \n",
       "1         IT-Software, Software Services           Sales Executive/Officer   \n",
       "2                  Recruitment, Staffing                     R&D Executive   \n",
       "3         IT-Software, Software Services        Technical Support Engineer   \n",
       "4         IT-Software, Software Services                  Testing Engineer   \n",
       "\n",
       "  Openings  \n",
       "0      NaN  \n",
       "1      NaN  \n",
       "2      NaN  \n",
       "3      NaN  \n",
       "4      NaN  "
      ]
     },
     "execution_count": 114,
     "metadata": {},
     "output_type": "execute_result"
    }
   ],
   "source": [
    "data.head()"
   ]
  },
  {
   "cell_type": "markdown",
   "metadata": {},
   "source": [
    "##### plot top 10 role category"
   ]
  },
  {
   "cell_type": "code",
   "execution_count": 115,
   "metadata": {},
   "outputs": [],
   "source": [
    "data.to_csv(\"cleaned.csv\")"
   ]
  },
  {
   "cell_type": "code",
   "execution_count": 121,
   "metadata": {},
   "outputs": [
    {
     "data": {
      "text/plain": [
       "not disclosed by recruiter                        20761\n",
       "2,00,000 - 4,00,000 pa.                             202\n",
       "2,00,000 - 3,00,000 pa.                             188\n",
       "3,00,000 - 5,00,000 pa.                             152\n",
       "50,000 - 3,00,000 pa.                               132\n",
       "                                                  ...  \n",
       "including pf, esi, insurance, professional tax        1\n",
       "20,00,000 - 22,50,000 pa.                             1\n",
       "6,00,000 - 6,50,000 pa.                               1\n",
       "bonus, reimbursements                                 1\n",
       "fixed + incentives + reimbursement                    1\n",
       "Name: Job Salary, Length: 886, dtype: int64"
      ]
     },
     "execution_count": 121,
     "metadata": {},
     "output_type": "execute_result"
    }
   ],
   "source": [
    "data['Job Salary'].value_counts()"
   ]
  },
  {
   "cell_type": "code",
   "execution_count": 122,
   "metadata": {},
   "outputs": [
    {
     "data": {
      "text/plain": [
       "* â‚¹2 lacs/year professional development budget for conferences, books, certifications etc. * superior medical coverage for you and your immediate family. * flexible work from home policy.    1\n",
       "one of best in industry                                                                                                                                                                          1\n",
       "lucrative incentives , commission etc                                                                                                                                                            1\n",
       "no constriant for right candidates.                                                                                                                                                              1\n",
       "rs. 1.50 lakh/ month                                                                                                                                                                             1\n",
       "chennai, salem, vellore, tirunelveli. whatsapp@ 09789004777, call - 9840040143                                                                                                                   1\n",
       "70,000 pa.                                                                                                                                                                                       1\n",
       "3,75,000 - 4,00,000 pa.                                                                                                                                                                          1\n",
       "up to  7,50,000                                                                                                                                                                                  1\n",
       "no salary bar for right candidate                                                                                                                                                                1\n",
       "1,00,000 - 3,00,000 pa. +incentives                                                                                                                                                              1\n",
       "attractive bonus                                                                                                                                                                                 1\n",
       "one side cab + monthly                                                                                                                                                                           1\n",
       "best in the industry !                                                                                                                                                                           1\n",
       "management bonus as applicable to the position                                                                                                                                                   1\n",
       "60000-3%-180000/-                                                                                                                                                                                1\n",
       "27,50,000 pa.                                                                                                                                                                                    1\n",
       "extra rewards & performance based income                                                                                                                                                         1\n",
       "6,00,000 - 10,00,000 pa. perks and incentives,reimburse...                                                                                                                                       1\n",
       "at par with industry standards                                                                                                                                                                   1\n",
       "comparable to best in the industry                                                                                                                                                               1\n",
       "best of industries.                                                                                                                                                                              1\n",
       "sharing basis                                                                                                                                                                                    1\n",
       "as per market norms                                                                                                                                                                              1\n",
       "daily working allowance as applicable. salary not a constraint for the right candidate.                                                                                                          1\n",
       "2,50,000 - 4,00,000 pa. relocation bonus(upto 10,000) +...                                                                                                                                       1\n",
       "salary will depend on the candiate as it isa trainee position                                                                                                                                    1\n",
       "salary is not a constraint                                                                                                                                                                       1\n",
       "22,50,000 - 35,00,000 pa.                                                                                                                                                                        1\n",
       "handsome salary + unlimited incentive                                                                                                                                                            1\n",
       "60,000 - 80,000 pa.                                                                                                                                                                              1\n",
       "37400-67000 with agp rs. 10000 (pre-revised);                                                                                                                                                    1\n",
       "salary will be depends on experience & position                                                                                                                                                  1\n",
       "benefits as per co's norms                                                                                                                                                                       1\n",
       "90,000 - 2,50,000 pa.                                                                                                                                                                            1\n",
       "best in the industry , incentive, conveyance, medical..                                                                                                                                          1\n",
       "Name: Job Salary, dtype: int64"
      ]
     },
     "execution_count": 122,
     "metadata": {},
     "output_type": "execute_result"
    }
   ],
   "source": [
    "data['Job Salary'].value_counts()[800:836]"
   ]
  },
  {
   "cell_type": "code",
   "execution_count": 56,
   "metadata": {},
   "outputs": [],
   "source": [
    "data = pd.read_csv(\"cleaned.csv\", index_col=0)"
   ]
  },
  {
   "cell_type": "code",
   "execution_count": 57,
   "metadata": {},
   "outputs": [
    {
     "data": {
      "text/html": [
       "<div>\n",
       "<style scoped>\n",
       "    .dataframe tbody tr th:only-of-type {\n",
       "        vertical-align: middle;\n",
       "    }\n",
       "\n",
       "    .dataframe tbody tr th {\n",
       "        vertical-align: top;\n",
       "    }\n",
       "\n",
       "    .dataframe thead th {\n",
       "        text-align: right;\n",
       "    }\n",
       "</style>\n",
       "<table border=\"1\" class=\"dataframe\">\n",
       "  <thead>\n",
       "    <tr style=\"text-align: right;\">\n",
       "      <th></th>\n",
       "      <th>Uniq Id</th>\n",
       "      <th>Crawl Timestamp</th>\n",
       "      <th>Job Title</th>\n",
       "      <th>Job Salary</th>\n",
       "      <th>Job Experience Required</th>\n",
       "      <th>Key Skills</th>\n",
       "      <th>Role Category</th>\n",
       "      <th>Location</th>\n",
       "      <th>Functional Area</th>\n",
       "      <th>Industry</th>\n",
       "      <th>Role</th>\n",
       "      <th>Openings</th>\n",
       "    </tr>\n",
       "  </thead>\n",
       "  <tbody>\n",
       "    <tr>\n",
       "      <th>0</th>\n",
       "      <td>9be62c49a0b7ebe982a4af1edaa7bc5f</td>\n",
       "      <td>2019-07-05 01:46:07 +0000</td>\n",
       "      <td>Digital Media Planner</td>\n",
       "      <td>not disclosed by recruiter</td>\n",
       "      <td>5 - 10 yrs</td>\n",
       "      <td>Media Planning| Digital Media</td>\n",
       "      <td>Advertising</td>\n",
       "      <td>Mumbai</td>\n",
       "      <td>Marketing , Advertising , MR , PR , Media Plan...</td>\n",
       "      <td>Advertising, PR, MR, Event Management</td>\n",
       "      <td>Media Planning Executive/Manager</td>\n",
       "      <td>NaN</td>\n",
       "    </tr>\n",
       "    <tr>\n",
       "      <th>1</th>\n",
       "      <td>3c52d436e39f596b22519da2612f6a56</td>\n",
       "      <td>2019-07-06 08:04:50 +0000</td>\n",
       "      <td>Online Bidding Executive</td>\n",
       "      <td>not disclosed by recruiter</td>\n",
       "      <td>2 - 5 yrs</td>\n",
       "      <td>pre sales| closing| software knowledge| clien...</td>\n",
       "      <td>Retail Sales</td>\n",
       "      <td>Pune,Pune</td>\n",
       "      <td>Sales , Retail , Business Development</td>\n",
       "      <td>IT-Software, Software Services</td>\n",
       "      <td>Sales Executive/Officer</td>\n",
       "      <td>NaN</td>\n",
       "    </tr>\n",
       "    <tr>\n",
       "      <th>2</th>\n",
       "      <td>ffad8a2396c60be2bf6d0e2ff47c58d4</td>\n",
       "      <td>2019-08-05 15:50:44 +0000</td>\n",
       "      <td>Trainee Research/ Research Executive- Hi- Tec...</td>\n",
       "      <td>not disclosed by recruiter</td>\n",
       "      <td>0 - 1 yrs</td>\n",
       "      <td>Computer science| Fabrication| Quality check|...</td>\n",
       "      <td>R&amp;D</td>\n",
       "      <td>Gurgaon</td>\n",
       "      <td>Engineering Design , R&amp;D</td>\n",
       "      <td>Recruitment, Staffing</td>\n",
       "      <td>R&amp;D Executive</td>\n",
       "      <td>NaN</td>\n",
       "    </tr>\n",
       "    <tr>\n",
       "      <th>3</th>\n",
       "      <td>7b921f51b5c2fb862b4a5f7a54c37f75</td>\n",
       "      <td>2019-08-05 15:31:56 +0000</td>\n",
       "      <td>Technical Support</td>\n",
       "      <td>2,00,000 - 4,00,000 pa.</td>\n",
       "      <td>0 - 5 yrs</td>\n",
       "      <td>Technical Support</td>\n",
       "      <td>Admin/Maintenance/Security/Datawarehousing</td>\n",
       "      <td>Mumbai</td>\n",
       "      <td>IT Software - Application Programming , Mainte...</td>\n",
       "      <td>IT-Software, Software Services</td>\n",
       "      <td>Technical Support Engineer</td>\n",
       "      <td>NaN</td>\n",
       "    </tr>\n",
       "    <tr>\n",
       "      <th>4</th>\n",
       "      <td>2d8b7d44e138a54d5dc841163138de50</td>\n",
       "      <td>2019-07-05 02:48:29 +0000</td>\n",
       "      <td>Software Test Engineer -hyderabad</td>\n",
       "      <td>not disclosed by recruiter</td>\n",
       "      <td>2 - 5 yrs</td>\n",
       "      <td>manual testing| test engineering| test cases|...</td>\n",
       "      <td>Programming &amp; Design</td>\n",
       "      <td>Hyderabad</td>\n",
       "      <td>IT Software - QA &amp; Testing</td>\n",
       "      <td>IT-Software, Software Services</td>\n",
       "      <td>Testing Engineer</td>\n",
       "      <td>NaN</td>\n",
       "    </tr>\n",
       "    <tr>\n",
       "      <th>...</th>\n",
       "      <td>...</td>\n",
       "      <td>...</td>\n",
       "      <td>...</td>\n",
       "      <td>...</td>\n",
       "      <td>...</td>\n",
       "      <td>...</td>\n",
       "      <td>...</td>\n",
       "      <td>...</td>\n",
       "      <td>...</td>\n",
       "      <td>...</td>\n",
       "      <td>...</td>\n",
       "      <td>...</td>\n",
       "    </tr>\n",
       "    <tr>\n",
       "      <th>29995</th>\n",
       "      <td>3510f2146b514f112eaa9706a16b3900</td>\n",
       "      <td>2019-07-06 21:12:51 +0000</td>\n",
       "      <td>MTS-Software-Engineer</td>\n",
       "      <td>not disclosed by recruiter</td>\n",
       "      <td>9 - 12 yrs</td>\n",
       "      <td>Graphics| C++| USB| Project management| SOC| ...</td>\n",
       "      <td>Programming &amp; Design</td>\n",
       "      <td>Bengaluru</td>\n",
       "      <td>IT Software - Embedded , EDA , VLSI , ASIC , C...</td>\n",
       "      <td>Semiconductors, Electronics</td>\n",
       "      <td>Software Developer</td>\n",
       "      <td>NaN</td>\n",
       "    </tr>\n",
       "    <tr>\n",
       "      <th>29996</th>\n",
       "      <td>4af8c56f5b4c535b1974065003f2d548</td>\n",
       "      <td>2019-08-05 23:55:08 +0000</td>\n",
       "      <td>Client Relationship Manager</td>\n",
       "      <td>not disclosed by recruiter</td>\n",
       "      <td>1 - 5 yrs</td>\n",
       "      <td>Service delivery| LMS| CRE| Integration servi...</td>\n",
       "      <td>Operations</td>\n",
       "      <td>Chennai</td>\n",
       "      <td>ITES , BPO , KPO , LPO , Customer Service , Op...</td>\n",
       "      <td>Education, Teaching, Training</td>\n",
       "      <td>Operations Manager</td>\n",
       "      <td>NaN</td>\n",
       "    </tr>\n",
       "    <tr>\n",
       "      <th>29997</th>\n",
       "      <td>43d5b806b26ed99d3ebfc8f366b4cdd1</td>\n",
       "      <td>2019-08-05 09:41:29 +0000</td>\n",
       "      <td>Assoc. Prof.- CS</td>\n",
       "      <td>not disclosed by recruiter</td>\n",
       "      <td>4 - 6 yrs</td>\n",
       "      <td>Counselor| Mentor| Trainer| Advisor| Teaching</td>\n",
       "      <td>University Level</td>\n",
       "      <td>Howrah</td>\n",
       "      <td>Teaching , Education , Training , Counselling</td>\n",
       "      <td>Education, Teaching, Training</td>\n",
       "      <td>Lecturer/Professor</td>\n",
       "      <td>NaN</td>\n",
       "    </tr>\n",
       "    <tr>\n",
       "      <th>29998</th>\n",
       "      <td>8bc87d14cf56564f16b6d4bae80180be</td>\n",
       "      <td>2019-08-06 01:44:55 +0000</td>\n",
       "      <td>Application/Cyber Security Specialist-Pune</td>\n",
       "      <td>not disclosed by recruiter</td>\n",
       "      <td>5 - 10 yrs</td>\n",
       "      <td>Security Analysis| Software Development Life ...</td>\n",
       "      <td>Programming &amp; Design</td>\n",
       "      <td>Pune</td>\n",
       "      <td>IT Software - Application Programming , Mainte...</td>\n",
       "      <td>IT-Software, Software Services</td>\n",
       "      <td>Software Developer</td>\n",
       "      <td>NaN</td>\n",
       "    </tr>\n",
       "    <tr>\n",
       "      <th>29999</th>\n",
       "      <td>9c7045d111814a6f39fe461eab2b0bf8</td>\n",
       "      <td>2019-07-06 22:24:55 +0000</td>\n",
       "      <td>Press Release Writer - SEO</td>\n",
       "      <td>not disclosed by recruiter</td>\n",
       "      <td>2 - 7 yrs</td>\n",
       "      <td>Press release| Public relations| Publishing| ...</td>\n",
       "      <td>Online/Digital Marketing</td>\n",
       "      <td>Bengaluru</td>\n",
       "      <td>Marketing , Advertising , MR , PR , Media Plan...</td>\n",
       "      <td>IT-Software, Software Services</td>\n",
       "      <td>Search Engine Optimisation /SEO Specialist</td>\n",
       "      <td>NaN</td>\n",
       "    </tr>\n",
       "  </tbody>\n",
       "</table>\n",
       "<p>30000 rows × 12 columns</p>\n",
       "</div>"
      ],
      "text/plain": [
       "                                Uniq Id            Crawl Timestamp  \\\n",
       "0      9be62c49a0b7ebe982a4af1edaa7bc5f  2019-07-05 01:46:07 +0000   \n",
       "1      3c52d436e39f596b22519da2612f6a56  2019-07-06 08:04:50 +0000   \n",
       "2      ffad8a2396c60be2bf6d0e2ff47c58d4  2019-08-05 15:50:44 +0000   \n",
       "3      7b921f51b5c2fb862b4a5f7a54c37f75  2019-08-05 15:31:56 +0000   \n",
       "4      2d8b7d44e138a54d5dc841163138de50  2019-07-05 02:48:29 +0000   \n",
       "...                                 ...                        ...   \n",
       "29995  3510f2146b514f112eaa9706a16b3900  2019-07-06 21:12:51 +0000   \n",
       "29996  4af8c56f5b4c535b1974065003f2d548  2019-08-05 23:55:08 +0000   \n",
       "29997  43d5b806b26ed99d3ebfc8f366b4cdd1  2019-08-05 09:41:29 +0000   \n",
       "29998  8bc87d14cf56564f16b6d4bae80180be  2019-08-06 01:44:55 +0000   \n",
       "29999  9c7045d111814a6f39fe461eab2b0bf8  2019-07-06 22:24:55 +0000   \n",
       "\n",
       "                                               Job Title  \\\n",
       "0                                  Digital Media Planner   \n",
       "1                               Online Bidding Executive   \n",
       "2       Trainee Research/ Research Executive- Hi- Tec...   \n",
       "3                                      Technical Support   \n",
       "4                      Software Test Engineer -hyderabad   \n",
       "...                                                  ...   \n",
       "29995                              MTS-Software-Engineer   \n",
       "29996                        Client Relationship Manager   \n",
       "29997                                   Assoc. Prof.- CS   \n",
       "29998         Application/Cyber Security Specialist-Pune   \n",
       "29999                         Press Release Writer - SEO   \n",
       "\n",
       "                       Job Salary Job Experience Required  \\\n",
       "0      not disclosed by recruiter              5 - 10 yrs   \n",
       "1      not disclosed by recruiter               2 - 5 yrs   \n",
       "2      not disclosed by recruiter               0 - 1 yrs   \n",
       "3         2,00,000 - 4,00,000 pa.               0 - 5 yrs   \n",
       "4      not disclosed by recruiter               2 - 5 yrs   \n",
       "...                           ...                     ...   \n",
       "29995  not disclosed by recruiter              9 - 12 yrs   \n",
       "29996  not disclosed by recruiter               1 - 5 yrs   \n",
       "29997  not disclosed by recruiter               4 - 6 yrs   \n",
       "29998  not disclosed by recruiter              5 - 10 yrs   \n",
       "29999  not disclosed by recruiter               2 - 7 yrs   \n",
       "\n",
       "                                              Key Skills  \\\n",
       "0                          Media Planning| Digital Media   \n",
       "1       pre sales| closing| software knowledge| clien...   \n",
       "2       Computer science| Fabrication| Quality check|...   \n",
       "3                                      Technical Support   \n",
       "4       manual testing| test engineering| test cases|...   \n",
       "...                                                  ...   \n",
       "29995   Graphics| C++| USB| Project management| SOC| ...   \n",
       "29996   Service delivery| LMS| CRE| Integration servi...   \n",
       "29997      Counselor| Mentor| Trainer| Advisor| Teaching   \n",
       "29998   Security Analysis| Software Development Life ...   \n",
       "29999   Press release| Public relations| Publishing| ...   \n",
       "\n",
       "                                    Role Category   Location  \\\n",
       "0                                     Advertising     Mumbai   \n",
       "1                                    Retail Sales  Pune,Pune   \n",
       "2                                             R&D    Gurgaon   \n",
       "3      Admin/Maintenance/Security/Datawarehousing     Mumbai   \n",
       "4                            Programming & Design  Hyderabad   \n",
       "...                                           ...        ...   \n",
       "29995                        Programming & Design  Bengaluru   \n",
       "29996                                  Operations    Chennai   \n",
       "29997                            University Level     Howrah   \n",
       "29998                        Programming & Design       Pune   \n",
       "29999                    Online/Digital Marketing  Bengaluru   \n",
       "\n",
       "                                         Functional Area  \\\n",
       "0      Marketing , Advertising , MR , PR , Media Plan...   \n",
       "1                  Sales , Retail , Business Development   \n",
       "2                               Engineering Design , R&D   \n",
       "3      IT Software - Application Programming , Mainte...   \n",
       "4                             IT Software - QA & Testing   \n",
       "...                                                  ...   \n",
       "29995  IT Software - Embedded , EDA , VLSI , ASIC , C...   \n",
       "29996  ITES , BPO , KPO , LPO , Customer Service , Op...   \n",
       "29997      Teaching , Education , Training , Counselling   \n",
       "29998  IT Software - Application Programming , Mainte...   \n",
       "29999  Marketing , Advertising , MR , PR , Media Plan...   \n",
       "\n",
       "                                    Industry  \\\n",
       "0      Advertising, PR, MR, Event Management   \n",
       "1             IT-Software, Software Services   \n",
       "2                      Recruitment, Staffing   \n",
       "3             IT-Software, Software Services   \n",
       "4             IT-Software, Software Services   \n",
       "...                                      ...   \n",
       "29995            Semiconductors, Electronics   \n",
       "29996          Education, Teaching, Training   \n",
       "29997          Education, Teaching, Training   \n",
       "29998         IT-Software, Software Services   \n",
       "29999         IT-Software, Software Services   \n",
       "\n",
       "                                             Role  Openings  \n",
       "0                Media Planning Executive/Manager       NaN  \n",
       "1                         Sales Executive/Officer       NaN  \n",
       "2                                   R&D Executive       NaN  \n",
       "3                      Technical Support Engineer       NaN  \n",
       "4                                Testing Engineer       NaN  \n",
       "...                                           ...       ...  \n",
       "29995                          Software Developer       NaN  \n",
       "29996                          Operations Manager       NaN  \n",
       "29997                          Lecturer/Professor       NaN  \n",
       "29998                          Software Developer       NaN  \n",
       "29999  Search Engine Optimisation /SEO Specialist       NaN  \n",
       "\n",
       "[30000 rows x 12 columns]"
      ]
     },
     "execution_count": 57,
     "metadata": {},
     "output_type": "execute_result"
    }
   ],
   "source": [
    "data"
   ]
  },
  {
   "cell_type": "code",
   "execution_count": 20,
   "metadata": {},
   "outputs": [],
   "source": [
    "location = []\n",
    "def change(x):\n",
    "    l = \" \".join(x.split(\",\"))\n",
    "    if \"(\" in l:\n",
    "        i = l.index(\"(\")\n",
    "        l = l[:i]\n",
    "    if \"-\" in l:\n",
    "        i = l.index(\"-\")\n",
    "        l = l[:i]\n",
    "    location.extend(l.split())"
   ]
  },
  {
   "cell_type": "code",
   "execution_count": 21,
   "metadata": {},
   "outputs": [
    {
     "data": {
      "text/plain": [
       "0       NaN\n",
       "1       NaN\n",
       "2       NaN\n",
       "3       NaN\n",
       "4       NaN\n",
       "         ..\n",
       "29995   NaN\n",
       "29996   NaN\n",
       "29997   NaN\n",
       "29998   NaN\n",
       "29999   NaN\n",
       "Name: Location, Length: 30000, dtype: float64"
      ]
     },
     "execution_count": 21,
     "metadata": {},
     "output_type": "execute_result"
    }
   ],
   "source": [
    "temp['Location'].apply(lambda x:change(x) if type(x) != float else np.nan)"
   ]
  },
  {
   "cell_type": "code",
   "execution_count": 22,
   "metadata": {},
   "outputs": [
    {
     "data": {
      "text/plain": [
       "<AxesSubplot:>"
      ]
     },
     "execution_count": 22,
     "metadata": {},
     "output_type": "execute_result"
    },
    {
     "data": {
      "image/png": "[encoded data removed]",
      "text/plain": [
       "<Figure size 1100x500 with 1 Axes>"
      ]
     },
     "metadata": {
      "needs_background": "light"
     },
     "output_type": "display_data"
    }
   ],
   "source": [
    "pd.Series(location).value_counts()[:20].plot(kind=\"bar\")"
   ]
  },
  {
   "cell_type": "code",
   "execution_count": 32,
   "metadata": {},
   "outputs": [],
   "source": [
    "role_cat = []\n",
    "temp['Role Category'].apply(lambda x:role_cat.extend(str(x).lower().strip().split(\"/\")) if type(x) == str else x)\n",
    "\n",
    "role_cat=list(map(lambda x: x.strip(), role_cat))"
   ]
  },
  {
   "cell_type": "code",
   "execution_count": 33,
   "metadata": {},
   "outputs": [
    {
     "data": {
      "text/plain": [
       "<AxesSubplot:>"
      ]
     },
     "execution_count": 33,
     "metadata": {},
     "output_type": "execute_result"
    },
    {
     "data": {
      "image/png": "[encoded data removed]",
      "text/plain": [
       "<Figure size 1100x500 with 1 Axes>"
      ]
     },
     "metadata": {
      "needs_background": "light"
     },
     "output_type": "display_data"
    }
   ],
   "source": [
    "pd.Series(role_cat).value_counts()[:20].plot(kind=\"bar\")"
   ]
  },
  {
   "cell_type": "code",
   "execution_count": 24,
   "metadata": {},
   "outputs": [],
   "source": [
    "pick = pd.read_pickle(\"send\")"
   ]
  },
  {
   "cell_type": "code",
   "execution_count": 26,
   "metadata": {},
   "outputs": [
    {
     "data": {
      "text/plain": [
       "<AxesSubplot:>"
      ]
     },
     "execution_count": 26,
     "metadata": {},
     "output_type": "execute_result"
    },
    {
     "data": {
      "image/png": "[encoded data removed]",
      "text/plain": [
       "<Figure size 1100x500 with 1 Axes>"
      ]
     },
     "metadata": {
      "needs_background": "light"
     },
     "output_type": "display_data"
    }
   ],
   "source": [
    "pd.Series(pick).value_counts()[:20].plot(kind=\"bar\")"
   ]
  },
  {
   "cell_type": "code",
   "execution_count": 27,
   "metadata": {},
   "outputs": [
    {
     "data": {
      "text/html": [
       "<div>\n",
       "<style scoped>\n",
       "    .dataframe tbody tr th:only-of-type {\n",
       "        vertical-align: middle;\n",
       "    }\n",
       "\n",
       "    .dataframe tbody tr th {\n",
       "        vertical-align: top;\n",
       "    }\n",
       "\n",
       "    .dataframe thead th {\n",
       "        text-align: right;\n",
       "    }\n",
       "</style>\n",
       "<table border=\"1\" class=\"dataframe\">\n",
       "  <thead>\n",
       "    <tr style=\"text-align: right;\">\n",
       "      <th></th>\n",
       "      <th>Uniq Id</th>\n",
       "      <th>Crawl Timestamp</th>\n",
       "      <th>Job Title</th>\n",
       "      <th>Job Salary</th>\n",
       "      <th>Job Experience Required</th>\n",
       "      <th>Key Skills</th>\n",
       "      <th>Role Category</th>\n",
       "      <th>Location</th>\n",
       "      <th>Functional Area</th>\n",
       "      <th>Industry</th>\n",
       "      <th>Role</th>\n",
       "    </tr>\n",
       "  </thead>\n",
       "  <tbody>\n",
       "    <tr>\n",
       "      <th>0</th>\n",
       "      <td>9be62c49a0b7ebe982a4af1edaa7bc5f</td>\n",
       "      <td>2019-07-05 01:46:07 +0000</td>\n",
       "      <td>Digital Media Planner</td>\n",
       "      <td>Not Disclosed by Recruiter</td>\n",
       "      <td>5 - 10 yrs</td>\n",
       "      <td>Media Planning| Digital Media</td>\n",
       "      <td>Advertising</td>\n",
       "      <td>Mumbai</td>\n",
       "      <td>Marketing , Advertising , MR , PR , Media Plan...</td>\n",
       "      <td>Advertising, PR, MR, Event Management</td>\n",
       "      <td>Media Planning Executive/Manager</td>\n",
       "    </tr>\n",
       "    <tr>\n",
       "      <th>1</th>\n",
       "      <td>3c52d436e39f596b22519da2612f6a56</td>\n",
       "      <td>2019-07-06 08:04:50 +0000</td>\n",
       "      <td>Online Bidding Executive</td>\n",
       "      <td>Not Disclosed by Recruiter</td>\n",
       "      <td>2 - 5 yrs</td>\n",
       "      <td>pre sales| closing| software knowledge| clien...</td>\n",
       "      <td>Retail Sales</td>\n",
       "      <td>Pune,Pune</td>\n",
       "      <td>Sales , Retail , Business Development</td>\n",
       "      <td>IT-Software, Software Services</td>\n",
       "      <td>Sales Executive/Officer</td>\n",
       "    </tr>\n",
       "    <tr>\n",
       "      <th>2</th>\n",
       "      <td>ffad8a2396c60be2bf6d0e2ff47c58d4</td>\n",
       "      <td>2019-08-05 15:50:44 +0000</td>\n",
       "      <td>Trainee Research/ Research Executive- Hi- Tec...</td>\n",
       "      <td>Not Disclosed by Recruiter</td>\n",
       "      <td>0 - 1 yrs</td>\n",
       "      <td>Computer science| Fabrication| Quality check|...</td>\n",
       "      <td>R&amp;D</td>\n",
       "      <td>Gurgaon</td>\n",
       "      <td>Engineering Design , R&amp;D</td>\n",
       "      <td>Recruitment, Staffing</td>\n",
       "      <td>R&amp;D Executive</td>\n",
       "    </tr>\n",
       "    <tr>\n",
       "      <th>3</th>\n",
       "      <td>7b921f51b5c2fb862b4a5f7a54c37f75</td>\n",
       "      <td>2019-08-05 15:31:56 +0000</td>\n",
       "      <td>Technical Support</td>\n",
       "      <td>2,00,000 - 4,00,000 PA.</td>\n",
       "      <td>0 - 5 yrs</td>\n",
       "      <td>Technical Support</td>\n",
       "      <td>Admin/Maintenance/Security/Datawarehousing</td>\n",
       "      <td>Mumbai</td>\n",
       "      <td>IT Software - Application Programming , Mainte...</td>\n",
       "      <td>IT-Software, Software Services</td>\n",
       "      <td>Technical Support Engineer</td>\n",
       "    </tr>\n",
       "    <tr>\n",
       "      <th>4</th>\n",
       "      <td>2d8b7d44e138a54d5dc841163138de50</td>\n",
       "      <td>2019-07-05 02:48:29 +0000</td>\n",
       "      <td>Software Test Engineer -hyderabad</td>\n",
       "      <td>Not Disclosed by Recruiter</td>\n",
       "      <td>2 - 5 yrs</td>\n",
       "      <td>manual testing| test engineering| test cases|...</td>\n",
       "      <td>Programming &amp; Design</td>\n",
       "      <td>Hyderabad</td>\n",
       "      <td>IT Software - QA &amp; Testing</td>\n",
       "      <td>IT-Software, Software Services</td>\n",
       "      <td>Testing Engineer</td>\n",
       "    </tr>\n",
       "  </tbody>\n",
       "</table>\n",
       "</div>"
      ],
      "text/plain": [
       "                            Uniq Id            Crawl Timestamp  \\\n",
       "0  9be62c49a0b7ebe982a4af1edaa7bc5f  2019-07-05 01:46:07 +0000   \n",
       "1  3c52d436e39f596b22519da2612f6a56  2019-07-06 08:04:50 +0000   \n",
       "2  ffad8a2396c60be2bf6d0e2ff47c58d4  2019-08-05 15:50:44 +0000   \n",
       "3  7b921f51b5c2fb862b4a5f7a54c37f75  2019-08-05 15:31:56 +0000   \n",
       "4  2d8b7d44e138a54d5dc841163138de50  2019-07-05 02:48:29 +0000   \n",
       "\n",
       "                                           Job Title  \\\n",
       "0                              Digital Media Planner   \n",
       "1                           Online Bidding Executive   \n",
       "2   Trainee Research/ Research Executive- Hi- Tec...   \n",
       "3                                  Technical Support   \n",
       "4                  Software Test Engineer -hyderabad   \n",
       "\n",
       "                   Job Salary Job Experience Required  \\\n",
       "0  Not Disclosed by Recruiter              5 - 10 yrs   \n",
       "1  Not Disclosed by Recruiter               2 - 5 yrs   \n",
       "2  Not Disclosed by Recruiter               0 - 1 yrs   \n",
       "3    2,00,000 - 4,00,000 PA.                0 - 5 yrs   \n",
       "4  Not Disclosed by Recruiter               2 - 5 yrs   \n",
       "\n",
       "                                          Key Skills  \\\n",
       "0                      Media Planning| Digital Media   \n",
       "1   pre sales| closing| software knowledge| clien...   \n",
       "2   Computer science| Fabrication| Quality check|...   \n",
       "3                                  Technical Support   \n",
       "4   manual testing| test engineering| test cases|...   \n",
       "\n",
       "                                Role Category   Location  \\\n",
       "0                                 Advertising     Mumbai   \n",
       "1                                Retail Sales  Pune,Pune   \n",
       "2                                         R&D    Gurgaon   \n",
       "3  Admin/Maintenance/Security/Datawarehousing     Mumbai   \n",
       "4                        Programming & Design  Hyderabad   \n",
       "\n",
       "                                     Functional Area  \\\n",
       "0  Marketing , Advertising , MR , PR , Media Plan...   \n",
       "1              Sales , Retail , Business Development   \n",
       "2                           Engineering Design , R&D   \n",
       "3  IT Software - Application Programming , Mainte...   \n",
       "4                         IT Software - QA & Testing   \n",
       "\n",
       "                                Industry                              Role  \n",
       "0  Advertising, PR, MR, Event Management  Media Planning Executive/Manager  \n",
       "1         IT-Software, Software Services           Sales Executive/Officer  \n",
       "2                  Recruitment, Staffing                     R&D Executive  \n",
       "3         IT-Software, Software Services        Technical Support Engineer  \n",
       "4         IT-Software, Software Services                  Testing Engineer  "
      ]
     },
     "execution_count": 27,
     "metadata": {},
     "output_type": "execute_result"
    }
   ],
   "source": [
    "data.head()"
   ]
  },
  {
   "cell_type": "code",
   "execution_count": 28,
   "metadata": {},
   "outputs": [],
   "source": [
    "# python programming language"
   ]
  },
  {
   "cell_type": "code",
   "execution_count": 32,
   "metadata": {},
   "outputs": [
    {
     "data": {
      "text/plain": [
       "249082"
      ]
     },
     "execution_count": 32,
     "metadata": {},
     "output_type": "execute_result"
    }
   ],
   "source": [
    "len(key_skills)"
   ]
  },
  {
   "cell_type": "code",
   "execution_count": 33,
   "metadata": {},
   "outputs": [],
   "source": [
    "key_skills = pd.Series(key_skills)"
   ]
  },
  {
   "cell_type": "code",
   "execution_count": 34,
   "metadata": {},
   "outputs": [],
   "source": [
    "skills = key_skills.unique()"
   ]
  },
  {
   "cell_type": "code",
   "execution_count": 36,
   "metadata": {},
   "outputs": [
    {
     "data": {
      "text/plain": [
       "14656"
      ]
     },
     "execution_count": 36,
     "metadata": {},
     "output_type": "execute_result"
    }
   ],
   "source": [
    "skills.__len__()"
   ]
  },
  {
   "cell_type": "code",
   "execution_count": 44,
   "metadata": {},
   "outputs": [
    {
     "data": {
      "text/plain": [
       "sales             3245\n",
       "manager           2889\n",
       "developer         2798\n",
       "javascript        2264\n",
       "java              1735\n",
       "                  ... \n",
       "education          154\n",
       "autocad            154\n",
       "life insurance     153\n",
       "gst                153\n",
       "it recruitment     152\n",
       "Length: 300, dtype: int64"
      ]
     },
     "execution_count": 44,
     "metadata": {},
     "output_type": "execute_result"
    }
   ],
   "source": [
    "key_skills.value_counts()[:300]"
   ]
  },
  {
   "cell_type": "code",
   "execution_count": 50,
   "metadata": {},
   "outputs": [
    {
     "name": "stdout",
     "output_type": "stream",
     "text": [
      "\n",
      " Enter any skill : python\n"
     ]
    },
    {
     "data": {
      "text/html": [
       "<div>\n",
       "<style scoped>\n",
       "    .dataframe tbody tr th:only-of-type {\n",
       "        vertical-align: middle;\n",
       "    }\n",
       "\n",
       "    .dataframe tbody tr th {\n",
       "        vertical-align: top;\n",
       "    }\n",
       "\n",
       "    .dataframe thead th {\n",
       "        text-align: right;\n",
       "    }\n",
       "</style>\n",
       "<table border=\"1\" class=\"dataframe\">\n",
       "  <thead>\n",
       "    <tr style=\"text-align: right;\">\n",
       "      <th></th>\n",
       "      <th>Job Title</th>\n",
       "      <th>Industry</th>\n",
       "    </tr>\n",
       "  </thead>\n",
       "  <tbody>\n",
       "    <tr>\n",
       "      <th>38</th>\n",
       "      <td>nutanix sme</td>\n",
       "      <td>IT-Software, Software Services</td>\n",
       "    </tr>\n",
       "    <tr>\n",
       "      <th>73</th>\n",
       "      <td>Openstack Engineer / Openstack Admin with Cep...</td>\n",
       "      <td>IT-Software, Software Services</td>\n",
       "    </tr>\n",
       "    <tr>\n",
       "      <th>117</th>\n",
       "      <td>Manager/senior Manager- Analytics- Life &amp; Ann...</td>\n",
       "      <td>IT-Software, Software Services</td>\n",
       "    </tr>\n",
       "    <tr>\n",
       "      <th>147</th>\n",
       "      <td>IT Security Head</td>\n",
       "      <td>IT-Software, Software Services</td>\n",
       "    </tr>\n",
       "    <tr>\n",
       "      <th>156</th>\n",
       "      <td>Python Developer</td>\n",
       "      <td>Recruitment, Staffing</td>\n",
       "    </tr>\n",
       "    <tr>\n",
       "      <th>...</th>\n",
       "      <td>...</td>\n",
       "      <td>...</td>\n",
       "    </tr>\n",
       "    <tr>\n",
       "      <th>29823</th>\n",
       "      <td>C++/python Expert with Networking Skills</td>\n",
       "      <td>IT-Software / Software Services</td>\n",
       "    </tr>\n",
       "    <tr>\n",
       "      <th>29825</th>\n",
       "      <td>Data Scientist</td>\n",
       "      <td>IT-Software, Software Services</td>\n",
       "    </tr>\n",
       "    <tr>\n",
       "      <th>29852</th>\n",
       "      <td>UI/UX Developer</td>\n",
       "      <td>IT-Software, Software Services</td>\n",
       "    </tr>\n",
       "    <tr>\n",
       "      <th>29892</th>\n",
       "      <td>Associate - Infrastructure Engineer Ribbon AS</td>\n",
       "      <td>Banking, Financial Services, Broking</td>\n",
       "    </tr>\n",
       "    <tr>\n",
       "      <th>29992</th>\n",
       "      <td>Backup &amp;amp; Storage Admin</td>\n",
       "      <td>IT-Software, Software Services</td>\n",
       "    </tr>\n",
       "  </tbody>\n",
       "</table>\n",
       "<p>1186 rows × 2 columns</p>\n",
       "</div>"
      ],
      "text/plain": [
       "                                               Job Title  \\\n",
       "38                                          nutanix sme    \n",
       "73      Openstack Engineer / Openstack Admin with Cep...   \n",
       "117     Manager/senior Manager- Analytics- Life & Ann...   \n",
       "147                                    IT Security Head    \n",
       "156                                     Python Developer   \n",
       "...                                                  ...   \n",
       "29823           C++/python Expert with Networking Skills   \n",
       "29825                                     Data Scientist   \n",
       "29852                                    UI/UX Developer   \n",
       "29892      Associate - Infrastructure Engineer Ribbon AS   \n",
       "29992                         Backup &amp; Storage Admin   \n",
       "\n",
       "                                   Industry  \n",
       "38           IT-Software, Software Services  \n",
       "73           IT-Software, Software Services  \n",
       "117          IT-Software, Software Services  \n",
       "147          IT-Software, Software Services  \n",
       "156                   Recruitment, Staffing  \n",
       "...                                     ...  \n",
       "29823       IT-Software / Software Services  \n",
       "29825        IT-Software, Software Services  \n",
       "29852        IT-Software, Software Services  \n",
       "29892  Banking, Financial Services, Broking  \n",
       "29992        IT-Software, Software Services  \n",
       "\n",
       "[1186 rows x 2 columns]"
      ]
     },
     "execution_count": 50,
     "metadata": {},
     "output_type": "execute_result"
    }
   ],
   "source": [
    "sk = input(\"\\n Enter any skill : \")\n",
    "data[data['Key Skills'].apply(lambda x:True if sk in str(x).lower() else False)][['Job Title', 'Industry']]"
   ]
  },
  {
   "cell_type": "code",
   "execution_count": 51,
   "metadata": {},
   "outputs": [],
   "source": [
    "#### job title"
   ]
  },
  {
   "cell_type": "code",
   "execution_count": 59,
   "metadata": {},
   "outputs": [
    {
     "name": "stdout",
     "output_type": "stream",
     "text": [
      "\n",
      " Enter title : data analyst\n"
     ]
    },
    {
     "data": {
      "text/html": [
       "<div>\n",
       "<style scoped>\n",
       "    .dataframe tbody tr th:only-of-type {\n",
       "        vertical-align: middle;\n",
       "    }\n",
       "\n",
       "    .dataframe tbody tr th {\n",
       "        vertical-align: top;\n",
       "    }\n",
       "\n",
       "    .dataframe thead th {\n",
       "        text-align: right;\n",
       "    }\n",
       "</style>\n",
       "<table border=\"1\" class=\"dataframe\">\n",
       "  <thead>\n",
       "    <tr style=\"text-align: right;\">\n",
       "      <th></th>\n",
       "      <th>Key Skills</th>\n",
       "      <th>Job Salary</th>\n",
       "      <th>Job Experience Required</th>\n",
       "    </tr>\n",
       "  </thead>\n",
       "  <tbody>\n",
       "    <tr>\n",
       "      <th>57</th>\n",
       "      <td>NaN</td>\n",
       "      <td>not disclosed by recruiter</td>\n",
       "      <td>1 - 3 yrs</td>\n",
       "    </tr>\n",
       "    <tr>\n",
       "      <th>397</th>\n",
       "      <td>Reporting| Data Analysis| Business Analytics|...</td>\n",
       "      <td>2,75,000 - 7,00,000 pa.</td>\n",
       "      <td>2 - 7 yrs</td>\n",
       "    </tr>\n",
       "    <tr>\n",
       "      <th>938</th>\n",
       "      <td>Data Analysis| Data Analyst| reporting| Quali...</td>\n",
       "      <td>not disclosed by recruiter</td>\n",
       "      <td>0 - 1 yrs</td>\n",
       "    </tr>\n",
       "    <tr>\n",
       "      <th>1279</th>\n",
       "      <td>Analytics| Monitoring| SQL| Computer science|...</td>\n",
       "      <td>not disclosed by recruiter</td>\n",
       "      <td>5 - 7 yrs</td>\n",
       "    </tr>\n",
       "    <tr>\n",
       "      <th>3187</th>\n",
       "      <td>Analyst| Product enhancement| Customer experi...</td>\n",
       "      <td>5,00,000 - 13,00,000 pa.</td>\n",
       "      <td>2 - 4 yrs</td>\n",
       "    </tr>\n",
       "    <tr>\n",
       "      <th>4218</th>\n",
       "      <td>Adobe| Data mining| Executive| SQL queries| b...</td>\n",
       "      <td>not disclosed by recruiter</td>\n",
       "      <td>3 - 6 yrs</td>\n",
       "    </tr>\n",
       "    <tr>\n",
       "      <th>4406</th>\n",
       "      <td>web technologies| data entry| CRM| Data Analy...</td>\n",
       "      <td>1,00,000 - 2,00,000 pa.</td>\n",
       "      <td>1 - 3 yrs</td>\n",
       "    </tr>\n",
       "    <tr>\n",
       "      <th>5749</th>\n",
       "      <td>data warehouse| Tableau| ETL| SQL</td>\n",
       "      <td>not disclosed by recruiter</td>\n",
       "      <td>6 - 10 yrs</td>\n",
       "    </tr>\n",
       "    <tr>\n",
       "      <th>6811</th>\n",
       "      <td>Google Analytics| RDBMS| Analytical| Network ...</td>\n",
       "      <td>not disclosed by recruiter</td>\n",
       "      <td>3 - 6 yrs</td>\n",
       "    </tr>\n",
       "    <tr>\n",
       "      <th>6834</th>\n",
       "      <td>Japanese| Business process| Pharma| Aerospace...</td>\n",
       "      <td>not disclosed by recruiter</td>\n",
       "      <td>3 - 7 yrs</td>\n",
       "    </tr>\n",
       "    <tr>\n",
       "      <th>7440</th>\n",
       "      <td>Data Analysis| Data Mining| Analytics| Advanc...</td>\n",
       "      <td>not disclosed by recruiter</td>\n",
       "      <td>2 - 7 yrs</td>\n",
       "    </tr>\n",
       "    <tr>\n",
       "      <th>7877</th>\n",
       "      <td>new projects| operations management| mis prep...</td>\n",
       "      <td>not disclosed by recruiter</td>\n",
       "      <td>1 - 4 yrs</td>\n",
       "    </tr>\n",
       "    <tr>\n",
       "      <th>8603</th>\n",
       "      <td>Java| C++| C#| Machine Learning| Solution Arc...</td>\n",
       "      <td>not disclosed by recruiter</td>\n",
       "      <td>5 - 7 yrs</td>\n",
       "    </tr>\n",
       "    <tr>\n",
       "      <th>8700</th>\n",
       "      <td>Usage</td>\n",
       "      <td>not disclosed by recruiter</td>\n",
       "      <td>0 - 1 yrs</td>\n",
       "    </tr>\n",
       "    <tr>\n",
       "      <th>9029</th>\n",
       "      <td>voice| BPO| Bca| fresher| Backend| data analy...</td>\n",
       "      <td>1,00,000 - 2,50,000 pa.</td>\n",
       "      <td>0 - 3 yrs</td>\n",
       "    </tr>\n",
       "    <tr>\n",
       "      <th>9074</th>\n",
       "      <td>Market research| Data analysis| SQL| Logistic...</td>\n",
       "      <td>not disclosed by recruiter</td>\n",
       "      <td>4 - 7 yrs</td>\n",
       "    </tr>\n",
       "    <tr>\n",
       "      <th>9634</th>\n",
       "      <td>Supply chain| Excel| PDF| Database management...</td>\n",
       "      <td>not disclosed by recruiter</td>\n",
       "      <td>2 - 5 yrs</td>\n",
       "    </tr>\n",
       "    <tr>\n",
       "      <th>10415</th>\n",
       "      <td>Accessories| Data analysis| Google Analytics|...</td>\n",
       "      <td>not disclosed by recruiter</td>\n",
       "      <td>7 - 12 yrs</td>\n",
       "    </tr>\n",
       "    <tr>\n",
       "      <th>11261</th>\n",
       "      <td>Product Management| Marketing Campaigns| Digi...</td>\n",
       "      <td>not disclosed by recruiter</td>\n",
       "      <td>2 - 5 yrs</td>\n",
       "    </tr>\n",
       "    <tr>\n",
       "      <th>11608</th>\n",
       "      <td>Data analysis| SQL| Advanced Excel| Root caus...</td>\n",
       "      <td>not disclosed by recruiter</td>\n",
       "      <td>4 - 5 yrs</td>\n",
       "    </tr>\n",
       "    <tr>\n",
       "      <th>12956</th>\n",
       "      <td>Computer science| MIS reporting| data service...</td>\n",
       "      <td>not disclosed by recruiter</td>\n",
       "      <td>3 - 8 yrs</td>\n",
       "    </tr>\n",
       "    <tr>\n",
       "      <th>12985</th>\n",
       "      <td>Variance analysis</td>\n",
       "      <td>not disclosed by recruiter</td>\n",
       "      <td>2 - 3 yrs</td>\n",
       "    </tr>\n",
       "    <tr>\n",
       "      <th>13192</th>\n",
       "      <td>Telecom| Data analysis| Excel| MS Outlook| In...</td>\n",
       "      <td>not disclosed by recruiter</td>\n",
       "      <td>2 - 5 yrs</td>\n",
       "    </tr>\n",
       "    <tr>\n",
       "      <th>13489</th>\n",
       "      <td>Computer Savvy</td>\n",
       "      <td>not disclosed by recruiter</td>\n",
       "      <td>1 - 6 yrs</td>\n",
       "    </tr>\n",
       "    <tr>\n",
       "      <th>14099</th>\n",
       "      <td>Unix| Hive| Linux| Data Analysis| Data Proces...</td>\n",
       "      <td>not disclosed by recruiter</td>\n",
       "      <td>3 - 8 yrs</td>\n",
       "    </tr>\n",
       "    <tr>\n",
       "      <th>15419</th>\n",
       "      <td>machine learning| sql| python| r| hadoop| tab...</td>\n",
       "      <td>not disclosed by recruiter</td>\n",
       "      <td>3 - 5 yrs</td>\n",
       "    </tr>\n",
       "    <tr>\n",
       "      <th>16206</th>\n",
       "      <td>Data Entry| Data Analysis| analytics| data an...</td>\n",
       "      <td>3,25,000 - 5,50,000 pa.</td>\n",
       "      <td>0 - 0 yrs</td>\n",
       "    </tr>\n",
       "    <tr>\n",
       "      <th>16938</th>\n",
       "      <td>SAP| Business analytics| Analytical| Corporat...</td>\n",
       "      <td>not disclosed by recruiter</td>\n",
       "      <td>3 - 5 yrs</td>\n",
       "    </tr>\n",
       "    <tr>\n",
       "      <th>17588</th>\n",
       "      <td>MIS Reporting| MIS Preparation| Data Analysis...</td>\n",
       "      <td>1,50,000 - 3,50,000 pa.</td>\n",
       "      <td>1 - 4 yrs</td>\n",
       "    </tr>\n",
       "    <tr>\n",
       "      <th>17767</th>\n",
       "      <td>MIS Preparation| Data Analysis| Advanced Excel</td>\n",
       "      <td>1,00,000 - 2,50,000 pa.</td>\n",
       "      <td>1 - 6 yrs</td>\n",
       "    </tr>\n",
       "    <tr>\n",
       "      <th>18700</th>\n",
       "      <td>Business Intelligence| Java| Hive| C| MySQL| ...</td>\n",
       "      <td>not disclosed by recruiter</td>\n",
       "      <td>4 - 9 yrs</td>\n",
       "    </tr>\n",
       "    <tr>\n",
       "      <th>19598</th>\n",
       "      <td>advance sas|sql|python|hive|campaign managemen...</td>\n",
       "      <td>NaN</td>\n",
       "      <td>1 - 3 Years</td>\n",
       "    </tr>\n",
       "    <tr>\n",
       "      <th>19934</th>\n",
       "      <td>analytics| data analytics| XML| data mining| ...</td>\n",
       "      <td>50,000 - 3,00,000 pa.</td>\n",
       "      <td>0 - 2 yrs</td>\n",
       "    </tr>\n",
       "    <tr>\n",
       "      <th>20835</th>\n",
       "      <td>business research| data analysis| mis| market...</td>\n",
       "      <td>not disclosed by recruiter</td>\n",
       "      <td>2 - 5 yrs</td>\n",
       "    </tr>\n",
       "    <tr>\n",
       "      <th>20938</th>\n",
       "      <td>Product management| ERP| Data analysis| PHP| ...</td>\n",
       "      <td>not disclosed by recruiter</td>\n",
       "      <td>0 - 5 yrs</td>\n",
       "    </tr>\n",
       "    <tr>\n",
       "      <th>21261</th>\n",
       "      <td>Data Analysis</td>\n",
       "      <td>not disclosed by recruiter</td>\n",
       "      <td>5 - 10 yrs</td>\n",
       "    </tr>\n",
       "    <tr>\n",
       "      <th>21654</th>\n",
       "      <td>QlikView| Data quality| Analytical| Continuou...</td>\n",
       "      <td>not disclosed by recruiter</td>\n",
       "      <td>5 - 8 yrs</td>\n",
       "    </tr>\n",
       "    <tr>\n",
       "      <th>21940</th>\n",
       "      <td>accounts executive| tds| accountant| vat| gst...</td>\n",
       "      <td>2,00,000 - 3,00,000 pa.</td>\n",
       "      <td>1 - 4 yrs</td>\n",
       "    </tr>\n",
       "    <tr>\n",
       "      <th>21993</th>\n",
       "      <td>big data analyst</td>\n",
       "      <td>not disclosed by recruiter</td>\n",
       "      <td>2 - 5 yrs</td>\n",
       "    </tr>\n",
       "    <tr>\n",
       "      <th>22008</th>\n",
       "      <td>Data Science|Java|CSS|Javascript|Data Analysis...</td>\n",
       "      <td>not disclosed by recruiter</td>\n",
       "      <td>3 - 7 Years</td>\n",
       "    </tr>\n",
       "    <tr>\n",
       "      <th>22805</th>\n",
       "      <td>HR</td>\n",
       "      <td>not disclosed by recruiter</td>\n",
       "      <td>6 - 7 yrs</td>\n",
       "    </tr>\n",
       "    <tr>\n",
       "      <th>22951</th>\n",
       "      <td>Assurance| Relationship building| Network sec...</td>\n",
       "      <td>not disclosed by recruiter</td>\n",
       "      <td>6 - 10 yrs</td>\n",
       "    </tr>\n",
       "    <tr>\n",
       "      <th>23333</th>\n",
       "      <td>Behavioural Skills| Excel| Computer Science| ...</td>\n",
       "      <td>5,00,000 - 9,00,000 pa.</td>\n",
       "      <td>5 - 8 yrs</td>\n",
       "    </tr>\n",
       "    <tr>\n",
       "      <th>26183</th>\n",
       "      <td>NaN</td>\n",
       "      <td>1,37,500/- per month</td>\n",
       "      <td>Not Mentioned</td>\n",
       "    </tr>\n",
       "    <tr>\n",
       "      <th>27652</th>\n",
       "      <td>R| Data Analyst| Data Analytics| Python| SQL</td>\n",
       "      <td>not disclosed by recruiter</td>\n",
       "      <td>1 - 3 yrs</td>\n",
       "    </tr>\n",
       "    <tr>\n",
       "      <th>27975</th>\n",
       "      <td>Excel| Data Analysis| SAS| XML| Data Mining| ...</td>\n",
       "      <td>not disclosed by recruiter</td>\n",
       "      <td>7 - 12 yrs</td>\n",
       "    </tr>\n",
       "    <tr>\n",
       "      <th>28309</th>\n",
       "      <td>Automation| Ticketing| Database design| Data ...</td>\n",
       "      <td>not disclosed by recruiter</td>\n",
       "      <td>3 - 7 yrs</td>\n",
       "    </tr>\n",
       "    <tr>\n",
       "      <th>28360</th>\n",
       "      <td>Data Analytics| Data Analyst| SQL| SAS| R| Go...</td>\n",
       "      <td>not disclosed by recruiter</td>\n",
       "      <td>2 - 6 yrs</td>\n",
       "    </tr>\n",
       "    <tr>\n",
       "      <th>28581</th>\n",
       "      <td>Visual Basic| MySQL| Data Analyst| KPO| Busin...</td>\n",
       "      <td>not disclosed by recruiter</td>\n",
       "      <td>3 - 6 yrs</td>\n",
       "    </tr>\n",
       "    <tr>\n",
       "      <th>28711</th>\n",
       "      <td>Data Analysis| Data Collection| Project Manag...</td>\n",
       "      <td>50,000 - 2,00,000 pa.</td>\n",
       "      <td>0 - 5 yrs</td>\n",
       "    </tr>\n",
       "    <tr>\n",
       "      <th>28713</th>\n",
       "      <td>financial analysis| Audit| data analysis| dat...</td>\n",
       "      <td>not disclosed by recruiter</td>\n",
       "      <td>5 - 9 yrs</td>\n",
       "    </tr>\n",
       "    <tr>\n",
       "      <th>28861</th>\n",
       "      <td>Data Analysis</td>\n",
       "      <td>1,00,000 - 2,00,000 pa.</td>\n",
       "      <td>1 - 6 yrs</td>\n",
       "    </tr>\n",
       "    <tr>\n",
       "      <th>28914</th>\n",
       "      <td>Advanced Excel| Macros| VBA| MIS Reporting| D...</td>\n",
       "      <td>1,00,000 - 3,50,000 pa.</td>\n",
       "      <td>1 - 5 yrs</td>\n",
       "    </tr>\n",
       "    <tr>\n",
       "      <th>29577</th>\n",
       "      <td>python| django| machine learning| sql| Data S...</td>\n",
       "      <td>3,00,000 - 6,00,000 pa.</td>\n",
       "      <td>2 - 6 yrs</td>\n",
       "    </tr>\n",
       "    <tr>\n",
       "      <th>29720</th>\n",
       "      <td>Monthly Reports| Balance sheet| Finance| gene...</td>\n",
       "      <td>not disclosed by recruiter</td>\n",
       "      <td>4 - 8 yrs</td>\n",
       "    </tr>\n",
       "  </tbody>\n",
       "</table>\n",
       "</div>"
      ],
      "text/plain": [
       "                                              Key Skills  \\\n",
       "57                                                   NaN   \n",
       "397     Reporting| Data Analysis| Business Analytics|...   \n",
       "938     Data Analysis| Data Analyst| reporting| Quali...   \n",
       "1279    Analytics| Monitoring| SQL| Computer science|...   \n",
       "3187    Analyst| Product enhancement| Customer experi...   \n",
       "4218    Adobe| Data mining| Executive| SQL queries| b...   \n",
       "4406    web technologies| data entry| CRM| Data Analy...   \n",
       "5749                   data warehouse| Tableau| ETL| SQL   \n",
       "6811    Google Analytics| RDBMS| Analytical| Network ...   \n",
       "6834    Japanese| Business process| Pharma| Aerospace...   \n",
       "7440    Data Analysis| Data Mining| Analytics| Advanc...   \n",
       "7877    new projects| operations management| mis prep...   \n",
       "8603    Java| C++| C#| Machine Learning| Solution Arc...   \n",
       "8700                                               Usage   \n",
       "9029    voice| BPO| Bca| fresher| Backend| data analy...   \n",
       "9074    Market research| Data analysis| SQL| Logistic...   \n",
       "9634    Supply chain| Excel| PDF| Database management...   \n",
       "10415   Accessories| Data analysis| Google Analytics|...   \n",
       "11261   Product Management| Marketing Campaigns| Digi...   \n",
       "11608   Data analysis| SQL| Advanced Excel| Root caus...   \n",
       "12956   Computer science| MIS reporting| data service...   \n",
       "12985                                  Variance analysis   \n",
       "13192   Telecom| Data analysis| Excel| MS Outlook| In...   \n",
       "13489                                     Computer Savvy   \n",
       "14099   Unix| Hive| Linux| Data Analysis| Data Proces...   \n",
       "15419   machine learning| sql| python| r| hadoop| tab...   \n",
       "16206   Data Entry| Data Analysis| analytics| data an...   \n",
       "16938   SAP| Business analytics| Analytical| Corporat...   \n",
       "17588   MIS Reporting| MIS Preparation| Data Analysis...   \n",
       "17767     MIS Preparation| Data Analysis| Advanced Excel   \n",
       "18700   Business Intelligence| Java| Hive| C| MySQL| ...   \n",
       "19598  advance sas|sql|python|hive|campaign managemen...   \n",
       "19934   analytics| data analytics| XML| data mining| ...   \n",
       "20835   business research| data analysis| mis| market...   \n",
       "20938   Product management| ERP| Data analysis| PHP| ...   \n",
       "21261                                      Data Analysis   \n",
       "21654   QlikView| Data quality| Analytical| Continuou...   \n",
       "21940   accounts executive| tds| accountant| vat| gst...   \n",
       "21993                                   big data analyst   \n",
       "22008  Data Science|Java|CSS|Javascript|Data Analysis...   \n",
       "22805                                                 HR   \n",
       "22951   Assurance| Relationship building| Network sec...   \n",
       "23333   Behavioural Skills| Excel| Computer Science| ...   \n",
       "26183                                                NaN   \n",
       "27652       R| Data Analyst| Data Analytics| Python| SQL   \n",
       "27975   Excel| Data Analysis| SAS| XML| Data Mining| ...   \n",
       "28309   Automation| Ticketing| Database design| Data ...   \n",
       "28360   Data Analytics| Data Analyst| SQL| SAS| R| Go...   \n",
       "28581   Visual Basic| MySQL| Data Analyst| KPO| Busin...   \n",
       "28711   Data Analysis| Data Collection| Project Manag...   \n",
       "28713   financial analysis| Audit| data analysis| dat...   \n",
       "28861                                      Data Analysis   \n",
       "28914   Advanced Excel| Macros| VBA| MIS Reporting| D...   \n",
       "29577   python| django| machine learning| sql| Data S...   \n",
       "29720   Monthly Reports| Balance sheet| Finance| gene...   \n",
       "\n",
       "                       Job Salary Job Experience Required  \n",
       "57     not disclosed by recruiter               1 - 3 yrs  \n",
       "397       2,75,000 - 7,00,000 pa.               2 - 7 yrs  \n",
       "938    not disclosed by recruiter               0 - 1 yrs  \n",
       "1279   not disclosed by recruiter               5 - 7 yrs  \n",
       "3187     5,00,000 - 13,00,000 pa.               2 - 4 yrs  \n",
       "4218   not disclosed by recruiter               3 - 6 yrs  \n",
       "4406      1,00,000 - 2,00,000 pa.               1 - 3 yrs  \n",
       "5749   not disclosed by recruiter              6 - 10 yrs  \n",
       "6811   not disclosed by recruiter               3 - 6 yrs  \n",
       "6834   not disclosed by recruiter               3 - 7 yrs  \n",
       "7440   not disclosed by recruiter               2 - 7 yrs  \n",
       "7877   not disclosed by recruiter               1 - 4 yrs  \n",
       "8603   not disclosed by recruiter               5 - 7 yrs  \n",
       "8700   not disclosed by recruiter               0 - 1 yrs  \n",
       "9029      1,00,000 - 2,50,000 pa.               0 - 3 yrs  \n",
       "9074   not disclosed by recruiter               4 - 7 yrs  \n",
       "9634   not disclosed by recruiter               2 - 5 yrs  \n",
       "10415  not disclosed by recruiter              7 - 12 yrs  \n",
       "11261  not disclosed by recruiter               2 - 5 yrs  \n",
       "11608  not disclosed by recruiter               4 - 5 yrs  \n",
       "12956  not disclosed by recruiter               3 - 8 yrs  \n",
       "12985  not disclosed by recruiter               2 - 3 yrs  \n",
       "13192  not disclosed by recruiter               2 - 5 yrs  \n",
       "13489  not disclosed by recruiter               1 - 6 yrs  \n",
       "14099  not disclosed by recruiter               3 - 8 yrs  \n",
       "15419  not disclosed by recruiter               3 - 5 yrs  \n",
       "16206     3,25,000 - 5,50,000 pa.               0 - 0 yrs  \n",
       "16938  not disclosed by recruiter               3 - 5 yrs  \n",
       "17588     1,50,000 - 3,50,000 pa.               1 - 4 yrs  \n",
       "17767     1,00,000 - 2,50,000 pa.               1 - 6 yrs  \n",
       "18700  not disclosed by recruiter               4 - 9 yrs  \n",
       "19598                         NaN             1 - 3 Years  \n",
       "19934       50,000 - 3,00,000 pa.               0 - 2 yrs  \n",
       "20835  not disclosed by recruiter               2 - 5 yrs  \n",
       "20938  not disclosed by recruiter               0 - 5 yrs  \n",
       "21261  not disclosed by recruiter              5 - 10 yrs  \n",
       "21654  not disclosed by recruiter               5 - 8 yrs  \n",
       "21940     2,00,000 - 3,00,000 pa.               1 - 4 yrs  \n",
       "21993  not disclosed by recruiter               2 - 5 yrs  \n",
       "22008  not disclosed by recruiter             3 - 7 Years  \n",
       "22805  not disclosed by recruiter               6 - 7 yrs  \n",
       "22951  not disclosed by recruiter              6 - 10 yrs  \n",
       "23333     5,00,000 - 9,00,000 pa.               5 - 8 yrs  \n",
       "26183        1,37,500/- per month           Not Mentioned  \n",
       "27652  not disclosed by recruiter               1 - 3 yrs  \n",
       "27975  not disclosed by recruiter              7 - 12 yrs  \n",
       "28309  not disclosed by recruiter               3 - 7 yrs  \n",
       "28360  not disclosed by recruiter               2 - 6 yrs  \n",
       "28581  not disclosed by recruiter               3 - 6 yrs  \n",
       "28711       50,000 - 2,00,000 pa.               0 - 5 yrs  \n",
       "28713  not disclosed by recruiter               5 - 9 yrs  \n",
       "28861     1,00,000 - 2,00,000 pa.               1 - 6 yrs  \n",
       "28914     1,00,000 - 3,50,000 pa.               1 - 5 yrs  \n",
       "29577     3,00,000 - 6,00,000 pa.               2 - 6 yrs  \n",
       "29720  not disclosed by recruiter               4 - 8 yrs  "
      ]
     },
     "execution_count": 59,
     "metadata": {},
     "output_type": "execute_result"
    }
   ],
   "source": [
    "title = input(\"\\n Enter title : \")\n",
    "data[data['Job Title'].apply(lambda x:True if title in str(x).lower() else False)][['Key Skills', 'Job Salary', 'Job Experience Required']]"
   ]
  },
  {
   "cell_type": "code",
   "execution_count": 10,
   "metadata": {},
   "outputs": [],
   "source": [
    "def expfilter(x, exp):\n",
    "    if type(x) == str and \"yrs\" in x and \"-\" in x:\n",
    "        s = str(x).split(\"-\")\n",
    "        a = int(s[0])\n",
    "        b = int(s[1][:s[1].index(\"y\")])\n",
    "        if exp in range(a, b):\n",
    "            return True\n",
    "        elif exp==0 and exp==a:\n",
    "            return True\n",
    "        return False\n",
    "    if str(exp) in x:\n",
    "        return True\n",
    "    return False"
   ]
  },
  {
   "cell_type": "code",
   "execution_count": 95,
   "metadata": {},
   "outputs": [],
   "source": [
    "temp = data.copy()"
   ]
  },
  {
   "cell_type": "code",
   "execution_count": 98,
   "metadata": {},
   "outputs": [],
   "source": [
    "temp = temp[temp['Job Experience Required'].apply(lambda x: True if \"years\" not in str(x).lower() else False)]"
   ]
  },
  {
   "cell_type": "code",
   "execution_count": 99,
   "metadata": {},
   "outputs": [
    {
     "data": {
      "text/plain": [
       "array(['0 - 5 yrs', '1 - 5 yrs', '1 - 6 yrs', '0 - 3 yrs', '0 - 4 yrs',\n",
       "       '1 - 4 yrs', '1 - 3 yrs', '0 - 2 yrs', '1 - 2 yrs', '0 - 7 yrs',\n",
       "       '0 - 8 yrs', '1 - 8 yrs', '1 - 10 yrs', '1 - 7 yrs', '0 - 6 yrs',\n",
       "       '0 - 9 yrs', '0 - 10 yrs', '0 - 22 yrs', '0 - 15 yrs'],\n",
       "      dtype=object)"
      ]
     },
     "execution_count": 99,
     "metadata": {},
     "output_type": "execute_result"
    }
   ],
   "source": [
    "temp[temp['Job Experience Required'].apply(lambda x:myfilter(str(x), 1))]['Job Experience Required'].unique()"
   ]
  },
  {
   "cell_type": "code",
   "execution_count": 100,
   "metadata": {},
   "outputs": [
    {
     "name": "stdout",
     "output_type": "stream",
     "text": [
      "\n",
      " Enter your experience in numbers : \n",
      "\n",
      " EXPERIENCE SHOULD BE IN NUMBERS\n"
     ]
    }
   ],
   "source": [
    "exp = input(\"\\n Enter your experience in numbers : \")\n",
    "if exp.isdigit():\n",
    "    sal = (input(\"\\n Enter the salary expection : \"))\n",
    "    if sal.isdigit():\n",
    "        pass\n",
    "else:\n",
    "    print(\"\\n EXPERIENCE SHOULD BE IN NUMBERS\")"
   ]
  },
  {
   "cell_type": "markdown",
   "metadata": {},
   "source": [
    "#### 1. please provide me cleaned dataset\n",
    "#### 2.  Complete the above program"
   ]
  },
  {
   "cell_type": "code",
   "execution_count": 7,
   "metadata": {},
   "outputs": [],
   "source": [
    "data = pd.read_pickle(\"cleaned_data\")"
   ]
  },
  {
   "cell_type": "code",
   "execution_count": 8,
   "metadata": {},
   "outputs": [
    {
     "data": {
      "text/html": [
       "<div>\n",
       "<style scoped>\n",
       "    .dataframe tbody tr th:only-of-type {\n",
       "        vertical-align: middle;\n",
       "    }\n",
       "\n",
       "    .dataframe tbody tr th {\n",
       "        vertical-align: top;\n",
       "    }\n",
       "\n",
       "    .dataframe thead th {\n",
       "        text-align: right;\n",
       "    }\n",
       "</style>\n",
       "<table border=\"1\" class=\"dataframe\">\n",
       "  <thead>\n",
       "    <tr style=\"text-align: right;\">\n",
       "      <th></th>\n",
       "      <th>title</th>\n",
       "      <th>salary</th>\n",
       "      <th>low_sal</th>\n",
       "      <th>high_sal</th>\n",
       "      <th>skills</th>\n",
       "      <th>role</th>\n",
       "      <th>loc</th>\n",
       "      <th>work_area</th>\n",
       "      <th>industry</th>\n",
       "      <th>post</th>\n",
       "      <th>experience</th>\n",
       "      <th>low_exp</th>\n",
       "      <th>high_exp</th>\n",
       "    </tr>\n",
       "  </thead>\n",
       "  <tbody>\n",
       "    <tr>\n",
       "      <th>0</th>\n",
       "      <td>Digital Media Planner</td>\n",
       "      <td>Not Disclosed</td>\n",
       "      <td>NaN</td>\n",
       "      <td>NaN</td>\n",
       "      <td>Media Planning| Digital Media</td>\n",
       "      <td>Advertising</td>\n",
       "      <td>Mumbai</td>\n",
       "      <td>Marketing , Advertising , MR , PR , Media Plan...</td>\n",
       "      <td>Advertising, PR, MR, Event Management</td>\n",
       "      <td>Media Planning Executive/Manager</td>\n",
       "      <td>5 - 10</td>\n",
       "      <td>5.0</td>\n",
       "      <td>10.0</td>\n",
       "    </tr>\n",
       "    <tr>\n",
       "      <th>1</th>\n",
       "      <td>Online Bidding Executive</td>\n",
       "      <td>Not Disclosed</td>\n",
       "      <td>NaN</td>\n",
       "      <td>NaN</td>\n",
       "      <td>pre sales| closing| software knowledge| clien...</td>\n",
       "      <td>Retail Sales</td>\n",
       "      <td>Pune,Pune</td>\n",
       "      <td>Sales , Retail , Business Development</td>\n",
       "      <td>IT-Software, Software Services</td>\n",
       "      <td>Sales Executive/Officer</td>\n",
       "      <td>2 - 5</td>\n",
       "      <td>2.0</td>\n",
       "      <td>5.0</td>\n",
       "    </tr>\n",
       "    <tr>\n",
       "      <th>2</th>\n",
       "      <td>Trainee Research/ Research Executive- Hi- Tec...</td>\n",
       "      <td>Not Disclosed</td>\n",
       "      <td>NaN</td>\n",
       "      <td>NaN</td>\n",
       "      <td>Computer science| Fabrication| Quality check|...</td>\n",
       "      <td>R&amp;D</td>\n",
       "      <td>Gurgaon</td>\n",
       "      <td>Engineering Design , R&amp;D</td>\n",
       "      <td>Recruitment, Staffing</td>\n",
       "      <td>R&amp;D Executive</td>\n",
       "      <td>0 - 1</td>\n",
       "      <td>0.0</td>\n",
       "      <td>1.0</td>\n",
       "    </tr>\n",
       "    <tr>\n",
       "      <th>3</th>\n",
       "      <td>Technical Support</td>\n",
       "      <td>2,00,000 - 4,00,000</td>\n",
       "      <td>200000.0</td>\n",
       "      <td>400000.0</td>\n",
       "      <td>Technical Support</td>\n",
       "      <td>Admin/Maintenance/Security/Datawarehousing</td>\n",
       "      <td>Mumbai</td>\n",
       "      <td>IT Software - Application Programming , Mainte...</td>\n",
       "      <td>IT-Software, Software Services</td>\n",
       "      <td>Technical Support Engineer</td>\n",
       "      <td>0 - 5</td>\n",
       "      <td>0.0</td>\n",
       "      <td>5.0</td>\n",
       "    </tr>\n",
       "    <tr>\n",
       "      <th>4</th>\n",
       "      <td>Software Test Engineer -hyderabad</td>\n",
       "      <td>Not Disclosed</td>\n",
       "      <td>NaN</td>\n",
       "      <td>NaN</td>\n",
       "      <td>manual testing| test engineering| test cases|...</td>\n",
       "      <td>Programming &amp; Design</td>\n",
       "      <td>Hyderabad</td>\n",
       "      <td>IT Software - QA &amp; Testing</td>\n",
       "      <td>IT-Software, Software Services</td>\n",
       "      <td>Testing Engineer</td>\n",
       "      <td>2 - 5</td>\n",
       "      <td>2.0</td>\n",
       "      <td>5.0</td>\n",
       "    </tr>\n",
       "  </tbody>\n",
       "</table>\n",
       "</div>"
      ],
      "text/plain": [
       "                                               title               salary  \\\n",
       "0                              Digital Media Planner        Not Disclosed   \n",
       "1                           Online Bidding Executive        Not Disclosed   \n",
       "2   Trainee Research/ Research Executive- Hi- Tec...        Not Disclosed   \n",
       "3                                  Technical Support  2,00,000 - 4,00,000   \n",
       "4                  Software Test Engineer -hyderabad        Not Disclosed   \n",
       "\n",
       "    low_sal  high_sal                                             skills  \\\n",
       "0       NaN       NaN                      Media Planning| Digital Media   \n",
       "1       NaN       NaN   pre sales| closing| software knowledge| clien...   \n",
       "2       NaN       NaN   Computer science| Fabrication| Quality check|...   \n",
       "3  200000.0  400000.0                                  Technical Support   \n",
       "4       NaN       NaN   manual testing| test engineering| test cases|...   \n",
       "\n",
       "                                         role        loc  \\\n",
       "0                                 Advertising     Mumbai   \n",
       "1                                Retail Sales  Pune,Pune   \n",
       "2                                         R&D    Gurgaon   \n",
       "3  Admin/Maintenance/Security/Datawarehousing     Mumbai   \n",
       "4                        Programming & Design  Hyderabad   \n",
       "\n",
       "                                           work_area  \\\n",
       "0  Marketing , Advertising , MR , PR , Media Plan...   \n",
       "1              Sales , Retail , Business Development   \n",
       "2                           Engineering Design , R&D   \n",
       "3  IT Software - Application Programming , Mainte...   \n",
       "4                         IT Software - QA & Testing   \n",
       "\n",
       "                                industry                              post  \\\n",
       "0  Advertising, PR, MR, Event Management  Media Planning Executive/Manager   \n",
       "1         IT-Software, Software Services           Sales Executive/Officer   \n",
       "2                  Recruitment, Staffing                     R&D Executive   \n",
       "3         IT-Software, Software Services        Technical Support Engineer   \n",
       "4         IT-Software, Software Services                  Testing Engineer   \n",
       "\n",
       "  experience  low_exp  high_exp  \n",
       "0     5 - 10      5.0      10.0  \n",
       "1      2 - 5      2.0       5.0  \n",
       "2      0 - 1      0.0       1.0  \n",
       "3      0 - 5      0.0       5.0  \n",
       "4      2 - 5      2.0       5.0  "
      ]
     },
     "execution_count": 8,
     "metadata": {},
     "output_type": "execute_result"
    }
   ],
   "source": [
    "data.head()"
   ]
  },
  {
   "cell_type": "code",
   "execution_count": 7,
   "metadata": {},
   "outputs": [
    {
     "data": {
      "text/html": [
       "<div>\n",
       "<style scoped>\n",
       "    .dataframe tbody tr th:only-of-type {\n",
       "        vertical-align: middle;\n",
       "    }\n",
       "\n",
       "    .dataframe tbody tr th {\n",
       "        vertical-align: top;\n",
       "    }\n",
       "\n",
       "    .dataframe thead th {\n",
       "        text-align: right;\n",
       "    }\n",
       "</style>\n",
       "<table border=\"1\" class=\"dataframe\">\n",
       "  <thead>\n",
       "    <tr style=\"text-align: right;\">\n",
       "      <th></th>\n",
       "      <th>Uniq Id</th>\n",
       "      <th>Crawl Timestamp</th>\n",
       "      <th>Job Title</th>\n",
       "      <th>Job Salary</th>\n",
       "      <th>Job Experience Required</th>\n",
       "      <th>Key Skills</th>\n",
       "      <th>Role Category</th>\n",
       "      <th>Location</th>\n",
       "      <th>Functional Area</th>\n",
       "      <th>Industry</th>\n",
       "      <th>Role</th>\n",
       "      <th>Openings</th>\n",
       "    </tr>\n",
       "  </thead>\n",
       "  <tbody>\n",
       "    <tr>\n",
       "      <th>0</th>\n",
       "      <td>9be62c49a0b7ebe982a4af1edaa7bc5f</td>\n",
       "      <td>2019-07-05 01:46:07 +0000</td>\n",
       "      <td>Digital Media Planner</td>\n",
       "      <td>not disclosed by recruiter</td>\n",
       "      <td>5 - 10 yrs</td>\n",
       "      <td>Media Planning| Digital Media</td>\n",
       "      <td>Advertising</td>\n",
       "      <td>Mumbai</td>\n",
       "      <td>Marketing , Advertising , MR , PR , Media Plan...</td>\n",
       "      <td>Advertising, PR, MR, Event Management</td>\n",
       "      <td>Media Planning Executive/Manager</td>\n",
       "      <td>NaN</td>\n",
       "    </tr>\n",
       "    <tr>\n",
       "      <th>1</th>\n",
       "      <td>3c52d436e39f596b22519da2612f6a56</td>\n",
       "      <td>2019-07-06 08:04:50 +0000</td>\n",
       "      <td>Online Bidding Executive</td>\n",
       "      <td>not disclosed by recruiter</td>\n",
       "      <td>2 - 5 yrs</td>\n",
       "      <td>pre sales| closing| software knowledge| clien...</td>\n",
       "      <td>Retail Sales</td>\n",
       "      <td>Pune,Pune</td>\n",
       "      <td>Sales , Retail , Business Development</td>\n",
       "      <td>IT-Software, Software Services</td>\n",
       "      <td>Sales Executive/Officer</td>\n",
       "      <td>NaN</td>\n",
       "    </tr>\n",
       "    <tr>\n",
       "      <th>2</th>\n",
       "      <td>ffad8a2396c60be2bf6d0e2ff47c58d4</td>\n",
       "      <td>2019-08-05 15:50:44 +0000</td>\n",
       "      <td>Trainee Research/ Research Executive- Hi- Tec...</td>\n",
       "      <td>not disclosed by recruiter</td>\n",
       "      <td>0 - 1 yrs</td>\n",
       "      <td>Computer science| Fabrication| Quality check|...</td>\n",
       "      <td>R&amp;D</td>\n",
       "      <td>Gurgaon</td>\n",
       "      <td>Engineering Design , R&amp;D</td>\n",
       "      <td>Recruitment, Staffing</td>\n",
       "      <td>R&amp;D Executive</td>\n",
       "      <td>NaN</td>\n",
       "    </tr>\n",
       "    <tr>\n",
       "      <th>3</th>\n",
       "      <td>7b921f51b5c2fb862b4a5f7a54c37f75</td>\n",
       "      <td>2019-08-05 15:31:56 +0000</td>\n",
       "      <td>Technical Support</td>\n",
       "      <td>2,00,000 - 4,00,000 pa.</td>\n",
       "      <td>0 - 5 yrs</td>\n",
       "      <td>Technical Support</td>\n",
       "      <td>Admin/Maintenance/Security/Datawarehousing</td>\n",
       "      <td>Mumbai</td>\n",
       "      <td>IT Software - Application Programming , Mainte...</td>\n",
       "      <td>IT-Software, Software Services</td>\n",
       "      <td>Technical Support Engineer</td>\n",
       "      <td>NaN</td>\n",
       "    </tr>\n",
       "    <tr>\n",
       "      <th>4</th>\n",
       "      <td>2d8b7d44e138a54d5dc841163138de50</td>\n",
       "      <td>2019-07-05 02:48:29 +0000</td>\n",
       "      <td>Software Test Engineer -hyderabad</td>\n",
       "      <td>not disclosed by recruiter</td>\n",
       "      <td>2 - 5 yrs</td>\n",
       "      <td>manual testing| test engineering| test cases|...</td>\n",
       "      <td>Programming &amp; Design</td>\n",
       "      <td>Hyderabad</td>\n",
       "      <td>IT Software - QA &amp; Testing</td>\n",
       "      <td>IT-Software, Software Services</td>\n",
       "      <td>Testing Engineer</td>\n",
       "      <td>NaN</td>\n",
       "    </tr>\n",
       "  </tbody>\n",
       "</table>\n",
       "</div>"
      ],
      "text/plain": [
       "                            Uniq Id            Crawl Timestamp  \\\n",
       "0  9be62c49a0b7ebe982a4af1edaa7bc5f  2019-07-05 01:46:07 +0000   \n",
       "1  3c52d436e39f596b22519da2612f6a56  2019-07-06 08:04:50 +0000   \n",
       "2  ffad8a2396c60be2bf6d0e2ff47c58d4  2019-08-05 15:50:44 +0000   \n",
       "3  7b921f51b5c2fb862b4a5f7a54c37f75  2019-08-05 15:31:56 +0000   \n",
       "4  2d8b7d44e138a54d5dc841163138de50  2019-07-05 02:48:29 +0000   \n",
       "\n",
       "                                           Job Title  \\\n",
       "0                              Digital Media Planner   \n",
       "1                           Online Bidding Executive   \n",
       "2   Trainee Research/ Research Executive- Hi- Tec...   \n",
       "3                                  Technical Support   \n",
       "4                  Software Test Engineer -hyderabad   \n",
       "\n",
       "                   Job Salary Job Experience Required  \\\n",
       "0  not disclosed by recruiter              5 - 10 yrs   \n",
       "1  not disclosed by recruiter               2 - 5 yrs   \n",
       "2  not disclosed by recruiter               0 - 1 yrs   \n",
       "3     2,00,000 - 4,00,000 pa.               0 - 5 yrs   \n",
       "4  not disclosed by recruiter               2 - 5 yrs   \n",
       "\n",
       "                                          Key Skills  \\\n",
       "0                      Media Planning| Digital Media   \n",
       "1   pre sales| closing| software knowledge| clien...   \n",
       "2   Computer science| Fabrication| Quality check|...   \n",
       "3                                  Technical Support   \n",
       "4   manual testing| test engineering| test cases|...   \n",
       "\n",
       "                                Role Category   Location  \\\n",
       "0                                 Advertising     Mumbai   \n",
       "1                                Retail Sales  Pune,Pune   \n",
       "2                                         R&D    Gurgaon   \n",
       "3  Admin/Maintenance/Security/Datawarehousing     Mumbai   \n",
       "4                        Programming & Design  Hyderabad   \n",
       "\n",
       "                                     Functional Area  \\\n",
       "0  Marketing , Advertising , MR , PR , Media Plan...   \n",
       "1              Sales , Retail , Business Development   \n",
       "2                           Engineering Design , R&D   \n",
       "3  IT Software - Application Programming , Mainte...   \n",
       "4                         IT Software - QA & Testing   \n",
       "\n",
       "                                Industry                              Role  \\\n",
       "0  Advertising, PR, MR, Event Management  Media Planning Executive/Manager   \n",
       "1         IT-Software, Software Services           Sales Executive/Officer   \n",
       "2                  Recruitment, Staffing                     R&D Executive   \n",
       "3         IT-Software, Software Services        Technical Support Engineer   \n",
       "4         IT-Software, Software Services                  Testing Engineer   \n",
       "\n",
       "   Openings  \n",
       "0       NaN  \n",
       "1       NaN  \n",
       "2       NaN  \n",
       "3       NaN  \n",
       "4       NaN  "
      ]
     },
     "execution_count": 7,
     "metadata": {},
     "output_type": "execute_result"
    }
   ],
   "source": [
    "temp = pd.read_csv(\"cleaned.csv\", usecols = range(2, 14))\n",
    "temp.head()"
   ]
  },
  {
   "cell_type": "code",
   "execution_count": 15,
   "metadata": {},
   "outputs": [
    {
     "name": "stdout",
     "output_type": "stream",
     "text": [
      "\n",
      " Enter your experience in numbers : 3\n",
      "\n",
      " Enter the salary expection : 200000\n",
      "      Job Experience Required               Job Salary\n",
      "3                   0 - 5 yrs  2,00,000 - 4,00,000 pa.\n",
      "20                  3 - 7 yrs  1,00,000 - 3,25,000 pa.\n",
      "23                  2 - 5 yrs  2,00,000 - 3,00,000 pa.\n",
      "26                  3 - 5 yrs  2,00,000 - 4,00,000 pa.\n",
      "43                  1 - 4 yrs  1,00,000 - 4,00,000 pa.\n",
      "...                       ...                      ...\n",
      "29935               1 - 5 yrs  1,50,000 - 2,50,000 pa.\n",
      "29938               0 - 5 yrs  1,50,000 - 4,00,000 pa.\n",
      "29966               2 - 7 yrs  2,00,000 - 5,00,000 pa.\n",
      "29977               0 - 4 yrs  1,00,000 - 4,00,000 pa.\n",
      "29987               0 - 4 yrs  1,50,000 - 2,25,000 pa.\n",
      "\n",
      "[1473 rows x 2 columns]\n"
     ]
    }
   ],
   "source": [
    "def expfilter(x, exp):\n",
    "    if type(x) == str and \"yrs\" in x and \"-\" in x:\n",
    "        s = str(x).split(\"-\")\n",
    "        a = int(s[0])\n",
    "        b = int(s[1][:s[1].index(\"y\")])\n",
    "        if exp in range(a, b):\n",
    "            return True\n",
    "        elif exp==0 and exp==a:\n",
    "            return True\n",
    "        return False\n",
    "    if str(exp) in x:\n",
    "        return True\n",
    "    return False\n",
    "\n",
    "\n",
    "def salfilter(x,sal):\n",
    "    if type(x) == str and \"-\" in x and len(x)<=26 and \"pa.\" in x.lower():\n",
    "        s=str(x).split('-')\n",
    "        p=s[0].replace(',','').strip()\n",
    "        q=s[1].replace(',','').strip()\n",
    "        a=int(p)\n",
    "        b=int(q[:q.index(\"p\")])\n",
    "        if sal in range(a,b):\n",
    "            return True\n",
    "        else:\n",
    "            return False\n",
    "    return False\n",
    "\n",
    "\n",
    "exp = input(\"\\n Enter your experience in numbers : \")\n",
    "if exp.isdigit():\n",
    "    sal = (input(\"\\n Enter the salary expection PA : \"))\n",
    "    if sal.isdigit():\n",
    "        temp_=temp[temp['Job Experience Required'].apply(lambda x:myfilter(str(x), int(exp)))]\n",
    "        print(temp_[temp_['Job Salary'].apply(lambda x: salfilter(str(x),int(sal)))][['Job Experience Required',\"Job Salary\"]])\n",
    "    else:\n",
    "        print(\"\\n SALARY SHOULD BE IN NUMBERS\")\n",
    "else:\n",
    "    print(\"\\n EXPERIENCE SHOULD BE IN NUMBERS\")\n",
    "\n"
   ]
  },
  {
   "cell_type": "code",
   "execution_count": 17,
   "metadata": {},
   "outputs": [
    {
     "data": {
      "text/plain": [
       "Not Disclosed            21934\n",
       "2,00,000 - 4,00,000        202\n",
       "2,00,000 - 3,00,000        189\n",
       "3,00,000 - 5,00,000        152\n",
       "50,000 - 3,00,000          132\n",
       "                         ...  \n",
       "4,75,000 - 5,00,000          1\n",
       "15,00,000 PA.                1\n",
       "11,00,000 - 19,00,000        1\n",
       "5,50,000 - 13,00,000         1\n",
       "35,00,000 - 70,00,000        1\n",
       "Name: salary, Length: 557, dtype: int64"
      ]
     },
     "execution_count": 17,
     "metadata": {},
     "output_type": "execute_result"
    }
   ],
   "source": [
    "data['salary'].value_counts()"
   ]
  },
  {
   "cell_type": "code",
   "execution_count": 26,
   "metadata": {},
   "outputs": [
    {
     "data": {
      "text/plain": [
       "8084"
      ]
     },
     "execution_count": 26,
     "metadata": {},
     "output_type": "execute_result"
    }
   ],
   "source": [
    "temp['Job Salary'].apply(lambda x:True if \"pa\" in str(x) else False).sum()"
   ]
  },
  {
   "cell_type": "code",
   "execution_count": 27,
   "metadata": {},
   "outputs": [
    {
     "data": {
      "text/plain": [
       "(30000, 12)"
      ]
     },
     "execution_count": 27,
     "metadata": {},
     "output_type": "execute_result"
    }
   ],
   "source": [
    "temp.shape"
   ]
  },
  {
   "cell_type": "code",
   "execution_count": 31,
   "metadata": {},
   "outputs": [
    {
     "data": {
      "text/plain": [
       "609"
      ]
     },
     "execution_count": 31,
     "metadata": {},
     "output_type": "execute_result"
    }
   ],
   "source": [
    "count = 0\n",
    "temp['Job Salary'].value_counts().index.str.contains(\"pa\").sum()"
   ]
  },
  {
   "cell_type": "code",
   "execution_count": 37,
   "metadata": {},
   "outputs": [
    {
     "data": {
      "text/plain": [
       "Index(['2,00,000 - 4,00,000 pa.', '2,00,000 - 3,00,000 pa.',\n",
       "       '3,00,000 - 5,00,000 pa.', '50,000 - 3,00,000 pa.',\n",
       "       '3,00,000 - 8,00,000 pa.', '2,00,000 - 5,00,000 pa.',\n",
       "       '4,00,000 - 9,00,000 pa.', '3,00,000 - 6,00,000 pa.',\n",
       "       '1,50,000 - 2,50,000 pa.', '2,00,000 - 3,50,000 pa.',\n",
       "       ...\n",
       "       '1,00,000 - 3,00,000 pa. as per the standards',\n",
       "       '3,75,000 - 8,00,000 pa.', '22,50,000 - 35,00,000 pa.',\n",
       "       '1,75,000 - 6,75,000 pa.', '2,75,000 - 4,75,000 pa.',\n",
       "       '9,50,000 - 12,00,000 pa.', '8,50,000 - 15,00,000 pa.',\n",
       "       '16,00,000 - 18,00,000 pa.', '60,000 - 70,000 pa.',\n",
       "       '60,000 - 1,00,000 pa.'],\n",
       "      dtype='object', length=565)"
      ]
     },
     "execution_count": 37,
     "metadata": {},
     "output_type": "execute_result"
    }
   ],
   "source": [
    "temp['Job Salary'][temp['Job Salary'].apply(lambda x: True if \"-\" in str(x) and \"pa\" in str(x).lower() else False)].value_counts().index"
   ]
  },
  {
   "cell_type": "code",
   "execution_count": 45,
   "metadata": {},
   "outputs": [
    {
     "name": "stdout",
     "output_type": "stream",
     "text": [
      "\n",
      " Enter your experience in numbers : 2\n",
      "\n",
      " Enter the salary expection PA : 400000\n",
      "      Job Experience Required               Job Salary\n",
      "14                  2 - 4 yrs  3,50,000 - 5,00,000 pa.\n",
      "21                  0 - 4 yrs  2,50,000 - 4,50,000 pa.\n",
      "67                  1 - 5 yrs  3,00,000 - 7,00,000 pa.\n",
      "103                 2 - 4 yrs  3,00,000 - 5,00,000 pa.\n",
      "121                 2 - 4 yrs  2,25,000 - 4,25,000 pa.\n",
      "...                       ...                      ...\n",
      "29919               2 - 5 yrs  3,00,000 - 6,00,000 pa.\n",
      "29934               1 - 3 yrs  3,50,000 - 5,50,000 pa.\n",
      "29959               2 - 7 yrs  2,50,000 - 7,50,000 pa.\n",
      "29966               2 - 7 yrs  2,00,000 - 5,00,000 pa.\n",
      "29993               2 - 7 yrs  3,00,000 - 8,00,000 pa.\n",
      "\n",
      "[1336 rows x 2 columns]\n"
     ]
    }
   ],
   "source": [
    "def expfilter(x, exp):\n",
    "    if type(x) == str and \"yrs\" in x and \"-\" in x:\n",
    "        s = str(x).split(\"-\")\n",
    "        a = int(s[0])\n",
    "        b = int(s[1][:s[1].index(\"y\")])\n",
    "        if exp in range(a, b):\n",
    "            return True\n",
    "        elif exp==0 and exp==a:\n",
    "            return True\n",
    "        return False\n",
    "    if str(exp) in x:\n",
    "        return True\n",
    "    return False\n",
    "\n",
    "\n",
    "def salfilter(x,sal):\n",
    "    if type(x) == str and \"-\" in x and \"pa.\" in x.lower():  # if cr crore lkh lakh la\n",
    "        x = x[:x.index(\"pa\")+2]\n",
    "        s=str(x).split('-')\n",
    "        p=s[0].replace(',','').strip()\n",
    "        q=s[1].replace(',','').strip()\n",
    "        try:\n",
    "            a=int(p)\n",
    "            b=int(q[:q.index(\"p\")])\n",
    "        except:\n",
    "            return False\n",
    "        else:\n",
    "            if sal in range(a,b):\n",
    "                return True\n",
    "            else:\n",
    "                return False\n",
    "    return False\n",
    "\n",
    "\n",
    "exp = input(\"\\n Enter your experience in numbers : \")\n",
    "if exp.isdigit():\n",
    "    sal = (input(\"\\n Enter the salary expection PA : \"))\n",
    "    if sal.isdigit():\n",
    "        temp_=temp[temp['Job Experience Required'].apply(lambda x:myfilter(str(x), int(exp)))]\n",
    "        print(temp_[temp_['Job Salary'].apply(lambda x: salfilter(str(x),int(sal)))][['Job Experience Required',\"Job Salary\"]])\n",
    "    else:\n",
    "        print(\"\\n SALARY SHOULD BE IN NUMBERS\")\n",
    "else:\n",
    "    print(\"\\n EXPERIENCE SHOULD BE IN NUMBERS\")\n",
    "\n"
   ]
  },
  {
   "cell_type": "code",
   "execution_count": 3,
   "metadata": {},
   "outputs": [
    {
     "name": "stderr",
     "output_type": "stream",
     "text": [
      "C:\\Anaconda\\lib\\site-packages\\seaborn\\_decorators.py:36: FutureWarning: Pass the following variable as a keyword arg: x. From version 0.12, the only valid positional argument will be `data`, and passing other arguments without an explicit keyword will result in an error or misinterpretation.\n",
      "  warnings.warn(\n"
     ]
    },
    {
     "ename": "KeyboardInterrupt",
     "evalue": "",
     "output_type": "error",
     "traceback": [
      "\u001b[1;31m---------------------------------------------------------------------------\u001b[0m",
      "\u001b[1;31mKeyboardInterrupt\u001b[0m                         Traceback (most recent call last)",
      "\u001b[1;32m<ipython-input-3-1c301e8273d3>\u001b[0m in \u001b[0;36m<module>\u001b[1;34m\u001b[0m\n\u001b[1;32m----> 1\u001b[1;33m \u001b[0msns\u001b[0m\u001b[1;33m.\u001b[0m\u001b[0mcountplot\u001b[0m\u001b[1;33m(\u001b[0m\u001b[0mtemp\u001b[0m\u001b[1;33m[\u001b[0m\u001b[1;34m'Job Title'\u001b[0m\u001b[1;33m]\u001b[0m\u001b[1;33m)\u001b[0m\u001b[1;33m\u001b[0m\u001b[1;33m\u001b[0m\u001b[0m\n\u001b[0m",
      "\u001b[1;32mC:\\Anaconda\\lib\\site-packages\\seaborn\\_decorators.py\u001b[0m in \u001b[0;36minner_f\u001b[1;34m(*args, **kwargs)\u001b[0m\n\u001b[0;32m     44\u001b[0m             )\n\u001b[0;32m     45\u001b[0m         \u001b[0mkwargs\u001b[0m\u001b[1;33m.\u001b[0m\u001b[0mupdate\u001b[0m\u001b[1;33m(\u001b[0m\u001b[1;33m{\u001b[0m\u001b[0mk\u001b[0m\u001b[1;33m:\u001b[0m \u001b[0marg\u001b[0m \u001b[1;32mfor\u001b[0m \u001b[0mk\u001b[0m\u001b[1;33m,\u001b[0m \u001b[0marg\u001b[0m \u001b[1;32min\u001b[0m \u001b[0mzip\u001b[0m\u001b[1;33m(\u001b[0m\u001b[0msig\u001b[0m\u001b[1;33m.\u001b[0m\u001b[0mparameters\u001b[0m\u001b[1;33m,\u001b[0m \u001b[0margs\u001b[0m\u001b[1;33m)\u001b[0m\u001b[1;33m}\u001b[0m\u001b[1;33m)\u001b[0m\u001b[1;33m\u001b[0m\u001b[1;33m\u001b[0m\u001b[0m\n\u001b[1;32m---> 46\u001b[1;33m         \u001b[1;32mreturn\u001b[0m \u001b[0mf\u001b[0m\u001b[1;33m(\u001b[0m\u001b[1;33m**\u001b[0m\u001b[0mkwargs\u001b[0m\u001b[1;33m)\u001b[0m\u001b[1;33m\u001b[0m\u001b[1;33m\u001b[0m\u001b[0m\n\u001b[0m\u001b[0;32m     47\u001b[0m     \u001b[1;32mreturn\u001b[0m \u001b[0minner_f\u001b[0m\u001b[1;33m\u001b[0m\u001b[1;33m\u001b[0m\u001b[0m\n\u001b[0;32m     48\u001b[0m \u001b[1;33m\u001b[0m\u001b[0m\n",
      "\u001b[1;32mC:\\Anaconda\\lib\\site-packages\\seaborn\\categorical.py\u001b[0m in \u001b[0;36mcountplot\u001b[1;34m(x, y, hue, data, order, hue_order, orient, color, palette, saturation, dodge, ax, **kwargs)\u001b[0m\n\u001b[0;32m   3605\u001b[0m         \u001b[0max\u001b[0m \u001b[1;33m=\u001b[0m \u001b[0mplt\u001b[0m\u001b[1;33m.\u001b[0m\u001b[0mgca\u001b[0m\u001b[1;33m(\u001b[0m\u001b[1;33m)\u001b[0m\u001b[1;33m\u001b[0m\u001b[1;33m\u001b[0m\u001b[0m\n\u001b[0;32m   3606\u001b[0m \u001b[1;33m\u001b[0m\u001b[0m\n\u001b[1;32m-> 3607\u001b[1;33m     \u001b[0mplotter\u001b[0m\u001b[1;33m.\u001b[0m\u001b[0mplot\u001b[0m\u001b[1;33m(\u001b[0m\u001b[0max\u001b[0m\u001b[1;33m,\u001b[0m \u001b[0mkwargs\u001b[0m\u001b[1;33m)\u001b[0m\u001b[1;33m\u001b[0m\u001b[1;33m\u001b[0m\u001b[0m\n\u001b[0m\u001b[0;32m   3608\u001b[0m     \u001b[1;32mreturn\u001b[0m \u001b[0max\u001b[0m\u001b[1;33m\u001b[0m\u001b[1;33m\u001b[0m\u001b[0m\n\u001b[0;32m   3609\u001b[0m \u001b[1;33m\u001b[0m\u001b[0m\n",
      "\u001b[1;32mC:\\Anaconda\\lib\\site-packages\\seaborn\\categorical.py\u001b[0m in \u001b[0;36mplot\u001b[1;34m(self, ax, bar_kws)\u001b[0m\n\u001b[0;32m   1637\u001b[0m     \u001b[1;32mdef\u001b[0m \u001b[0mplot\u001b[0m\u001b[1;33m(\u001b[0m\u001b[0mself\u001b[0m\u001b[1;33m,\u001b[0m \u001b[0max\u001b[0m\u001b[1;33m,\u001b[0m \u001b[0mbar_kws\u001b[0m\u001b[1;33m)\u001b[0m\u001b[1;33m:\u001b[0m\u001b[1;33m\u001b[0m\u001b[1;33m\u001b[0m\u001b[0m\n\u001b[0;32m   1638\u001b[0m         \u001b[1;34m\"\"\"Make the plot.\"\"\"\u001b[0m\u001b[1;33m\u001b[0m\u001b[1;33m\u001b[0m\u001b[0m\n\u001b[1;32m-> 1639\u001b[1;33m         \u001b[0mself\u001b[0m\u001b[1;33m.\u001b[0m\u001b[0mdraw_bars\u001b[0m\u001b[1;33m(\u001b[0m\u001b[0max\u001b[0m\u001b[1;33m,\u001b[0m \u001b[0mbar_kws\u001b[0m\u001b[1;33m)\u001b[0m\u001b[1;33m\u001b[0m\u001b[1;33m\u001b[0m\u001b[0m\n\u001b[0m\u001b[0;32m   1640\u001b[0m         \u001b[0mself\u001b[0m\u001b[1;33m.\u001b[0m\u001b[0mannotate_axes\u001b[0m\u001b[1;33m(\u001b[0m\u001b[0max\u001b[0m\u001b[1;33m)\u001b[0m\u001b[1;33m\u001b[0m\u001b[1;33m\u001b[0m\u001b[0m\n\u001b[0;32m   1641\u001b[0m         \u001b[1;32mif\u001b[0m \u001b[0mself\u001b[0m\u001b[1;33m.\u001b[0m\u001b[0morient\u001b[0m \u001b[1;33m==\u001b[0m \u001b[1;34m\"h\"\u001b[0m\u001b[1;33m:\u001b[0m\u001b[1;33m\u001b[0m\u001b[1;33m\u001b[0m\u001b[0m\n",
      "\u001b[1;32mC:\\Anaconda\\lib\\site-packages\\seaborn\\categorical.py\u001b[0m in \u001b[0;36mdraw_bars\u001b[1;34m(self, ax, kws)\u001b[0m\n\u001b[0;32m   1602\u001b[0m \u001b[1;33m\u001b[0m\u001b[0m\n\u001b[0;32m   1603\u001b[0m             \u001b[1;31m# Draw the bars\u001b[0m\u001b[1;33m\u001b[0m\u001b[1;33m\u001b[0m\u001b[1;33m\u001b[0m\u001b[0m\n\u001b[1;32m-> 1604\u001b[1;33m             barfunc(barpos, self.statistic, self.width,\n\u001b[0m\u001b[0;32m   1605\u001b[0m                     color=self.colors, align=\"center\", **kws)\n\u001b[0;32m   1606\u001b[0m \u001b[1;33m\u001b[0m\u001b[0m\n",
      "\u001b[1;32mC:\\Anaconda\\lib\\site-packages\\matplotlib\\__init__.py\u001b[0m in \u001b[0;36minner\u001b[1;34m(ax, data, *args, **kwargs)\u001b[0m\n\u001b[0;32m   1436\u001b[0m     \u001b[1;32mdef\u001b[0m \u001b[0minner\u001b[0m\u001b[1;33m(\u001b[0m\u001b[0max\u001b[0m\u001b[1;33m,\u001b[0m \u001b[1;33m*\u001b[0m\u001b[0margs\u001b[0m\u001b[1;33m,\u001b[0m \u001b[0mdata\u001b[0m\u001b[1;33m=\u001b[0m\u001b[1;32mNone\u001b[0m\u001b[1;33m,\u001b[0m \u001b[1;33m**\u001b[0m\u001b[0mkwargs\u001b[0m\u001b[1;33m)\u001b[0m\u001b[1;33m:\u001b[0m\u001b[1;33m\u001b[0m\u001b[1;33m\u001b[0m\u001b[0m\n\u001b[0;32m   1437\u001b[0m         \u001b[1;32mif\u001b[0m \u001b[0mdata\u001b[0m \u001b[1;32mis\u001b[0m \u001b[1;32mNone\u001b[0m\u001b[1;33m:\u001b[0m\u001b[1;33m\u001b[0m\u001b[1;33m\u001b[0m\u001b[0m\n\u001b[1;32m-> 1438\u001b[1;33m             \u001b[1;32mreturn\u001b[0m \u001b[0mfunc\u001b[0m\u001b[1;33m(\u001b[0m\u001b[0max\u001b[0m\u001b[1;33m,\u001b[0m \u001b[1;33m*\u001b[0m\u001b[0mmap\u001b[0m\u001b[1;33m(\u001b[0m\u001b[0msanitize_sequence\u001b[0m\u001b[1;33m,\u001b[0m \u001b[0margs\u001b[0m\u001b[1;33m)\u001b[0m\u001b[1;33m,\u001b[0m \u001b[1;33m**\u001b[0m\u001b[0mkwargs\u001b[0m\u001b[1;33m)\u001b[0m\u001b[1;33m\u001b[0m\u001b[1;33m\u001b[0m\u001b[0m\n\u001b[0m\u001b[0;32m   1439\u001b[0m \u001b[1;33m\u001b[0m\u001b[0m\n\u001b[0;32m   1440\u001b[0m         \u001b[0mbound\u001b[0m \u001b[1;33m=\u001b[0m \u001b[0mnew_sig\u001b[0m\u001b[1;33m.\u001b[0m\u001b[0mbind\u001b[0m\u001b[1;33m(\u001b[0m\u001b[0max\u001b[0m\u001b[1;33m,\u001b[0m \u001b[1;33m*\u001b[0m\u001b[0margs\u001b[0m\u001b[1;33m,\u001b[0m \u001b[1;33m**\u001b[0m\u001b[0mkwargs\u001b[0m\u001b[1;33m)\u001b[0m\u001b[1;33m\u001b[0m\u001b[1;33m\u001b[0m\u001b[0m\n",
      "\u001b[1;32mC:\\Anaconda\\lib\\site-packages\\matplotlib\\axes\\_axes.py\u001b[0m in \u001b[0;36mbar\u001b[1;34m(self, x, height, width, bottom, align, **kwargs)\u001b[0m\n\u001b[0;32m   2492\u001b[0m             \u001b[1;32melif\u001b[0m \u001b[0morientation\u001b[0m \u001b[1;33m==\u001b[0m \u001b[1;34m'horizontal'\u001b[0m\u001b[1;33m:\u001b[0m\u001b[1;33m\u001b[0m\u001b[1;33m\u001b[0m\u001b[0m\n\u001b[0;32m   2493\u001b[0m                 \u001b[0mr\u001b[0m\u001b[1;33m.\u001b[0m\u001b[0msticky_edges\u001b[0m\u001b[1;33m.\u001b[0m\u001b[0mx\u001b[0m\u001b[1;33m.\u001b[0m\u001b[0mappend\u001b[0m\u001b[1;33m(\u001b[0m\u001b[0ml\u001b[0m\u001b[1;33m)\u001b[0m\u001b[1;33m\u001b[0m\u001b[1;33m\u001b[0m\u001b[0m\n\u001b[1;32m-> 2494\u001b[1;33m             \u001b[0mself\u001b[0m\u001b[1;33m.\u001b[0m\u001b[0madd_patch\u001b[0m\u001b[1;33m(\u001b[0m\u001b[0mr\u001b[0m\u001b[1;33m)\u001b[0m\u001b[1;33m\u001b[0m\u001b[1;33m\u001b[0m\u001b[0m\n\u001b[0m\u001b[0;32m   2495\u001b[0m             \u001b[0mpatches\u001b[0m\u001b[1;33m.\u001b[0m\u001b[0mappend\u001b[0m\u001b[1;33m(\u001b[0m\u001b[0mr\u001b[0m\u001b[1;33m)\u001b[0m\u001b[1;33m\u001b[0m\u001b[1;33m\u001b[0m\u001b[0m\n\u001b[0;32m   2496\u001b[0m \u001b[1;33m\u001b[0m\u001b[0m\n",
      "\u001b[1;32mC:\\Anaconda\\lib\\site-packages\\matplotlib\\axes\\_base.py\u001b[0m in \u001b[0;36madd_patch\u001b[1;34m(self, p)\u001b[0m\n\u001b[0;32m   2031\u001b[0m         \u001b[1;32mif\u001b[0m \u001b[0mp\u001b[0m\u001b[1;33m.\u001b[0m\u001b[0mget_clip_path\u001b[0m\u001b[1;33m(\u001b[0m\u001b[1;33m)\u001b[0m \u001b[1;32mis\u001b[0m \u001b[1;32mNone\u001b[0m\u001b[1;33m:\u001b[0m\u001b[1;33m\u001b[0m\u001b[1;33m\u001b[0m\u001b[0m\n\u001b[0;32m   2032\u001b[0m             \u001b[0mp\u001b[0m\u001b[1;33m.\u001b[0m\u001b[0mset_clip_path\u001b[0m\u001b[1;33m(\u001b[0m\u001b[0mself\u001b[0m\u001b[1;33m.\u001b[0m\u001b[0mpatch\u001b[0m\u001b[1;33m)\u001b[0m\u001b[1;33m\u001b[0m\u001b[1;33m\u001b[0m\u001b[0m\n\u001b[1;32m-> 2033\u001b[1;33m         \u001b[0mself\u001b[0m\u001b[1;33m.\u001b[0m\u001b[0m_update_patch_limits\u001b[0m\u001b[1;33m(\u001b[0m\u001b[0mp\u001b[0m\u001b[1;33m)\u001b[0m\u001b[1;33m\u001b[0m\u001b[1;33m\u001b[0m\u001b[0m\n\u001b[0m\u001b[0;32m   2034\u001b[0m         \u001b[0mself\u001b[0m\u001b[1;33m.\u001b[0m\u001b[0mpatches\u001b[0m\u001b[1;33m.\u001b[0m\u001b[0mappend\u001b[0m\u001b[1;33m(\u001b[0m\u001b[0mp\u001b[0m\u001b[1;33m)\u001b[0m\u001b[1;33m\u001b[0m\u001b[1;33m\u001b[0m\u001b[0m\n\u001b[0;32m   2035\u001b[0m         \u001b[0mp\u001b[0m\u001b[1;33m.\u001b[0m\u001b[0m_remove_method\u001b[0m \u001b[1;33m=\u001b[0m \u001b[0mself\u001b[0m\u001b[1;33m.\u001b[0m\u001b[0mpatches\u001b[0m\u001b[1;33m.\u001b[0m\u001b[0mremove\u001b[0m\u001b[1;33m\u001b[0m\u001b[1;33m\u001b[0m\u001b[0m\n",
      "\u001b[1;32mC:\\Anaconda\\lib\\site-packages\\matplotlib\\axes\\_base.py\u001b[0m in \u001b[0;36m_update_patch_limits\u001b[1;34m(self, patch)\u001b[0m\n\u001b[0;32m   2051\u001b[0m         \u001b[0mvertices\u001b[0m \u001b[1;33m=\u001b[0m \u001b[0mpatch\u001b[0m\u001b[1;33m.\u001b[0m\u001b[0mget_path\u001b[0m\u001b[1;33m(\u001b[0m\u001b[1;33m)\u001b[0m\u001b[1;33m.\u001b[0m\u001b[0mvertices\u001b[0m\u001b[1;33m\u001b[0m\u001b[1;33m\u001b[0m\u001b[0m\n\u001b[0;32m   2052\u001b[0m         \u001b[1;32mif\u001b[0m \u001b[0mvertices\u001b[0m\u001b[1;33m.\u001b[0m\u001b[0msize\u001b[0m \u001b[1;33m>\u001b[0m \u001b[1;36m0\u001b[0m\u001b[1;33m:\u001b[0m\u001b[1;33m\u001b[0m\u001b[1;33m\u001b[0m\u001b[0m\n\u001b[1;32m-> 2053\u001b[1;33m             \u001b[0mxys\u001b[0m \u001b[1;33m=\u001b[0m \u001b[0mpatch\u001b[0m\u001b[1;33m.\u001b[0m\u001b[0mget_patch_transform\u001b[0m\u001b[1;33m(\u001b[0m\u001b[1;33m)\u001b[0m\u001b[1;33m.\u001b[0m\u001b[0mtransform\u001b[0m\u001b[1;33m(\u001b[0m\u001b[0mvertices\u001b[0m\u001b[1;33m)\u001b[0m\u001b[1;33m\u001b[0m\u001b[1;33m\u001b[0m\u001b[0m\n\u001b[0m\u001b[0;32m   2054\u001b[0m             \u001b[1;32mif\u001b[0m \u001b[0mpatch\u001b[0m\u001b[1;33m.\u001b[0m\u001b[0mget_data_transform\u001b[0m\u001b[1;33m(\u001b[0m\u001b[1;33m)\u001b[0m \u001b[1;33m!=\u001b[0m \u001b[0mself\u001b[0m\u001b[1;33m.\u001b[0m\u001b[0mtransData\u001b[0m\u001b[1;33m:\u001b[0m\u001b[1;33m\u001b[0m\u001b[1;33m\u001b[0m\u001b[0m\n\u001b[0;32m   2055\u001b[0m                 patch_to_data = (patch.get_data_transform() -\n",
      "\u001b[1;32mC:\\Anaconda\\lib\\site-packages\\matplotlib\\transforms.py\u001b[0m in \u001b[0;36mtransform\u001b[1;34m(self, values)\u001b[0m\n\u001b[0;32m   1420\u001b[0m \u001b[1;33m\u001b[0m\u001b[0m\n\u001b[0;32m   1421\u001b[0m         \u001b[1;31m# Transform the values\u001b[0m\u001b[1;33m\u001b[0m\u001b[1;33m\u001b[0m\u001b[1;33m\u001b[0m\u001b[0m\n\u001b[1;32m-> 1422\u001b[1;33m         \u001b[0mres\u001b[0m \u001b[1;33m=\u001b[0m \u001b[0mself\u001b[0m\u001b[1;33m.\u001b[0m\u001b[0mtransform_affine\u001b[0m\u001b[1;33m(\u001b[0m\u001b[0mself\u001b[0m\u001b[1;33m.\u001b[0m\u001b[0mtransform_non_affine\u001b[0m\u001b[1;33m(\u001b[0m\u001b[0mvalues\u001b[0m\u001b[1;33m)\u001b[0m\u001b[1;33m)\u001b[0m\u001b[1;33m\u001b[0m\u001b[1;33m\u001b[0m\u001b[0m\n\u001b[0m\u001b[0;32m   1423\u001b[0m \u001b[1;33m\u001b[0m\u001b[0m\n\u001b[0;32m   1424\u001b[0m         \u001b[1;31m# Convert the result back to the shape of the input values.\u001b[0m\u001b[1;33m\u001b[0m\u001b[1;33m\u001b[0m\u001b[1;33m\u001b[0m\u001b[0m\n",
      "\u001b[1;32mC:\\Anaconda\\lib\\site-packages\\matplotlib\\transforms.py\u001b[0m in \u001b[0;36mtransform_affine\u001b[1;34m(self, points)\u001b[0m\n\u001b[0;32m   2342\u001b[0m     \u001b[1;32mdef\u001b[0m \u001b[0mtransform_affine\u001b[0m\u001b[1;33m(\u001b[0m\u001b[0mself\u001b[0m\u001b[1;33m,\u001b[0m \u001b[0mpoints\u001b[0m\u001b[1;33m)\u001b[0m\u001b[1;33m:\u001b[0m\u001b[1;33m\u001b[0m\u001b[1;33m\u001b[0m\u001b[0m\n\u001b[0;32m   2343\u001b[0m         \u001b[1;31m# docstring inherited\u001b[0m\u001b[1;33m\u001b[0m\u001b[1;33m\u001b[0m\u001b[1;33m\u001b[0m\u001b[0m\n\u001b[1;32m-> 2344\u001b[1;33m         \u001b[1;32mreturn\u001b[0m \u001b[0mself\u001b[0m\u001b[1;33m.\u001b[0m\u001b[0mget_affine\u001b[0m\u001b[1;33m(\u001b[0m\u001b[1;33m)\u001b[0m\u001b[1;33m.\u001b[0m\u001b[0mtransform\u001b[0m\u001b[1;33m(\u001b[0m\u001b[0mpoints\u001b[0m\u001b[1;33m)\u001b[0m\u001b[1;33m\u001b[0m\u001b[1;33m\u001b[0m\u001b[0m\n\u001b[0m\u001b[0;32m   2345\u001b[0m \u001b[1;33m\u001b[0m\u001b[0m\n\u001b[0;32m   2346\u001b[0m     \u001b[1;32mdef\u001b[0m \u001b[0mtransform_non_affine\u001b[0m\u001b[1;33m(\u001b[0m\u001b[0mself\u001b[0m\u001b[1;33m,\u001b[0m \u001b[0mpoints\u001b[0m\u001b[1;33m)\u001b[0m\u001b[1;33m:\u001b[0m\u001b[1;33m\u001b[0m\u001b[1;33m\u001b[0m\u001b[0m\n",
      "\u001b[1;32mC:\\Anaconda\\lib\\site-packages\\matplotlib\\transforms.py\u001b[0m in \u001b[0;36mget_affine\u001b[1;34m(self)\u001b[0m\n\u001b[0;32m   2369\u001b[0m             \u001b[1;32mreturn\u001b[0m \u001b[0mself\u001b[0m\u001b[1;33m.\u001b[0m\u001b[0m_b\u001b[0m\u001b[1;33m.\u001b[0m\u001b[0mget_affine\u001b[0m\u001b[1;33m(\u001b[0m\u001b[1;33m)\u001b[0m\u001b[1;33m\u001b[0m\u001b[1;33m\u001b[0m\u001b[0m\n\u001b[0;32m   2370\u001b[0m         \u001b[1;32melse\u001b[0m\u001b[1;33m:\u001b[0m\u001b[1;33m\u001b[0m\u001b[1;33m\u001b[0m\u001b[0m\n\u001b[1;32m-> 2371\u001b[1;33m             return Affine2D(np.dot(self._b.get_affine().get_matrix(),\n\u001b[0m\u001b[0;32m   2372\u001b[0m                                    self._a.get_affine().get_matrix()))\n\u001b[0;32m   2373\u001b[0m \u001b[1;33m\u001b[0m\u001b[0m\n",
      "\u001b[1;32m<__array_function__ internals>\u001b[0m in \u001b[0;36mdot\u001b[1;34m(*args, **kwargs)\u001b[0m\n",
      "\u001b[1;31mKeyboardInterrupt\u001b[0m: "
     ]
    },
    {
     "name": "stdout",
     "output_type": "stream",
     "text": [
      "Error in callback <function flush_figures at 0x000001D8B30AA670> (for post_execute):\n"
     ]
    },
    {
     "ename": "KeyboardInterrupt",
     "evalue": "",
     "output_type": "error",
     "traceback": [
      "\u001b[1;31m---------------------------------------------------------------------------\u001b[0m",
      "\u001b[1;31mKeyboardInterrupt\u001b[0m                         Traceback (most recent call last)",
      "\u001b[1;32mC:\\Anaconda\\lib\\site-packages\\ipykernel\\pylab\\backend_inline.py\u001b[0m in \u001b[0;36mflush_figures\u001b[1;34m()\u001b[0m\n\u001b[0;32m    119\u001b[0m         \u001b[1;31m# ignore the tracking, just draw and close all figures\u001b[0m\u001b[1;33m\u001b[0m\u001b[1;33m\u001b[0m\u001b[1;33m\u001b[0m\u001b[0m\n\u001b[0;32m    120\u001b[0m         \u001b[1;32mtry\u001b[0m\u001b[1;33m:\u001b[0m\u001b[1;33m\u001b[0m\u001b[1;33m\u001b[0m\u001b[0m\n\u001b[1;32m--> 121\u001b[1;33m             \u001b[1;32mreturn\u001b[0m \u001b[0mshow\u001b[0m\u001b[1;33m(\u001b[0m\u001b[1;32mTrue\u001b[0m\u001b[1;33m)\u001b[0m\u001b[1;33m\u001b[0m\u001b[1;33m\u001b[0m\u001b[0m\n\u001b[0m\u001b[0;32m    122\u001b[0m         \u001b[1;32mexcept\u001b[0m \u001b[0mException\u001b[0m \u001b[1;32mas\u001b[0m \u001b[0me\u001b[0m\u001b[1;33m:\u001b[0m\u001b[1;33m\u001b[0m\u001b[1;33m\u001b[0m\u001b[0m\n\u001b[0;32m    123\u001b[0m             \u001b[1;31m# safely show traceback if in IPython, else raise\u001b[0m\u001b[1;33m\u001b[0m\u001b[1;33m\u001b[0m\u001b[1;33m\u001b[0m\u001b[0m\n",
      "\u001b[1;32mC:\\Anaconda\\lib\\site-packages\\ipykernel\\pylab\\backend_inline.py\u001b[0m in \u001b[0;36mshow\u001b[1;34m(close, block)\u001b[0m\n\u001b[0;32m     39\u001b[0m     \u001b[1;32mtry\u001b[0m\u001b[1;33m:\u001b[0m\u001b[1;33m\u001b[0m\u001b[1;33m\u001b[0m\u001b[0m\n\u001b[0;32m     40\u001b[0m         \u001b[1;32mfor\u001b[0m \u001b[0mfigure_manager\u001b[0m \u001b[1;32min\u001b[0m \u001b[0mGcf\u001b[0m\u001b[1;33m.\u001b[0m\u001b[0mget_all_fig_managers\u001b[0m\u001b[1;33m(\u001b[0m\u001b[1;33m)\u001b[0m\u001b[1;33m:\u001b[0m\u001b[1;33m\u001b[0m\u001b[1;33m\u001b[0m\u001b[0m\n\u001b[1;32m---> 41\u001b[1;33m             display(\n\u001b[0m\u001b[0;32m     42\u001b[0m                 \u001b[0mfigure_manager\u001b[0m\u001b[1;33m.\u001b[0m\u001b[0mcanvas\u001b[0m\u001b[1;33m.\u001b[0m\u001b[0mfigure\u001b[0m\u001b[1;33m,\u001b[0m\u001b[1;33m\u001b[0m\u001b[1;33m\u001b[0m\u001b[0m\n\u001b[0;32m     43\u001b[0m                 \u001b[0mmetadata\u001b[0m\u001b[1;33m=\u001b[0m\u001b[0m_fetch_figure_metadata\u001b[0m\u001b[1;33m(\u001b[0m\u001b[0mfigure_manager\u001b[0m\u001b[1;33m.\u001b[0m\u001b[0mcanvas\u001b[0m\u001b[1;33m.\u001b[0m\u001b[0mfigure\u001b[0m\u001b[1;33m)\u001b[0m\u001b[1;33m\u001b[0m\u001b[1;33m\u001b[0m\u001b[0m\n",
      "\u001b[1;32mC:\\Anaconda\\lib\\site-packages\\IPython\\core\\display.py\u001b[0m in \u001b[0;36mdisplay\u001b[1;34m(include, exclude, metadata, transient, display_id, *objs, **kwargs)\u001b[0m\n\u001b[0;32m    311\u001b[0m             \u001b[0mpublish_display_data\u001b[0m\u001b[1;33m(\u001b[0m\u001b[0mdata\u001b[0m\u001b[1;33m=\u001b[0m\u001b[0mobj\u001b[0m\u001b[1;33m,\u001b[0m \u001b[0mmetadata\u001b[0m\u001b[1;33m=\u001b[0m\u001b[0mmetadata\u001b[0m\u001b[1;33m,\u001b[0m \u001b[1;33m**\u001b[0m\u001b[0mkwargs\u001b[0m\u001b[1;33m)\u001b[0m\u001b[1;33m\u001b[0m\u001b[1;33m\u001b[0m\u001b[0m\n\u001b[0;32m    312\u001b[0m         \u001b[1;32melse\u001b[0m\u001b[1;33m:\u001b[0m\u001b[1;33m\u001b[0m\u001b[1;33m\u001b[0m\u001b[0m\n\u001b[1;32m--> 313\u001b[1;33m             \u001b[0mformat_dict\u001b[0m\u001b[1;33m,\u001b[0m \u001b[0mmd_dict\u001b[0m \u001b[1;33m=\u001b[0m \u001b[0mformat\u001b[0m\u001b[1;33m(\u001b[0m\u001b[0mobj\u001b[0m\u001b[1;33m,\u001b[0m \u001b[0minclude\u001b[0m\u001b[1;33m=\u001b[0m\u001b[0minclude\u001b[0m\u001b[1;33m,\u001b[0m \u001b[0mexclude\u001b[0m\u001b[1;33m=\u001b[0m\u001b[0mexclude\u001b[0m\u001b[1;33m)\u001b[0m\u001b[1;33m\u001b[0m\u001b[1;33m\u001b[0m\u001b[0m\n\u001b[0m\u001b[0;32m    314\u001b[0m             \u001b[1;32mif\u001b[0m \u001b[1;32mnot\u001b[0m \u001b[0mformat_dict\u001b[0m\u001b[1;33m:\u001b[0m\u001b[1;33m\u001b[0m\u001b[1;33m\u001b[0m\u001b[0m\n\u001b[0;32m    315\u001b[0m                 \u001b[1;31m# nothing to display (e.g. _ipython_display_ took over)\u001b[0m\u001b[1;33m\u001b[0m\u001b[1;33m\u001b[0m\u001b[1;33m\u001b[0m\u001b[0m\n",
      "\u001b[1;32mC:\\Anaconda\\lib\\site-packages\\IPython\\core\\formatters.py\u001b[0m in \u001b[0;36mformat\u001b[1;34m(self, obj, include, exclude)\u001b[0m\n\u001b[0;32m    178\u001b[0m             \u001b[0mmd\u001b[0m \u001b[1;33m=\u001b[0m \u001b[1;32mNone\u001b[0m\u001b[1;33m\u001b[0m\u001b[1;33m\u001b[0m\u001b[0m\n\u001b[0;32m    179\u001b[0m             \u001b[1;32mtry\u001b[0m\u001b[1;33m:\u001b[0m\u001b[1;33m\u001b[0m\u001b[1;33m\u001b[0m\u001b[0m\n\u001b[1;32m--> 180\u001b[1;33m                 \u001b[0mdata\u001b[0m \u001b[1;33m=\u001b[0m \u001b[0mformatter\u001b[0m\u001b[1;33m(\u001b[0m\u001b[0mobj\u001b[0m\u001b[1;33m)\u001b[0m\u001b[1;33m\u001b[0m\u001b[1;33m\u001b[0m\u001b[0m\n\u001b[0m\u001b[0;32m    181\u001b[0m             \u001b[1;32mexcept\u001b[0m\u001b[1;33m:\u001b[0m\u001b[1;33m\u001b[0m\u001b[1;33m\u001b[0m\u001b[0m\n\u001b[0;32m    182\u001b[0m                 \u001b[1;31m# FIXME: log the exception\u001b[0m\u001b[1;33m\u001b[0m\u001b[1;33m\u001b[0m\u001b[1;33m\u001b[0m\u001b[0m\n",
      "\u001b[1;32m<decorator-gen-2>\u001b[0m in \u001b[0;36m__call__\u001b[1;34m(self, obj)\u001b[0m\n",
      "\u001b[1;32mC:\\Anaconda\\lib\\site-packages\\IPython\\core\\formatters.py\u001b[0m in \u001b[0;36mcatch_format_error\u001b[1;34m(method, self, *args, **kwargs)\u001b[0m\n\u001b[0;32m    222\u001b[0m     \u001b[1;34m\"\"\"show traceback on failed format call\"\"\"\u001b[0m\u001b[1;33m\u001b[0m\u001b[1;33m\u001b[0m\u001b[0m\n\u001b[0;32m    223\u001b[0m     \u001b[1;32mtry\u001b[0m\u001b[1;33m:\u001b[0m\u001b[1;33m\u001b[0m\u001b[1;33m\u001b[0m\u001b[0m\n\u001b[1;32m--> 224\u001b[1;33m         \u001b[0mr\u001b[0m \u001b[1;33m=\u001b[0m \u001b[0mmethod\u001b[0m\u001b[1;33m(\u001b[0m\u001b[0mself\u001b[0m\u001b[1;33m,\u001b[0m \u001b[1;33m*\u001b[0m\u001b[0margs\u001b[0m\u001b[1;33m,\u001b[0m \u001b[1;33m**\u001b[0m\u001b[0mkwargs\u001b[0m\u001b[1;33m)\u001b[0m\u001b[1;33m\u001b[0m\u001b[1;33m\u001b[0m\u001b[0m\n\u001b[0m\u001b[0;32m    225\u001b[0m     \u001b[1;32mexcept\u001b[0m \u001b[0mNotImplementedError\u001b[0m\u001b[1;33m:\u001b[0m\u001b[1;33m\u001b[0m\u001b[1;33m\u001b[0m\u001b[0m\n\u001b[0;32m    226\u001b[0m         \u001b[1;31m# don't warn on NotImplementedErrors\u001b[0m\u001b[1;33m\u001b[0m\u001b[1;33m\u001b[0m\u001b[1;33m\u001b[0m\u001b[0m\n",
      "\u001b[1;32mC:\\Anaconda\\lib\\site-packages\\IPython\\core\\formatters.py\u001b[0m in \u001b[0;36m__call__\u001b[1;34m(self, obj)\u001b[0m\n\u001b[0;32m    339\u001b[0m                 \u001b[1;32mpass\u001b[0m\u001b[1;33m\u001b[0m\u001b[1;33m\u001b[0m\u001b[0m\n\u001b[0;32m    340\u001b[0m             \u001b[1;32melse\u001b[0m\u001b[1;33m:\u001b[0m\u001b[1;33m\u001b[0m\u001b[1;33m\u001b[0m\u001b[0m\n\u001b[1;32m--> 341\u001b[1;33m                 \u001b[1;32mreturn\u001b[0m \u001b[0mprinter\u001b[0m\u001b[1;33m(\u001b[0m\u001b[0mobj\u001b[0m\u001b[1;33m)\u001b[0m\u001b[1;33m\u001b[0m\u001b[1;33m\u001b[0m\u001b[0m\n\u001b[0m\u001b[0;32m    342\u001b[0m             \u001b[1;31m# Finally look for special method names\u001b[0m\u001b[1;33m\u001b[0m\u001b[1;33m\u001b[0m\u001b[1;33m\u001b[0m\u001b[0m\n\u001b[0;32m    343\u001b[0m             \u001b[0mmethod\u001b[0m \u001b[1;33m=\u001b[0m \u001b[0mget_real_method\u001b[0m\u001b[1;33m(\u001b[0m\u001b[0mobj\u001b[0m\u001b[1;33m,\u001b[0m \u001b[0mself\u001b[0m\u001b[1;33m.\u001b[0m\u001b[0mprint_method\u001b[0m\u001b[1;33m)\u001b[0m\u001b[1;33m\u001b[0m\u001b[1;33m\u001b[0m\u001b[0m\n",
      "\u001b[1;32mC:\\Anaconda\\lib\\site-packages\\IPython\\core\\pylabtools.py\u001b[0m in \u001b[0;36m<lambda>\u001b[1;34m(fig)\u001b[0m\n\u001b[0;32m    246\u001b[0m \u001b[1;33m\u001b[0m\u001b[0m\n\u001b[0;32m    247\u001b[0m     \u001b[1;32mif\u001b[0m \u001b[1;34m'png'\u001b[0m \u001b[1;32min\u001b[0m \u001b[0mformats\u001b[0m\u001b[1;33m:\u001b[0m\u001b[1;33m\u001b[0m\u001b[1;33m\u001b[0m\u001b[0m\n\u001b[1;32m--> 248\u001b[1;33m         \u001b[0mpng_formatter\u001b[0m\u001b[1;33m.\u001b[0m\u001b[0mfor_type\u001b[0m\u001b[1;33m(\u001b[0m\u001b[0mFigure\u001b[0m\u001b[1;33m,\u001b[0m \u001b[1;32mlambda\u001b[0m \u001b[0mfig\u001b[0m\u001b[1;33m:\u001b[0m \u001b[0mprint_figure\u001b[0m\u001b[1;33m(\u001b[0m\u001b[0mfig\u001b[0m\u001b[1;33m,\u001b[0m \u001b[1;34m'png'\u001b[0m\u001b[1;33m,\u001b[0m \u001b[1;33m**\u001b[0m\u001b[0mkwargs\u001b[0m\u001b[1;33m)\u001b[0m\u001b[1;33m)\u001b[0m\u001b[1;33m\u001b[0m\u001b[1;33m\u001b[0m\u001b[0m\n\u001b[0m\u001b[0;32m    249\u001b[0m     \u001b[1;32mif\u001b[0m \u001b[1;34m'retina'\u001b[0m \u001b[1;32min\u001b[0m \u001b[0mformats\u001b[0m \u001b[1;32mor\u001b[0m \u001b[1;34m'png2x'\u001b[0m \u001b[1;32min\u001b[0m \u001b[0mformats\u001b[0m\u001b[1;33m:\u001b[0m\u001b[1;33m\u001b[0m\u001b[1;33m\u001b[0m\u001b[0m\n\u001b[0;32m    250\u001b[0m         \u001b[0mpng_formatter\u001b[0m\u001b[1;33m.\u001b[0m\u001b[0mfor_type\u001b[0m\u001b[1;33m(\u001b[0m\u001b[0mFigure\u001b[0m\u001b[1;33m,\u001b[0m \u001b[1;32mlambda\u001b[0m \u001b[0mfig\u001b[0m\u001b[1;33m:\u001b[0m \u001b[0mretina_figure\u001b[0m\u001b[1;33m(\u001b[0m\u001b[0mfig\u001b[0m\u001b[1;33m,\u001b[0m \u001b[1;33m**\u001b[0m\u001b[0mkwargs\u001b[0m\u001b[1;33m)\u001b[0m\u001b[1;33m)\u001b[0m\u001b[1;33m\u001b[0m\u001b[1;33m\u001b[0m\u001b[0m\n",
      "\u001b[1;32mC:\\Anaconda\\lib\\site-packages\\IPython\\core\\pylabtools.py\u001b[0m in \u001b[0;36mprint_figure\u001b[1;34m(fig, fmt, bbox_inches, **kwargs)\u001b[0m\n\u001b[0;32m    130\u001b[0m         \u001b[0mFigureCanvasBase\u001b[0m\u001b[1;33m(\u001b[0m\u001b[0mfig\u001b[0m\u001b[1;33m)\u001b[0m\u001b[1;33m\u001b[0m\u001b[1;33m\u001b[0m\u001b[0m\n\u001b[0;32m    131\u001b[0m \u001b[1;33m\u001b[0m\u001b[0m\n\u001b[1;32m--> 132\u001b[1;33m     \u001b[0mfig\u001b[0m\u001b[1;33m.\u001b[0m\u001b[0mcanvas\u001b[0m\u001b[1;33m.\u001b[0m\u001b[0mprint_figure\u001b[0m\u001b[1;33m(\u001b[0m\u001b[0mbytes_io\u001b[0m\u001b[1;33m,\u001b[0m \u001b[1;33m**\u001b[0m\u001b[0mkw\u001b[0m\u001b[1;33m)\u001b[0m\u001b[1;33m\u001b[0m\u001b[1;33m\u001b[0m\u001b[0m\n\u001b[0m\u001b[0;32m    133\u001b[0m     \u001b[0mdata\u001b[0m \u001b[1;33m=\u001b[0m \u001b[0mbytes_io\u001b[0m\u001b[1;33m.\u001b[0m\u001b[0mgetvalue\u001b[0m\u001b[1;33m(\u001b[0m\u001b[1;33m)\u001b[0m\u001b[1;33m\u001b[0m\u001b[1;33m\u001b[0m\u001b[0m\n\u001b[0;32m    134\u001b[0m     \u001b[1;32mif\u001b[0m \u001b[0mfmt\u001b[0m \u001b[1;33m==\u001b[0m \u001b[1;34m'svg'\u001b[0m\u001b[1;33m:\u001b[0m\u001b[1;33m\u001b[0m\u001b[1;33m\u001b[0m\u001b[0m\n",
      "\u001b[1;32mC:\\Anaconda\\lib\\site-packages\\matplotlib\\backend_bases.py\u001b[0m in \u001b[0;36mprint_figure\u001b[1;34m(self, filename, dpi, facecolor, edgecolor, orientation, format, bbox_inches, pad_inches, bbox_extra_artists, backend, **kwargs)\u001b[0m\n\u001b[0;32m   2208\u001b[0m \u001b[1;33m\u001b[0m\u001b[0m\n\u001b[0;32m   2209\u001b[0m             \u001b[1;32mtry\u001b[0m\u001b[1;33m:\u001b[0m\u001b[1;33m\u001b[0m\u001b[1;33m\u001b[0m\u001b[0m\n\u001b[1;32m-> 2210\u001b[1;33m                 result = print_method(\n\u001b[0m\u001b[0;32m   2211\u001b[0m                     \u001b[0mfilename\u001b[0m\u001b[1;33m,\u001b[0m\u001b[1;33m\u001b[0m\u001b[1;33m\u001b[0m\u001b[0m\n\u001b[0;32m   2212\u001b[0m                     \u001b[0mdpi\u001b[0m\u001b[1;33m=\u001b[0m\u001b[0mdpi\u001b[0m\u001b[1;33m,\u001b[0m\u001b[1;33m\u001b[0m\u001b[1;33m\u001b[0m\u001b[0m\n",
      "\u001b[1;32mC:\\Anaconda\\lib\\site-packages\\matplotlib\\backend_bases.py\u001b[0m in \u001b[0;36mwrapper\u001b[1;34m(*args, **kwargs)\u001b[0m\n\u001b[0;32m   1637\u001b[0m             \u001b[0mkwargs\u001b[0m\u001b[1;33m.\u001b[0m\u001b[0mpop\u001b[0m\u001b[1;33m(\u001b[0m\u001b[0marg\u001b[0m\u001b[1;33m)\u001b[0m\u001b[1;33m\u001b[0m\u001b[1;33m\u001b[0m\u001b[0m\n\u001b[0;32m   1638\u001b[0m \u001b[1;33m\u001b[0m\u001b[0m\n\u001b[1;32m-> 1639\u001b[1;33m         \u001b[1;32mreturn\u001b[0m \u001b[0mfunc\u001b[0m\u001b[1;33m(\u001b[0m\u001b[1;33m*\u001b[0m\u001b[0margs\u001b[0m\u001b[1;33m,\u001b[0m \u001b[1;33m**\u001b[0m\u001b[0mkwargs\u001b[0m\u001b[1;33m)\u001b[0m\u001b[1;33m\u001b[0m\u001b[1;33m\u001b[0m\u001b[0m\n\u001b[0m\u001b[0;32m   1640\u001b[0m \u001b[1;33m\u001b[0m\u001b[0m\n\u001b[0;32m   1641\u001b[0m     \u001b[1;32mreturn\u001b[0m \u001b[0mwrapper\u001b[0m\u001b[1;33m\u001b[0m\u001b[1;33m\u001b[0m\u001b[0m\n",
      "\u001b[1;32mC:\\Anaconda\\lib\\site-packages\\matplotlib\\backends\\backend_agg.py\u001b[0m in \u001b[0;36mprint_png\u001b[1;34m(self, filename_or_obj, metadata, pil_kwargs, *args)\u001b[0m\n\u001b[0;32m    507\u001b[0m             \u001b[1;33m*\u001b[0m\u001b[0mmetadata\u001b[0m\u001b[1;33m*\u001b[0m\u001b[1;33m,\u001b[0m \u001b[0mincluding\u001b[0m \u001b[0mthe\u001b[0m \u001b[0mdefault\u001b[0m \u001b[1;34m'Software'\u001b[0m \u001b[0mkey\u001b[0m\u001b[1;33m.\u001b[0m\u001b[1;33m\u001b[0m\u001b[1;33m\u001b[0m\u001b[0m\n\u001b[0;32m    508\u001b[0m         \"\"\"\n\u001b[1;32m--> 509\u001b[1;33m         \u001b[0mFigureCanvasAgg\u001b[0m\u001b[1;33m.\u001b[0m\u001b[0mdraw\u001b[0m\u001b[1;33m(\u001b[0m\u001b[0mself\u001b[0m\u001b[1;33m)\u001b[0m\u001b[1;33m\u001b[0m\u001b[1;33m\u001b[0m\u001b[0m\n\u001b[0m\u001b[0;32m    510\u001b[0m         mpl.image.imsave(\n\u001b[0;32m    511\u001b[0m             \u001b[0mfilename_or_obj\u001b[0m\u001b[1;33m,\u001b[0m \u001b[0mself\u001b[0m\u001b[1;33m.\u001b[0m\u001b[0mbuffer_rgba\u001b[0m\u001b[1;33m(\u001b[0m\u001b[1;33m)\u001b[0m\u001b[1;33m,\u001b[0m \u001b[0mformat\u001b[0m\u001b[1;33m=\u001b[0m\u001b[1;34m\"png\"\u001b[0m\u001b[1;33m,\u001b[0m \u001b[0morigin\u001b[0m\u001b[1;33m=\u001b[0m\u001b[1;34m\"upper\"\u001b[0m\u001b[1;33m,\u001b[0m\u001b[1;33m\u001b[0m\u001b[1;33m\u001b[0m\u001b[0m\n",
      "\u001b[1;32mC:\\Anaconda\\lib\\site-packages\\matplotlib\\backends\\backend_agg.py\u001b[0m in \u001b[0;36mdraw\u001b[1;34m(self)\u001b[0m\n\u001b[0;32m    405\u001b[0m              (self.toolbar._wait_cursor_for_draw_cm() if self.toolbar\n\u001b[0;32m    406\u001b[0m               else nullcontext()):\n\u001b[1;32m--> 407\u001b[1;33m             \u001b[0mself\u001b[0m\u001b[1;33m.\u001b[0m\u001b[0mfigure\u001b[0m\u001b[1;33m.\u001b[0m\u001b[0mdraw\u001b[0m\u001b[1;33m(\u001b[0m\u001b[0mself\u001b[0m\u001b[1;33m.\u001b[0m\u001b[0mrenderer\u001b[0m\u001b[1;33m)\u001b[0m\u001b[1;33m\u001b[0m\u001b[1;33m\u001b[0m\u001b[0m\n\u001b[0m\u001b[0;32m    408\u001b[0m             \u001b[1;31m# A GUI class may be need to update a window using this draw, so\u001b[0m\u001b[1;33m\u001b[0m\u001b[1;33m\u001b[0m\u001b[1;33m\u001b[0m\u001b[0m\n\u001b[0;32m    409\u001b[0m             \u001b[1;31m# don't forget to call the superclass.\u001b[0m\u001b[1;33m\u001b[0m\u001b[1;33m\u001b[0m\u001b[1;33m\u001b[0m\u001b[0m\n",
      "\u001b[1;32mC:\\Anaconda\\lib\\site-packages\\matplotlib\\artist.py\u001b[0m in \u001b[0;36mdraw_wrapper\u001b[1;34m(artist, renderer, *args, **kwargs)\u001b[0m\n\u001b[0;32m     39\u001b[0m                 \u001b[0mrenderer\u001b[0m\u001b[1;33m.\u001b[0m\u001b[0mstart_filter\u001b[0m\u001b[1;33m(\u001b[0m\u001b[1;33m)\u001b[0m\u001b[1;33m\u001b[0m\u001b[1;33m\u001b[0m\u001b[0m\n\u001b[0;32m     40\u001b[0m \u001b[1;33m\u001b[0m\u001b[0m\n\u001b[1;32m---> 41\u001b[1;33m             \u001b[1;32mreturn\u001b[0m \u001b[0mdraw\u001b[0m\u001b[1;33m(\u001b[0m\u001b[0martist\u001b[0m\u001b[1;33m,\u001b[0m \u001b[0mrenderer\u001b[0m\u001b[1;33m,\u001b[0m \u001b[1;33m*\u001b[0m\u001b[0margs\u001b[0m\u001b[1;33m,\u001b[0m \u001b[1;33m**\u001b[0m\u001b[0mkwargs\u001b[0m\u001b[1;33m)\u001b[0m\u001b[1;33m\u001b[0m\u001b[1;33m\u001b[0m\u001b[0m\n\u001b[0m\u001b[0;32m     42\u001b[0m         \u001b[1;32mfinally\u001b[0m\u001b[1;33m:\u001b[0m\u001b[1;33m\u001b[0m\u001b[1;33m\u001b[0m\u001b[0m\n\u001b[0;32m     43\u001b[0m             \u001b[1;32mif\u001b[0m \u001b[0martist\u001b[0m\u001b[1;33m.\u001b[0m\u001b[0mget_agg_filter\u001b[0m\u001b[1;33m(\u001b[0m\u001b[1;33m)\u001b[0m \u001b[1;32mis\u001b[0m \u001b[1;32mnot\u001b[0m \u001b[1;32mNone\u001b[0m\u001b[1;33m:\u001b[0m\u001b[1;33m\u001b[0m\u001b[1;33m\u001b[0m\u001b[0m\n",
      "\u001b[1;32mC:\\Anaconda\\lib\\site-packages\\matplotlib\\figure.py\u001b[0m in \u001b[0;36mdraw\u001b[1;34m(self, renderer)\u001b[0m\n\u001b[0;32m   1861\u001b[0m \u001b[1;33m\u001b[0m\u001b[0m\n\u001b[0;32m   1862\u001b[0m             \u001b[0mself\u001b[0m\u001b[1;33m.\u001b[0m\u001b[0mpatch\u001b[0m\u001b[1;33m.\u001b[0m\u001b[0mdraw\u001b[0m\u001b[1;33m(\u001b[0m\u001b[0mrenderer\u001b[0m\u001b[1;33m)\u001b[0m\u001b[1;33m\u001b[0m\u001b[1;33m\u001b[0m\u001b[0m\n\u001b[1;32m-> 1863\u001b[1;33m             mimage._draw_list_compositing_images(\n\u001b[0m\u001b[0;32m   1864\u001b[0m                 renderer, self, artists, self.suppressComposite)\n\u001b[0;32m   1865\u001b[0m \u001b[1;33m\u001b[0m\u001b[0m\n",
      "\u001b[1;32mC:\\Anaconda\\lib\\site-packages\\matplotlib\\image.py\u001b[0m in \u001b[0;36m_draw_list_compositing_images\u001b[1;34m(renderer, parent, artists, suppress_composite)\u001b[0m\n\u001b[0;32m    129\u001b[0m     \u001b[1;32mif\u001b[0m \u001b[0mnot_composite\u001b[0m \u001b[1;32mor\u001b[0m \u001b[1;32mnot\u001b[0m \u001b[0mhas_images\u001b[0m\u001b[1;33m:\u001b[0m\u001b[1;33m\u001b[0m\u001b[1;33m\u001b[0m\u001b[0m\n\u001b[0;32m    130\u001b[0m         \u001b[1;32mfor\u001b[0m \u001b[0ma\u001b[0m \u001b[1;32min\u001b[0m \u001b[0martists\u001b[0m\u001b[1;33m:\u001b[0m\u001b[1;33m\u001b[0m\u001b[1;33m\u001b[0m\u001b[0m\n\u001b[1;32m--> 131\u001b[1;33m             \u001b[0ma\u001b[0m\u001b[1;33m.\u001b[0m\u001b[0mdraw\u001b[0m\u001b[1;33m(\u001b[0m\u001b[0mrenderer\u001b[0m\u001b[1;33m)\u001b[0m\u001b[1;33m\u001b[0m\u001b[1;33m\u001b[0m\u001b[0m\n\u001b[0m\u001b[0;32m    132\u001b[0m     \u001b[1;32melse\u001b[0m\u001b[1;33m:\u001b[0m\u001b[1;33m\u001b[0m\u001b[1;33m\u001b[0m\u001b[0m\n\u001b[0;32m    133\u001b[0m         \u001b[1;31m# Composite any adjacent images together\u001b[0m\u001b[1;33m\u001b[0m\u001b[1;33m\u001b[0m\u001b[1;33m\u001b[0m\u001b[0m\n",
      "\u001b[1;32mC:\\Anaconda\\lib\\site-packages\\matplotlib\\artist.py\u001b[0m in \u001b[0;36mdraw_wrapper\u001b[1;34m(artist, renderer, *args, **kwargs)\u001b[0m\n\u001b[0;32m     39\u001b[0m                 \u001b[0mrenderer\u001b[0m\u001b[1;33m.\u001b[0m\u001b[0mstart_filter\u001b[0m\u001b[1;33m(\u001b[0m\u001b[1;33m)\u001b[0m\u001b[1;33m\u001b[0m\u001b[1;33m\u001b[0m\u001b[0m\n\u001b[0;32m     40\u001b[0m \u001b[1;33m\u001b[0m\u001b[0m\n\u001b[1;32m---> 41\u001b[1;33m             \u001b[1;32mreturn\u001b[0m \u001b[0mdraw\u001b[0m\u001b[1;33m(\u001b[0m\u001b[0martist\u001b[0m\u001b[1;33m,\u001b[0m \u001b[0mrenderer\u001b[0m\u001b[1;33m,\u001b[0m \u001b[1;33m*\u001b[0m\u001b[0margs\u001b[0m\u001b[1;33m,\u001b[0m \u001b[1;33m**\u001b[0m\u001b[0mkwargs\u001b[0m\u001b[1;33m)\u001b[0m\u001b[1;33m\u001b[0m\u001b[1;33m\u001b[0m\u001b[0m\n\u001b[0m\u001b[0;32m     42\u001b[0m         \u001b[1;32mfinally\u001b[0m\u001b[1;33m:\u001b[0m\u001b[1;33m\u001b[0m\u001b[1;33m\u001b[0m\u001b[0m\n\u001b[0;32m     43\u001b[0m             \u001b[1;32mif\u001b[0m \u001b[0martist\u001b[0m\u001b[1;33m.\u001b[0m\u001b[0mget_agg_filter\u001b[0m\u001b[1;33m(\u001b[0m\u001b[1;33m)\u001b[0m \u001b[1;32mis\u001b[0m \u001b[1;32mnot\u001b[0m \u001b[1;32mNone\u001b[0m\u001b[1;33m:\u001b[0m\u001b[1;33m\u001b[0m\u001b[1;33m\u001b[0m\u001b[0m\n",
      "\u001b[1;32mC:\\Anaconda\\lib\\site-packages\\matplotlib\\cbook\\deprecation.py\u001b[0m in \u001b[0;36mwrapper\u001b[1;34m(*inner_args, **inner_kwargs)\u001b[0m\n\u001b[0;32m    409\u001b[0m                          \u001b[1;32melse\u001b[0m \u001b[0mdeprecation_addendum\u001b[0m\u001b[1;33m,\u001b[0m\u001b[1;33m\u001b[0m\u001b[1;33m\u001b[0m\u001b[0m\n\u001b[0;32m    410\u001b[0m                 **kwargs)\n\u001b[1;32m--> 411\u001b[1;33m         \u001b[1;32mreturn\u001b[0m \u001b[0mfunc\u001b[0m\u001b[1;33m(\u001b[0m\u001b[1;33m*\u001b[0m\u001b[0minner_args\u001b[0m\u001b[1;33m,\u001b[0m \u001b[1;33m**\u001b[0m\u001b[0minner_kwargs\u001b[0m\u001b[1;33m)\u001b[0m\u001b[1;33m\u001b[0m\u001b[1;33m\u001b[0m\u001b[0m\n\u001b[0m\u001b[0;32m    412\u001b[0m \u001b[1;33m\u001b[0m\u001b[0m\n\u001b[0;32m    413\u001b[0m     \u001b[1;32mreturn\u001b[0m \u001b[0mwrapper\u001b[0m\u001b[1;33m\u001b[0m\u001b[1;33m\u001b[0m\u001b[0m\n",
      "\u001b[1;32mC:\\Anaconda\\lib\\site-packages\\matplotlib\\axes\\_base.py\u001b[0m in \u001b[0;36mdraw\u001b[1;34m(self, renderer, inframe)\u001b[0m\n\u001b[0;32m   2745\u001b[0m             \u001b[0mrenderer\u001b[0m\u001b[1;33m.\u001b[0m\u001b[0mstop_rasterizing\u001b[0m\u001b[1;33m(\u001b[0m\u001b[1;33m)\u001b[0m\u001b[1;33m\u001b[0m\u001b[1;33m\u001b[0m\u001b[0m\n\u001b[0;32m   2746\u001b[0m \u001b[1;33m\u001b[0m\u001b[0m\n\u001b[1;32m-> 2747\u001b[1;33m         \u001b[0mmimage\u001b[0m\u001b[1;33m.\u001b[0m\u001b[0m_draw_list_compositing_images\u001b[0m\u001b[1;33m(\u001b[0m\u001b[0mrenderer\u001b[0m\u001b[1;33m,\u001b[0m \u001b[0mself\u001b[0m\u001b[1;33m,\u001b[0m \u001b[0martists\u001b[0m\u001b[1;33m)\u001b[0m\u001b[1;33m\u001b[0m\u001b[1;33m\u001b[0m\u001b[0m\n\u001b[0m\u001b[0;32m   2748\u001b[0m \u001b[1;33m\u001b[0m\u001b[0m\n\u001b[0;32m   2749\u001b[0m         \u001b[0mrenderer\u001b[0m\u001b[1;33m.\u001b[0m\u001b[0mclose_group\u001b[0m\u001b[1;33m(\u001b[0m\u001b[1;34m'axes'\u001b[0m\u001b[1;33m)\u001b[0m\u001b[1;33m\u001b[0m\u001b[1;33m\u001b[0m\u001b[0m\n",
      "\u001b[1;32mC:\\Anaconda\\lib\\site-packages\\matplotlib\\image.py\u001b[0m in \u001b[0;36m_draw_list_compositing_images\u001b[1;34m(renderer, parent, artists, suppress_composite)\u001b[0m\n\u001b[0;32m    129\u001b[0m     \u001b[1;32mif\u001b[0m \u001b[0mnot_composite\u001b[0m \u001b[1;32mor\u001b[0m \u001b[1;32mnot\u001b[0m \u001b[0mhas_images\u001b[0m\u001b[1;33m:\u001b[0m\u001b[1;33m\u001b[0m\u001b[1;33m\u001b[0m\u001b[0m\n\u001b[0;32m    130\u001b[0m         \u001b[1;32mfor\u001b[0m \u001b[0ma\u001b[0m \u001b[1;32min\u001b[0m \u001b[0martists\u001b[0m\u001b[1;33m:\u001b[0m\u001b[1;33m\u001b[0m\u001b[1;33m\u001b[0m\u001b[0m\n\u001b[1;32m--> 131\u001b[1;33m             \u001b[0ma\u001b[0m\u001b[1;33m.\u001b[0m\u001b[0mdraw\u001b[0m\u001b[1;33m(\u001b[0m\u001b[0mrenderer\u001b[0m\u001b[1;33m)\u001b[0m\u001b[1;33m\u001b[0m\u001b[1;33m\u001b[0m\u001b[0m\n\u001b[0m\u001b[0;32m    132\u001b[0m     \u001b[1;32melse\u001b[0m\u001b[1;33m:\u001b[0m\u001b[1;33m\u001b[0m\u001b[1;33m\u001b[0m\u001b[0m\n\u001b[0;32m    133\u001b[0m         \u001b[1;31m# Composite any adjacent images together\u001b[0m\u001b[1;33m\u001b[0m\u001b[1;33m\u001b[0m\u001b[1;33m\u001b[0m\u001b[0m\n",
      "\u001b[1;32mC:\\Anaconda\\lib\\site-packages\\matplotlib\\artist.py\u001b[0m in \u001b[0;36mdraw_wrapper\u001b[1;34m(artist, renderer, *args, **kwargs)\u001b[0m\n\u001b[0;32m     39\u001b[0m                 \u001b[0mrenderer\u001b[0m\u001b[1;33m.\u001b[0m\u001b[0mstart_filter\u001b[0m\u001b[1;33m(\u001b[0m\u001b[1;33m)\u001b[0m\u001b[1;33m\u001b[0m\u001b[1;33m\u001b[0m\u001b[0m\n\u001b[0;32m     40\u001b[0m \u001b[1;33m\u001b[0m\u001b[0m\n\u001b[1;32m---> 41\u001b[1;33m             \u001b[1;32mreturn\u001b[0m \u001b[0mdraw\u001b[0m\u001b[1;33m(\u001b[0m\u001b[0martist\u001b[0m\u001b[1;33m,\u001b[0m \u001b[0mrenderer\u001b[0m\u001b[1;33m,\u001b[0m \u001b[1;33m*\u001b[0m\u001b[0margs\u001b[0m\u001b[1;33m,\u001b[0m \u001b[1;33m**\u001b[0m\u001b[0mkwargs\u001b[0m\u001b[1;33m)\u001b[0m\u001b[1;33m\u001b[0m\u001b[1;33m\u001b[0m\u001b[0m\n\u001b[0m\u001b[0;32m     42\u001b[0m         \u001b[1;32mfinally\u001b[0m\u001b[1;33m:\u001b[0m\u001b[1;33m\u001b[0m\u001b[1;33m\u001b[0m\u001b[0m\n\u001b[0;32m     43\u001b[0m             \u001b[1;32mif\u001b[0m \u001b[0martist\u001b[0m\u001b[1;33m.\u001b[0m\u001b[0mget_agg_filter\u001b[0m\u001b[1;33m(\u001b[0m\u001b[1;33m)\u001b[0m \u001b[1;32mis\u001b[0m \u001b[1;32mnot\u001b[0m \u001b[1;32mNone\u001b[0m\u001b[1;33m:\u001b[0m\u001b[1;33m\u001b[0m\u001b[1;33m\u001b[0m\u001b[0m\n",
      "\u001b[1;32mC:\\Anaconda\\lib\\site-packages\\matplotlib\\patches.py\u001b[0m in \u001b[0;36mdraw\u001b[1;34m(self, renderer)\u001b[0m\n\u001b[0;32m    585\u001b[0m             \u001b[0mtpath\u001b[0m \u001b[1;33m=\u001b[0m \u001b[0mtransform\u001b[0m\u001b[1;33m.\u001b[0m\u001b[0mtransform_path_non_affine\u001b[0m\u001b[1;33m(\u001b[0m\u001b[0mpath\u001b[0m\u001b[1;33m)\u001b[0m\u001b[1;33m\u001b[0m\u001b[1;33m\u001b[0m\u001b[0m\n\u001b[0;32m    586\u001b[0m             \u001b[0maffine\u001b[0m \u001b[1;33m=\u001b[0m \u001b[0mtransform\u001b[0m\u001b[1;33m.\u001b[0m\u001b[0mget_affine\u001b[0m\u001b[1;33m(\u001b[0m\u001b[1;33m)\u001b[0m\u001b[1;33m\u001b[0m\u001b[1;33m\u001b[0m\u001b[0m\n\u001b[1;32m--> 587\u001b[1;33m             draw_path(tpath, affine,\n\u001b[0m\u001b[0;32m    588\u001b[0m                       \u001b[1;31m# Work around a bug in the PDF and SVG renderers, which\u001b[0m\u001b[1;33m\u001b[0m\u001b[1;33m\u001b[0m\u001b[1;33m\u001b[0m\u001b[0m\n\u001b[0;32m    589\u001b[0m                       \u001b[1;31m# do not draw the hatches if the facecolor is fully\u001b[0m\u001b[1;33m\u001b[0m\u001b[1;33m\u001b[0m\u001b[1;33m\u001b[0m\u001b[0m\n",
      "\u001b[1;32mC:\\Anaconda\\lib\\site-packages\\matplotlib\\backends\\backend_agg.py\u001b[0m in \u001b[0;36mdraw_path\u001b[1;34m(self, gc, path, transform, rgbFace)\u001b[0m\n\u001b[0;32m    157\u001b[0m         \u001b[1;32melse\u001b[0m\u001b[1;33m:\u001b[0m\u001b[1;33m\u001b[0m\u001b[1;33m\u001b[0m\u001b[0m\n\u001b[0;32m    158\u001b[0m             \u001b[1;32mtry\u001b[0m\u001b[1;33m:\u001b[0m\u001b[1;33m\u001b[0m\u001b[1;33m\u001b[0m\u001b[0m\n\u001b[1;32m--> 159\u001b[1;33m                 \u001b[0mself\u001b[0m\u001b[1;33m.\u001b[0m\u001b[0m_renderer\u001b[0m\u001b[1;33m.\u001b[0m\u001b[0mdraw_path\u001b[0m\u001b[1;33m(\u001b[0m\u001b[0mgc\u001b[0m\u001b[1;33m,\u001b[0m \u001b[0mpath\u001b[0m\u001b[1;33m,\u001b[0m \u001b[0mtransform\u001b[0m\u001b[1;33m,\u001b[0m \u001b[0mrgbFace\u001b[0m\u001b[1;33m)\u001b[0m\u001b[1;33m\u001b[0m\u001b[1;33m\u001b[0m\u001b[0m\n\u001b[0m\u001b[0;32m    160\u001b[0m             \u001b[1;32mexcept\u001b[0m \u001b[0mOverflowError\u001b[0m \u001b[1;32mas\u001b[0m \u001b[0merr\u001b[0m\u001b[1;33m:\u001b[0m\u001b[1;33m\u001b[0m\u001b[1;33m\u001b[0m\u001b[0m\n\u001b[0;32m    161\u001b[0m                 raise OverflowError(\"Exceeded cell block limit (set \"\n",
      "\u001b[1;32mC:\\Anaconda\\lib\\site-packages\\matplotlib\\transforms.py\u001b[0m in \u001b[0;36m__array__\u001b[1;34m(self, *args, **kwargs)\u001b[0m\n\u001b[0;32m    240\u001b[0m \u001b[1;33m\u001b[0m\u001b[0m\n\u001b[0;32m    241\u001b[0m     \u001b[1;32mdef\u001b[0m \u001b[0m__array__\u001b[0m\u001b[1;33m(\u001b[0m\u001b[0mself\u001b[0m\u001b[1;33m,\u001b[0m \u001b[1;33m*\u001b[0m\u001b[0margs\u001b[0m\u001b[1;33m,\u001b[0m \u001b[1;33m**\u001b[0m\u001b[0mkwargs\u001b[0m\u001b[1;33m)\u001b[0m\u001b[1;33m:\u001b[0m\u001b[1;33m\u001b[0m\u001b[1;33m\u001b[0m\u001b[0m\n\u001b[1;32m--> 242\u001b[1;33m         \u001b[1;32mreturn\u001b[0m \u001b[0mself\u001b[0m\u001b[1;33m.\u001b[0m\u001b[0mget_points\u001b[0m\u001b[1;33m(\u001b[0m\u001b[1;33m)\u001b[0m\u001b[1;33m\u001b[0m\u001b[1;33m\u001b[0m\u001b[0m\n\u001b[0m\u001b[0;32m    243\u001b[0m \u001b[1;33m\u001b[0m\u001b[0m\n\u001b[0;32m    244\u001b[0m     \u001b[1;33m@\u001b[0m\u001b[0mcbook\u001b[0m\u001b[1;33m.\u001b[0m\u001b[0mdeprecated\u001b[0m\u001b[1;33m(\u001b[0m\u001b[1;34m\"3.2\"\u001b[0m\u001b[1;33m)\u001b[0m\u001b[1;33m\u001b[0m\u001b[1;33m\u001b[0m\u001b[0m\n",
      "\u001b[1;32mC:\\Anaconda\\lib\\site-packages\\matplotlib\\transforms.py\u001b[0m in \u001b[0;36mget_points\u001b[1;34m(self)\u001b[0m\n\u001b[0;32m   1046\u001b[0m             \u001b[1;31m# from the result, taking care to make the orientation the\u001b[0m\u001b[1;33m\u001b[0m\u001b[1;33m\u001b[0m\u001b[1;33m\u001b[0m\u001b[0m\n\u001b[0;32m   1047\u001b[0m             \u001b[1;31m# same.\u001b[0m\u001b[1;33m\u001b[0m\u001b[1;33m\u001b[0m\u001b[1;33m\u001b[0m\u001b[0m\n\u001b[1;32m-> 1048\u001b[1;33m             points = self._transform.transform(\n\u001b[0m\u001b[0;32m   1049\u001b[0m                 [[p[0, 0], p[0, 1]],\n\u001b[0;32m   1050\u001b[0m                  \u001b[1;33m[\u001b[0m\u001b[0mp\u001b[0m\u001b[1;33m[\u001b[0m\u001b[1;36m1\u001b[0m\u001b[1;33m,\u001b[0m \u001b[1;36m0\u001b[0m\u001b[1;33m]\u001b[0m\u001b[1;33m,\u001b[0m \u001b[0mp\u001b[0m\u001b[1;33m[\u001b[0m\u001b[1;36m0\u001b[0m\u001b[1;33m,\u001b[0m \u001b[1;36m1\u001b[0m\u001b[1;33m]\u001b[0m\u001b[1;33m]\u001b[0m\u001b[1;33m,\u001b[0m\u001b[1;33m\u001b[0m\u001b[1;33m\u001b[0m\u001b[0m\n",
      "\u001b[1;32mC:\\Anaconda\\lib\\site-packages\\matplotlib\\transforms.py\u001b[0m in \u001b[0;36mtransform\u001b[1;34m(self, values)\u001b[0m\n\u001b[0;32m   1420\u001b[0m \u001b[1;33m\u001b[0m\u001b[0m\n\u001b[0;32m   1421\u001b[0m         \u001b[1;31m# Transform the values\u001b[0m\u001b[1;33m\u001b[0m\u001b[1;33m\u001b[0m\u001b[1;33m\u001b[0m\u001b[0m\n\u001b[1;32m-> 1422\u001b[1;33m         \u001b[0mres\u001b[0m \u001b[1;33m=\u001b[0m \u001b[0mself\u001b[0m\u001b[1;33m.\u001b[0m\u001b[0mtransform_affine\u001b[0m\u001b[1;33m(\u001b[0m\u001b[0mself\u001b[0m\u001b[1;33m.\u001b[0m\u001b[0mtransform_non_affine\u001b[0m\u001b[1;33m(\u001b[0m\u001b[0mvalues\u001b[0m\u001b[1;33m)\u001b[0m\u001b[1;33m)\u001b[0m\u001b[1;33m\u001b[0m\u001b[1;33m\u001b[0m\u001b[0m\n\u001b[0m\u001b[0;32m   1423\u001b[0m \u001b[1;33m\u001b[0m\u001b[0m\n\u001b[0;32m   1424\u001b[0m         \u001b[1;31m# Convert the result back to the shape of the input values.\u001b[0m\u001b[1;33m\u001b[0m\u001b[1;33m\u001b[0m\u001b[1;33m\u001b[0m\u001b[0m\n",
      "\u001b[1;32mC:\\Anaconda\\lib\\site-packages\\matplotlib\\transforms.py\u001b[0m in \u001b[0;36mtransform_affine\u001b[1;34m(self, points)\u001b[0m\n\u001b[0;32m   2342\u001b[0m     \u001b[1;32mdef\u001b[0m \u001b[0mtransform_affine\u001b[0m\u001b[1;33m(\u001b[0m\u001b[0mself\u001b[0m\u001b[1;33m,\u001b[0m \u001b[0mpoints\u001b[0m\u001b[1;33m)\u001b[0m\u001b[1;33m:\u001b[0m\u001b[1;33m\u001b[0m\u001b[1;33m\u001b[0m\u001b[0m\n\u001b[0;32m   2343\u001b[0m         \u001b[1;31m# docstring inherited\u001b[0m\u001b[1;33m\u001b[0m\u001b[1;33m\u001b[0m\u001b[1;33m\u001b[0m\u001b[0m\n\u001b[1;32m-> 2344\u001b[1;33m         \u001b[1;32mreturn\u001b[0m \u001b[0mself\u001b[0m\u001b[1;33m.\u001b[0m\u001b[0mget_affine\u001b[0m\u001b[1;33m(\u001b[0m\u001b[1;33m)\u001b[0m\u001b[1;33m.\u001b[0m\u001b[0mtransform\u001b[0m\u001b[1;33m(\u001b[0m\u001b[0mpoints\u001b[0m\u001b[1;33m)\u001b[0m\u001b[1;33m\u001b[0m\u001b[1;33m\u001b[0m\u001b[0m\n\u001b[0m\u001b[0;32m   2345\u001b[0m \u001b[1;33m\u001b[0m\u001b[0m\n\u001b[0;32m   2346\u001b[0m     \u001b[1;32mdef\u001b[0m \u001b[0mtransform_non_affine\u001b[0m\u001b[1;33m(\u001b[0m\u001b[0mself\u001b[0m\u001b[1;33m,\u001b[0m \u001b[0mpoints\u001b[0m\u001b[1;33m)\u001b[0m\u001b[1;33m:\u001b[0m\u001b[1;33m\u001b[0m\u001b[1;33m\u001b[0m\u001b[0m\n",
      "\u001b[1;32mC:\\Anaconda\\lib\\site-packages\\matplotlib\\transforms.py\u001b[0m in \u001b[0;36mget_affine\u001b[1;34m(self)\u001b[0m\n\u001b[0;32m   2369\u001b[0m             \u001b[1;32mreturn\u001b[0m \u001b[0mself\u001b[0m\u001b[1;33m.\u001b[0m\u001b[0m_b\u001b[0m\u001b[1;33m.\u001b[0m\u001b[0mget_affine\u001b[0m\u001b[1;33m(\u001b[0m\u001b[1;33m)\u001b[0m\u001b[1;33m\u001b[0m\u001b[1;33m\u001b[0m\u001b[0m\n\u001b[0;32m   2370\u001b[0m         \u001b[1;32melse\u001b[0m\u001b[1;33m:\u001b[0m\u001b[1;33m\u001b[0m\u001b[1;33m\u001b[0m\u001b[0m\n\u001b[1;32m-> 2371\u001b[1;33m             return Affine2D(np.dot(self._b.get_affine().get_matrix(),\n\u001b[0m\u001b[0;32m   2372\u001b[0m                                    self._a.get_affine().get_matrix()))\n\u001b[0;32m   2373\u001b[0m \u001b[1;33m\u001b[0m\u001b[0m\n",
      "\u001b[1;32m<__array_function__ internals>\u001b[0m in \u001b[0;36mdot\u001b[1;34m(*args, **kwargs)\u001b[0m\n",
      "\u001b[1;31mKeyboardInterrupt\u001b[0m: "
     ]
    }
   ],
   "source": [
    "sns.countplot(temp['Job Title'])"
   ]
  },
  {
   "cell_type": "code",
   "execution_count": 3,
   "metadata": {},
   "outputs": [],
   "source": [
    "import sys"
   ]
  },
  {
   "cell_type": "code",
   "execution_count": 4,
   "metadata": {},
   "outputs": [],
   "source": [
    "sys.path.append(\"C:\\\\batches\\\\online_batch\\\\ds_batch_715pm\")"
   ]
  },
  {
   "cell_type": "code",
   "execution_count": 5,
   "metadata": {},
   "outputs": [
    {
     "data": {
      "text/plain": [
       "['C:\\\\batches\\\\online_batch\\\\ds_batch_715pm\\\\Project',\n",
       " 'C:\\\\Anaconda\\\\python38.zip',\n",
       " 'C:\\\\Anaconda\\\\DLLs',\n",
       " 'C:\\\\Anaconda\\\\lib',\n",
       " 'C:\\\\Anaconda',\n",
       " '',\n",
       " 'C:\\\\Anaconda\\\\lib\\\\site-packages',\n",
       " 'C:\\\\Anaconda\\\\lib\\\\site-packages\\\\win32',\n",
       " 'C:\\\\Anaconda\\\\lib\\\\site-packages\\\\win32\\\\lib',\n",
       " 'C:\\\\Anaconda\\\\lib\\\\site-packages\\\\Pythonwin',\n",
       " 'C:\\\\Anaconda\\\\lib\\\\site-packages\\\\IPython\\\\extensions',\n",
       " 'C:\\\\Users\\\\Simran Grover\\\\.ipython',\n",
       " 'C:\\\\batches\\\\online_batch\\\\ds_batch_715pm']"
      ]
     },
     "execution_count": 5,
     "metadata": {},
     "output_type": "execute_result"
    }
   ],
   "source": [
    "sys.path"
   ]
  },
  {
   "cell_type": "code",
   "execution_count": 6,
   "metadata": {},
   "outputs": [],
   "source": [
    "from Visualization.generate_color import colors"
   ]
  },
  {
   "cell_type": "code",
   "execution_count": 27,
   "metadata": {},
   "outputs": [],
   "source": [
    "def make_barplots(index, values, filename):\n",
    "    fig = plt.figure(figsize=(9, 5), facecolor=\"black\", dpi=100)\n",
    "    ax = plt.gca(facecolor=\"black\")\n",
    "    \n",
    "    plt.bar(index, values, color=[colors() for i in range(len(index))])\n",
    "    plt.xticks(rotation=90)\n",
    "    plt.tick_params(labelcolor=\"white\")\n",
    "    \n",
    "    for p, val in zip(ax.patches, values):\n",
    "        x, y = p.get_x()+0.2 , p.get_height()+0.2\n",
    "        plt.text(x, y, val, color=\"white\")\n",
    "        \n",
    "    plt.savefig(f\"flaskproject/static/{filename}\")"
   ]
  },
  {
   "cell_type": "code",
   "execution_count": 52,
   "metadata": {},
   "outputs": [
    {
     "data": {
      "image/png": "[encoded data removed]",
      "text/plain": [
       "<Figure size 1000x600 with 1 Axes>"
      ]
     },
     "metadata": {},
     "output_type": "display_data"
    }
   ],
   "source": [
    "fig = plt.figure(figsize=(10, 6), facecolor=\"black\", dpi=100)\n",
    "ax = plt.gca(facecolor=\"black\")\n",
    "index = temp['Job Title'].value_counts()[:11].index\n",
    "values = temp['Job Title'].value_counts()[:11].values\n",
    "plt.bar(index, values, color=[colors() for i in range(len(index))])\n",
    "plt.xticks(rotation=90)\n",
    "plt.tick_params(labelcolor=\"white\")\n",
    "for p, val in zip(ax.patches, values):\n",
    "    x, y = p.get_x()+0.2 , p.get_height()+0.2\n",
    "    plt.text(x, y, val, color=\"white\")\n",
    "plt.savefig(\"flaskproject/static/topjobtitle.png\", bbox_inches=\"tight\")\n",
    "plt.show()"
   ]
  },
  {
   "cell_type": "code",
   "execution_count": 8,
   "metadata": {},
   "outputs": [
    {
     "data": {
      "image/png": "[encoded data removed]",
      "text/plain": [
       "<Figure size 2000x1000 with 2 Axes>"
      ]
     },
     "metadata": {},
     "output_type": "display_data"
    }
   ],
   "source": [
    "experience = temp['Job Experience Required'].value_counts()[:10]\n",
    "location = temp['Location'].value_counts()[:10]\n",
    "\n",
    "def make_subplots(rows, cols, *args, figsize= None):\n",
    "    '''With this function you can easily make any kind of plot\n",
    "    Just pass x and y or just x, then pass kind of plot in string\n",
    "    like 'scatter'. \n",
    "    • Plot as many plots you want with a single function.'''\n",
    "    \n",
    "    fig, axes = plt.subplots(rows, cols, figsize= figsize, facecolor= 'black')\n",
    "    axes = axes.flatten()\n",
    "    args_length = len(args)\n",
    "    i = ax_idx = 0\n",
    "    \n",
    "    while (i < args_length) and (ax_idx < len(axes)):\n",
    "        ax = axes[ax_idx]\n",
    "        ax.set_facecolor(\"black\")\n",
    "        ax.tick_params(rotation= 90, color= 'white', labelcolor= 'white', axis= 'x')\n",
    "        ax.tick_params(color= 'white', labelcolor= 'white', axis= 'y')\n",
    "        x = args[i]\n",
    "        i += 1\n",
    "     \n",
    "        if isinstance(args[i], str):\n",
    "            plot_type = args[i]\n",
    "            eval(f'ax.{plot_type}({list(x)})')\n",
    "            ax_idx += 1; i += 1\n",
    "        else:\n",
    "            y = args[i]\n",
    "            i += 1\n",
    "            plot_type = args[i]\n",
    "            eval(f'ax.{plot_type}({list(x)}, {list(y)})')\n",
    "            ax_idx += 1; i += 1\n",
    "            \n",
    "    \n",
    "make_subplots(1, 2, experience.index, experience.values, 'bar', \n",
    "                    location.index, location.values, 'scatter',\n",
    "                    figsize= (20, 10))"
   ]
  },
  {
   "cell_type": "code",
   "execution_count": 26,
   "metadata": {},
   "outputs": [
    {
     "data": {
      "image/png": "[encoded data removed]",
      "text/plain": [
       "<Figure size 1100x500 with 2 Axes>"
      ]
     },
     "metadata": {},
     "output_type": "display_data"
    }
   ],
   "source": [
    "fig = plt.figure(facecolor=\"black\")\n",
    "ax1 = fig.add_axes([0, 0, 0.5, 0.5], facecolor=\"black\")\n",
    "ax2 = fig.add_axes([0.6, 0, 0.5, 0.5], facecolor=\"BLACK\")\n",
    "pd.Series(location).value_counts()[0:7].plot(kind=\"bar\",ax=ax1, color=[colors() for i in range(12)])\n",
    "temp['Job Experience Required'].value_counts()[0:7].plot(kind=\"bar\",ax=ax2, color=[colors() for i in range(12)])\n",
    "titles=['Location BarChart', 'Job Experience ']\n",
    "axes=[ax1,ax2]\n",
    "for i in range(len(axes)):\n",
    "    axes[i].set_title(titles[i],color='white')\n",
    "    axes[i].tick_params(labelcolor=\"white\")\n",
    "    for side in ['left', 'bottom']:\n",
    "        axes[i].spines[side].set_color('Blue')\n",
    "        axes[i].spines[side].set_ls(\"-\")\n",
    "plt.savefig(f\"flaskproject/static/experience_location.png\", bbox_inches = 'tight')\n",
    "plt.show()"
   ]
  },
  {
   "cell_type": "code",
   "execution_count": 19,
   "metadata": {},
   "outputs": [
    {
     "data": {
      "text/plain": [
       "[]"
      ]
     },
     "execution_count": 19,
     "metadata": {},
     "output_type": "execute_result"
    }
   ],
   "source": [
    "location"
   ]
  },
  {
   "cell_type": "code",
   "execution_count": 23,
   "metadata": {},
   "outputs": [
    {
     "data": {
      "image/png": "[encoded data removed]",
      "text/plain": [
       "<Figure size 900x500 with 2 Axes>"
      ]
     },
     "metadata": {},
     "output_type": "display_data"
    }
   ],
   "source": [
    "index1 = pd.Series(location).value_counts()[:10].index\n",
    "values1 = pd.Series(location).value_counts()[:10].values\n",
    "\n",
    "index2 = temp['Job Experience Required'].value_counts()[:10].index\n",
    "values2 = temp['Job Experience Required'].value_counts()[:10].values\n",
    "\n",
    "label = {\"fontsize\":15, \"color\":\"grey\", \"fontfamily\":\"serif\"}\n",
    "title = {\"fontsize\":15, \"color\":\"#6acbff\", \"fontfamily\":\"serif\"}\n",
    "\n",
    "fig, ax = plt.subplots(nrows=1, ncols=2, facecolor='black', figsize=(9, 5), dpi=100, subplot_kw=dict(facecolor=\"black\"))\n",
    "fig.suptitle('Top 10', fontdict=title)\n",
    "for i in range(len(ax)):\n",
    "    ax[i].tick_params(labelcolor='white', color='white')\n",
    "    ax[i].tick_params(axis='x', rotation=90)\n",
    "    t = ['Job Locations', 'Experience Required by Companies']\n",
    "    ax[i].set_title(t[i], fontdict=title)\n",
    "    for s in ['left', 'bottom']:\n",
    "        ax[i].spines[s].set_color('white')\n",
    "ax[0].bar(index1, values1, color=[colors() for c in range(len(index1))])\n",
    "ax[0].set_xlabel(\"Location\", fontdict=label)\n",
    "ax[0].set_ylabel(\"Count\", fontdict=label)\n",
    "ax[1].bar(index2, values2, color=[colors() for c in range(len(index2))])\n",
    "ax[1].set_xlabel(\"Experience Required\", fontdict=label)\n",
    "ax[1].set_ylabel(\"Count\", fontdict=label)\n",
    "plt.savefig(\"./top10.png\", bbox_inches='tight')\n",
    "plt.show()"
   ]
  },
  {
   "cell_type": "code",
   "execution_count": 39,
   "metadata": {},
   "outputs": [],
   "source": [
    "skills = pd.Series(key_skills).value_counts()\n",
    "role_cat = pd.Series(role_cat).value_counts()"
   ]
  },
  {
   "cell_type": "code",
   "execution_count": 40,
   "metadata": {},
   "outputs": [
    {
     "data": {
      "image/png": "[encoded data removed]",
      "text/plain": [
       "<Figure size 1100x500 with 2 Axes>"
      ]
     },
     "metadata": {},
     "output_type": "display_data"
    }
   ],
   "source": [
    "make_subplots(1, 2, skills.index[:7], skills.values[:7], 'bar', role_cat.index[:7], role_cat.values[:7], 'bar', figsize=(11, 5))"
   ]
  },
  {
   "cell_type": "code",
   "execution_count": 44,
   "metadata": {},
   "outputs": [
    {
     "data": {
      "image/png": "[encoded data removed]",
      "text/plain": [
       "<Figure size 1100x500 with 2 Axes>"
      ]
     },
     "metadata": {},
     "output_type": "display_data"
    }
   ],
   "source": [
    "fig = plt.figure(facecolor=\"black\")\n",
    "ax1 = fig.add_axes([0, 0, 0.5, 0.5], facecolor=\"black\")\n",
    "ax2 = fig.add_axes([0.6, 0, 0.5, 0.5], facecolor=\"BLACK\")\n",
    "pd.Series(key_skills).value_counts()[0:7].plot(kind=\"bar\",ax=ax1, color=[colors() for i in range(12)])\n",
    "role_cat[0:7].plot(kind=\"bar\",ax=ax2, color=[colors() for i in range(12)])\n",
    "titles=['KEY SKILLS', 'ROLE CATEGORY ']\n",
    "axes=[ax1,ax2]\n",
    "for i in range(len(axes)):\n",
    "    axes[i].set_title(titles[i],color='white')\n",
    "    axes[i].tick_params(labelcolor=\"white\")\n",
    "    for side in ['left', 'bottom']:\n",
    "        axes[i].spines[side].set_color('Blue')\n",
    "        axes[i].spines[side].set_ls(\"-\")\n",
    "plt.savefig(f\"flaskproject/static/skills_cat.png\", bbox_inches = 'tight')\n",
    "plt.show()"
   ]
  },
  {
   "cell_type": "code",
   "execution_count": 53,
   "metadata": {},
   "outputs": [
    {
     "data": {
      "text/html": [
       "<div>\n",
       "<style scoped>\n",
       "    .dataframe tbody tr th:only-of-type {\n",
       "        vertical-align: middle;\n",
       "    }\n",
       "\n",
       "    .dataframe tbody tr th {\n",
       "        vertical-align: top;\n",
       "    }\n",
       "\n",
       "    .dataframe thead th {\n",
       "        text-align: right;\n",
       "    }\n",
       "</style>\n",
       "<table border=\"1\" class=\"dataframe\">\n",
       "  <thead>\n",
       "    <tr style=\"text-align: right;\">\n",
       "      <th></th>\n",
       "      <th>Uniq Id</th>\n",
       "      <th>Crawl Timestamp</th>\n",
       "      <th>Job Title</th>\n",
       "      <th>Job Salary</th>\n",
       "      <th>Job Experience Required</th>\n",
       "      <th>Key Skills</th>\n",
       "      <th>Role Category</th>\n",
       "      <th>Location</th>\n",
       "      <th>Functional Area</th>\n",
       "      <th>Industry</th>\n",
       "      <th>Role</th>\n",
       "      <th>Openings</th>\n",
       "    </tr>\n",
       "  </thead>\n",
       "  <tbody>\n",
       "    <tr>\n",
       "      <th>0</th>\n",
       "      <td>9be62c49a0b7ebe982a4af1edaa7bc5f</td>\n",
       "      <td>2019-07-05 01:46:07 +0000</td>\n",
       "      <td>Digital Media Planner</td>\n",
       "      <td>not disclosed by recruiter</td>\n",
       "      <td>5 - 10 yrs</td>\n",
       "      <td>Media Planning| Digital Media</td>\n",
       "      <td>Advertising</td>\n",
       "      <td>Mumbai</td>\n",
       "      <td>Marketing , Advertising , MR , PR , Media Plan...</td>\n",
       "      <td>Advertising, PR, MR, Event Management</td>\n",
       "      <td>Media Planning Executive/Manager</td>\n",
       "      <td>NaN</td>\n",
       "    </tr>\n",
       "    <tr>\n",
       "      <th>1</th>\n",
       "      <td>3c52d436e39f596b22519da2612f6a56</td>\n",
       "      <td>2019-07-06 08:04:50 +0000</td>\n",
       "      <td>Online Bidding Executive</td>\n",
       "      <td>not disclosed by recruiter</td>\n",
       "      <td>2 - 5 yrs</td>\n",
       "      <td>pre sales| closing| software knowledge| clien...</td>\n",
       "      <td>Retail Sales</td>\n",
       "      <td>Pune,Pune</td>\n",
       "      <td>Sales , Retail , Business Development</td>\n",
       "      <td>IT-Software, Software Services</td>\n",
       "      <td>Sales Executive/Officer</td>\n",
       "      <td>NaN</td>\n",
       "    </tr>\n",
       "    <tr>\n",
       "      <th>2</th>\n",
       "      <td>ffad8a2396c60be2bf6d0e2ff47c58d4</td>\n",
       "      <td>2019-08-05 15:50:44 +0000</td>\n",
       "      <td>Trainee Research/ Research Executive- Hi- Tec...</td>\n",
       "      <td>not disclosed by recruiter</td>\n",
       "      <td>0 - 1 yrs</td>\n",
       "      <td>Computer science| Fabrication| Quality check|...</td>\n",
       "      <td>R&amp;D</td>\n",
       "      <td>Gurgaon</td>\n",
       "      <td>Engineering Design , R&amp;D</td>\n",
       "      <td>Recruitment, Staffing</td>\n",
       "      <td>R&amp;D Executive</td>\n",
       "      <td>NaN</td>\n",
       "    </tr>\n",
       "    <tr>\n",
       "      <th>3</th>\n",
       "      <td>7b921f51b5c2fb862b4a5f7a54c37f75</td>\n",
       "      <td>2019-08-05 15:31:56 +0000</td>\n",
       "      <td>Technical Support</td>\n",
       "      <td>2,00,000 - 4,00,000 pa.</td>\n",
       "      <td>0 - 5 yrs</td>\n",
       "      <td>Technical Support</td>\n",
       "      <td>Admin/Maintenance/Security/Datawarehousing</td>\n",
       "      <td>Mumbai</td>\n",
       "      <td>IT Software - Application Programming , Mainte...</td>\n",
       "      <td>IT-Software, Software Services</td>\n",
       "      <td>Technical Support Engineer</td>\n",
       "      <td>NaN</td>\n",
       "    </tr>\n",
       "    <tr>\n",
       "      <th>4</th>\n",
       "      <td>2d8b7d44e138a54d5dc841163138de50</td>\n",
       "      <td>2019-07-05 02:48:29 +0000</td>\n",
       "      <td>Software Test Engineer -hyderabad</td>\n",
       "      <td>not disclosed by recruiter</td>\n",
       "      <td>2 - 5 yrs</td>\n",
       "      <td>manual testing| test engineering| test cases|...</td>\n",
       "      <td>Programming &amp; Design</td>\n",
       "      <td>Hyderabad</td>\n",
       "      <td>IT Software - QA &amp; Testing</td>\n",
       "      <td>IT-Software, Software Services</td>\n",
       "      <td>Testing Engineer</td>\n",
       "      <td>NaN</td>\n",
       "    </tr>\n",
       "  </tbody>\n",
       "</table>\n",
       "</div>"
      ],
      "text/plain": [
       "                            Uniq Id            Crawl Timestamp  \\\n",
       "0  9be62c49a0b7ebe982a4af1edaa7bc5f  2019-07-05 01:46:07 +0000   \n",
       "1  3c52d436e39f596b22519da2612f6a56  2019-07-06 08:04:50 +0000   \n",
       "2  ffad8a2396c60be2bf6d0e2ff47c58d4  2019-08-05 15:50:44 +0000   \n",
       "3  7b921f51b5c2fb862b4a5f7a54c37f75  2019-08-05 15:31:56 +0000   \n",
       "4  2d8b7d44e138a54d5dc841163138de50  2019-07-05 02:48:29 +0000   \n",
       "\n",
       "                                           Job Title  \\\n",
       "0                              Digital Media Planner   \n",
       "1                           Online Bidding Executive   \n",
       "2   Trainee Research/ Research Executive- Hi- Tec...   \n",
       "3                                  Technical Support   \n",
       "4                  Software Test Engineer -hyderabad   \n",
       "\n",
       "                   Job Salary Job Experience Required  \\\n",
       "0  not disclosed by recruiter              5 - 10 yrs   \n",
       "1  not disclosed by recruiter               2 - 5 yrs   \n",
       "2  not disclosed by recruiter               0 - 1 yrs   \n",
       "3     2,00,000 - 4,00,000 pa.               0 - 5 yrs   \n",
       "4  not disclosed by recruiter               2 - 5 yrs   \n",
       "\n",
       "                                          Key Skills  \\\n",
       "0                      Media Planning| Digital Media   \n",
       "1   pre sales| closing| software knowledge| clien...   \n",
       "2   Computer science| Fabrication| Quality check|...   \n",
       "3                                  Technical Support   \n",
       "4   manual testing| test engineering| test cases|...   \n",
       "\n",
       "                                Role Category   Location  \\\n",
       "0                                 Advertising     Mumbai   \n",
       "1                                Retail Sales  Pune,Pune   \n",
       "2                                         R&D    Gurgaon   \n",
       "3  Admin/Maintenance/Security/Datawarehousing     Mumbai   \n",
       "4                        Programming & Design  Hyderabad   \n",
       "\n",
       "                                     Functional Area  \\\n",
       "0  Marketing , Advertising , MR , PR , Media Plan...   \n",
       "1              Sales , Retail , Business Development   \n",
       "2                           Engineering Design , R&D   \n",
       "3  IT Software - Application Programming , Mainte...   \n",
       "4                         IT Software - QA & Testing   \n",
       "\n",
       "                                Industry                              Role  \\\n",
       "0  Advertising, PR, MR, Event Management  Media Planning Executive/Manager   \n",
       "1         IT-Software, Software Services           Sales Executive/Officer   \n",
       "2                  Recruitment, Staffing                     R&D Executive   \n",
       "3         IT-Software, Software Services        Technical Support Engineer   \n",
       "4         IT-Software, Software Services                  Testing Engineer   \n",
       "\n",
       "   Openings  \n",
       "0       NaN  \n",
       "1       NaN  \n",
       "2       NaN  \n",
       "3       NaN  \n",
       "4       NaN  "
      ]
     },
     "execution_count": 53,
     "metadata": {},
     "output_type": "execute_result"
    }
   ],
   "source": [
    "temp.head()"
   ]
  },
  {
   "cell_type": "code",
   "execution_count": 59,
   "metadata": {},
   "outputs": [
    {
     "data": {
      "image/png": "[encoded data removed]",
      "text/plain": [
       "<Figure size 1100x500 with 1 Axes>"
      ]
     },
     "metadata": {
      "needs_background": "light"
     },
     "output_type": "display_data"
    }
   ],
   "source": [
    "i = temp['Openings'].value_counts().index\n",
    "v = temp['Openings'].value_counts().values\n",
    "plt.scatter(i, v)\n",
    "plt.show()"
   ]
  },
  {
   "cell_type": "code",
   "execution_count": 57,
   "metadata": {},
   "outputs": [
    {
     "data": {
      "text/plain": [
       "Float64Index([1.0, 2.0, 5.0, 10.0, 3.0, 30.0, 4.0, 15.0, 100.0, 20.0], dtype='float64')"
      ]
     },
     "execution_count": 57,
     "metadata": {},
     "output_type": "execute_result"
    }
   ],
   "source": [
    "i"
   ]
  },
  {
   "cell_type": "code",
   "execution_count": 58,
   "metadata": {},
   "outputs": [
    {
     "data": {
      "text/plain": [
       "array([408,  57,  22,  18,  16,   9,   9,   8,   6,   4], dtype=int64)"
      ]
     },
     "execution_count": 58,
     "metadata": {},
     "output_type": "execute_result"
    }
   ],
   "source": [
    "v"
   ]
  },
  {
   "cell_type": "code",
   "execution_count": 72,
   "metadata": {},
   "outputs": [
    {
     "data": {
      "image/png": "[encoded data removed]",
      "text/plain": [
       "<Figure size 900x500 with 1 Axes>"
      ]
     },
     "metadata": {},
     "output_type": "display_data"
    }
   ],
   "source": [
    "fig = plt.figure(figsize=(9, 5), facecolor=\"black\", dpi=100)\n",
    "ax = plt.gca(facecolor=\"black\")\n",
    "\n",
    "plt.scatter(i, v, color=\"red\")\n",
    "plt.tick_params(labelcolor=\"white\")\n",
    "\n",
    "for index, val in zip(i, v):\n",
    "    plt.text(index+0.2, val+0.5, str(val), color=\"white\", fontsize=6)\n",
    "plt.savefig(f\"flaskproject/static/openings.png\")\n",
    "plt.show()"
   ]
  },
  {
   "cell_type": "code",
   "execution_count": 63,
   "metadata": {},
   "outputs": [
    {
     "data": {
      "text/plain": [
       "Float64Index([  1.0,   2.0,   5.0,  10.0,   3.0,  30.0,   4.0,  15.0, 100.0,\n",
       "               20.0,   7.0,  50.0,  12.0,  25.0,  55.0, 200.0,   6.0,  70.0,\n",
       "               85.0,  80.0,  21.0,  17.0,  11.0],\n",
       "             dtype='float64')"
      ]
     },
     "execution_count": 63,
     "metadata": {},
     "output_type": "execute_result"
    }
   ],
   "source": [
    "i"
   ]
  },
  {
   "cell_type": "code",
   "execution_count": null,
   "metadata": {},
   "outputs": [],
   "source": []
  }
 ],
 "metadata": {
  "kernelspec": {
   "display_name": "Python 3",
   "language": "python",
   "name": "python3"
  },
  "language_info": {
   "codemirror_mode": {
    "name": "ipython",
    "version": 3
   },
   "file_extension": ".py",
   "mimetype": "text/x-python",
   "name": "python",
   "nbconvert_exporter": "python",
   "pygments_lexer": "ipython3",
   "version": "3.8.5"
  }
 },
 "nbformat": 4,
 "nbformat_minor": 4
}
