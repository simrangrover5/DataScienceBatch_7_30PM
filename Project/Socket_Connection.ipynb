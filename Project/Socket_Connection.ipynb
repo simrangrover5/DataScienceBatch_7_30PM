{
 "cells": [
  {
   "cell_type": "code",
   "execution_count": 1,
   "metadata": {},
   "outputs": [],
   "source": [
    "import socket"
   ]
  },
  {
   "cell_type": "code",
   "execution_count": 20,
   "metadata": {},
   "outputs": [
    {
     "name": "stdout",
     "output_type": "stream",
     "text": [
      "\n",
      " SERVER IS LISTENING AT IP 127.0.0.1 and PORT 80\n",
      "\n",
      " CLIENT IS AT IP 127.0.0.1 and PORT 2604\n",
      "/\n",
      "\n",
      " CLIENT IS AT IP 127.0.0.1 and PORT 1037\n",
      "/favicon.ico\n",
      "\n",
      " CLIENT IS AT IP 127.0.0.1 and PORT 1038\n",
      "/\n",
      "\n",
      " CLIENT IS AT IP 127.0.0.1 and PORT 1037\n",
      "/favicon.ico\n",
      "\n",
      " CLIENT IS AT IP 127.0.0.1 and PORT 1043\n",
      "/\n"
     ]
    }
   ],
   "source": [
    "server = socket.socket(socket.AF_INET, socket.SOCK_STREAM)\n",
    "host = \"127.0.0.1\"\n",
    "port = 80\n",
    "server.bind((host, port))\n",
    "server.listen()\n",
    "print(f\"\\n SERVER IS LISTENING AT IP {host} and PORT {port}\")\n",
    "\n",
    "for i in range(5):\n",
    "    client_socket, client_addr = server.accept()\n",
    "    print(f\"\\n CLIENT IS AT IP {client_addr[0]} and PORT {client_addr[1]}\")\n",
    "\n",
    "    header = client_socket.recv(1024).decode()\n",
    "    path = header.split()[1]\n",
    "    print(path)\n",
    "\n",
    "    if path == \"/\":\n",
    "        resp = \"\"\"HTTP/1.1 200 OK\n",
    "    Content-Type : text/html\n",
    "\n",
    "\n",
    "    <html>\n",
    "    <body>\n",
    "    <h1 style='color:red'>THIS IS RESPONSE FOR LOCALHOST</h1>\n",
    "    </body>\n",
    "    </html>\n",
    "    \"\"\"\n",
    "\n",
    "    elif path == \"/home\":\n",
    "        resp = \"\"\"HTTP 200 OK\n",
    "                Content-Type: text/html\n",
    "\n",
    "\n",
    "                <html>\n",
    "                <body>\n",
    "                <h1 style='color:blue'>THIS IS RESPONSE FOR HOME</h1>\n",
    "                </body>\n",
    "                </html>\n",
    "                \"\"\"\n",
    "\n",
    "    elif path == \"/index\":\n",
    "        resp = \"\"\"HTTP 200 OK\n",
    "                Content-Type: text/html\n",
    "\n",
    "\n",
    "                <html>\n",
    "                <body>\n",
    "                <h1 style='color:yellow'>THIS IS RESPONSE FOR INDEX</h1>\n",
    "                </body>\n",
    "                </html>\n",
    "                \"\"\"\n",
    "    else:\n",
    "        resp = \"\"\"HTTP 200 OK\n",
    "                Content-Type: text/html\n",
    "\n",
    "\n",
    "                <html>\n",
    "                <body>\n",
    "                <h1 style='color:green'>NO SUCH PATH IS HANDLE</h1>\n",
    "                </body>\n",
    "                </html>\n",
    "                \"\"\"\n",
    "    client_socket.send(resp.encode())"
   ]
  },
  {
   "cell_type": "code",
   "execution_count": 26,
   "metadata": {},
   "outputs": [
    {
     "name": "stdout",
     "output_type": "stream",
     "text": [
      "\n",
      " SERVER IS LISTENING AT IP 127.0.0.1 and PORT 80\n",
      "\n",
      " CLIENT IS AT IP 127.0.0.1 and PORT 1024\n"
     ]
    },
    {
     "data": {
      "text/plain": [
       "204"
      ]
     },
     "execution_count": 26,
     "metadata": {},
     "output_type": "execute_result"
    }
   ],
   "source": [
    "server = socket.socket(socket.AF_INET, socket.SOCK_STREAM)\n",
    "host = \"127.0.0.1\"\n",
    "port = 80\n",
    "server.bind((host, port))\n",
    "server.listen()\n",
    "print(f\"\\n SERVER IS LISTENING AT IP {host} and PORT {port}\")\n",
    "\n",
    "client_socket, client_addr = server.accept()\n",
    "print(f\"\\n CLIENT IS AT IP {client_addr[0]} and PORT {client_addr[1]}\")\n",
    "\n",
    "header = client_socket.recv(1024).decode()\n",
    "path = header.split()[1]\n",
    "\n",
    "if path == \"/\":\n",
    "    resp = \"\"\"HTTP/1.1 200 OK\n",
    "Content-Type : text/html\n",
    "\n",
    "\n",
    "<html>\n",
    "<body>\n",
    "<h1 style='color:red'>THIS IS RESPONSE FOR LOCALHOST</h1>\n",
    "</body>\n",
    "</html>\n",
    "\"\"\"\n",
    "\n",
    "elif path == \"/home\":\n",
    "    resp = \"\"\"HTTP 200 OK\n",
    "            Content-Type: text/html\n",
    "\n",
    "\n",
    "            <html>\n",
    "            <body>\n",
    "            <h1 style='color:blue'>THIS IS RESPONSE FOR HOME</h1>\n",
    "            </body>\n",
    "            </html>\n",
    "            \"\"\"\n",
    "\n",
    "elif path == \"/index\":\n",
    "    resp = \"\"\"HTTP 200 OK\n",
    "            Content-Type: text/html\n",
    "\n",
    "\n",
    "            <html>\n",
    "            <body>\n",
    "            <h1 style='color:yellow'>THIS IS RESPONSE FOR INDEX</h1>\n",
    "            </body>\n",
    "            </html>\n",
    "            \"\"\"\n",
    "else:\n",
    "    resp = \"\"\"HTTP 200 OK\n",
    "            Content-Type: text/html\n",
    "\n",
    "\n",
    "            <html>\n",
    "            <body>\n",
    "            <h1 style='color:green'>NO SUCH PATH IS HANDLE</h1>\n",
    "            </body>\n",
    "            </html>\n",
    "            \"\"\"\n",
    "client_socket.send(resp.encode())"
   ]
  },
  {
   "cell_type": "code",
   "execution_count": 27,
   "metadata": {},
   "outputs": [
    {
     "data": {
      "text/plain": [
       "<socket.socket fd=1264, family=AddressFamily.AF_INET, type=SocketKind.SOCK_STREAM, proto=0, laddr=('127.0.0.1', 80)>"
      ]
     },
     "execution_count": 27,
     "metadata": {},
     "output_type": "execute_result"
    }
   ],
   "source": [
    "server"
   ]
  },
  {
   "cell_type": "code",
   "execution_count": 28,
   "metadata": {},
   "outputs": [],
   "source": [
    "server.close()"
   ]
  },
  {
   "cell_type": "code",
   "execution_count": null,
   "metadata": {},
   "outputs": [],
   "source": []
  }
 ],
 "metadata": {
  "kernelspec": {
   "display_name": "Python 3",
   "language": "python",
   "name": "python3"
  },
  "language_info": {
   "codemirror_mode": {
    "name": "ipython",
    "version": 3
   },
   "file_extension": ".py",
   "mimetype": "text/x-python",
   "name": "python",
   "nbconvert_exporter": "python",
   "pygments_lexer": "ipython3",
   "version": "3.8.5"
  }
 },
 "nbformat": 4,
 "nbformat_minor": 4
}
