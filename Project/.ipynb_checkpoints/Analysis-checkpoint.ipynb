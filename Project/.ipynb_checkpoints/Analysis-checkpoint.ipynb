{
 "cells": [
  {
   "cell_type": "code",
   "execution_count": 1,
   "metadata": {},
   "outputs": [],
   "source": [
    "import pandas as pd\n",
    "import matplotlib.pyplot as plt\n",
    "import numpy as np\n",
    "import seaborn as sns"
   ]
  },
  {
   "cell_type": "markdown",
   "metadata": {},
   "source": [
    "#### Dataset used\n",
    "\n",
    "https://www.kaggle.com/promptcloud/jobs-on-naukricom"
   ]
  },
  {
   "cell_type": "code",
   "execution_count": 2,
   "metadata": {},
   "outputs": [],
   "source": [
    "plt.rcParams['figure.figsize'] = 11, 5\n",
    "plt.rcParams['figure.dpi'] = 100"
   ]
  },
  {
   "cell_type": "code",
   "execution_count": 3,
   "metadata": {},
   "outputs": [],
   "source": [
    "data = pd.read_csv(\"home/sdf/marketing_sample_for_naukri_com-jobs__20190701_20190830__30k_data.csv\")"
   ]
  },
  {
   "cell_type": "code",
   "execution_count": 4,
   "metadata": {},
   "outputs": [
    {
     "data": {
      "text/html": [
       "<div>\n",
       "<style scoped>\n",
       "    .dataframe tbody tr th:only-of-type {\n",
       "        vertical-align: middle;\n",
       "    }\n",
       "\n",
       "    .dataframe tbody tr th {\n",
       "        vertical-align: top;\n",
       "    }\n",
       "\n",
       "    .dataframe thead th {\n",
       "        text-align: right;\n",
       "    }\n",
       "</style>\n",
       "<table border=\"1\" class=\"dataframe\">\n",
       "  <thead>\n",
       "    <tr style=\"text-align: right;\">\n",
       "      <th></th>\n",
       "      <th>Uniq Id</th>\n",
       "      <th>Crawl Timestamp</th>\n",
       "      <th>Job Title</th>\n",
       "      <th>Job Salary</th>\n",
       "      <th>Job Experience Required</th>\n",
       "      <th>Key Skills</th>\n",
       "      <th>Role Category</th>\n",
       "      <th>Location</th>\n",
       "      <th>Functional Area</th>\n",
       "      <th>Industry</th>\n",
       "      <th>Role</th>\n",
       "    </tr>\n",
       "  </thead>\n",
       "  <tbody>\n",
       "    <tr>\n",
       "      <th>0</th>\n",
       "      <td>9be62c49a0b7ebe982a4af1edaa7bc5f</td>\n",
       "      <td>2019-07-05 01:46:07 +0000</td>\n",
       "      <td>Digital Media Planner</td>\n",
       "      <td>Not Disclosed by Recruiter</td>\n",
       "      <td>5 - 10 yrs</td>\n",
       "      <td>Media Planning| Digital Media</td>\n",
       "      <td>Advertising</td>\n",
       "      <td>Mumbai</td>\n",
       "      <td>Marketing , Advertising , MR , PR , Media Plan...</td>\n",
       "      <td>Advertising, PR, MR, Event Management</td>\n",
       "      <td>Media Planning Executive/Manager</td>\n",
       "    </tr>\n",
       "    <tr>\n",
       "      <th>1</th>\n",
       "      <td>3c52d436e39f596b22519da2612f6a56</td>\n",
       "      <td>2019-07-06 08:04:50 +0000</td>\n",
       "      <td>Online Bidding Executive</td>\n",
       "      <td>Not Disclosed by Recruiter</td>\n",
       "      <td>2 - 5 yrs</td>\n",
       "      <td>pre sales| closing| software knowledge| clien...</td>\n",
       "      <td>Retail Sales</td>\n",
       "      <td>Pune,Pune</td>\n",
       "      <td>Sales , Retail , Business Development</td>\n",
       "      <td>IT-Software, Software Services</td>\n",
       "      <td>Sales Executive/Officer</td>\n",
       "    </tr>\n",
       "    <tr>\n",
       "      <th>2</th>\n",
       "      <td>ffad8a2396c60be2bf6d0e2ff47c58d4</td>\n",
       "      <td>2019-08-05 15:50:44 +0000</td>\n",
       "      <td>Trainee Research/ Research Executive- Hi- Tec...</td>\n",
       "      <td>Not Disclosed by Recruiter</td>\n",
       "      <td>0 - 1 yrs</td>\n",
       "      <td>Computer science| Fabrication| Quality check|...</td>\n",
       "      <td>R&amp;D</td>\n",
       "      <td>Gurgaon</td>\n",
       "      <td>Engineering Design , R&amp;D</td>\n",
       "      <td>Recruitment, Staffing</td>\n",
       "      <td>R&amp;D Executive</td>\n",
       "    </tr>\n",
       "    <tr>\n",
       "      <th>3</th>\n",
       "      <td>7b921f51b5c2fb862b4a5f7a54c37f75</td>\n",
       "      <td>2019-08-05 15:31:56 +0000</td>\n",
       "      <td>Technical Support</td>\n",
       "      <td>2,00,000 - 4,00,000 PA.</td>\n",
       "      <td>0 - 5 yrs</td>\n",
       "      <td>Technical Support</td>\n",
       "      <td>Admin/Maintenance/Security/Datawarehousing</td>\n",
       "      <td>Mumbai</td>\n",
       "      <td>IT Software - Application Programming , Mainte...</td>\n",
       "      <td>IT-Software, Software Services</td>\n",
       "      <td>Technical Support Engineer</td>\n",
       "    </tr>\n",
       "    <tr>\n",
       "      <th>4</th>\n",
       "      <td>2d8b7d44e138a54d5dc841163138de50</td>\n",
       "      <td>2019-07-05 02:48:29 +0000</td>\n",
       "      <td>Software Test Engineer -hyderabad</td>\n",
       "      <td>Not Disclosed by Recruiter</td>\n",
       "      <td>2 - 5 yrs</td>\n",
       "      <td>manual testing| test engineering| test cases|...</td>\n",
       "      <td>Programming &amp; Design</td>\n",
       "      <td>Hyderabad</td>\n",
       "      <td>IT Software - QA &amp; Testing</td>\n",
       "      <td>IT-Software, Software Services</td>\n",
       "      <td>Testing Engineer</td>\n",
       "    </tr>\n",
       "  </tbody>\n",
       "</table>\n",
       "</div>"
      ],
      "text/plain": [
       "                            Uniq Id            Crawl Timestamp  \\\n",
       "0  9be62c49a0b7ebe982a4af1edaa7bc5f  2019-07-05 01:46:07 +0000   \n",
       "1  3c52d436e39f596b22519da2612f6a56  2019-07-06 08:04:50 +0000   \n",
       "2  ffad8a2396c60be2bf6d0e2ff47c58d4  2019-08-05 15:50:44 +0000   \n",
       "3  7b921f51b5c2fb862b4a5f7a54c37f75  2019-08-05 15:31:56 +0000   \n",
       "4  2d8b7d44e138a54d5dc841163138de50  2019-07-05 02:48:29 +0000   \n",
       "\n",
       "                                           Job Title  \\\n",
       "0                              Digital Media Planner   \n",
       "1                           Online Bidding Executive   \n",
       "2   Trainee Research/ Research Executive- Hi- Tec...   \n",
       "3                                  Technical Support   \n",
       "4                  Software Test Engineer -hyderabad   \n",
       "\n",
       "                     Job Salary Job Experience Required  \\\n",
       "0   Not Disclosed by Recruiter               5 - 10 yrs   \n",
       "1   Not Disclosed by Recruiter                2 - 5 yrs   \n",
       "2   Not Disclosed by Recruiter                0 - 1 yrs   \n",
       "3      2,00,000 - 4,00,000 PA.                0 - 5 yrs   \n",
       "4   Not Disclosed by Recruiter                2 - 5 yrs   \n",
       "\n",
       "                                          Key Skills  \\\n",
       "0                      Media Planning| Digital Media   \n",
       "1   pre sales| closing| software knowledge| clien...   \n",
       "2   Computer science| Fabrication| Quality check|...   \n",
       "3                                  Technical Support   \n",
       "4   manual testing| test engineering| test cases|...   \n",
       "\n",
       "                                Role Category   Location  \\\n",
       "0                                 Advertising     Mumbai   \n",
       "1                                Retail Sales  Pune,Pune   \n",
       "2                                         R&D    Gurgaon   \n",
       "3  Admin/Maintenance/Security/Datawarehousing     Mumbai   \n",
       "4                        Programming & Design  Hyderabad   \n",
       "\n",
       "                                     Functional Area  \\\n",
       "0  Marketing , Advertising , MR , PR , Media Plan...   \n",
       "1              Sales , Retail , Business Development   \n",
       "2                           Engineering Design , R&D   \n",
       "3  IT Software - Application Programming , Mainte...   \n",
       "4                         IT Software - QA & Testing   \n",
       "\n",
       "                                Industry                              Role  \n",
       "0  Advertising, PR, MR, Event Management  Media Planning Executive/Manager  \n",
       "1         IT-Software, Software Services           Sales Executive/Officer  \n",
       "2                  Recruitment, Staffing                     R&D Executive  \n",
       "3         IT-Software, Software Services        Technical Support Engineer  \n",
       "4         IT-Software, Software Services                  Testing Engineer  "
      ]
     },
     "execution_count": 4,
     "metadata": {},
     "output_type": "execute_result"
    }
   ],
   "source": [
    "data.head()"
   ]
  },
  {
   "cell_type": "code",
   "execution_count": 5,
   "metadata": {},
   "outputs": [
    {
     "name": "stdout",
     "output_type": "stream",
     "text": [
      "<class 'pandas.core.frame.DataFrame'>\n",
      "RangeIndex: 30000 entries, 0 to 29999\n",
      "Data columns (total 11 columns):\n",
      " #   Column                   Non-Null Count  Dtype \n",
      "---  ------                   --------------  ----- \n",
      " 0   Uniq Id                  30000 non-null  object\n",
      " 1   Crawl Timestamp          30000 non-null  object\n",
      " 2   Job Title                29425 non-null  object\n",
      " 3   Job Salary               29950 non-null  object\n",
      " 4   Job Experience Required  29427 non-null  object\n",
      " 5   Key Skills               28729 non-null  object\n",
      " 6   Role Category            27695 non-null  object\n",
      " 7   Location                 29423 non-null  object\n",
      " 8   Functional Area          29427 non-null  object\n",
      " 9   Industry                 29427 non-null  object\n",
      " 10  Role                     29099 non-null  object\n",
      "dtypes: object(11)\n",
      "memory usage: 2.5+ MB\n"
     ]
    }
   ],
   "source": [
    "data.info()"
   ]
  },
  {
   "cell_type": "code",
   "execution_count": 6,
   "metadata": {},
   "outputs": [
    {
     "data": {
      "text/html": [
       "<div>\n",
       "<style scoped>\n",
       "    .dataframe tbody tr th:only-of-type {\n",
       "        vertical-align: middle;\n",
       "    }\n",
       "\n",
       "    .dataframe tbody tr th {\n",
       "        vertical-align: top;\n",
       "    }\n",
       "\n",
       "    .dataframe thead th {\n",
       "        text-align: right;\n",
       "    }\n",
       "</style>\n",
       "<table border=\"1\" class=\"dataframe\">\n",
       "  <thead>\n",
       "    <tr style=\"text-align: right;\">\n",
       "      <th></th>\n",
       "      <th>Uniq Id</th>\n",
       "      <th>Crawl Timestamp</th>\n",
       "      <th>Job Title</th>\n",
       "      <th>Job Salary</th>\n",
       "      <th>Job Experience Required</th>\n",
       "      <th>Key Skills</th>\n",
       "      <th>Role Category</th>\n",
       "      <th>Location</th>\n",
       "      <th>Functional Area</th>\n",
       "      <th>Industry</th>\n",
       "      <th>Role</th>\n",
       "    </tr>\n",
       "  </thead>\n",
       "  <tbody>\n",
       "    <tr>\n",
       "      <th>count</th>\n",
       "      <td>30000</td>\n",
       "      <td>30000</td>\n",
       "      <td>29425</td>\n",
       "      <td>29950</td>\n",
       "      <td>29427</td>\n",
       "      <td>28729</td>\n",
       "      <td>27695</td>\n",
       "      <td>29423</td>\n",
       "      <td>29427</td>\n",
       "      <td>29427</td>\n",
       "      <td>29099</td>\n",
       "    </tr>\n",
       "    <tr>\n",
       "      <th>unique</th>\n",
       "      <td>30000</td>\n",
       "      <td>28865</td>\n",
       "      <td>23884</td>\n",
       "      <td>1258</td>\n",
       "      <td>256</td>\n",
       "      <td>26909</td>\n",
       "      <td>206</td>\n",
       "      <td>2573</td>\n",
       "      <td>72</td>\n",
       "      <td>122</td>\n",
       "      <td>649</td>\n",
       "    </tr>\n",
       "    <tr>\n",
       "      <th>top</th>\n",
       "      <td>5bb85cb9b314733d1c829bbab0dcaec2</td>\n",
       "      <td>2019-08-04 02:01:21 +0000</td>\n",
       "      <td>Sales Executive</td>\n",
       "      <td>Not Disclosed by Recruiter</td>\n",
       "      <td>2 - 5 yrs</td>\n",
       "      <td>Counselor| Mentor| Trainer| Advisor| Teaching</td>\n",
       "      <td>Programming &amp; Design</td>\n",
       "      <td>Bengaluru</td>\n",
       "      <td>IT Software - Application Programming , Mainte...</td>\n",
       "      <td>IT-Software, Software Services</td>\n",
       "      <td>Software Developer</td>\n",
       "    </tr>\n",
       "    <tr>\n",
       "      <th>freq</th>\n",
       "      <td>1</td>\n",
       "      <td>5</td>\n",
       "      <td>120</td>\n",
       "      <td>19731</td>\n",
       "      <td>2002</td>\n",
       "      <td>102</td>\n",
       "      <td>8551</td>\n",
       "      <td>4986</td>\n",
       "      <td>7400</td>\n",
       "      <td>10012</td>\n",
       "      <td>6396</td>\n",
       "    </tr>\n",
       "  </tbody>\n",
       "</table>\n",
       "</div>"
      ],
      "text/plain": [
       "                                 Uniq Id            Crawl Timestamp  \\\n",
       "count                              30000                      30000   \n",
       "unique                             30000                      28865   \n",
       "top     5bb85cb9b314733d1c829bbab0dcaec2  2019-08-04 02:01:21 +0000   \n",
       "freq                                   1                          5   \n",
       "\n",
       "               Job Title                    Job Salary  \\\n",
       "count              29425                         29950   \n",
       "unique             23884                          1258   \n",
       "top      Sales Executive   Not Disclosed by Recruiter    \n",
       "freq                 120                         19731   \n",
       "\n",
       "       Job Experience Required  \\\n",
       "count                    29427   \n",
       "unique                     256   \n",
       "top                  2 - 5 yrs   \n",
       "freq                      2002   \n",
       "\n",
       "                                            Key Skills         Role Category  \\\n",
       "count                                            28729                 27695   \n",
       "unique                                           26909                   206   \n",
       "top      Counselor| Mentor| Trainer| Advisor| Teaching  Programming & Design   \n",
       "freq                                               102                  8551   \n",
       "\n",
       "         Location                                    Functional Area  \\\n",
       "count       29423                                              29427   \n",
       "unique       2573                                                 72   \n",
       "top     Bengaluru  IT Software - Application Programming , Mainte...   \n",
       "freq         4986                                               7400   \n",
       "\n",
       "                              Industry                Role  \n",
       "count                            29427               29099  \n",
       "unique                             122                 649  \n",
       "top     IT-Software, Software Services  Software Developer  \n",
       "freq                             10012                6396  "
      ]
     },
     "execution_count": 6,
     "metadata": {},
     "output_type": "execute_result"
    }
   ],
   "source": [
    "data.describe(include=\"all\")"
   ]
  },
  {
   "cell_type": "markdown",
   "metadata": {},
   "source": [
    "##### cleaning data"
   ]
  },
  {
   "cell_type": "code",
   "execution_count": 8,
   "metadata": {},
   "outputs": [],
   "source": [
    "data.fillna(\"\", inplace=True)"
   ]
  },
  {
   "cell_type": "code",
   "execution_count": 9,
   "metadata": {},
   "outputs": [],
   "source": [
    "data.to_csv(\"cleaned_data.csv\")"
   ]
  },
  {
   "cell_type": "code",
   "execution_count": 10,
   "metadata": {},
   "outputs": [
    {
     "name": "stdout",
     "output_type": "stream",
     "text": [
      "<class 'pandas.core.frame.DataFrame'>\n",
      "RangeIndex: 30000 entries, 0 to 29999\n",
      "Data columns (total 11 columns):\n",
      " #   Column                   Non-Null Count  Dtype \n",
      "---  ------                   --------------  ----- \n",
      " 0   Uniq Id                  30000 non-null  object\n",
      " 1   Crawl Timestamp          30000 non-null  object\n",
      " 2   Job Title                30000 non-null  object\n",
      " 3   Job Salary               30000 non-null  object\n",
      " 4   Job Experience Required  30000 non-null  object\n",
      " 5   Key Skills               30000 non-null  object\n",
      " 6   Role Category            30000 non-null  object\n",
      " 7   Location                 30000 non-null  object\n",
      " 8   Functional Area          30000 non-null  object\n",
      " 9   Industry                 30000 non-null  object\n",
      " 10  Role                     30000 non-null  object\n",
      "dtypes: object(11)\n",
      "memory usage: 2.5+ MB\n"
     ]
    }
   ],
   "source": [
    "data.info()"
   ]
  },
  {
   "cell_type": "markdown",
   "metadata": {},
   "source": [
    "###### we are finding the unique values and their count in each column"
   ]
  },
  {
   "cell_type": "code",
   "execution_count": 11,
   "metadata": {},
   "outputs": [
    {
     "data": {
      "text/plain": [
       "Index(['Uniq Id', 'Crawl Timestamp', 'Job Title', 'Job Salary',\n",
       "       'Job Experience Required', 'Key Skills', 'Role Category', 'Location',\n",
       "       'Functional Area', 'Industry', 'Role'],\n",
       "      dtype='object')"
      ]
     },
     "execution_count": 11,
     "metadata": {},
     "output_type": "execute_result"
    }
   ],
   "source": [
    "data.columns"
   ]
  },
  {
   "cell_type": "markdown",
   "metadata": {},
   "source": [
    "#### Top 5 Job Titles Required in Naukri.com"
   ]
  },
  {
   "cell_type": "code",
   "execution_count": 15,
   "metadata": {},
   "outputs": [
    {
     "data": {
      "text/plain": [
       "<AxesSubplot:>"
      ]
     },
     "execution_count": 15,
     "metadata": {},
     "output_type": "execute_result"
    },
    {
     "data": {
      "image/png": "[encoded data removed]",
      "text/plain": [
       "<Figure size 1100x500 with 1 Axes>"
      ]
     },
     "metadata": {
      "needs_background": "light"
     },
     "output_type": "display_data"
    }
   ],
   "source": [
    "data['Job Title'].value_counts()[1:6].plot(kind=\"bar\")"
   ]
  },
  {
   "cell_type": "code",
   "execution_count": 16,
   "metadata": {},
   "outputs": [
    {
     "data": {
      "text/plain": [
       " Sales Executive                                  120\n",
       " Business Development Executive                   120\n",
       " PHP Developer                                    117\n",
       " Business Development Manager                      99\n",
       " Graphic Designer                                  84\n",
       "                                                 ... \n",
       " Faculty English / Hindi / Chemistry                1\n",
       " HR Recruiter ll Upto 18K ll Delhi ll Females       1\n",
       "Manager - Business Transformation                   1\n",
       " Admin-cum-Reception Exe.                           1\n",
       " Key Accounts Manager/Sr. Key Accounts Manager      1\n",
       "Name: Job Title, Length: 23884, dtype: int64"
      ]
     },
     "execution_count": 16,
     "metadata": {},
     "output_type": "execute_result"
    }
   ],
   "source": [
    "data['Job Title'].value_counts()[1:]"
   ]
  },
  {
   "cell_type": "code",
   "execution_count": 17,
   "metadata": {},
   "outputs": [],
   "source": [
    "### data scientist, python developer, python developer-machine learning, \n",
    "### back-office operation, back office operation"
   ]
  },
  {
   "cell_type": "markdown",
   "metadata": {},
   "source": [
    "###### Job Experience required by the companies"
   ]
  },
  {
   "cell_type": "code",
   "execution_count": 18,
   "metadata": {},
   "outputs": [
    {
     "data": {
      "text/plain": [
       "2 - 5 yrs         2002\n",
       "2 - 7 yrs         1659\n",
       "5 - 10 yrs        1510\n",
       "3 - 8 yrs         1366\n",
       "1 - 3 yrs         1189\n",
       "                  ... \n",
       " 12 - 17 Years       1\n",
       " 11 - 20 Years       1\n",
       " 12 - 13 Years       1\n",
       "2 - 12 yrs           1\n",
       "17 - 21 yrs          1\n",
       "Name: Job Experience Required, Length: 257, dtype: int64"
      ]
     },
     "execution_count": 18,
     "metadata": {},
     "output_type": "execute_result"
    }
   ],
   "source": [
    "data['Job Experience Required'].value_counts()"
   ]
  },
  {
   "cell_type": "code",
   "execution_count": 20,
   "metadata": {},
   "outputs": [],
   "source": [
    "data['Job Experience Required'] = data['Job Experience Required'].apply(lambda x: x.strip())"
   ]
  },
  {
   "cell_type": "code",
   "execution_count": 21,
   "metadata": {},
   "outputs": [
    {
     "data": {
      "text/plain": [
       "2 - 5 yrs      2002\n",
       "2 - 7 yrs      1659\n",
       "5 - 10 yrs     1510\n",
       "3 - 8 yrs      1366\n",
       "1 - 3 yrs      1189\n",
       "               ... \n",
       "2 - 12 yrs        1\n",
       "0 - 15 yrs        1\n",
       "17 - 27 yrs       1\n",
       "7 - 7 yrs         1\n",
       "17 - 21 yrs       1\n",
       "Name: Job Experience Required, Length: 256, dtype: int64"
      ]
     },
     "execution_count": 21,
     "metadata": {},
     "output_type": "execute_result"
    }
   ],
   "source": [
    "data['Job Experience Required'].value_counts()"
   ]
  },
  {
   "cell_type": "code",
   "execution_count": 23,
   "metadata": {},
   "outputs": [
    {
     "data": {
      "text/html": [
       "<div>\n",
       "<style scoped>\n",
       "    .dataframe tbody tr th:only-of-type {\n",
       "        vertical-align: middle;\n",
       "    }\n",
       "\n",
       "    .dataframe tbody tr th {\n",
       "        vertical-align: top;\n",
       "    }\n",
       "\n",
       "    .dataframe thead th {\n",
       "        text-align: right;\n",
       "    }\n",
       "</style>\n",
       "<table border=\"1\" class=\"dataframe\">\n",
       "  <thead>\n",
       "    <tr style=\"text-align: right;\">\n",
       "      <th></th>\n",
       "      <th>Uniq Id</th>\n",
       "      <th>Crawl Timestamp</th>\n",
       "      <th>Job Title</th>\n",
       "      <th>Job Salary</th>\n",
       "      <th>Job Experience Required</th>\n",
       "      <th>Key Skills</th>\n",
       "      <th>Role Category</th>\n",
       "      <th>Location</th>\n",
       "      <th>Functional Area</th>\n",
       "      <th>Industry</th>\n",
       "      <th>Role</th>\n",
       "    </tr>\n",
       "  </thead>\n",
       "  <tbody>\n",
       "    <tr>\n",
       "      <th>13</th>\n",
       "      <td>225c4680e3df32fbaf9c625ca18ae47c</td>\n",
       "      <td>2019-08-04 09:37:17 +0000</td>\n",
       "      <td>Oracle IDAM</td>\n",
       "      <td>Openings: 1</td>\n",
       "      <td>3 - 7 Years</td>\n",
       "      <td>Oracle IDAM|OIM|OAM</td>\n",
       "      <td>Programming &amp; Design</td>\n",
       "      <td>Bengaluru,Hyderabad,Kolkata,Chennai</td>\n",
       "      <td>IT Software - Application Programming , Mainte...</td>\n",
       "      <td>IT-Software / Software Services</td>\n",
       "      <td>Software Developer</td>\n",
       "    </tr>\n",
       "    <tr>\n",
       "      <th>40</th>\n",
       "      <td>da34a2185665cb96ce202b545dea3220</td>\n",
       "      <td>2019-08-05 03:00:12 +0000</td>\n",
       "      <td>Excellent Opportunity For ” Linux Device Drive...</td>\n",
       "      <td>Not Disclosed by Recruiter</td>\n",
       "      <td>2 - 7 Years</td>\n",
       "      <td>arm processor|c|device drivers|embedded linux|...</td>\n",
       "      <td>Programming &amp; Design</td>\n",
       "      <td>Hyderabad, Bengaluru</td>\n",
       "      <td>IT Software - Application Programming , Mainte...</td>\n",
       "      <td>IT-Software / Software Services</td>\n",
       "      <td>Software Developer</td>\n",
       "    </tr>\n",
       "    <tr>\n",
       "      <th>59</th>\n",
       "      <td>27ea5c0ad949c870e2861048bb3cf1d9</td>\n",
       "      <td>2019-07-05 15:31:50 +0000</td>\n",
       "      <td></td>\n",
       "      <td>INR 2,50,000 - 3,75,000 PA.</td>\n",
       "      <td></td>\n",
       "      <td>Marketing|Executive|Marketing|Marketing|Execut...</td>\n",
       "      <td></td>\n",
       "      <td></td>\n",
       "      <td></td>\n",
       "      <td></td>\n",
       "      <td></td>\n",
       "    </tr>\n",
       "    <tr>\n",
       "      <th>62</th>\n",
       "      <td>2ff35fa13cd07bba1bbed4dadd5acec8</td>\n",
       "      <td>2019-08-04 21:57:54 +0000</td>\n",
       "      <td></td>\n",
       "      <td>INR 20,00,000 - 30,00,000 PA.</td>\n",
       "      <td></td>\n",
       "      <td>Manager|Transformation|Manager|Transformation|...</td>\n",
       "      <td></td>\n",
       "      <td></td>\n",
       "      <td></td>\n",
       "      <td></td>\n",
       "      <td></td>\n",
       "    </tr>\n",
       "    <tr>\n",
       "      <th>99</th>\n",
       "      <td>272e816bf7c6b48782b2746905495660</td>\n",
       "      <td>2019-08-05 00:39:10 +0000</td>\n",
       "      <td>Enterprise Business Development Representative</td>\n",
       "      <td>Openings: 1</td>\n",
       "      <td>1 - 3 Years</td>\n",
       "      <td>market penetration|marketing|customer satisfac...</td>\n",
       "      <td>Channel Sales</td>\n",
       "      <td>Bengaluru</td>\n",
       "      <td>Sales , Retail , Business Development</td>\n",
       "      <td>IT-Software / Software Services</td>\n",
       "      <td>Sales Executive / Officer</td>\n",
       "    </tr>\n",
       "    <tr>\n",
       "      <th>...</th>\n",
       "      <td>...</td>\n",
       "      <td>...</td>\n",
       "      <td>...</td>\n",
       "      <td>...</td>\n",
       "      <td>...</td>\n",
       "      <td>...</td>\n",
       "      <td>...</td>\n",
       "      <td>...</td>\n",
       "      <td>...</td>\n",
       "      <td>...</td>\n",
       "      <td>...</td>\n",
       "    </tr>\n",
       "    <tr>\n",
       "      <th>29971</th>\n",
       "      <td>248adec7bd38619493f2492f8258aedf</td>\n",
       "      <td>2019-07-04 18:52:40 +0000</td>\n",
       "      <td></td>\n",
       "      <td>INR 1,75,000 - 2,75,000 PA.</td>\n",
       "      <td></td>\n",
       "      <td>Associates|Associate|Associates|Associate|Asso...</td>\n",
       "      <td></td>\n",
       "      <td></td>\n",
       "      <td></td>\n",
       "      <td></td>\n",
       "      <td></td>\n",
       "    </tr>\n",
       "    <tr>\n",
       "      <th>29975</th>\n",
       "      <td>0c55068faa2a3a45e0e749618f126371</td>\n",
       "      <td>2019-08-04 06:53:17 +0000</td>\n",
       "      <td>Nokia WING - Solution Architect CMP</td>\n",
       "      <td>Openings: 1</td>\n",
       "      <td>4 - 7 Years</td>\n",
       "      <td>PGW|SGW|Mobile Core Network|Networking|Use Cas...</td>\n",
       "      <td>System Design/Implementation/ERP/CRM</td>\n",
       "      <td>Noida,Chennai</td>\n",
       "      <td>IT Software - Network Administration , Security</td>\n",
       "      <td>Telecom / ISP</td>\n",
       "      <td>Solution Architect / Enterprise Architect</td>\n",
       "    </tr>\n",
       "    <tr>\n",
       "      <th>29985</th>\n",
       "      <td>cf304aecf4f614361fbec9def4d96859</td>\n",
       "      <td>2019-08-05 17:56:58 +0000</td>\n",
       "      <td>Senior Resident ( Critical care)</td>\n",
       "      <td>Not Disclosed by Recruiter</td>\n",
       "      <td>Not Mentioned</td>\n",
       "      <td></td>\n",
       "      <td></td>\n",
       "      <td>Delhi</td>\n",
       "      <td>Medical , Healthcare , R&amp;D , Pharmaceuticals ,...</td>\n",
       "      <td>Medical, Healthcare, Hospitals</td>\n",
       "      <td></td>\n",
       "    </tr>\n",
       "    <tr>\n",
       "      <th>29986</th>\n",
       "      <td>e70150ff9eab5aae70f75e22c427c65a</td>\n",
       "      <td>2019-07-05 06:52:20 +0000</td>\n",
       "      <td>Developer – OOPS</td>\n",
       "      <td>Not Disclosed by Recruiter</td>\n",
       "      <td>3 - 5 Years</td>\n",
       "      <td>node.js|object oriented programming|oops|java|...</td>\n",
       "      <td>Programming &amp; Design</td>\n",
       "      <td>Bengaluru</td>\n",
       "      <td>IT Software - Application Programming , Mainte...</td>\n",
       "      <td>IT-Software / Software Services</td>\n",
       "      <td>Software Developer</td>\n",
       "    </tr>\n",
       "    <tr>\n",
       "      <th>29989</th>\n",
       "      <td>fe1cee89dbf992191f078fd627646efe</td>\n",
       "      <td>2019-07-05 17:39:23 +0000</td>\n",
       "      <td>Penetration Testing</td>\n",
       "      <td>INR 7,00,000 - 8,00,000 PA.</td>\n",
       "      <td>0 - 4 Years</td>\n",
       "      <td>Web App|Mobile|Web Services|Burp Professional|...</td>\n",
       "      <td>Programming &amp; Design</td>\n",
       "      <td>Bengaluru</td>\n",
       "      <td>IT Software - Application Programming , Mainte...</td>\n",
       "      <td>IT-Software / Software Services</td>\n",
       "      <td>Testing Engineer</td>\n",
       "    </tr>\n",
       "  </tbody>\n",
       "</table>\n",
       "<p>2409 rows × 11 columns</p>\n",
       "</div>"
      ],
      "text/plain": [
       "                                Uniq Id            Crawl Timestamp  \\\n",
       "13     225c4680e3df32fbaf9c625ca18ae47c  2019-08-04 09:37:17 +0000   \n",
       "40     da34a2185665cb96ce202b545dea3220  2019-08-05 03:00:12 +0000   \n",
       "59     27ea5c0ad949c870e2861048bb3cf1d9  2019-07-05 15:31:50 +0000   \n",
       "62     2ff35fa13cd07bba1bbed4dadd5acec8  2019-08-04 21:57:54 +0000   \n",
       "99     272e816bf7c6b48782b2746905495660  2019-08-05 00:39:10 +0000   \n",
       "...                                 ...                        ...   \n",
       "29971  248adec7bd38619493f2492f8258aedf  2019-07-04 18:52:40 +0000   \n",
       "29975  0c55068faa2a3a45e0e749618f126371  2019-08-04 06:53:17 +0000   \n",
       "29985  cf304aecf4f614361fbec9def4d96859  2019-08-05 17:56:58 +0000   \n",
       "29986  e70150ff9eab5aae70f75e22c427c65a  2019-07-05 06:52:20 +0000   \n",
       "29989  fe1cee89dbf992191f078fd627646efe  2019-07-05 17:39:23 +0000   \n",
       "\n",
       "                                               Job Title  \\\n",
       "13                                           Oracle IDAM   \n",
       "40     Excellent Opportunity For ” Linux Device Drive...   \n",
       "59                                                         \n",
       "62                                                         \n",
       "99        Enterprise Business Development Representative   \n",
       "...                                                  ...   \n",
       "29971                                                      \n",
       "29975                Nokia WING - Solution Architect CMP   \n",
       "29985                   Senior Resident ( Critical care)   \n",
       "29986                                   Developer – OOPS   \n",
       "29989                                Penetration Testing   \n",
       "\n",
       "                            Job Salary Job Experience Required  \\\n",
       "13                         Openings: 1             3 - 7 Years   \n",
       "40          Not Disclosed by Recruiter             2 - 7 Years   \n",
       "59        INR 2,50,000 - 3,75,000 PA.                            \n",
       "62      INR 20,00,000 - 30,00,000 PA.                            \n",
       "99                         Openings: 1             1 - 3 Years   \n",
       "...                                ...                     ...   \n",
       "29971     INR 1,75,000 - 2,75,000 PA.                            \n",
       "29975                      Openings: 1             4 - 7 Years   \n",
       "29985      Not Disclosed by Recruiter            Not Mentioned   \n",
       "29986       Not Disclosed by Recruiter             3 - 5 Years   \n",
       "29989      INR 7,00,000 - 8,00,000 PA.             0 - 4 Years   \n",
       "\n",
       "                                              Key Skills  \\\n",
       "13                                   Oracle IDAM|OIM|OAM   \n",
       "40     arm processor|c|device drivers|embedded linux|...   \n",
       "59     Marketing|Executive|Marketing|Marketing|Execut...   \n",
       "62     Manager|Transformation|Manager|Transformation|...   \n",
       "99     market penetration|marketing|customer satisfac...   \n",
       "...                                                  ...   \n",
       "29971  Associates|Associate|Associates|Associate|Asso...   \n",
       "29975  PGW|SGW|Mobile Core Network|Networking|Use Cas...   \n",
       "29985                                                      \n",
       "29986  node.js|object oriented programming|oops|java|...   \n",
       "29989  Web App|Mobile|Web Services|Burp Professional|...   \n",
       "\n",
       "                              Role Category  \\\n",
       "13                     Programming & Design   \n",
       "40                     Programming & Design   \n",
       "59                                            \n",
       "62                                            \n",
       "99                            Channel Sales   \n",
       "...                                     ...   \n",
       "29971                                         \n",
       "29975  System Design/Implementation/ERP/CRM   \n",
       "29985                                         \n",
       "29986                  Programming & Design   \n",
       "29989                  Programming & Design   \n",
       "\n",
       "                                  Location  \\\n",
       "13     Bengaluru,Hyderabad,Kolkata,Chennai   \n",
       "40                    Hyderabad, Bengaluru   \n",
       "59                                           \n",
       "62                                           \n",
       "99                               Bengaluru   \n",
       "...                                    ...   \n",
       "29971                                        \n",
       "29975                        Noida,Chennai   \n",
       "29985                                Delhi   \n",
       "29986                            Bengaluru   \n",
       "29989                            Bengaluru   \n",
       "\n",
       "                                         Functional Area  \\\n",
       "13     IT Software - Application Programming , Mainte...   \n",
       "40     IT Software - Application Programming , Mainte...   \n",
       "59                                                         \n",
       "62                                                         \n",
       "99                 Sales , Retail , Business Development   \n",
       "...                                                  ...   \n",
       "29971                                                      \n",
       "29975    IT Software - Network Administration , Security   \n",
       "29985  Medical , Healthcare , R&D , Pharmaceuticals ,...   \n",
       "29986  IT Software - Application Programming , Mainte...   \n",
       "29989  IT Software - Application Programming , Mainte...   \n",
       "\n",
       "                              Industry  \\\n",
       "13     IT-Software / Software Services   \n",
       "40     IT-Software / Software Services   \n",
       "59                                       \n",
       "62                                       \n",
       "99     IT-Software / Software Services   \n",
       "...                                ...   \n",
       "29971                                    \n",
       "29975                    Telecom / ISP   \n",
       "29985   Medical, Healthcare, Hospitals   \n",
       "29986  IT-Software / Software Services   \n",
       "29989  IT-Software / Software Services   \n",
       "\n",
       "                                            Role  \n",
       "13                            Software Developer  \n",
       "40                            Software Developer  \n",
       "59                                                \n",
       "62                                                \n",
       "99                     Sales Executive / Officer  \n",
       "...                                          ...  \n",
       "29971                                             \n",
       "29975  Solution Architect / Enterprise Architect  \n",
       "29985                                             \n",
       "29986                         Software Developer  \n",
       "29989                           Testing Engineer  \n",
       "\n",
       "[2409 rows x 11 columns]"
      ]
     },
     "execution_count": 23,
     "metadata": {},
     "output_type": "execute_result"
    }
   ],
   "source": [
    "data[data['Job Experience Required'].apply(lambda x:True if \"yrs\" not in x.lower() else False)]"
   ]
  },
  {
   "cell_type": "code",
   "execution_count": 57,
   "metadata": {},
   "outputs": [],
   "source": [
    "def change(x):\n",
    "    if \"years\" in x.lower():\n",
    "        x = x.replace(\"years\", \"yrs\")\n",
    "    return x"
   ]
  },
  {
   "cell_type": "code",
   "execution_count": 58,
   "metadata": {},
   "outputs": [
    {
     "data": {
      "text/plain": [
       "0        5 - 10 yrs\n",
       "1         2 - 5 yrs\n",
       "2         0 - 1 yrs\n",
       "3         0 - 5 yrs\n",
       "4         2 - 5 yrs\n",
       "            ...    \n",
       "29995    9 - 12 yrs\n",
       "29996     1 - 5 yrs\n",
       "29997     4 - 6 yrs\n",
       "29998    5 - 10 yrs\n",
       "29999     2 - 7 yrs\n",
       "Name: Job Experience Required, Length: 30000, dtype: object"
      ]
     },
     "execution_count": 58,
     "metadata": {},
     "output_type": "execute_result"
    }
   ],
   "source": [
    "data['Job Experience Required'].apply(lambda x:change(x))"
   ]
  },
  {
   "cell_type": "code",
   "execution_count": 59,
   "metadata": {},
   "outputs": [],
   "source": [
    "data['Job Experience Required'] = data['Job Experience Required'].apply(lambda x:change(x))"
   ]
  },
  {
   "cell_type": "code",
   "execution_count": 60,
   "metadata": {},
   "outputs": [
    {
     "data": {
      "text/html": [
       "<div>\n",
       "<style scoped>\n",
       "    .dataframe tbody tr th:only-of-type {\n",
       "        vertical-align: middle;\n",
       "    }\n",
       "\n",
       "    .dataframe tbody tr th {\n",
       "        vertical-align: top;\n",
       "    }\n",
       "\n",
       "    .dataframe thead th {\n",
       "        text-align: right;\n",
       "    }\n",
       "</style>\n",
       "<table border=\"1\" class=\"dataframe\">\n",
       "  <thead>\n",
       "    <tr style=\"text-align: right;\">\n",
       "      <th></th>\n",
       "      <th>Uniq Id</th>\n",
       "      <th>Crawl Timestamp</th>\n",
       "      <th>Job Title</th>\n",
       "      <th>Job Salary</th>\n",
       "      <th>Job Experience Required</th>\n",
       "      <th>Key Skills</th>\n",
       "      <th>Role Category</th>\n",
       "      <th>Location</th>\n",
       "      <th>Functional Area</th>\n",
       "      <th>Industry</th>\n",
       "      <th>Role</th>\n",
       "    </tr>\n",
       "  </thead>\n",
       "  <tbody>\n",
       "    <tr>\n",
       "      <th>59</th>\n",
       "      <td>27ea5c0ad949c870e2861048bb3cf1d9</td>\n",
       "      <td>2019-07-05 15:31:50 +0000</td>\n",
       "      <td></td>\n",
       "      <td>INR 2,50,000 - 3,75,000 PA.</td>\n",
       "      <td></td>\n",
       "      <td>Marketing|Executive|Marketing|Marketing|Execut...</td>\n",
       "      <td></td>\n",
       "      <td></td>\n",
       "      <td></td>\n",
       "      <td></td>\n",
       "      <td></td>\n",
       "    </tr>\n",
       "    <tr>\n",
       "      <th>62</th>\n",
       "      <td>2ff35fa13cd07bba1bbed4dadd5acec8</td>\n",
       "      <td>2019-08-04 21:57:54 +0000</td>\n",
       "      <td></td>\n",
       "      <td>INR 20,00,000 - 30,00,000 PA.</td>\n",
       "      <td></td>\n",
       "      <td>Manager|Transformation|Manager|Transformation|...</td>\n",
       "      <td></td>\n",
       "      <td></td>\n",
       "      <td></td>\n",
       "      <td></td>\n",
       "      <td></td>\n",
       "    </tr>\n",
       "    <tr>\n",
       "      <th>109</th>\n",
       "      <td>6fae92704f5136f6ed6c44593bf7aa25</td>\n",
       "      <td>2019-07-04 04:13:25 +0000</td>\n",
       "      <td>Clerk - Garh Shankar (Vacancy-1)</td>\n",
       "      <td>Not Disclosed by Recruiter</td>\n",
       "      <td>not mentioned</td>\n",
       "      <td></td>\n",
       "      <td></td>\n",
       "      <td>Chandigarh</td>\n",
       "      <td>Executive Assistant , Front Office , Data Entry</td>\n",
       "      <td>Government, Defence</td>\n",
       "      <td></td>\n",
       "    </tr>\n",
       "    <tr>\n",
       "      <th>116</th>\n",
       "      <td>b7d341a28cd3c9d9b00fccee9cc1420e</td>\n",
       "      <td>2019-07-06 15:13:53 +0000</td>\n",
       "      <td></td>\n",
       "      <td>INR 1,50,000 - 2,00,000 PA.</td>\n",
       "      <td></td>\n",
       "      <td></td>\n",
       "      <td></td>\n",
       "      <td></td>\n",
       "      <td></td>\n",
       "      <td></td>\n",
       "      <td></td>\n",
       "    </tr>\n",
       "    <tr>\n",
       "      <th>168</th>\n",
       "      <td>9bdf33e674652004b5a340ed92f38acb</td>\n",
       "      <td>2019-08-05 19:31:24 +0000</td>\n",
       "      <td></td>\n",
       "      <td>Not disclosed</td>\n",
       "      <td></td>\n",
       "      <td></td>\n",
       "      <td></td>\n",
       "      <td></td>\n",
       "      <td></td>\n",
       "      <td></td>\n",
       "      <td></td>\n",
       "    </tr>\n",
       "    <tr>\n",
       "      <th>...</th>\n",
       "      <td>...</td>\n",
       "      <td>...</td>\n",
       "      <td>...</td>\n",
       "      <td>...</td>\n",
       "      <td>...</td>\n",
       "      <td>...</td>\n",
       "      <td>...</td>\n",
       "      <td>...</td>\n",
       "      <td>...</td>\n",
       "      <td>...</td>\n",
       "      <td>...</td>\n",
       "    </tr>\n",
       "    <tr>\n",
       "      <th>29879</th>\n",
       "      <td>9ac55cd17dbe1f37cd8ae7ec8ea73241</td>\n",
       "      <td>2019-07-06 19:16:19 +0000</td>\n",
       "      <td></td>\n",
       "      <td>INR 2,00,000 - 4,00,000 PA.</td>\n",
       "      <td></td>\n",
       "      <td></td>\n",
       "      <td></td>\n",
       "      <td></td>\n",
       "      <td></td>\n",
       "      <td></td>\n",
       "      <td></td>\n",
       "    </tr>\n",
       "    <tr>\n",
       "      <th>29918</th>\n",
       "      <td>016aec394ebfac30ed77fa12ab39f336</td>\n",
       "      <td>2019-07-05 23:33:04 +0000</td>\n",
       "      <td>Assistant Professor - Mechanical Engineering ...</td>\n",
       "      <td></td>\n",
       "      <td>not mentioned</td>\n",
       "      <td></td>\n",
       "      <td></td>\n",
       "      <td>Delhi</td>\n",
       "      <td>Teaching , Education , Training , Counselling</td>\n",
       "      <td>Education, Teaching, Training</td>\n",
       "      <td></td>\n",
       "    </tr>\n",
       "    <tr>\n",
       "      <th>29942</th>\n",
       "      <td>da7345f10caec66c8a9dcd770ee5c5a8</td>\n",
       "      <td>2019-07-05 20:06:09 +0000</td>\n",
       "      <td></td>\n",
       "      <td>Not disclosed</td>\n",
       "      <td></td>\n",
       "      <td>Leads|Senior|Lead|Senior|Lead|Lead|Lead|Senior...</td>\n",
       "      <td></td>\n",
       "      <td></td>\n",
       "      <td></td>\n",
       "      <td></td>\n",
       "      <td></td>\n",
       "    </tr>\n",
       "    <tr>\n",
       "      <th>29971</th>\n",
       "      <td>248adec7bd38619493f2492f8258aedf</td>\n",
       "      <td>2019-07-04 18:52:40 +0000</td>\n",
       "      <td></td>\n",
       "      <td>INR 1,75,000 - 2,75,000 PA.</td>\n",
       "      <td></td>\n",
       "      <td>Associates|Associate|Associates|Associate|Asso...</td>\n",
       "      <td></td>\n",
       "      <td></td>\n",
       "      <td></td>\n",
       "      <td></td>\n",
       "      <td></td>\n",
       "    </tr>\n",
       "    <tr>\n",
       "      <th>29985</th>\n",
       "      <td>cf304aecf4f614361fbec9def4d96859</td>\n",
       "      <td>2019-08-05 17:56:58 +0000</td>\n",
       "      <td>Senior Resident ( Critical care)</td>\n",
       "      <td>Not Disclosed by Recruiter</td>\n",
       "      <td>not mentioned</td>\n",
       "      <td></td>\n",
       "      <td></td>\n",
       "      <td>Delhi</td>\n",
       "      <td>Medical , Healthcare , R&amp;D , Pharmaceuticals ,...</td>\n",
       "      <td>Medical, Healthcare, Hospitals</td>\n",
       "      <td></td>\n",
       "    </tr>\n",
       "  </tbody>\n",
       "</table>\n",
       "<p>746 rows × 11 columns</p>\n",
       "</div>"
      ],
      "text/plain": [
       "                                Uniq Id            Crawl Timestamp  \\\n",
       "59     27ea5c0ad949c870e2861048bb3cf1d9  2019-07-05 15:31:50 +0000   \n",
       "62     2ff35fa13cd07bba1bbed4dadd5acec8  2019-08-04 21:57:54 +0000   \n",
       "109    6fae92704f5136f6ed6c44593bf7aa25  2019-07-04 04:13:25 +0000   \n",
       "116    b7d341a28cd3c9d9b00fccee9cc1420e  2019-07-06 15:13:53 +0000   \n",
       "168    9bdf33e674652004b5a340ed92f38acb  2019-08-05 19:31:24 +0000   \n",
       "...                                 ...                        ...   \n",
       "29879  9ac55cd17dbe1f37cd8ae7ec8ea73241  2019-07-06 19:16:19 +0000   \n",
       "29918  016aec394ebfac30ed77fa12ab39f336  2019-07-05 23:33:04 +0000   \n",
       "29942  da7345f10caec66c8a9dcd770ee5c5a8  2019-07-05 20:06:09 +0000   \n",
       "29971  248adec7bd38619493f2492f8258aedf  2019-07-04 18:52:40 +0000   \n",
       "29985  cf304aecf4f614361fbec9def4d96859  2019-08-05 17:56:58 +0000   \n",
       "\n",
       "                                               Job Title  \\\n",
       "59                                                         \n",
       "62                                                         \n",
       "109                     Clerk - Garh Shankar (Vacancy-1)   \n",
       "116                                                        \n",
       "168                                                        \n",
       "...                                                  ...   \n",
       "29879                                                      \n",
       "29918   Assistant Professor - Mechanical Engineering ...   \n",
       "29942                                                      \n",
       "29971                                                      \n",
       "29985                   Senior Resident ( Critical care)   \n",
       "\n",
       "                            Job Salary Job Experience Required  \\\n",
       "59        INR 2,50,000 - 3,75,000 PA.                            \n",
       "62      INR 20,00,000 - 30,00,000 PA.                            \n",
       "109        Not Disclosed by Recruiter            not mentioned   \n",
       "116       INR 1,50,000 - 2,00,000 PA.                            \n",
       "168                     Not disclosed                            \n",
       "...                                ...                     ...   \n",
       "29879     INR 2,00,000 - 4,00,000 PA.                            \n",
       "29918                                            not mentioned   \n",
       "29942                   Not disclosed                            \n",
       "29971     INR 1,75,000 - 2,75,000 PA.                            \n",
       "29985      Not Disclosed by Recruiter            not mentioned   \n",
       "\n",
       "                                              Key Skills Role Category  \\\n",
       "59     Marketing|Executive|Marketing|Marketing|Execut...                 \n",
       "62     Manager|Transformation|Manager|Transformation|...                 \n",
       "109                                                                      \n",
       "116                                                                      \n",
       "168                                                                      \n",
       "...                                                  ...           ...   \n",
       "29879                                                                    \n",
       "29918                                                                    \n",
       "29942  Leads|Senior|Lead|Senior|Lead|Lead|Lead|Senior...                 \n",
       "29971  Associates|Associate|Associates|Associate|Asso...                 \n",
       "29985                                                                    \n",
       "\n",
       "         Location                                    Functional Area  \\\n",
       "59                                                                     \n",
       "62                                                                     \n",
       "109    Chandigarh    Executive Assistant , Front Office , Data Entry   \n",
       "116                                                                    \n",
       "168                                                                    \n",
       "...           ...                                                ...   \n",
       "29879                                                                  \n",
       "29918       Delhi      Teaching , Education , Training , Counselling   \n",
       "29942                                                                  \n",
       "29971                                                                  \n",
       "29985       Delhi  Medical , Healthcare , R&D , Pharmaceuticals ,...   \n",
       "\n",
       "                             Industry Role  \n",
       "59                                          \n",
       "62                                          \n",
       "109               Government, Defence       \n",
       "116                                         \n",
       "168                                         \n",
       "...                               ...  ...  \n",
       "29879                                       \n",
       "29918   Education, Teaching, Training       \n",
       "29942                                       \n",
       "29971                                       \n",
       "29985  Medical, Healthcare, Hospitals       \n",
       "\n",
       "[746 rows x 11 columns]"
      ]
     },
     "execution_count": 60,
     "metadata": {},
     "output_type": "execute_result"
    }
   ],
   "source": [
    "data[data['Job Experience Required'].apply(lambda x:True if \"yrs\" not in x.lower() else False)]"
   ]
  },
  {
   "cell_type": "code",
   "execution_count": 62,
   "metadata": {},
   "outputs": [
    {
     "name": "stderr",
     "output_type": "stream",
     "text": [
      "C:\\Anaconda\\lib\\site-packages\\seaborn\\_decorators.py:36: FutureWarning: Pass the following variable as a keyword arg: x. From version 0.12, the only valid positional argument will be `data`, and passing other arguments without an explicit keyword will result in an error or misinterpretation.\n",
      "  warnings.warn(\n"
     ]
    },
    {
     "data": {
      "image/png": "[encoded data removed]",
      "text/plain": [
       "<Figure size 1100x500 with 1 Axes>"
      ]
     },
     "metadata": {
      "needs_background": "light"
     },
     "output_type": "display_data"
    }
   ],
   "source": [
    "sns.countplot(data['Job Experience Required'])\n",
    "plt.xticks(rotation=90)\n",
    "plt.show()"
   ]
  },
  {
   "cell_type": "code",
   "execution_count": 63,
   "metadata": {},
   "outputs": [
    {
     "data": {
      "text/html": [
       "<div>\n",
       "<style scoped>\n",
       "    .dataframe tbody tr th:only-of-type {\n",
       "        vertical-align: middle;\n",
       "    }\n",
       "\n",
       "    .dataframe tbody tr th {\n",
       "        vertical-align: top;\n",
       "    }\n",
       "\n",
       "    .dataframe thead th {\n",
       "        text-align: right;\n",
       "    }\n",
       "</style>\n",
       "<table border=\"1\" class=\"dataframe\">\n",
       "  <thead>\n",
       "    <tr style=\"text-align: right;\">\n",
       "      <th></th>\n",
       "      <th>Uniq Id</th>\n",
       "      <th>Crawl Timestamp</th>\n",
       "      <th>Job Title</th>\n",
       "      <th>Job Salary</th>\n",
       "      <th>Job Experience Required</th>\n",
       "      <th>Key Skills</th>\n",
       "      <th>Role Category</th>\n",
       "      <th>Location</th>\n",
       "      <th>Functional Area</th>\n",
       "      <th>Industry</th>\n",
       "      <th>Role</th>\n",
       "    </tr>\n",
       "  </thead>\n",
       "  <tbody>\n",
       "  </tbody>\n",
       "</table>\n",
       "</div>"
      ],
      "text/plain": [
       "Empty DataFrame\n",
       "Columns: [Uniq Id, Crawl Timestamp, Job Title, Job Salary, Job Experience Required, Key Skills, Role Category, Location, Functional Area, Industry, Role]\n",
       "Index: []"
      ]
     },
     "execution_count": 63,
     "metadata": {},
     "output_type": "execute_result"
    }
   ],
   "source": [
    "data[data['Job Experience Required'].apply(lambda x: True if \"30 years\" in x else False)]"
   ]
  },
  {
   "cell_type": "code",
   "execution_count": 61,
   "metadata": {},
   "outputs": [
    {
     "name": "stdout",
     "output_type": "stream",
     "text": [
      "hello\n"
     ]
    }
   ],
   "source": [
    "if \"years\" in \"30 years and yrs\":\n",
    "    print(\"hello\")"
   ]
  },
  {
   "cell_type": "code",
   "execution_count": 65,
   "metadata": {},
   "outputs": [
    {
     "data": {
      "text/plain": [
       "<AxesSubplot:>"
      ]
     },
     "execution_count": 65,
     "metadata": {},
     "output_type": "execute_result"
    },
    {
     "data": {
      "image/png": "[encoded data removed]",
      "text/plain": [
       "<Figure size 1100x500 with 1 Axes>"
      ]
     },
     "metadata": {
      "needs_background": "light"
     },
     "output_type": "display_data"
    }
   ],
   "source": [
    "data['Job Experience Required'].value_counts()[:10].plot(kind=\"bar\")"
   ]
  },
  {
   "cell_type": "markdown",
   "metadata": {},
   "source": [
    "    Freshers can also apply in this as there are job for freshers as well"
   ]
  },
  {
   "cell_type": "code",
   "execution_count": 66,
   "metadata": {},
   "outputs": [
    {
     "data": {
      "text/plain": [
       " Not Disclosed by Recruiter                                      19731\n",
       " Not Disclosed by Recruiter                                        618\n",
       "Openings: 1                                                        408\n",
       " Not disclosed                                                     288\n",
       " 2,00,000 - 3,00,000 PA.                                           170\n",
       "                                                                 ...  \n",
       " INR 7,00,000 - 12,00,000 PA. plus allowances and incentives         1\n",
       " salary+incentives                                                   1\n",
       " as per standards                                                    1\n",
       " INR 35,00,000 - 75,00,000 PA.                                       1\n",
       " Food & Accommodation for single on the campus.                      1\n",
       "Name: Job Salary, Length: 1259, dtype: int64"
      ]
     },
     "execution_count": 66,
     "metadata": {},
     "output_type": "execute_result"
    }
   ],
   "source": [
    "data['Job Salary'].value_counts()"
   ]
  },
  {
   "cell_type": "markdown",
   "metadata": {},
   "source": [
    "##### All the not disclosed should be consider into single"
   ]
  },
  {
   "cell_type": "code",
   "execution_count": 67,
   "metadata": {},
   "outputs": [],
   "source": [
    "data.to_csv(\"cleaned_data.csv\", )"
   ]
  },
  {
   "cell_type": "code",
   "execution_count": 6,
   "metadata": {},
   "outputs": [],
   "source": [
    "data = pd.read_csv(\"cleaned_data.csv\", index_col=0)"
   ]
  },
  {
   "cell_type": "code",
   "execution_count": 7,
   "metadata": {},
   "outputs": [
    {
     "data": {
      "text/html": [
       "<div>\n",
       "<style scoped>\n",
       "    .dataframe tbody tr th:only-of-type {\n",
       "        vertical-align: middle;\n",
       "    }\n",
       "\n",
       "    .dataframe tbody tr th {\n",
       "        vertical-align: top;\n",
       "    }\n",
       "\n",
       "    .dataframe thead th {\n",
       "        text-align: right;\n",
       "    }\n",
       "</style>\n",
       "<table border=\"1\" class=\"dataframe\">\n",
       "  <thead>\n",
       "    <tr style=\"text-align: right;\">\n",
       "      <th></th>\n",
       "      <th>Uniq Id</th>\n",
       "      <th>Crawl Timestamp</th>\n",
       "      <th>Job Title</th>\n",
       "      <th>Job Salary</th>\n",
       "      <th>Job Experience Required</th>\n",
       "      <th>Key Skills</th>\n",
       "      <th>Role Category</th>\n",
       "      <th>Location</th>\n",
       "      <th>Functional Area</th>\n",
       "      <th>Industry</th>\n",
       "      <th>Role</th>\n",
       "    </tr>\n",
       "  </thead>\n",
       "  <tbody>\n",
       "    <tr>\n",
       "      <th>0</th>\n",
       "      <td>9be62c49a0b7ebe982a4af1edaa7bc5f</td>\n",
       "      <td>2019-07-05 01:46:07 +0000</td>\n",
       "      <td>Digital Media Planner</td>\n",
       "      <td>Not Disclosed by Recruiter</td>\n",
       "      <td>5 - 10 yrs</td>\n",
       "      <td>Media Planning| Digital Media</td>\n",
       "      <td>Advertising</td>\n",
       "      <td>Mumbai</td>\n",
       "      <td>Marketing , Advertising , MR , PR , Media Plan...</td>\n",
       "      <td>Advertising, PR, MR, Event Management</td>\n",
       "      <td>Media Planning Executive/Manager</td>\n",
       "    </tr>\n",
       "    <tr>\n",
       "      <th>1</th>\n",
       "      <td>3c52d436e39f596b22519da2612f6a56</td>\n",
       "      <td>2019-07-06 08:04:50 +0000</td>\n",
       "      <td>Online Bidding Executive</td>\n",
       "      <td>Not Disclosed by Recruiter</td>\n",
       "      <td>2 - 5 yrs</td>\n",
       "      <td>pre sales| closing| software knowledge| clien...</td>\n",
       "      <td>Retail Sales</td>\n",
       "      <td>Pune,Pune</td>\n",
       "      <td>Sales , Retail , Business Development</td>\n",
       "      <td>IT-Software, Software Services</td>\n",
       "      <td>Sales Executive/Officer</td>\n",
       "    </tr>\n",
       "    <tr>\n",
       "      <th>2</th>\n",
       "      <td>ffad8a2396c60be2bf6d0e2ff47c58d4</td>\n",
       "      <td>2019-08-05 15:50:44 +0000</td>\n",
       "      <td>Trainee Research/ Research Executive- Hi- Tec...</td>\n",
       "      <td>Not Disclosed by Recruiter</td>\n",
       "      <td>0 - 1 yrs</td>\n",
       "      <td>Computer science| Fabrication| Quality check|...</td>\n",
       "      <td>R&amp;D</td>\n",
       "      <td>Gurgaon</td>\n",
       "      <td>Engineering Design , R&amp;D</td>\n",
       "      <td>Recruitment, Staffing</td>\n",
       "      <td>R&amp;D Executive</td>\n",
       "    </tr>\n",
       "    <tr>\n",
       "      <th>3</th>\n",
       "      <td>7b921f51b5c2fb862b4a5f7a54c37f75</td>\n",
       "      <td>2019-08-05 15:31:56 +0000</td>\n",
       "      <td>Technical Support</td>\n",
       "      <td>2,00,000 - 4,00,000 PA.</td>\n",
       "      <td>0 - 5 yrs</td>\n",
       "      <td>Technical Support</td>\n",
       "      <td>Admin/Maintenance/Security/Datawarehousing</td>\n",
       "      <td>Mumbai</td>\n",
       "      <td>IT Software - Application Programming , Mainte...</td>\n",
       "      <td>IT-Software, Software Services</td>\n",
       "      <td>Technical Support Engineer</td>\n",
       "    </tr>\n",
       "    <tr>\n",
       "      <th>4</th>\n",
       "      <td>2d8b7d44e138a54d5dc841163138de50</td>\n",
       "      <td>2019-07-05 02:48:29 +0000</td>\n",
       "      <td>Software Test Engineer -hyderabad</td>\n",
       "      <td>Not Disclosed by Recruiter</td>\n",
       "      <td>2 - 5 yrs</td>\n",
       "      <td>manual testing| test engineering| test cases|...</td>\n",
       "      <td>Programming &amp; Design</td>\n",
       "      <td>Hyderabad</td>\n",
       "      <td>IT Software - QA &amp; Testing</td>\n",
       "      <td>IT-Software, Software Services</td>\n",
       "      <td>Testing Engineer</td>\n",
       "    </tr>\n",
       "  </tbody>\n",
       "</table>\n",
       "</div>"
      ],
      "text/plain": [
       "                            Uniq Id            Crawl Timestamp  \\\n",
       "0  9be62c49a0b7ebe982a4af1edaa7bc5f  2019-07-05 01:46:07 +0000   \n",
       "1  3c52d436e39f596b22519da2612f6a56  2019-07-06 08:04:50 +0000   \n",
       "2  ffad8a2396c60be2bf6d0e2ff47c58d4  2019-08-05 15:50:44 +0000   \n",
       "3  7b921f51b5c2fb862b4a5f7a54c37f75  2019-08-05 15:31:56 +0000   \n",
       "4  2d8b7d44e138a54d5dc841163138de50  2019-07-05 02:48:29 +0000   \n",
       "\n",
       "                                           Job Title  \\\n",
       "0                              Digital Media Planner   \n",
       "1                           Online Bidding Executive   \n",
       "2   Trainee Research/ Research Executive- Hi- Tec...   \n",
       "3                                  Technical Support   \n",
       "4                  Software Test Engineer -hyderabad   \n",
       "\n",
       "                   Job Salary Job Experience Required  \\\n",
       "0  Not Disclosed by Recruiter              5 - 10 yrs   \n",
       "1  Not Disclosed by Recruiter               2 - 5 yrs   \n",
       "2  Not Disclosed by Recruiter               0 - 1 yrs   \n",
       "3    2,00,000 - 4,00,000 PA.                0 - 5 yrs   \n",
       "4  Not Disclosed by Recruiter               2 - 5 yrs   \n",
       "\n",
       "                                          Key Skills  \\\n",
       "0                      Media Planning| Digital Media   \n",
       "1   pre sales| closing| software knowledge| clien...   \n",
       "2   Computer science| Fabrication| Quality check|...   \n",
       "3                                  Technical Support   \n",
       "4   manual testing| test engineering| test cases|...   \n",
       "\n",
       "                                Role Category   Location  \\\n",
       "0                                 Advertising     Mumbai   \n",
       "1                                Retail Sales  Pune,Pune   \n",
       "2                                         R&D    Gurgaon   \n",
       "3  Admin/Maintenance/Security/Datawarehousing     Mumbai   \n",
       "4                        Programming & Design  Hyderabad   \n",
       "\n",
       "                                     Functional Area  \\\n",
       "0  Marketing , Advertising , MR , PR , Media Plan...   \n",
       "1              Sales , Retail , Business Development   \n",
       "2                           Engineering Design , R&D   \n",
       "3  IT Software - Application Programming , Mainte...   \n",
       "4                         IT Software - QA & Testing   \n",
       "\n",
       "                                Industry                              Role  \n",
       "0  Advertising, PR, MR, Event Management  Media Planning Executive/Manager  \n",
       "1         IT-Software, Software Services           Sales Executive/Officer  \n",
       "2                  Recruitment, Staffing                     R&D Executive  \n",
       "3         IT-Software, Software Services        Technical Support Engineer  \n",
       "4         IT-Software, Software Services                  Testing Engineer  "
      ]
     },
     "execution_count": 7,
     "metadata": {},
     "output_type": "execute_result"
    }
   ],
   "source": [
    "data.head()"
   ]
  },
  {
   "cell_type": "code",
   "execution_count": 9,
   "metadata": {},
   "outputs": [
    {
     "data": {
      "text/plain": [
       "Not Disclosed by Recruiter         20761\n",
       "Openings: 1                          408\n",
       " 2,00,000 - 3,00,000 PA.             170\n",
       " 2,00,000 - 4,00,000 PA.             150\n",
       " 3,00,000 - 5,00,000 PA.             140\n",
       "                                   ...  \n",
       " INR 3,00,000 - 7,50,000 PA.           1\n",
       " 16,00,000 - 31,00,000 PA.             1\n",
       " As per industry standard              1\n",
       " INR 35,00,000 - 50,00,000 PA.         1\n",
       " attractive salary                     1\n",
       "Name: Job Salary, Length: 1255, dtype: int64"
      ]
     },
     "execution_count": 9,
     "metadata": {},
     "output_type": "execute_result"
    }
   ],
   "source": [
    "data['Job Salary'].value_counts()"
   ]
  },
  {
   "cell_type": "code",
   "execution_count": 12,
   "metadata": {},
   "outputs": [
    {
     "data": {
      "text/plain": [
       "26.0     21624\n",
       "25.0      5357\n",
       "27.0       889\n",
       "11.0       523\n",
       "23.0       350\n",
       "         ...  \n",
       "58.0         1\n",
       "72.0         1\n",
       "80.0         1\n",
       "122.0        1\n",
       "116.0        1\n",
       "Name: Job Salary, Length: 104, dtype: int64"
      ]
     },
     "execution_count": 12,
     "metadata": {},
     "output_type": "execute_result"
    }
   ],
   "source": [
    "data['Job Salary'].str.len().value_counts()"
   ]
  },
  {
   "cell_type": "code",
   "execution_count": 15,
   "metadata": {},
   "outputs": [
    {
     "data": {
      "text/html": [
       "<div>\n",
       "<style scoped>\n",
       "    .dataframe tbody tr th:only-of-type {\n",
       "        vertical-align: middle;\n",
       "    }\n",
       "\n",
       "    .dataframe tbody tr th {\n",
       "        vertical-align: top;\n",
       "    }\n",
       "\n",
       "    .dataframe thead th {\n",
       "        text-align: right;\n",
       "    }\n",
       "</style>\n",
       "<table border=\"1\" class=\"dataframe\">\n",
       "  <thead>\n",
       "    <tr style=\"text-align: right;\">\n",
       "      <th></th>\n",
       "      <th>Uniq Id</th>\n",
       "      <th>Crawl Timestamp</th>\n",
       "      <th>Job Title</th>\n",
       "      <th>Job Salary</th>\n",
       "      <th>Job Experience Required</th>\n",
       "      <th>Key Skills</th>\n",
       "      <th>Role Category</th>\n",
       "      <th>Location</th>\n",
       "      <th>Functional Area</th>\n",
       "      <th>Industry</th>\n",
       "      <th>Role</th>\n",
       "    </tr>\n",
       "  </thead>\n",
       "  <tbody>\n",
       "    <tr>\n",
       "      <th>13</th>\n",
       "      <td>225c4680e3df32fbaf9c625ca18ae47c</td>\n",
       "      <td>2019-08-04 09:37:17 +0000</td>\n",
       "      <td>Oracle IDAM</td>\n",
       "      <td>Openings: 1</td>\n",
       "      <td>3 - 7 Years</td>\n",
       "      <td>Oracle IDAM|OIM|OAM</td>\n",
       "      <td>Programming &amp; Design</td>\n",
       "      <td>Bengaluru,Hyderabad,Kolkata,Chennai</td>\n",
       "      <td>IT Software - Application Programming , Mainte...</td>\n",
       "      <td>IT-Software / Software Services</td>\n",
       "      <td>Software Developer</td>\n",
       "    </tr>\n",
       "    <tr>\n",
       "      <th>99</th>\n",
       "      <td>272e816bf7c6b48782b2746905495660</td>\n",
       "      <td>2019-08-05 00:39:10 +0000</td>\n",
       "      <td>Enterprise Business Development Representative</td>\n",
       "      <td>Openings: 1</td>\n",
       "      <td>1 - 3 Years</td>\n",
       "      <td>market penetration|marketing|customer satisfac...</td>\n",
       "      <td>Channel Sales</td>\n",
       "      <td>Bengaluru</td>\n",
       "      <td>Sales , Retail , Business Development</td>\n",
       "      <td>IT-Software / Software Services</td>\n",
       "      <td>Sales Executive / Officer</td>\n",
       "    </tr>\n",
       "    <tr>\n",
       "      <th>150</th>\n",
       "      <td>87e6017ad6b2cb9f4f3f74d092697355</td>\n",
       "      <td>2019-08-04 14:29:40 +0000</td>\n",
       "      <td>Nokia WING Circuit Core - SMSC Engineer</td>\n",
       "      <td>Openings: 1</td>\n",
       "      <td>5 - 10 Years</td>\n",
       "      <td>Detail Design|Juniper|SMSC Engineer|Routing|IP...</td>\n",
       "      <td>Programming &amp; Design</td>\n",
       "      <td>Noida</td>\n",
       "      <td>IT Software - Network Administration , Security</td>\n",
       "      <td>Telecom / ISP</td>\n",
       "      <td>Software Developer</td>\n",
       "    </tr>\n",
       "    <tr>\n",
       "      <th>214</th>\n",
       "      <td>c63aa6a434a8380067a6b5180751852b</td>\n",
       "      <td>2019-07-04 06:06:45 +0000</td>\n",
       "      <td>HR Recruiter</td>\n",
       "      <td>50,000 - 1,00,000 PA.</td>\n",
       "      <td>0 - 2 yrs</td>\n",
       "      <td>Recruitment| Hiring| HR| Screening| Interview...</td>\n",
       "      <td>Other</td>\n",
       "      <td>Navi Mumbai</td>\n",
       "      <td>IT Software - Application Programming , Mainte...</td>\n",
       "      <td>IT-Software, Software Services</td>\n",
       "      <td>Fresher</td>\n",
       "    </tr>\n",
       "    <tr>\n",
       "      <th>281</th>\n",
       "      <td>98521df08929d6f969a0e7c0cbafd4f8</td>\n",
       "      <td>2019-08-06 03:50:45 +0000</td>\n",
       "      <td>Sales Engineer</td>\n",
       "      <td>60,000 - 3,00,000 PA.</td>\n",
       "      <td>2 - 7 yrs</td>\n",
       "      <td>Sales Engineering</td>\n",
       "      <td>Retail Sales</td>\n",
       "      <td>Bengaluru</td>\n",
       "      <td>Sales , Retail , Business Development</td>\n",
       "      <td>Automobile, Auto Anciliary, Auto Components</td>\n",
       "      <td>Sales/Business Development Manager</td>\n",
       "    </tr>\n",
       "    <tr>\n",
       "      <th>...</th>\n",
       "      <td>...</td>\n",
       "      <td>...</td>\n",
       "      <td>...</td>\n",
       "      <td>...</td>\n",
       "      <td>...</td>\n",
       "      <td>...</td>\n",
       "      <td>...</td>\n",
       "      <td>...</td>\n",
       "      <td>...</td>\n",
       "      <td>...</td>\n",
       "      <td>...</td>\n",
       "    </tr>\n",
       "    <tr>\n",
       "      <th>29824</th>\n",
       "      <td>fc3ed270c6a67bb46c993d1e3044ffe5</td>\n",
       "      <td>2019-07-05 16:14:11 +0000</td>\n",
       "      <td>CRM Manager with MNC Car Manufacturer Company</td>\n",
       "      <td>As per industry norms</td>\n",
       "      <td>2 - 7 yrs</td>\n",
       "      <td>CRM</td>\n",
       "      <td>Marketing</td>\n",
       "      <td>Mumbai</td>\n",
       "      <td>Marketing , Advertising , MR , PR , Media Plan...</td>\n",
       "      <td>Automobile, Auto Anciliary, Auto Components</td>\n",
       "      <td>Marketing Manager</td>\n",
       "    </tr>\n",
       "    <tr>\n",
       "      <th>29832</th>\n",
       "      <td>f57b6a87e4b2091bf9851324d6676bc4</td>\n",
       "      <td>2019-08-04 17:07:07 +0000</td>\n",
       "      <td>Design Engineer ( Must Exp. in Corel Draw)</td>\n",
       "      <td>50,000 - 1,50,000 PA.</td>\n",
       "      <td>0 - 2 yrs</td>\n",
       "      <td>Corel Draw| Corel Designer| Autocad Engineer|...</td>\n",
       "      <td>Other</td>\n",
       "      <td>Greater Noida</td>\n",
       "      <td>Design , Creative , User Experience</td>\n",
       "      <td>Printing, Packaging</td>\n",
       "      <td>Trainee</td>\n",
       "    </tr>\n",
       "    <tr>\n",
       "      <th>29898</th>\n",
       "      <td>db8a5ead82b82f579cb0d7fd35105726</td>\n",
       "      <td>2019-07-05 20:07:11 +0000</td>\n",
       "      <td>Adoption Manager - Pune</td>\n",
       "      <td>Openings: 3</td>\n",
       "      <td>6 - 11 Years</td>\n",
       "      <td>Product Management|cisco uc|Unified Communicat...</td>\n",
       "      <td>Operations</td>\n",
       "      <td>Pune</td>\n",
       "      <td>ITES , BPO , KPO , LPO , Customer Service , Op...</td>\n",
       "      <td>Telecom / ISP</td>\n",
       "      <td>Business Development Manager</td>\n",
       "    </tr>\n",
       "    <tr>\n",
       "      <th>29973</th>\n",
       "      <td>2f34135e17d168d8d36d3bec581d8947</td>\n",
       "      <td>2019-08-05 04:46:17 +0000</td>\n",
       "      <td>Day Care Teacher - Airoli / Malad / Nalasopar...</td>\n",
       "      <td>70,000 - 1,00,000 PA.</td>\n",
       "      <td>0 - 5 yrs</td>\n",
       "      <td>montessori| day care| teaching| Mulund| presc...</td>\n",
       "      <td>Teachers</td>\n",
       "      <td>Mumbai,Navi Mumbai,Thane</td>\n",
       "      <td>Teaching , Education , Training , Counselling</td>\n",
       "      <td>Education, Teaching, Training</td>\n",
       "      <td>DaycareTeacher / Incharge / Attendant</td>\n",
       "    </tr>\n",
       "    <tr>\n",
       "      <th>29975</th>\n",
       "      <td>0c55068faa2a3a45e0e749618f126371</td>\n",
       "      <td>2019-08-04 06:53:17 +0000</td>\n",
       "      <td>Nokia WING - Solution Architect CMP</td>\n",
       "      <td>Openings: 1</td>\n",
       "      <td>4 - 7 Years</td>\n",
       "      <td>PGW|SGW|Mobile Core Network|Networking|Use Cas...</td>\n",
       "      <td>System Design/Implementation/ERP/CRM</td>\n",
       "      <td>Noida,Chennai</td>\n",
       "      <td>IT Software - Network Administration , Security</td>\n",
       "      <td>Telecom / ISP</td>\n",
       "      <td>Solution Architect / Enterprise Architect</td>\n",
       "    </tr>\n",
       "  </tbody>\n",
       "</table>\n",
       "<p>873 rows × 11 columns</p>\n",
       "</div>"
      ],
      "text/plain": [
       "                                Uniq Id            Crawl Timestamp  \\\n",
       "13     225c4680e3df32fbaf9c625ca18ae47c  2019-08-04 09:37:17 +0000   \n",
       "99     272e816bf7c6b48782b2746905495660  2019-08-05 00:39:10 +0000   \n",
       "150    87e6017ad6b2cb9f4f3f74d092697355  2019-08-04 14:29:40 +0000   \n",
       "214    c63aa6a434a8380067a6b5180751852b  2019-07-04 06:06:45 +0000   \n",
       "281    98521df08929d6f969a0e7c0cbafd4f8  2019-08-06 03:50:45 +0000   \n",
       "...                                 ...                        ...   \n",
       "29824  fc3ed270c6a67bb46c993d1e3044ffe5  2019-07-05 16:14:11 +0000   \n",
       "29832  f57b6a87e4b2091bf9851324d6676bc4  2019-08-04 17:07:07 +0000   \n",
       "29898  db8a5ead82b82f579cb0d7fd35105726  2019-07-05 20:07:11 +0000   \n",
       "29973  2f34135e17d168d8d36d3bec581d8947  2019-08-05 04:46:17 +0000   \n",
       "29975  0c55068faa2a3a45e0e749618f126371  2019-08-04 06:53:17 +0000   \n",
       "\n",
       "                                               Job Title  \\\n",
       "13                                           Oracle IDAM   \n",
       "99        Enterprise Business Development Representative   \n",
       "150              Nokia WING Circuit Core - SMSC Engineer   \n",
       "214                                         HR Recruiter   \n",
       "281                                       Sales Engineer   \n",
       "...                                                  ...   \n",
       "29824      CRM Manager with MNC Car Manufacturer Company   \n",
       "29832         Design Engineer ( Must Exp. in Corel Draw)   \n",
       "29898                            Adoption Manager - Pune   \n",
       "29973   Day Care Teacher - Airoli / Malad / Nalasopar...   \n",
       "29975                Nokia WING - Solution Architect CMP   \n",
       "\n",
       "                    Job Salary Job Experience Required  \\\n",
       "13                 Openings: 1             3 - 7 Years   \n",
       "99                 Openings: 1             1 - 3 Years   \n",
       "150                Openings: 1            5 - 10 Years   \n",
       "214     50,000 - 1,00,000 PA.                0 - 2 yrs   \n",
       "281     60,000 - 3,00,000 PA.                2 - 7 yrs   \n",
       "...                        ...                     ...   \n",
       "29824   As per industry norms                2 - 7 yrs   \n",
       "29832   50,000 - 1,50,000 PA.                0 - 2 yrs   \n",
       "29898              Openings: 3            6 - 11 Years   \n",
       "29973   70,000 - 1,00,000 PA.                0 - 5 yrs   \n",
       "29975              Openings: 1             4 - 7 Years   \n",
       "\n",
       "                                              Key Skills  \\\n",
       "13                                   Oracle IDAM|OIM|OAM   \n",
       "99     market penetration|marketing|customer satisfac...   \n",
       "150    Detail Design|Juniper|SMSC Engineer|Routing|IP...   \n",
       "214     Recruitment| Hiring| HR| Screening| Interview...   \n",
       "281                                    Sales Engineering   \n",
       "...                                                  ...   \n",
       "29824                                                CRM   \n",
       "29832   Corel Draw| Corel Designer| Autocad Engineer|...   \n",
       "29898  Product Management|cisco uc|Unified Communicat...   \n",
       "29973   montessori| day care| teaching| Mulund| presc...   \n",
       "29975  PGW|SGW|Mobile Core Network|Networking|Use Cas...   \n",
       "\n",
       "                              Role Category  \\\n",
       "13                     Programming & Design   \n",
       "99                            Channel Sales   \n",
       "150                    Programming & Design   \n",
       "214                                   Other   \n",
       "281                            Retail Sales   \n",
       "...                                     ...   \n",
       "29824                             Marketing   \n",
       "29832                                 Other   \n",
       "29898                            Operations   \n",
       "29973                              Teachers   \n",
       "29975  System Design/Implementation/ERP/CRM   \n",
       "\n",
       "                                  Location  \\\n",
       "13     Bengaluru,Hyderabad,Kolkata,Chennai   \n",
       "99                               Bengaluru   \n",
       "150                                  Noida   \n",
       "214                            Navi Mumbai   \n",
       "281                              Bengaluru   \n",
       "...                                    ...   \n",
       "29824                               Mumbai   \n",
       "29832                        Greater Noida   \n",
       "29898                                 Pune   \n",
       "29973             Mumbai,Navi Mumbai,Thane   \n",
       "29975                        Noida,Chennai   \n",
       "\n",
       "                                         Functional Area  \\\n",
       "13     IT Software - Application Programming , Mainte...   \n",
       "99                 Sales , Retail , Business Development   \n",
       "150      IT Software - Network Administration , Security   \n",
       "214    IT Software - Application Programming , Mainte...   \n",
       "281                Sales , Retail , Business Development   \n",
       "...                                                  ...   \n",
       "29824  Marketing , Advertising , MR , PR , Media Plan...   \n",
       "29832                Design , Creative , User Experience   \n",
       "29898  ITES , BPO , KPO , LPO , Customer Service , Op...   \n",
       "29973      Teaching , Education , Training , Counselling   \n",
       "29975    IT Software - Network Administration , Security   \n",
       "\n",
       "                                          Industry  \\\n",
       "13                 IT-Software / Software Services   \n",
       "99                 IT-Software / Software Services   \n",
       "150                                  Telecom / ISP   \n",
       "214                 IT-Software, Software Services   \n",
       "281    Automobile, Auto Anciliary, Auto Components   \n",
       "...                                            ...   \n",
       "29824  Automobile, Auto Anciliary, Auto Components   \n",
       "29832                          Printing, Packaging   \n",
       "29898                                Telecom / ISP   \n",
       "29973                Education, Teaching, Training   \n",
       "29975                                Telecom / ISP   \n",
       "\n",
       "                                            Role  \n",
       "13                            Software Developer  \n",
       "99                     Sales Executive / Officer  \n",
       "150                           Software Developer  \n",
       "214                                      Fresher  \n",
       "281           Sales/Business Development Manager  \n",
       "...                                          ...  \n",
       "29824                          Marketing Manager  \n",
       "29832                                    Trainee  \n",
       "29898               Business Development Manager  \n",
       "29973      DaycareTeacher / Incharge / Attendant  \n",
       "29975  Solution Architect / Enterprise Architect  \n",
       "\n",
       "[873 rows x 11 columns]"
      ]
     },
     "execution_count": 15,
     "metadata": {},
     "output_type": "execute_result"
    }
   ],
   "source": [
    "data[data['Job Salary'].apply(lambda x:True if len(str(x))==23 or len(str(x))==11 else False)]"
   ]
  },
  {
   "cell_type": "code",
   "execution_count": 18,
   "metadata": {},
   "outputs": [
    {
     "data": {
      "text/plain": [
       "Not Disclosed by Recruiter                                  20761\n",
       " 2,00,000 - 3,00,000 PA.                                      170\n",
       " 2,00,000 - 4,00,000 PA.                                      150\n",
       " 3,00,000 - 5,00,000 PA.                                      140\n",
       " 3,00,000 - 8,00,000 PA.                                      112\n",
       "                                                            ...  \n",
       " Fixed salary + incentives                                      1\n",
       " INR 2,00,000 - 6,50,000 PA. Performance Bases Incentive        1\n",
       " Attractive incentive plans+ Cabs+meals                         1\n",
       " INR 3,25,000 - 8,00,000 PA.                                    1\n",
       " INR 10,00,000 - 12,00,000 PA.                                  1\n",
       "Name: Job Salary, Length: 1030, dtype: int64"
      ]
     },
     "execution_count": 18,
     "metadata": {},
     "output_type": "execute_result"
    }
   ],
   "source": [
    "data[data['Job Salary'].apply(lambda x:True if len(str(x))>=25 else False)]['Job Salary'].value_counts()"
   ]
  },
  {
   "cell_type": "code",
   "execution_count": 20,
   "metadata": {},
   "outputs": [
    {
     "data": {
      "text/plain": [
       "76"
      ]
     },
     "execution_count": 20,
     "metadata": {},
     "output_type": "execute_result"
    }
   ],
   "source": [
    "data['Job Salary'].apply(lambda x: True if \"incentives\" in str(x).lower() else False).sum()"
   ]
  },
  {
   "cell_type": "code",
   "execution_count": 21,
   "metadata": {},
   "outputs": [
    {
     "data": {
      "text/plain": [
       "Not Disclosed by Recruiter         20761\n",
       "Openings: 1                          408\n",
       " 2,00,000 - 3,00,000 PA.             170\n",
       " 2,00,000 - 4,00,000 PA.             150\n",
       " 3,00,000 - 5,00,000 PA.             140\n",
       "                                   ...  \n",
       " INR 3,00,000 - 7,50,000 PA.           1\n",
       " 16,00,000 - 31,00,000 PA.             1\n",
       " As per industry standard              1\n",
       " INR 35,00,000 - 50,00,000 PA.         1\n",
       " attractive salary                     1\n",
       "Name: Job Salary, Length: 1255, dtype: int64"
      ]
     },
     "execution_count": 21,
     "metadata": {},
     "output_type": "execute_result"
    }
   ],
   "source": [
    "data['Job Salary'].value_counts()"
   ]
  },
  {
   "cell_type": "code",
   "execution_count": 23,
   "metadata": {},
   "outputs": [],
   "source": [
    "data['Job Salary'] = data['Job Salary'].replace(\"INR\", \"\")"
   ]
  },
  {
   "cell_type": "code",
   "execution_count": 27,
   "metadata": {},
   "outputs": [],
   "source": [
    "data['Job Salary'] = data['Job Salary'].str.replace(\"INR\", \"\")"
   ]
  },
  {
   "cell_type": "code",
   "execution_count": 28,
   "metadata": {},
   "outputs": [
    {
     "data": {
      "text/plain": [
       "Not Disclosed by Recruiter                    20761\n",
       "Openings: 1                                     408\n",
       " 2,00,000 - 3,00,000 PA.                        170\n",
       " 2,00,000 - 4,00,000 PA.                        150\n",
       " 3,00,000 - 5,00,000 PA.                        140\n",
       "                                              ...  \n",
       "  4,00,000 - 4,75,000 PA.                         1\n",
       " 16,00,000 - 31,00,000 PA.                        1\n",
       "  1,75,000 - 2,25,000 PA.                         1\n",
       "  1,25,000 - 3,25,000 PA. Good Incentives         1\n",
       "  80,000 - 1,25,000 PA.                           1\n",
       "Name: Job Salary, Length: 1255, dtype: int64"
      ]
     },
     "execution_count": 28,
     "metadata": {},
     "output_type": "execute_result"
    }
   ],
   "source": [
    "data['Job Salary'].value_counts()"
   ]
  },
  {
   "cell_type": "code",
   "execution_count": 30,
   "metadata": {},
   "outputs": [],
   "source": [
    "data['Job Salary'] = data['Job Salary'].str.strip()"
   ]
  },
  {
   "cell_type": "code",
   "execution_count": 31,
   "metadata": {},
   "outputs": [
    {
     "data": {
      "text/plain": [
       "Not Disclosed by Recruiter                                                     20761\n",
       "Openings: 1                                                                      408\n",
       "2,00,000 - 4,00,000 PA.                                                          202\n",
       "2,00,000 - 3,00,000 PA.                                                          188\n",
       "3,00,000 - 5,00,000 PA.                                                          152\n",
       "                                                                               ...  \n",
       "40,000/-                                                                           1\n",
       "6,00,000 - 6,50,000 PA.                                                            1\n",
       "2,25,000 - 4,25,000 PA. Best in the industry + Incentiv...                         1\n",
       "Looking at candidates working in other Amc's in the Retail/ Banking channel        1\n",
       "2,00,000 - 5,00,000 PA. + Relocation Bonus + 15-30 Days...                         1\n",
       "Name: Job Salary, Length: 961, dtype: int64"
      ]
     },
     "execution_count": 31,
     "metadata": {},
     "output_type": "execute_result"
    }
   ],
   "source": [
    "data['Job Salary'].value_counts()"
   ]
  },
  {
   "cell_type": "markdown",
   "metadata": {},
   "source": [
    "###### openings --> 1, 2, 3"
   ]
  },
  {
   "cell_type": "code",
   "execution_count": 42,
   "metadata": {},
   "outputs": [],
   "source": [
    "data['Openings'] = data['Job Salary'].apply(lambda x: str(x).split(':')[1] if \"openings\" in str(x).lower() else np.nan)"
   ]
  },
  {
   "cell_type": "code",
   "execution_count": 39,
   "metadata": {},
   "outputs": [
    {
     "data": {
      "text/plain": [
       "       29419\n",
       "1        408\n",
       "2         57\n",
       "5         22\n",
       "10        18\n",
       "3         16\n",
       "4          9\n",
       "30         9\n",
       "15         8\n",
       "100        6\n",
       "7          4\n",
       "20         4\n",
       "12         3\n",
       "50         3\n",
       "55         2\n",
       "25         2\n",
       "6          2\n",
       "200        2\n",
       "70         1\n",
       "85         1\n",
       "11         1\n",
       "80         1\n",
       "21         1\n",
       "17         1\n",
       "dtype: int64"
      ]
     },
     "execution_count": 39,
     "metadata": {},
     "output_type": "execute_result"
    }
   ],
   "source": [
    "openings=[]\n",
    "for i in range(0,len(data)):\n",
    "    if 'openings' in str(data['Job Salary'][i]).lower():\n",
    "        openings.append(str(data['Job Salary'][i]).split(' ')[1])\n",
    "    else:\n",
    "        openings.append('')\n",
    "\n",
    "pd.Series(openings).value_counts()"
   ]
  },
  {
   "cell_type": "markdown",
   "metadata": {},
   "source": [
    "##### number of openings in most of the company "
   ]
  },
  {
   "cell_type": "code",
   "execution_count": 44,
   "metadata": {},
   "outputs": [
    {
     "data": {
      "text/plain": [
       "<AxesSubplot:>"
      ]
     },
     "execution_count": 44,
     "metadata": {},
     "output_type": "execute_result"
    },
    {
     "data": {
      "image/png": "[encoded data removed]",
      "text/plain": [
       "<Figure size 1100x500 with 1 Axes>"
      ]
     },
     "metadata": {
      "needs_background": "light"
     },
     "output_type": "display_data"
    }
   ],
   "source": [
    "data['Openings'].value_counts().plot(kind=\"bar\")"
   ]
  },
  {
   "cell_type": "code",
   "execution_count": 51,
   "metadata": {},
   "outputs": [],
   "source": [
    "data['Job Salary'] = data['Job Salary'].str.lower()"
   ]
  },
  {
   "cell_type": "code",
   "execution_count": 52,
   "metadata": {},
   "outputs": [],
   "source": [
    "data['Job Salary'] = data['Job Salary'].str.replace(\"openings\", \"\")"
   ]
  },
  {
   "cell_type": "code",
   "execution_count": 57,
   "metadata": {},
   "outputs": [],
   "source": [
    "data['Job Salary'] = data['Job Salary'].apply(lambda x: np.nan if \":\" in str(x) else x)"
   ]
  },
  {
   "cell_type": "code",
   "execution_count": 58,
   "metadata": {},
   "outputs": [
    {
     "data": {
      "text/plain": [
       "0        not disclosed by recruiter\n",
       "1        not disclosed by recruiter\n",
       "2        not disclosed by recruiter\n",
       "3           2,00,000 - 4,00,000 pa.\n",
       "4        not disclosed by recruiter\n",
       "                    ...            \n",
       "29995    not disclosed by recruiter\n",
       "29996    not disclosed by recruiter\n",
       "29997    not disclosed by recruiter\n",
       "29998    not disclosed by recruiter\n",
       "29999    not disclosed by recruiter\n",
       "Name: Job Salary, Length: 30000, dtype: object"
      ]
     },
     "execution_count": 58,
     "metadata": {},
     "output_type": "execute_result"
    }
   ],
   "source": [
    "data['Job Salary']"
   ]
  },
  {
   "cell_type": "code",
   "execution_count": 59,
   "metadata": {},
   "outputs": [
    {
     "data": {
      "text/html": [
       "<div>\n",
       "<style scoped>\n",
       "    .dataframe tbody tr th:only-of-type {\n",
       "        vertical-align: middle;\n",
       "    }\n",
       "\n",
       "    .dataframe tbody tr th {\n",
       "        vertical-align: top;\n",
       "    }\n",
       "\n",
       "    .dataframe thead th {\n",
       "        text-align: right;\n",
       "    }\n",
       "</style>\n",
       "<table border=\"1\" class=\"dataframe\">\n",
       "  <thead>\n",
       "    <tr style=\"text-align: right;\">\n",
       "      <th></th>\n",
       "      <th>Uniq Id</th>\n",
       "      <th>Crawl Timestamp</th>\n",
       "      <th>Job Title</th>\n",
       "      <th>Job Salary</th>\n",
       "      <th>Job Experience Required</th>\n",
       "      <th>Key Skills</th>\n",
       "      <th>Role Category</th>\n",
       "      <th>Location</th>\n",
       "      <th>Functional Area</th>\n",
       "      <th>Industry</th>\n",
       "      <th>Role</th>\n",
       "      <th>Openings</th>\n",
       "    </tr>\n",
       "  </thead>\n",
       "  <tbody>\n",
       "    <tr>\n",
       "      <th>0</th>\n",
       "      <td>9be62c49a0b7ebe982a4af1edaa7bc5f</td>\n",
       "      <td>2019-07-05 01:46:07 +0000</td>\n",
       "      <td>Digital Media Planner</td>\n",
       "      <td>not disclosed by recruiter</td>\n",
       "      <td>5 - 10 yrs</td>\n",
       "      <td>Media Planning| Digital Media</td>\n",
       "      <td>Advertising</td>\n",
       "      <td>Mumbai</td>\n",
       "      <td>Marketing , Advertising , MR , PR , Media Plan...</td>\n",
       "      <td>Advertising, PR, MR, Event Management</td>\n",
       "      <td>Media Planning Executive/Manager</td>\n",
       "      <td>NaN</td>\n",
       "    </tr>\n",
       "    <tr>\n",
       "      <th>1</th>\n",
       "      <td>3c52d436e39f596b22519da2612f6a56</td>\n",
       "      <td>2019-07-06 08:04:50 +0000</td>\n",
       "      <td>Online Bidding Executive</td>\n",
       "      <td>not disclosed by recruiter</td>\n",
       "      <td>2 - 5 yrs</td>\n",
       "      <td>pre sales| closing| software knowledge| clien...</td>\n",
       "      <td>Retail Sales</td>\n",
       "      <td>Pune,Pune</td>\n",
       "      <td>Sales , Retail , Business Development</td>\n",
       "      <td>IT-Software, Software Services</td>\n",
       "      <td>Sales Executive/Officer</td>\n",
       "      <td>NaN</td>\n",
       "    </tr>\n",
       "    <tr>\n",
       "      <th>2</th>\n",
       "      <td>ffad8a2396c60be2bf6d0e2ff47c58d4</td>\n",
       "      <td>2019-08-05 15:50:44 +0000</td>\n",
       "      <td>Trainee Research/ Research Executive- Hi- Tec...</td>\n",
       "      <td>not disclosed by recruiter</td>\n",
       "      <td>0 - 1 yrs</td>\n",
       "      <td>Computer science| Fabrication| Quality check|...</td>\n",
       "      <td>R&amp;D</td>\n",
       "      <td>Gurgaon</td>\n",
       "      <td>Engineering Design , R&amp;D</td>\n",
       "      <td>Recruitment, Staffing</td>\n",
       "      <td>R&amp;D Executive</td>\n",
       "      <td>NaN</td>\n",
       "    </tr>\n",
       "    <tr>\n",
       "      <th>3</th>\n",
       "      <td>7b921f51b5c2fb862b4a5f7a54c37f75</td>\n",
       "      <td>2019-08-05 15:31:56 +0000</td>\n",
       "      <td>Technical Support</td>\n",
       "      <td>2,00,000 - 4,00,000 pa.</td>\n",
       "      <td>0 - 5 yrs</td>\n",
       "      <td>Technical Support</td>\n",
       "      <td>Admin/Maintenance/Security/Datawarehousing</td>\n",
       "      <td>Mumbai</td>\n",
       "      <td>IT Software - Application Programming , Mainte...</td>\n",
       "      <td>IT-Software, Software Services</td>\n",
       "      <td>Technical Support Engineer</td>\n",
       "      <td>NaN</td>\n",
       "    </tr>\n",
       "    <tr>\n",
       "      <th>4</th>\n",
       "      <td>2d8b7d44e138a54d5dc841163138de50</td>\n",
       "      <td>2019-07-05 02:48:29 +0000</td>\n",
       "      <td>Software Test Engineer -hyderabad</td>\n",
       "      <td>not disclosed by recruiter</td>\n",
       "      <td>2 - 5 yrs</td>\n",
       "      <td>manual testing| test engineering| test cases|...</td>\n",
       "      <td>Programming &amp; Design</td>\n",
       "      <td>Hyderabad</td>\n",
       "      <td>IT Software - QA &amp; Testing</td>\n",
       "      <td>IT-Software, Software Services</td>\n",
       "      <td>Testing Engineer</td>\n",
       "      <td>NaN</td>\n",
       "    </tr>\n",
       "  </tbody>\n",
       "</table>\n",
       "</div>"
      ],
      "text/plain": [
       "                            Uniq Id            Crawl Timestamp  \\\n",
       "0  9be62c49a0b7ebe982a4af1edaa7bc5f  2019-07-05 01:46:07 +0000   \n",
       "1  3c52d436e39f596b22519da2612f6a56  2019-07-06 08:04:50 +0000   \n",
       "2  ffad8a2396c60be2bf6d0e2ff47c58d4  2019-08-05 15:50:44 +0000   \n",
       "3  7b921f51b5c2fb862b4a5f7a54c37f75  2019-08-05 15:31:56 +0000   \n",
       "4  2d8b7d44e138a54d5dc841163138de50  2019-07-05 02:48:29 +0000   \n",
       "\n",
       "                                           Job Title  \\\n",
       "0                              Digital Media Planner   \n",
       "1                           Online Bidding Executive   \n",
       "2   Trainee Research/ Research Executive- Hi- Tec...   \n",
       "3                                  Technical Support   \n",
       "4                  Software Test Engineer -hyderabad   \n",
       "\n",
       "                   Job Salary Job Experience Required  \\\n",
       "0  not disclosed by recruiter              5 - 10 yrs   \n",
       "1  not disclosed by recruiter               2 - 5 yrs   \n",
       "2  not disclosed by recruiter               0 - 1 yrs   \n",
       "3     2,00,000 - 4,00,000 pa.               0 - 5 yrs   \n",
       "4  not disclosed by recruiter               2 - 5 yrs   \n",
       "\n",
       "                                          Key Skills  \\\n",
       "0                      Media Planning| Digital Media   \n",
       "1   pre sales| closing| software knowledge| clien...   \n",
       "2   Computer science| Fabrication| Quality check|...   \n",
       "3                                  Technical Support   \n",
       "4   manual testing| test engineering| test cases|...   \n",
       "\n",
       "                                Role Category   Location  \\\n",
       "0                                 Advertising     Mumbai   \n",
       "1                                Retail Sales  Pune,Pune   \n",
       "2                                         R&D    Gurgaon   \n",
       "3  Admin/Maintenance/Security/Datawarehousing     Mumbai   \n",
       "4                        Programming & Design  Hyderabad   \n",
       "\n",
       "                                     Functional Area  \\\n",
       "0  Marketing , Advertising , MR , PR , Media Plan...   \n",
       "1              Sales , Retail , Business Development   \n",
       "2                           Engineering Design , R&D   \n",
       "3  IT Software - Application Programming , Mainte...   \n",
       "4                         IT Software - QA & Testing   \n",
       "\n",
       "                                Industry                              Role  \\\n",
       "0  Advertising, PR, MR, Event Management  Media Planning Executive/Manager   \n",
       "1         IT-Software, Software Services           Sales Executive/Officer   \n",
       "2                  Recruitment, Staffing                     R&D Executive   \n",
       "3         IT-Software, Software Services        Technical Support Engineer   \n",
       "4         IT-Software, Software Services                  Testing Engineer   \n",
       "\n",
       "  Openings  \n",
       "0      NaN  \n",
       "1      NaN  \n",
       "2      NaN  \n",
       "3      NaN  \n",
       "4      NaN  "
      ]
     },
     "execution_count": 59,
     "metadata": {},
     "output_type": "execute_result"
    }
   ],
   "source": [
    "data.head()"
   ]
  },
  {
   "cell_type": "code",
   "execution_count": 62,
   "metadata": {},
   "outputs": [
    {
     "data": {
      "text/plain": [
       "0                            Media Planning| Digital Media\n",
       "1         pre sales| closing| software knowledge| clien...\n",
       "2         Computer science| Fabrication| Quality check|...\n",
       "3                                        Technical Support\n",
       "4         manual testing| test engineering| test cases|...\n",
       "                               ...                        \n",
       "29995     Graphics| C++| USB| Project management| SOC| ...\n",
       "29996     Service delivery| LMS| CRE| Integration servi...\n",
       "29997        Counselor| Mentor| Trainer| Advisor| Teaching\n",
       "29998     Security Analysis| Software Development Life ...\n",
       "29999     Press release| Public relations| Publishing| ...\n",
       "Name: Key Skills, Length: 30000, dtype: object"
      ]
     },
     "execution_count": 62,
     "metadata": {},
     "output_type": "execute_result"
    }
   ],
   "source": [
    "data['Key Skills'].apply(lambda x: x)"
   ]
  },
  {
   "cell_type": "markdown",
   "metadata": {},
   "source": [
    "#### plot of top 10 skills"
   ]
  },
  {
   "cell_type": "code",
   "execution_count": 82,
   "metadata": {},
   "outputs": [
    {
     "data": {
      "text/plain": [
       "0       NaN\n",
       "1       NaN\n",
       "2       NaN\n",
       "3       NaN\n",
       "4       NaN\n",
       "         ..\n",
       "29995   NaN\n",
       "29996   NaN\n",
       "29997   NaN\n",
       "29998   NaN\n",
       "29999   NaN\n",
       "Name: Key Skills, Length: 30000, dtype: float64"
      ]
     },
     "execution_count": 82,
     "metadata": {},
     "output_type": "execute_result"
    }
   ],
   "source": [
    "key_skills = []\n",
    "data['Key Skills'].apply(lambda x:key_skills.extend(str(x).lower().strip().split(\"|\")) if type(x) == str else x)"
   ]
  },
  {
   "cell_type": "code",
   "execution_count": 83,
   "metadata": {},
   "outputs": [],
   "source": [
    "key_skills = list(map(lambda x: x.strip(), key_skills))"
   ]
  },
  {
   "cell_type": "code",
   "execution_count": 84,
   "metadata": {},
   "outputs": [
    {
     "data": {
      "text/plain": [
       "<AxesSubplot:>"
      ]
     },
     "execution_count": 84,
     "metadata": {},
     "output_type": "execute_result"
    },
    {
     "data": {
      "image/png": "[encoded data removed]",
      "text/plain": [
       "<Figure size 1100x500 with 1 Axes>"
      ]
     },
     "metadata": {
      "needs_background": "light"
     },
     "output_type": "display_data"
    }
   ],
   "source": [
    "pd.Series(key_skills).value_counts()[:20].plot(kind=\"bar\")"
   ]
  },
  {
   "cell_type": "code",
   "execution_count": 85,
   "metadata": {},
   "outputs": [
    {
     "data": {
      "text/html": [
       "<div>\n",
       "<style scoped>\n",
       "    .dataframe tbody tr th:only-of-type {\n",
       "        vertical-align: middle;\n",
       "    }\n",
       "\n",
       "    .dataframe tbody tr th {\n",
       "        vertical-align: top;\n",
       "    }\n",
       "\n",
       "    .dataframe thead th {\n",
       "        text-align: right;\n",
       "    }\n",
       "</style>\n",
       "<table border=\"1\" class=\"dataframe\">\n",
       "  <thead>\n",
       "    <tr style=\"text-align: right;\">\n",
       "      <th></th>\n",
       "      <th>Uniq Id</th>\n",
       "      <th>Crawl Timestamp</th>\n",
       "      <th>Job Title</th>\n",
       "      <th>Job Salary</th>\n",
       "      <th>Job Experience Required</th>\n",
       "      <th>Key Skills</th>\n",
       "      <th>Role Category</th>\n",
       "      <th>Location</th>\n",
       "      <th>Functional Area</th>\n",
       "      <th>Industry</th>\n",
       "      <th>Role</th>\n",
       "      <th>Openings</th>\n",
       "    </tr>\n",
       "  </thead>\n",
       "  <tbody>\n",
       "    <tr>\n",
       "      <th>0</th>\n",
       "      <td>9be62c49a0b7ebe982a4af1edaa7bc5f</td>\n",
       "      <td>2019-07-05 01:46:07 +0000</td>\n",
       "      <td>Digital Media Planner</td>\n",
       "      <td>not disclosed by recruiter</td>\n",
       "      <td>5 - 10 yrs</td>\n",
       "      <td>Media Planning| Digital Media</td>\n",
       "      <td>Advertising</td>\n",
       "      <td>Mumbai</td>\n",
       "      <td>Marketing , Advertising , MR , PR , Media Plan...</td>\n",
       "      <td>Advertising, PR, MR, Event Management</td>\n",
       "      <td>Media Planning Executive/Manager</td>\n",
       "      <td>NaN</td>\n",
       "    </tr>\n",
       "    <tr>\n",
       "      <th>1</th>\n",
       "      <td>3c52d436e39f596b22519da2612f6a56</td>\n",
       "      <td>2019-07-06 08:04:50 +0000</td>\n",
       "      <td>Online Bidding Executive</td>\n",
       "      <td>not disclosed by recruiter</td>\n",
       "      <td>2 - 5 yrs</td>\n",
       "      <td>pre sales| closing| software knowledge| clien...</td>\n",
       "      <td>Retail Sales</td>\n",
       "      <td>Pune,Pune</td>\n",
       "      <td>Sales , Retail , Business Development</td>\n",
       "      <td>IT-Software, Software Services</td>\n",
       "      <td>Sales Executive/Officer</td>\n",
       "      <td>NaN</td>\n",
       "    </tr>\n",
       "    <tr>\n",
       "      <th>2</th>\n",
       "      <td>ffad8a2396c60be2bf6d0e2ff47c58d4</td>\n",
       "      <td>2019-08-05 15:50:44 +0000</td>\n",
       "      <td>Trainee Research/ Research Executive- Hi- Tec...</td>\n",
       "      <td>not disclosed by recruiter</td>\n",
       "      <td>0 - 1 yrs</td>\n",
       "      <td>Computer science| Fabrication| Quality check|...</td>\n",
       "      <td>R&amp;D</td>\n",
       "      <td>Gurgaon</td>\n",
       "      <td>Engineering Design , R&amp;D</td>\n",
       "      <td>Recruitment, Staffing</td>\n",
       "      <td>R&amp;D Executive</td>\n",
       "      <td>NaN</td>\n",
       "    </tr>\n",
       "    <tr>\n",
       "      <th>3</th>\n",
       "      <td>7b921f51b5c2fb862b4a5f7a54c37f75</td>\n",
       "      <td>2019-08-05 15:31:56 +0000</td>\n",
       "      <td>Technical Support</td>\n",
       "      <td>2,00,000 - 4,00,000 pa.</td>\n",
       "      <td>0 - 5 yrs</td>\n",
       "      <td>Technical Support</td>\n",
       "      <td>Admin/Maintenance/Security/Datawarehousing</td>\n",
       "      <td>Mumbai</td>\n",
       "      <td>IT Software - Application Programming , Mainte...</td>\n",
       "      <td>IT-Software, Software Services</td>\n",
       "      <td>Technical Support Engineer</td>\n",
       "      <td>NaN</td>\n",
       "    </tr>\n",
       "    <tr>\n",
       "      <th>4</th>\n",
       "      <td>2d8b7d44e138a54d5dc841163138de50</td>\n",
       "      <td>2019-07-05 02:48:29 +0000</td>\n",
       "      <td>Software Test Engineer -hyderabad</td>\n",
       "      <td>not disclosed by recruiter</td>\n",
       "      <td>2 - 5 yrs</td>\n",
       "      <td>manual testing| test engineering| test cases|...</td>\n",
       "      <td>Programming &amp; Design</td>\n",
       "      <td>Hyderabad</td>\n",
       "      <td>IT Software - QA &amp; Testing</td>\n",
       "      <td>IT-Software, Software Services</td>\n",
       "      <td>Testing Engineer</td>\n",
       "      <td>NaN</td>\n",
       "    </tr>\n",
       "  </tbody>\n",
       "</table>\n",
       "</div>"
      ],
      "text/plain": [
       "                            Uniq Id            Crawl Timestamp  \\\n",
       "0  9be62c49a0b7ebe982a4af1edaa7bc5f  2019-07-05 01:46:07 +0000   \n",
       "1  3c52d436e39f596b22519da2612f6a56  2019-07-06 08:04:50 +0000   \n",
       "2  ffad8a2396c60be2bf6d0e2ff47c58d4  2019-08-05 15:50:44 +0000   \n",
       "3  7b921f51b5c2fb862b4a5f7a54c37f75  2019-08-05 15:31:56 +0000   \n",
       "4  2d8b7d44e138a54d5dc841163138de50  2019-07-05 02:48:29 +0000   \n",
       "\n",
       "                                           Job Title  \\\n",
       "0                              Digital Media Planner   \n",
       "1                           Online Bidding Executive   \n",
       "2   Trainee Research/ Research Executive- Hi- Tec...   \n",
       "3                                  Technical Support   \n",
       "4                  Software Test Engineer -hyderabad   \n",
       "\n",
       "                   Job Salary Job Experience Required  \\\n",
       "0  not disclosed by recruiter              5 - 10 yrs   \n",
       "1  not disclosed by recruiter               2 - 5 yrs   \n",
       "2  not disclosed by recruiter               0 - 1 yrs   \n",
       "3     2,00,000 - 4,00,000 pa.               0 - 5 yrs   \n",
       "4  not disclosed by recruiter               2 - 5 yrs   \n",
       "\n",
       "                                          Key Skills  \\\n",
       "0                      Media Planning| Digital Media   \n",
       "1   pre sales| closing| software knowledge| clien...   \n",
       "2   Computer science| Fabrication| Quality check|...   \n",
       "3                                  Technical Support   \n",
       "4   manual testing| test engineering| test cases|...   \n",
       "\n",
       "                                Role Category   Location  \\\n",
       "0                                 Advertising     Mumbai   \n",
       "1                                Retail Sales  Pune,Pune   \n",
       "2                                         R&D    Gurgaon   \n",
       "3  Admin/Maintenance/Security/Datawarehousing     Mumbai   \n",
       "4                        Programming & Design  Hyderabad   \n",
       "\n",
       "                                     Functional Area  \\\n",
       "0  Marketing , Advertising , MR , PR , Media Plan...   \n",
       "1              Sales , Retail , Business Development   \n",
       "2                           Engineering Design , R&D   \n",
       "3  IT Software - Application Programming , Mainte...   \n",
       "4                         IT Software - QA & Testing   \n",
       "\n",
       "                                Industry                              Role  \\\n",
       "0  Advertising, PR, MR, Event Management  Media Planning Executive/Manager   \n",
       "1         IT-Software, Software Services           Sales Executive/Officer   \n",
       "2                  Recruitment, Staffing                     R&D Executive   \n",
       "3         IT-Software, Software Services        Technical Support Engineer   \n",
       "4         IT-Software, Software Services                  Testing Engineer   \n",
       "\n",
       "  Openings  \n",
       "0      NaN  \n",
       "1      NaN  \n",
       "2      NaN  \n",
       "3      NaN  \n",
       "4      NaN  "
      ]
     },
     "execution_count": 85,
     "metadata": {},
     "output_type": "execute_result"
    }
   ],
   "source": [
    "data.head()"
   ]
  },
  {
   "cell_type": "markdown",
   "metadata": {},
   "source": [
    "##### top 10 locations of companies"
   ]
  },
  {
   "cell_type": "code",
   "execution_count": 86,
   "metadata": {},
   "outputs": [
    {
     "data": {
      "text/plain": [
       "Bengaluru                                                   4986\n",
       "Mumbai                                                      3318\n",
       "Pune                                                        2431\n",
       "Hyderabad                                                   2144\n",
       "Gurgaon                                                     1715\n",
       "                                                            ... \n",
       "Delhi NCR,Australia,United States (U.S),Himachal Pradesh       1\n",
       " Pune, Vadodara                                                1\n",
       "Delhi NCR,Delhi,Gurgaon,Faridabad                              1\n",
       "Faridabad,Delhi NCR                                            1\n",
       "Chandigarh,Gurgaon,haryana                                     1\n",
       "Name: Location, Length: 2573, dtype: int64"
      ]
     },
     "execution_count": 86,
     "metadata": {},
     "output_type": "execute_result"
    }
   ],
   "source": [
    "data['Location'].value_counts()"
   ]
  },
  {
   "cell_type": "code",
   "execution_count": 103,
   "metadata": {},
   "outputs": [
    {
     "data": {
      "text/plain": [
       "0       NaN\n",
       "1       NaN\n",
       "2       NaN\n",
       "3       NaN\n",
       "4       NaN\n",
       "         ..\n",
       "29995   NaN\n",
       "29996   NaN\n",
       "29997   NaN\n",
       "29998   NaN\n",
       "29999   NaN\n",
       "Name: Location, Length: 30000, dtype: float64"
      ]
     },
     "execution_count": 103,
     "metadata": {},
     "output_type": "execute_result"
    }
   ],
   "source": [
    "location = []\n",
    "data['Location'].str.split(\",\").apply(lambda x:location.extend(x) if type(x) != float else x)"
   ]
  },
  {
   "cell_type": "code",
   "execution_count": 104,
   "metadata": {},
   "outputs": [
    {
     "data": {
      "text/plain": [
       "39578"
      ]
     },
     "execution_count": 104,
     "metadata": {},
     "output_type": "execute_result"
    }
   ],
   "source": [
    "len(location)"
   ]
  },
  {
   "cell_type": "code",
   "execution_count": 97,
   "metadata": {},
   "outputs": [],
   "source": [
    "location = list(map(lambda x: x.strip().lower(), location))"
   ]
  },
  {
   "cell_type": "code",
   "execution_count": 102,
   "metadata": {},
   "outputs": [],
   "source": [
    "location_ser = pd.Series(location)"
   ]
  },
  {
   "cell_type": "code",
   "execution_count": null,
   "metadata": {},
   "outputs": [],
   "source": [
    "location.split()"
   ]
  },
  {
   "cell_type": "code",
   "execution_count": 99,
   "metadata": {},
   "outputs": [
    {
     "data": {
      "text/plain": [
       "<AxesSubplot:>"
      ]
     },
     "execution_count": 99,
     "metadata": {},
     "output_type": "execute_result"
    },
    {
     "data": {
      "image/png": "[encoded data removed]",
      "text/plain": [
       "<Figure size 1100x500 with 1 Axes>"
      ]
     },
     "metadata": {
      "needs_background": "light"
     },
     "output_type": "display_data"
    }
   ],
   "source": [
    "pd.Series(location).value_counts()[:20].plot(kind=\"bar\")"
   ]
  },
  {
   "cell_type": "code",
   "execution_count": 110,
   "metadata": {},
   "outputs": [],
   "source": [
    "location = []\n",
    "def change(x):\n",
    "    location.extend(\" \".join(x.split(\",\")).split())"
   ]
  },
  {
   "cell_type": "code",
   "execution_count": 111,
   "metadata": {},
   "outputs": [
    {
     "data": {
      "text/plain": [
       "0       NaN\n",
       "1       NaN\n",
       "2       NaN\n",
       "3       NaN\n",
       "4       NaN\n",
       "         ..\n",
       "29995   NaN\n",
       "29996   NaN\n",
       "29997   NaN\n",
       "29998   NaN\n",
       "29999   NaN\n",
       "Name: Location, Length: 30000, dtype: float64"
      ]
     },
     "execution_count": 111,
     "metadata": {},
     "output_type": "execute_result"
    }
   ],
   "source": [
    "data['Location'].apply(lambda x:change(x) if type(x) != float else x)"
   ]
  },
  {
   "cell_type": "code",
   "execution_count": 112,
   "metadata": {},
   "outputs": [
    {
     "data": {
      "text/plain": [
       "Bengaluru     6926\n",
       "Mumbai        6047\n",
       "Delhi         4022\n",
       "Pune          3502\n",
       "Hyderabad     3273\n",
       "              ... \n",
       "ashoknagar       1\n",
       "Alandi)          1\n",
       "(NIT)            1\n",
       "Sadashiva        1\n",
       "(Ejipura)        1\n",
       "Length: 1172, dtype: int64"
      ]
     },
     "execution_count": 112,
     "metadata": {},
     "output_type": "execute_result"
    }
   ],
   "source": [
    "pd.Series(location).value_counts()"
   ]
  },
  {
   "cell_type": "markdown",
   "metadata": {},
   "source": [
    "#### remove area ()"
   ]
  },
  {
   "cell_type": "code",
   "execution_count": 114,
   "metadata": {},
   "outputs": [
    {
     "data": {
      "text/html": [
       "<div>\n",
       "<style scoped>\n",
       "    .dataframe tbody tr th:only-of-type {\n",
       "        vertical-align: middle;\n",
       "    }\n",
       "\n",
       "    .dataframe tbody tr th {\n",
       "        vertical-align: top;\n",
       "    }\n",
       "\n",
       "    .dataframe thead th {\n",
       "        text-align: right;\n",
       "    }\n",
       "</style>\n",
       "<table border=\"1\" class=\"dataframe\">\n",
       "  <thead>\n",
       "    <tr style=\"text-align: right;\">\n",
       "      <th></th>\n",
       "      <th>Uniq Id</th>\n",
       "      <th>Crawl Timestamp</th>\n",
       "      <th>Job Title</th>\n",
       "      <th>Job Salary</th>\n",
       "      <th>Job Experience Required</th>\n",
       "      <th>Key Skills</th>\n",
       "      <th>Role Category</th>\n",
       "      <th>Location</th>\n",
       "      <th>Functional Area</th>\n",
       "      <th>Industry</th>\n",
       "      <th>Role</th>\n",
       "      <th>Openings</th>\n",
       "    </tr>\n",
       "  </thead>\n",
       "  <tbody>\n",
       "    <tr>\n",
       "      <th>0</th>\n",
       "      <td>9be62c49a0b7ebe982a4af1edaa7bc5f</td>\n",
       "      <td>2019-07-05 01:46:07 +0000</td>\n",
       "      <td>Digital Media Planner</td>\n",
       "      <td>not disclosed by recruiter</td>\n",
       "      <td>5 - 10 yrs</td>\n",
       "      <td>Media Planning| Digital Media</td>\n",
       "      <td>Advertising</td>\n",
       "      <td>Mumbai</td>\n",
       "      <td>Marketing , Advertising , MR , PR , Media Plan...</td>\n",
       "      <td>Advertising, PR, MR, Event Management</td>\n",
       "      <td>Media Planning Executive/Manager</td>\n",
       "      <td>NaN</td>\n",
       "    </tr>\n",
       "    <tr>\n",
       "      <th>1</th>\n",
       "      <td>3c52d436e39f596b22519da2612f6a56</td>\n",
       "      <td>2019-07-06 08:04:50 +0000</td>\n",
       "      <td>Online Bidding Executive</td>\n",
       "      <td>not disclosed by recruiter</td>\n",
       "      <td>2 - 5 yrs</td>\n",
       "      <td>pre sales| closing| software knowledge| clien...</td>\n",
       "      <td>Retail Sales</td>\n",
       "      <td>Pune,Pune</td>\n",
       "      <td>Sales , Retail , Business Development</td>\n",
       "      <td>IT-Software, Software Services</td>\n",
       "      <td>Sales Executive/Officer</td>\n",
       "      <td>NaN</td>\n",
       "    </tr>\n",
       "    <tr>\n",
       "      <th>2</th>\n",
       "      <td>ffad8a2396c60be2bf6d0e2ff47c58d4</td>\n",
       "      <td>2019-08-05 15:50:44 +0000</td>\n",
       "      <td>Trainee Research/ Research Executive- Hi- Tec...</td>\n",
       "      <td>not disclosed by recruiter</td>\n",
       "      <td>0 - 1 yrs</td>\n",
       "      <td>Computer science| Fabrication| Quality check|...</td>\n",
       "      <td>R&amp;D</td>\n",
       "      <td>Gurgaon</td>\n",
       "      <td>Engineering Design , R&amp;D</td>\n",
       "      <td>Recruitment, Staffing</td>\n",
       "      <td>R&amp;D Executive</td>\n",
       "      <td>NaN</td>\n",
       "    </tr>\n",
       "    <tr>\n",
       "      <th>3</th>\n",
       "      <td>7b921f51b5c2fb862b4a5f7a54c37f75</td>\n",
       "      <td>2019-08-05 15:31:56 +0000</td>\n",
       "      <td>Technical Support</td>\n",
       "      <td>2,00,000 - 4,00,000 pa.</td>\n",
       "      <td>0 - 5 yrs</td>\n",
       "      <td>Technical Support</td>\n",
       "      <td>Admin/Maintenance/Security/Datawarehousing</td>\n",
       "      <td>Mumbai</td>\n",
       "      <td>IT Software - Application Programming , Mainte...</td>\n",
       "      <td>IT-Software, Software Services</td>\n",
       "      <td>Technical Support Engineer</td>\n",
       "      <td>NaN</td>\n",
       "    </tr>\n",
       "    <tr>\n",
       "      <th>4</th>\n",
       "      <td>2d8b7d44e138a54d5dc841163138de50</td>\n",
       "      <td>2019-07-05 02:48:29 +0000</td>\n",
       "      <td>Software Test Engineer -hyderabad</td>\n",
       "      <td>not disclosed by recruiter</td>\n",
       "      <td>2 - 5 yrs</td>\n",
       "      <td>manual testing| test engineering| test cases|...</td>\n",
       "      <td>Programming &amp; Design</td>\n",
       "      <td>Hyderabad</td>\n",
       "      <td>IT Software - QA &amp; Testing</td>\n",
       "      <td>IT-Software, Software Services</td>\n",
       "      <td>Testing Engineer</td>\n",
       "      <td>NaN</td>\n",
       "    </tr>\n",
       "  </tbody>\n",
       "</table>\n",
       "</div>"
      ],
      "text/plain": [
       "                            Uniq Id            Crawl Timestamp  \\\n",
       "0  9be62c49a0b7ebe982a4af1edaa7bc5f  2019-07-05 01:46:07 +0000   \n",
       "1  3c52d436e39f596b22519da2612f6a56  2019-07-06 08:04:50 +0000   \n",
       "2  ffad8a2396c60be2bf6d0e2ff47c58d4  2019-08-05 15:50:44 +0000   \n",
       "3  7b921f51b5c2fb862b4a5f7a54c37f75  2019-08-05 15:31:56 +0000   \n",
       "4  2d8b7d44e138a54d5dc841163138de50  2019-07-05 02:48:29 +0000   \n",
       "\n",
       "                                           Job Title  \\\n",
       "0                              Digital Media Planner   \n",
       "1                           Online Bidding Executive   \n",
       "2   Trainee Research/ Research Executive- Hi- Tec...   \n",
       "3                                  Technical Support   \n",
       "4                  Software Test Engineer -hyderabad   \n",
       "\n",
       "                   Job Salary Job Experience Required  \\\n",
       "0  not disclosed by recruiter              5 - 10 yrs   \n",
       "1  not disclosed by recruiter               2 - 5 yrs   \n",
       "2  not disclosed by recruiter               0 - 1 yrs   \n",
       "3     2,00,000 - 4,00,000 pa.               0 - 5 yrs   \n",
       "4  not disclosed by recruiter               2 - 5 yrs   \n",
       "\n",
       "                                          Key Skills  \\\n",
       "0                      Media Planning| Digital Media   \n",
       "1   pre sales| closing| software knowledge| clien...   \n",
       "2   Computer science| Fabrication| Quality check|...   \n",
       "3                                  Technical Support   \n",
       "4   manual testing| test engineering| test cases|...   \n",
       "\n",
       "                                Role Category   Location  \\\n",
       "0                                 Advertising     Mumbai   \n",
       "1                                Retail Sales  Pune,Pune   \n",
       "2                                         R&D    Gurgaon   \n",
       "3  Admin/Maintenance/Security/Datawarehousing     Mumbai   \n",
       "4                        Programming & Design  Hyderabad   \n",
       "\n",
       "                                     Functional Area  \\\n",
       "0  Marketing , Advertising , MR , PR , Media Plan...   \n",
       "1              Sales , Retail , Business Development   \n",
       "2                           Engineering Design , R&D   \n",
       "3  IT Software - Application Programming , Mainte...   \n",
       "4                         IT Software - QA & Testing   \n",
       "\n",
       "                                Industry                              Role  \\\n",
       "0  Advertising, PR, MR, Event Management  Media Planning Executive/Manager   \n",
       "1         IT-Software, Software Services           Sales Executive/Officer   \n",
       "2                  Recruitment, Staffing                     R&D Executive   \n",
       "3         IT-Software, Software Services        Technical Support Engineer   \n",
       "4         IT-Software, Software Services                  Testing Engineer   \n",
       "\n",
       "  Openings  \n",
       "0      NaN  \n",
       "1      NaN  \n",
       "2      NaN  \n",
       "3      NaN  \n",
       "4      NaN  "
      ]
     },
     "execution_count": 114,
     "metadata": {},
     "output_type": "execute_result"
    }
   ],
   "source": [
    "data.head()"
   ]
  },
  {
   "cell_type": "markdown",
   "metadata": {},
   "source": [
    "##### plot top 10 role category"
   ]
  },
  {
   "cell_type": "code",
   "execution_count": 115,
   "metadata": {},
   "outputs": [],
   "source": [
    "data.to_csv(\"cleaned.csv\")"
   ]
  },
  {
   "cell_type": "code",
   "execution_count": 121,
   "metadata": {},
   "outputs": [
    {
     "data": {
      "text/plain": [
       "not disclosed by recruiter                        20761\n",
       "2,00,000 - 4,00,000 pa.                             202\n",
       "2,00,000 - 3,00,000 pa.                             188\n",
       "3,00,000 - 5,00,000 pa.                             152\n",
       "50,000 - 3,00,000 pa.                               132\n",
       "                                                  ...  \n",
       "including pf, esi, insurance, professional tax        1\n",
       "20,00,000 - 22,50,000 pa.                             1\n",
       "6,00,000 - 6,50,000 pa.                               1\n",
       "bonus, reimbursements                                 1\n",
       "fixed + incentives + reimbursement                    1\n",
       "Name: Job Salary, Length: 886, dtype: int64"
      ]
     },
     "execution_count": 121,
     "metadata": {},
     "output_type": "execute_result"
    }
   ],
   "source": [
    "data['Job Salary'].value_counts()"
   ]
  },
  {
   "cell_type": "code",
   "execution_count": 122,
   "metadata": {},
   "outputs": [
    {
     "data": {
      "text/plain": [
       "* â‚¹2 lacs/year professional development budget for conferences, books, certifications etc. * superior medical coverage for you and your immediate family. * flexible work from home policy.    1\n",
       "one of best in industry                                                                                                                                                                          1\n",
       "lucrative incentives , commission etc                                                                                                                                                            1\n",
       "no constriant for right candidates.                                                                                                                                                              1\n",
       "rs. 1.50 lakh/ month                                                                                                                                                                             1\n",
       "chennai, salem, vellore, tirunelveli. whatsapp@ 09789004777, call - 9840040143                                                                                                                   1\n",
       "70,000 pa.                                                                                                                                                                                       1\n",
       "3,75,000 - 4,00,000 pa.                                                                                                                                                                          1\n",
       "up to  7,50,000                                                                                                                                                                                  1\n",
       "no salary bar for right candidate                                                                                                                                                                1\n",
       "1,00,000 - 3,00,000 pa. +incentives                                                                                                                                                              1\n",
       "attractive bonus                                                                                                                                                                                 1\n",
       "one side cab + monthly                                                                                                                                                                           1\n",
       "best in the industry !                                                                                                                                                                           1\n",
       "management bonus as applicable to the position                                                                                                                                                   1\n",
       "60000-3%-180000/-                                                                                                                                                                                1\n",
       "27,50,000 pa.                                                                                                                                                                                    1\n",
       "extra rewards & performance based income                                                                                                                                                         1\n",
       "6,00,000 - 10,00,000 pa. perks and incentives,reimburse...                                                                                                                                       1\n",
       "at par with industry standards                                                                                                                                                                   1\n",
       "comparable to best in the industry                                                                                                                                                               1\n",
       "best of industries.                                                                                                                                                                              1\n",
       "sharing basis                                                                                                                                                                                    1\n",
       "as per market norms                                                                                                                                                                              1\n",
       "daily working allowance as applicable. salary not a constraint for the right candidate.                                                                                                          1\n",
       "2,50,000 - 4,00,000 pa. relocation bonus(upto 10,000) +...                                                                                                                                       1\n",
       "salary will depend on the candiate as it isa trainee position                                                                                                                                    1\n",
       "salary is not a constraint                                                                                                                                                                       1\n",
       "22,50,000 - 35,00,000 pa.                                                                                                                                                                        1\n",
       "handsome salary + unlimited incentive                                                                                                                                                            1\n",
       "60,000 - 80,000 pa.                                                                                                                                                                              1\n",
       "37400-67000 with agp rs. 10000 (pre-revised);                                                                                                                                                    1\n",
       "salary will be depends on experience & position                                                                                                                                                  1\n",
       "benefits as per co's norms                                                                                                                                                                       1\n",
       "90,000 - 2,50,000 pa.                                                                                                                                                                            1\n",
       "best in the industry , incentive, conveyance, medical..                                                                                                                                          1\n",
       "Name: Job Salary, dtype: int64"
      ]
     },
     "execution_count": 122,
     "metadata": {},
     "output_type": "execute_result"
    }
   ],
   "source": [
    "data['Job Salary'].value_counts()[800:836]"
   ]
  },
  {
   "cell_type": "code",
   "execution_count": 124,
   "metadata": {},
   "outputs": [],
   "source": [
    "### convert values consists of only strings into not disclosed by recruiter"
   ]
  },
  {
   "cell_type": "code",
   "execution_count": null,
   "metadata": {},
   "outputs": [],
   "source": []
  }
 ],
 "metadata": {
  "kernelspec": {
   "display_name": "Python 3",
   "language": "python",
   "name": "python3"
  },
  "language_info": {
   "codemirror_mode": {
    "name": "ipython",
    "version": 3
   },
   "file_extension": ".py",
   "mimetype": "text/x-python",
   "name": "python",
   "nbconvert_exporter": "python",
   "pygments_lexer": "ipython3",
   "version": "3.8.5"
  }
 },
 "nbformat": 4,
 "nbformat_minor": 4
}
