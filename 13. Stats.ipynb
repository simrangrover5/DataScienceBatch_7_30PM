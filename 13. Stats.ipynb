{
 "cells": [
  {
   "cell_type": "code",
   "execution_count": 1,
   "metadata": {},
   "outputs": [],
   "source": [
    "import numpy as np\n",
    "import matplotlib.pyplot as plt"
   ]
  },
  {
   "cell_type": "code",
   "execution_count": 2,
   "metadata": {},
   "outputs": [],
   "source": [
    "data = np.random.randint(10, 50, 100)"
   ]
  },
  {
   "cell_type": "markdown",
   "metadata": {},
   "source": [
    "##### Exclusive Intervals"
   ]
  },
  {
   "cell_type": "code",
   "execution_count": 5,
   "metadata": {},
   "outputs": [],
   "source": [
    "def no_of_class_intervals(data):\n",
    "    N = len(data)\n",
    "    return round(1 + 3.322 * np.log10(N))\n",
    "\n",
    "def width_class_intervals(data):\n",
    "    k = no_of_class_intervals(data)\n",
    "    range_ = max(data) - min(data)\n",
    "    return round(range_/k)"
   ]
  },
  {
   "cell_type": "code",
   "execution_count": 6,
   "metadata": {},
   "outputs": [],
   "source": [
    "def print_table(intervals, freq):\n",
    "    print(\"_\"*50)\n",
    "    print(\"CLASSES\\t\\t|\\t\\tFREQUENCY\\t|\")\n",
    "    print(\"_\"*50)\n",
    "    int_ = []\n",
    "    for i in range(len(intervals)-1):\n",
    "        int_.append(f\"{intervals[i]} - {intervals[i+1]}\")\n",
    "        print(f\"{intervals[i]} - {intervals[i+1]}\\t\\t|\\t\\t{freq[i]}\\t\\t|\")\n",
    "        print(\"_\"*50)\n",
    "        \n",
    "def exclusive_intervals(data):\n",
    "    k = no_of_class_intervals(data)\n",
    "    size = width_class_intervals(data)\n",
    "    intervals = list(range(10, 50+1, size))\n",
    "    freq = []\n",
    "    data = list(data)\n",
    "    for i in range(len(intervals)-1):\n",
    "        ll = intervals[i]\n",
    "        ul = intervals[i+1]\n",
    "        count = 0\n",
    "        for ele in range(ll, ul): # range(10, 15) --> 10, 11, 12, 13, 14\n",
    "            count += data.count(ele)\n",
    "        freq.append(count)\n",
    "    print_table(intervals, freq)"
   ]
  },
  {
   "cell_type": "code",
   "execution_count": 7,
   "metadata": {},
   "outputs": [
    {
     "name": "stdout",
     "output_type": "stream",
     "text": [
      "__________________________________________________\n",
      "CLASSES\t\t|\t\tFREQUENCY\t|\n",
      "__________________________________________________\n",
      "10 - 15\t\t|\t\t17\t\t|\n",
      "__________________________________________________\n",
      "15 - 20\t\t|\t\t9\t\t|\n",
      "__________________________________________________\n",
      "20 - 25\t\t|\t\t13\t\t|\n",
      "__________________________________________________\n",
      "25 - 30\t\t|\t\t12\t\t|\n",
      "__________________________________________________\n",
      "30 - 35\t\t|\t\t7\t\t|\n",
      "__________________________________________________\n",
      "35 - 40\t\t|\t\t17\t\t|\n",
      "__________________________________________________\n",
      "40 - 45\t\t|\t\t14\t\t|\n",
      "__________________________________________________\n",
      "45 - 50\t\t|\t\t11\t\t|\n",
      "__________________________________________________\n"
     ]
    }
   ],
   "source": [
    "exclusive_intervals(data)"
   ]
  },
  {
   "cell_type": "code",
   "execution_count": 29,
   "metadata": {},
   "outputs": [],
   "source": [
    "def inclusive_intervals(data):\n",
    "    k = no_of_class_intervals(data)\n",
    "    size = width_class_intervals(data)\n",
    "    intervals = list(range(10, 53, size+1))\n",
    "    freq = []\n",
    "    data = list(data)\n",
    "    print(intervals)\n",
    "    for i in range(len(intervals)-1):\n",
    "        ll = intervals[i]\n",
    "        ul = intervals[i+1]\n",
    "        count = 0\n",
    "        for ele in range(ll, ul): # range(10, 16) --> 10, 11, 12, 13, 14, 15\n",
    "            count += data.count(ele)\n",
    "        freq.append(count)\n",
    "    print(\"_\"*50)\n",
    "    print(\"CLASSES\\t\\t|\\t\\tFREQUENCY\\t|\")\n",
    "    print(\"_\"*50)\n",
    "    for i in range(len(intervals)-1):\n",
    "        print(f\"{intervals[i]} - {intervals[i+1]-1}\\t\\t|\\t\\t{freq[i]}\\t\\t|\")\n",
    "        print(\"_\"*50)"
   ]
  },
  {
   "cell_type": "code",
   "execution_count": 30,
   "metadata": {},
   "outputs": [
    {
     "name": "stdout",
     "output_type": "stream",
     "text": [
      "[10, 16, 22, 28, 34, 40, 46, 52]\n",
      "__________________________________________________\n",
      "CLASSES\t\t|\t\tFREQUENCY\t|\n",
      "__________________________________________________\n",
      "10 - 15\t\t|\t\t22\t\t|\n",
      "__________________________________________________\n",
      "16 - 21\t\t|\t\t10\t\t|\n",
      "__________________________________________________\n",
      "22 - 27\t\t|\t\t11\t\t|\n",
      "__________________________________________________\n",
      "28 - 33\t\t|\t\t14\t\t|\n",
      "__________________________________________________\n",
      "34 - 39\t\t|\t\t18\t\t|\n",
      "__________________________________________________\n",
      "40 - 45\t\t|\t\t16\t\t|\n",
      "__________________________________________________\n",
      "46 - 51\t\t|\t\t9\t\t|\n",
      "__________________________________________________\n"
     ]
    }
   ],
   "source": [
    "inclusive_intervals(data)"
   ]
  },
  {
   "cell_type": "code",
   "execution_count": 14,
   "metadata": {},
   "outputs": [
    {
     "data": {
      "text/plain": [
       "(-5, -5, -5, -5, -5, -5, -5)"
      ]
     },
     "execution_count": 14,
     "metadata": {},
     "output_type": "execute_result"
    }
   ],
   "source": [
    "10-15, 16 - 21, 22-27, 28-33, 34-39, 40-45, 46-51"
   ]
  },
  {
   "cell_type": "code",
   "execution_count": null,
   "metadata": {},
   "outputs": [],
   "source": [
    "size = 4.5"
   ]
  },
  {
   "cell_type": "code",
   "execution_count": 51,
   "metadata": {},
   "outputs": [],
   "source": [
    "def inclusive_intervals(data):\n",
    "    k = no_of_class_intervals(data)\n",
    "    size = width_class_intervals(data)\n",
    "    intervals = list(range(10, 53, size+1))\n",
    "    freq = []\n",
    "    per = []\n",
    "    data = list(data)\n",
    "    for i in range(len(intervals)-1):\n",
    "        ll = intervals[i]\n",
    "        ul = intervals[i+1]\n",
    "        count = 0\n",
    "        for ele in range(ll, ul): # range(10, 16) --> 10, 11, 12, 13, 14, 15\n",
    "            count += data.count(ele)\n",
    "        per.append(round(count/len(data)*100, 2))\n",
    "        freq.append(count)\n",
    "    print(\"_\"*80)\n",
    "    print(\"CLASSES\\t\\t|\\t\\tFREQUENCY\\t|\\tPercentage\\t\\t|\")\n",
    "    print(\"_\"*80)\n",
    "    for i in range(len(intervals)-1):\n",
    "        print(f\"{intervals[i]} - {intervals[i+1]-1}\\t\\t|\\t\\t{freq[i]}\\t\\t|\\t\\t{per[i]}%\\t\\t|\")\n",
    "        print(\"_\"*80)"
   ]
  },
  {
   "cell_type": "code",
   "execution_count": 52,
   "metadata": {},
   "outputs": [
    {
     "name": "stdout",
     "output_type": "stream",
     "text": [
      "________________________________________________________________________________\n",
      "CLASSES\t\t|\t\tFREQUENCY\t|\tPercentage\t\t|\n",
      "________________________________________________________________________________\n",
      "10 - 15\t\t|\t\t22\t\t|\t\t22.0%\t\t|\n",
      "________________________________________________________________________________\n",
      "16 - 21\t\t|\t\t10\t\t|\t\t10.0%\t\t|\n",
      "________________________________________________________________________________\n",
      "22 - 27\t\t|\t\t11\t\t|\t\t11.0%\t\t|\n",
      "________________________________________________________________________________\n",
      "28 - 33\t\t|\t\t14\t\t|\t\t14.0%\t\t|\n",
      "________________________________________________________________________________\n",
      "34 - 39\t\t|\t\t18\t\t|\t\t18.0%\t\t|\n",
      "________________________________________________________________________________\n",
      "40 - 45\t\t|\t\t16\t\t|\t\t16.0%\t\t|\n",
      "________________________________________________________________________________\n",
      "46 - 51\t\t|\t\t9\t\t|\t\t9.0%\t\t|\n",
      "________________________________________________________________________________\n"
     ]
    }
   ],
   "source": [
    "inclusive_intervals(data)"
   ]
  },
  {
   "cell_type": "code",
   "execution_count": 68,
   "metadata": {},
   "outputs": [
    {
     "name": "stdout",
     "output_type": "stream",
     "text": [
      "________________________________________________________________________________\n",
      "CLASSES\t\t|\tFREQUENCY\t|\tPercentage\t|\tLTCF\t|\n",
      "________________________________________________________________________________\n",
      "10 - 15\t\t|\t\t22\t|\t22.0%\t\t|\t22\t|\n",
      "________________________________________________________________________________\n",
      "16 - 21\t\t|\t\t10\t|\t10.0%\t\t|\t32\t|\n",
      "________________________________________________________________________________\n",
      "22 - 27\t\t|\t\t11\t|\t11.0%\t\t|\t43\t|\n",
      "________________________________________________________________________________\n",
      "28 - 33\t\t|\t\t14\t|\t14.0%\t\t|\t57\t|\n",
      "________________________________________________________________________________\n",
      "34 - 39\t\t|\t\t18\t|\t18.0%\t\t|\t75\t|\n",
      "________________________________________________________________________________\n",
      "40 - 45\t\t|\t\t16\t|\t16.0%\t\t|\t91\t|\n",
      "________________________________________________________________________________\n",
      "46 - 51\t\t|\t\t9\t|\t9.0%\t\t|\t100\t|\n",
      "________________________________________________________________________________\n"
     ]
    }
   ],
   "source": [
    "k = no_of_class_intervals(data)\n",
    "size = width_class_intervals(data)\n",
    "intervals = list(range(10, 53, size+1))\n",
    "freq = []\n",
    "per = []\n",
    "cf = []\n",
    "data = list(data)\n",
    "for i in range(len(intervals)-1):\n",
    "    ll = intervals[i]\n",
    "    ul = intervals[i+1]\n",
    "    count = 0\n",
    "    for ele in range(ll, ul): # range(10, 16) --> 10, 11, 12, 13, 14, 15\n",
    "        count += data.count(ele)\n",
    "    per.append(round(count/len(data)*100, 2))\n",
    "    freq.append(count)\n",
    "    if i == 0:\n",
    "        cf.append(count)\n",
    "    else: # cf = [10], count = 20, cf = [10, 30]\n",
    "        cf.append(cf[i-1]+count)\n",
    "print(\"_\"*80)\n",
    "print(\"CLASSES\\t\\t|\\tFREQUENCY\\t|\\tPercentage\\t|\\tLTCF\\t|\")\n",
    "print(\"_\"*80)\n",
    "for i in range(len(intervals)-1):\n",
    "    print(f\"{intervals[i]} - {intervals[i+1]-1}\\t\\t|\\t\\t{freq[i]}\\t|\\t{per[i]}%\\t\\t|\\t{cf[i]}\\t|\")\n",
    "    print(\"_\"*80)"
   ]
  },
  {
   "cell_type": "markdown",
   "metadata": {},
   "source": [
    "#### Calculate Mean of Grouped Data\n",
    "#### Calculate Weighted arithemetic mean"
   ]
  },
  {
   "cell_type": "code",
   "execution_count": null,
   "metadata": {},
   "outputs": [],
   "source": []
  }
 ],
 "metadata": {
  "kernelspec": {
   "display_name": "Python 3",
   "language": "python",
   "name": "python3"
  },
  "language_info": {
   "codemirror_mode": {
    "name": "ipython",
    "version": 3
   },
   "file_extension": ".py",
   "mimetype": "text/x-python",
   "name": "python",
   "nbconvert_exporter": "python",
   "pygments_lexer": "ipython3",
   "version": "3.8.5"
  }
 },
 "nbformat": 4,
 "nbformat_minor": 4
}
