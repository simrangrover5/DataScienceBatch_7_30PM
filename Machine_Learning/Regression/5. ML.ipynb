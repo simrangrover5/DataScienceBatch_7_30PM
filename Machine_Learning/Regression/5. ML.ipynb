{
 "cells": [
  {
   "cell_type": "markdown",
   "metadata": {},
   "source": [
    "### GOOD AFTERNOON\n",
    "\n",
    "    any doubts???"
   ]
  },
  {
   "cell_type": "markdown",
   "metadata": {},
   "source": [
    "### Regression \n",
    "\n",
    "\n",
    "    Features --> input\n",
    "    Target --> output \n",
    "    \n",
    "    \n",
    "    Features --> Independent Variables \n",
    "    Target --> Dependent Variables \n",
    "    \n",
    "    \n",
    "    Height   BMI    Weight\n",
    "    5.5       5       60\n",
    "    5.4       7       55\n",
    "    6         6       65\n",
    "    \n",
    "    \n",
    "    Features --> Height, BMI (input)(Indep.)\n",
    "    Target --> Weight (predict/output) (Dep.)\n",
    "    \n",
    "    \n",
    "### Linear Regression\n",
    "\n",
    "    Dependent Variable --> Numerical \n",
    "    \n",
    "        Covariance --> value (anything)\n",
    "        Correlation --> value and direction (-1 to 1)\n",
    "        \n",
    "        \n",
    "        a = bx + c --> degree = 1\n",
    "        a = bx^2 + cx + d\n",
    "        \n",
    "        \n",
    "        \n",
    "        Linear Equation \n",
    "        \n",
    "$$ y = mx + c $$\n",
    "\n",
    "\n",
    "    c --> intercept \n",
    "    m --> slope/coeff\n",
    "    x --> feature\n",
    "    y --> target\n",
    "    \n",
    "    m and c are the parameters\n",
    "    \n",
    "    \n",
    "$$ y = \\beta_0 + \\beta_1x $$\n",
    "\n",
    "    \\beta_0 = intercept\n",
    "    \\beta_1 = slope/coeff\n",
    "    \n",
    "$\\beta_0$ or $\\beta_1$ both are your paramters"
   ]
  },
  {
   "cell_type": "code",
   "execution_count": 2,
   "metadata": {},
   "outputs": [],
   "source": [
    "import matplotlib.pyplot as plt"
   ]
  },
  {
   "cell_type": "code",
   "execution_count": 19,
   "metadata": {},
   "outputs": [
    {
     "data": {
      "image/png": "[encoded data removed]",
      "text/plain": [
       "<Figure size 432x288 with 1 Axes>"
      ]
     },
     "metadata": {
      "needs_background": "light"
     },
     "output_type": "display_data"
    }
   ],
   "source": [
    "m = 0.1\n",
    "c = 0\n",
    "x1 = 10\n",
    "y1 = m*x1 + c\n",
    "\n",
    "x2 = 15\n",
    "y2 = m*x2 + c\n",
    "plt.plot([x1, x2], [y1, y2], 'o-')\n",
    "plt.yticks(range(0, 8))\n",
    "plt.show()"
   ]
  },
  {
   "cell_type": "code",
   "execution_count": 20,
   "metadata": {},
   "outputs": [
    {
     "data": {
      "image/png": "[encoded data removed]",
      "text/plain": [
       "<Figure size 432x288 with 1 Axes>"
      ]
     },
     "metadata": {
      "needs_background": "light"
     },
     "output_type": "display_data"
    }
   ],
   "source": [
    "m = 0.5\n",
    "c = 0\n",
    "x1 = 10\n",
    "y1 = m*x1 + c\n",
    "\n",
    "x2 = 15\n",
    "y2 = m*x2 + c\n",
    "plt.plot([x1, x2], [y1, y2], 'o-')\n",
    "plt.yticks(range(0, 8))\n",
    "plt.show()"
   ]
  },
  {
   "cell_type": "code",
   "execution_count": 6,
   "metadata": {},
   "outputs": [
    {
     "data": {
      "text/plain": [
       "2.0"
      ]
     },
     "execution_count": 6,
     "metadata": {},
     "output_type": "execute_result"
    }
   ],
   "source": [
    "y"
   ]
  },
  {
   "cell_type": "markdown",
   "metadata": {},
   "source": [
    "    I want to draw a linear line to predict a value\n",
    "    The line will be drawn on the basis of the linear equation"
   ]
  },
  {
   "cell_type": "code",
   "execution_count": null,
   "metadata": {},
   "outputs": [],
   "source": []
  }
 ],
 "metadata": {
  "kernelspec": {
   "display_name": "Python 3",
   "language": "python",
   "name": "python3"
  },
  "language_info": {
   "codemirror_mode": {
    "name": "ipython",
    "version": 3
   },
   "file_extension": ".py",
   "mimetype": "text/x-python",
   "name": "python",
   "nbconvert_exporter": "python",
   "pygments_lexer": "ipython3",
   "version": "3.8.5"
  }
 },
 "nbformat": 4,
 "nbformat_minor": 4
}
