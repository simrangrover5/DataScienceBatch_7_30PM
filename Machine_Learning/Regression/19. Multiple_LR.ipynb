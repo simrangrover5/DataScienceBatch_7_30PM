{
 "cells": [
  {
   "cell_type": "code",
   "execution_count": 2,
   "metadata": {},
   "outputs": [],
   "source": [
    "import numpy as np\n",
    "import matplotlib.pyplot as plt\n",
    "import seaborn as sns\n",
    "import pandas as pd"
   ]
  },
  {
   "cell_type": "markdown",
   "metadata": {},
   "source": [
    "#### Without Vector form of equation is \n",
    "\n",
    "$$ y = \\theta_0 + \\theta_1 x $$\n",
    "\n",
    "#### With Vector form of equation is \n",
    "\n",
    "$$ y = \\theta.X $$"
   ]
  },
  {
   "cell_type": "markdown",
   "metadata": {},
   "source": [
    "    Features --> Height    Weight     BMI     Disease\n",
    "                   x_1      x_2        x_3      x_4\n",
    "    \n",
    "    Target --> Steps\n",
    "                y\n",
    "                \n",
    "                \n",
    "$$ y = \\beta_0 + \\beta_1 Height + \\beta_2 Weight + \\beta_3 BMI + \\beta_4 Disease $$\n",
    "\n",
    "$$ \\beta_1 = \\frac{\\sum\\limits_{i=0}^N (Height - \\bar {Height})(y_i - \\bar y)} {\\sum\\limits_{i=0}^N (Height - \\bar {Height})^2} $$\n",
    "\n",
    "$$ \\beta_2 = \\frac{\\sum\\limits_{i=0}^N (Weight - \\bar {Weight})(y_i - \\bar y)} {\\sum\\limits_{i=0}^N (Weight - \\bar {Weight})^2} $$\n",
    "\n",
    "$$ \\beta_3 = \\frac{\\sum\\limits_{i=0}^N (BMI - \\bar {BMI})(y_i - \\bar y)} {\\sum\\limits_{i=0}^N (BMI - \\bar {BMI})^2} $$\n",
    "\n",
    "$$ \\beta_0 = \\bar y - (\\beta_1 \\bar x_1 + \\beta_2 \\bar x_2 + \\beta_3 \\bar x_3 + \\beta_4 \\bar x_4) $$\n",
    "\n",
    "where $x_1$ = Height \n",
    "$x_2$ = Weight  \n",
    "$x_3$ = BMI \n",
    "$x_4$ = Disease"
   ]
  },
  {
   "cell_type": "markdown",
   "metadata": {},
   "source": [
    "#### With Vector form of equation is \n",
    "\n",
    "$$ y = \\theta.X $$\n",
    "\n",
    "where $\\theta$ is matrix form of all your coeff and intercept\n",
    "and X is the matrix of your features\n",
    "\n",
    "\n",
    "    X = [ x1   x2    x3   x4]\n",
    "    X =   1     4    45    56\n",
    "          2    14    50    40\n",
    "          3    15    23    23\n",
    "          4    30    34    10\n",
    "          5    20    56    12\n",
    "          \n",
    "$\\theta$ = [$\\theta_0$ $\\theta_1$  $\\theta_2$   $\\theta_3$   $\\theta_4$]\n",
    "          \n",
    "          \n",
    "$$ y = \\theta_0 + \\theta_1 x_1 + \\theta_2 x_2 + \\theta_3 x_3 $$\n",
    "$$ y = \\theta_0 x_0+ \\theta_1 x_1 + \\theta_2 x_2 + \\theta_3 x_3 $$\n",
    "\n",
    "$ x_0 = 1 $\n",
    "\n",
    "\n",
    "    After adding x_0 \n",
    "    \n",
    "     X = [x0  x1   x2    x3   x4]\n",
    "    X =   1    1     4    45    56\n",
    "          1    2    14    50    40\n",
    "          1    3    15    23    23\n",
    "          1    4    30    34    10\n",
    "          1    5    20    56    12\n",
    "          \n",
    "     X --> nxm --> 5*5\n",
    "     theta --> nxm --> 1*5\n",
    "     \n",
    "    Condition of matrix multiplication\n",
    "            M1 --> n1xm1\n",
    "            M2 --> n2xm2\n",
    "                m1 == n2\n",
    "                \n",
    "$$ y = \\theta^T X $$ \n",
    "            Or\n",
    "$$ y = \\theta X^T $$\n",
    "\n",
    "$$ H_\\theta(X) =  \\theta X^T $$"
   ]
  },
  {
   "cell_type": "markdown",
   "metadata": {},
   "source": [
    "### Normal Equation\n",
    "\n",
    "$$ \\theta = (X.X^T)^{-1}.X^T.Y $$"
   ]
  },
  {
   "cell_type": "code",
   "execution_count": 37,
   "metadata": {},
   "outputs": [
    {
     "data": {
      "text/plain": [
       "[<matplotlib.lines.Line2D at 0x227bd7c88b0>]"
      ]
     },
     "execution_count": 37,
     "metadata": {},
     "output_type": "execute_result"
    },
    {
     "data": {
      "image/png": "[encoded data removed]",
      "text/plain": [
       "<Figure size 432x288 with 1 Axes>"
      ]
     },
     "metadata": {
      "needs_background": "light"
     },
     "output_type": "display_data"
    }
   ],
   "source": [
    "x_1 = np.random.randn(100)\n",
    "y = 3*x_1 + np.random.randn(100)\n",
    "plt.plot(x_1, y, 'o')"
   ]
  },
  {
   "cell_type": "code",
   "execution_count": 5,
   "metadata": {},
   "outputs": [
    {
     "data": {
      "text/plain": [
       "array([ 2.05778205e+00, -1.51092084e-01,  4.65760390e-01,  1.01426125e+00,\n",
       "       -8.07873498e-01,  1.82748717e+00, -7.03204856e-01, -8.13499398e-01,\n",
       "       -7.96159278e-01,  1.05342451e+00,  7.94078514e-01, -2.21534331e+00,\n",
       "       -1.26752429e+00,  1.10250750e+00, -1.22570775e-01,  3.22083383e-03,\n",
       "        4.54687370e-02, -1.20290248e+00,  3.67260487e-01,  1.60609791e-01,\n",
       "        7.32933729e-01,  6.09334392e-01,  1.53887498e+00,  5.70376234e-01,\n",
       "       -6.62771725e-01, -3.64631148e-01,  5.86281893e-01, -5.32378323e-01,\n",
       "        1.45193653e+00, -1.53428904e+00, -1.39632292e+00, -3.01510483e-01,\n",
       "        1.77306902e+00,  3.27169319e-02,  3.93784383e-01,  4.03788440e-01,\n",
       "       -1.23393098e-01,  9.18476297e-01, -6.35708118e-01, -6.14509799e-01,\n",
       "       -9.28094745e-01,  1.90884134e+00,  1.53647111e+00, -5.88901664e-01,\n",
       "       -3.59568493e-01,  2.38015924e-05,  2.47546932e+00,  5.01338283e-01,\n",
       "       -1.95116466e-01,  3.76531700e-01,  1.64745158e+00, -4.04530427e-01,\n",
       "        5.66820811e-01,  2.07040519e-01,  6.01029151e-01,  7.45768827e-01,\n",
       "       -2.11379495e-01,  1.29523533e+00, -2.13660206e+00,  5.13040495e-01,\n",
       "        8.15653185e-01, -9.16153211e-01,  1.60090770e+00,  1.10510424e+00,\n",
       "       -1.17950901e+00, -1.61190672e+00,  1.83175133e+00, -1.73955110e+00,\n",
       "        2.67773782e+00,  1.51056348e+00, -8.96200406e-02,  1.01142225e+00,\n",
       "        9.41084568e-02,  8.19632010e-01,  5.98845048e-01, -6.24430347e-01,\n",
       "        4.13366802e-01, -6.33504517e-01,  5.25660582e-01, -9.90869125e-01,\n",
       "        1.75083999e+00, -5.91350670e-01, -1.07759857e+00, -7.14943457e-01,\n",
       "       -3.48286285e-01, -1.04896946e+00,  8.65639299e-01,  1.47855735e+00,\n",
       "        2.09918890e+00, -1.04272314e+00,  3.70963364e-01,  1.59447460e+00,\n",
       "        2.51475224e-01,  1.40793030e+00,  8.69387556e-01,  3.73715993e-01,\n",
       "        5.30155717e-01, -8.22322510e-01, -4.84083544e-01, -1.20726549e-01])"
      ]
     },
     "execution_count": 5,
     "metadata": {},
     "output_type": "execute_result"
    }
   ],
   "source": [
    "x_1"
   ]
  },
  {
   "cell_type": "code",
   "execution_count": 6,
   "metadata": {},
   "outputs": [
    {
     "data": {
      "text/plain": [
       "array([1., 1., 1., 1., 1., 1., 1., 1., 1., 1., 1., 1., 1., 1., 1., 1., 1.,\n",
       "       1., 1., 1., 1., 1., 1., 1., 1., 1., 1., 1., 1., 1., 1., 1., 1., 1.,\n",
       "       1., 1., 1., 1., 1., 1., 1., 1., 1., 1., 1., 1., 1., 1., 1., 1., 1.,\n",
       "       1., 1., 1., 1., 1., 1., 1., 1., 1., 1., 1., 1., 1., 1., 1., 1., 1.,\n",
       "       1., 1., 1., 1., 1., 1., 1., 1., 1., 1., 1., 1., 1., 1., 1., 1., 1.,\n",
       "       1., 1., 1., 1., 1., 1., 1., 1., 1., 1., 1., 1., 1., 1., 1.])"
      ]
     },
     "execution_count": 6,
     "metadata": {},
     "output_type": "execute_result"
    }
   ],
   "source": [
    "np.ones(len(x_1))"
   ]
  },
  {
   "cell_type": "code",
   "execution_count": 38,
   "metadata": {},
   "outputs": [],
   "source": [
    "X = np.hstack([np.ones(len(x_1)).reshape(-1, 1), x_1.reshape(-1, 1)])"
   ]
  },
  {
   "cell_type": "code",
   "execution_count": 16,
   "metadata": {},
   "outputs": [
    {
     "data": {
      "text/plain": [
       "array([[ 1.00000000e+00,  2.05778205e+00],\n",
       "       [ 1.00000000e+00, -1.51092084e-01],\n",
       "       [ 1.00000000e+00,  4.65760390e-01],\n",
       "       [ 1.00000000e+00,  1.01426125e+00],\n",
       "       [ 1.00000000e+00, -8.07873498e-01],\n",
       "       [ 1.00000000e+00,  1.82748717e+00],\n",
       "       [ 1.00000000e+00, -7.03204856e-01],\n",
       "       [ 1.00000000e+00, -8.13499398e-01],\n",
       "       [ 1.00000000e+00, -7.96159278e-01],\n",
       "       [ 1.00000000e+00,  1.05342451e+00],\n",
       "       [ 1.00000000e+00,  7.94078514e-01],\n",
       "       [ 1.00000000e+00, -2.21534331e+00],\n",
       "       [ 1.00000000e+00, -1.26752429e+00],\n",
       "       [ 1.00000000e+00,  1.10250750e+00],\n",
       "       [ 1.00000000e+00, -1.22570775e-01],\n",
       "       [ 1.00000000e+00,  3.22083383e-03],\n",
       "       [ 1.00000000e+00,  4.54687370e-02],\n",
       "       [ 1.00000000e+00, -1.20290248e+00],\n",
       "       [ 1.00000000e+00,  3.67260487e-01],\n",
       "       [ 1.00000000e+00,  1.60609791e-01],\n",
       "       [ 1.00000000e+00,  7.32933729e-01],\n",
       "       [ 1.00000000e+00,  6.09334392e-01],\n",
       "       [ 1.00000000e+00,  1.53887498e+00],\n",
       "       [ 1.00000000e+00,  5.70376234e-01],\n",
       "       [ 1.00000000e+00, -6.62771725e-01],\n",
       "       [ 1.00000000e+00, -3.64631148e-01],\n",
       "       [ 1.00000000e+00,  5.86281893e-01],\n",
       "       [ 1.00000000e+00, -5.32378323e-01],\n",
       "       [ 1.00000000e+00,  1.45193653e+00],\n",
       "       [ 1.00000000e+00, -1.53428904e+00],\n",
       "       [ 1.00000000e+00, -1.39632292e+00],\n",
       "       [ 1.00000000e+00, -3.01510483e-01],\n",
       "       [ 1.00000000e+00,  1.77306902e+00],\n",
       "       [ 1.00000000e+00,  3.27169319e-02],\n",
       "       [ 1.00000000e+00,  3.93784383e-01],\n",
       "       [ 1.00000000e+00,  4.03788440e-01],\n",
       "       [ 1.00000000e+00, -1.23393098e-01],\n",
       "       [ 1.00000000e+00,  9.18476297e-01],\n",
       "       [ 1.00000000e+00, -6.35708118e-01],\n",
       "       [ 1.00000000e+00, -6.14509799e-01],\n",
       "       [ 1.00000000e+00, -9.28094745e-01],\n",
       "       [ 1.00000000e+00,  1.90884134e+00],\n",
       "       [ 1.00000000e+00,  1.53647111e+00],\n",
       "       [ 1.00000000e+00, -5.88901664e-01],\n",
       "       [ 1.00000000e+00, -3.59568493e-01],\n",
       "       [ 1.00000000e+00,  2.38015924e-05],\n",
       "       [ 1.00000000e+00,  2.47546932e+00],\n",
       "       [ 1.00000000e+00,  5.01338283e-01],\n",
       "       [ 1.00000000e+00, -1.95116466e-01],\n",
       "       [ 1.00000000e+00,  3.76531700e-01],\n",
       "       [ 1.00000000e+00,  1.64745158e+00],\n",
       "       [ 1.00000000e+00, -4.04530427e-01],\n",
       "       [ 1.00000000e+00,  5.66820811e-01],\n",
       "       [ 1.00000000e+00,  2.07040519e-01],\n",
       "       [ 1.00000000e+00,  6.01029151e-01],\n",
       "       [ 1.00000000e+00,  7.45768827e-01],\n",
       "       [ 1.00000000e+00, -2.11379495e-01],\n",
       "       [ 1.00000000e+00,  1.29523533e+00],\n",
       "       [ 1.00000000e+00, -2.13660206e+00],\n",
       "       [ 1.00000000e+00,  5.13040495e-01],\n",
       "       [ 1.00000000e+00,  8.15653185e-01],\n",
       "       [ 1.00000000e+00, -9.16153211e-01],\n",
       "       [ 1.00000000e+00,  1.60090770e+00],\n",
       "       [ 1.00000000e+00,  1.10510424e+00],\n",
       "       [ 1.00000000e+00, -1.17950901e+00],\n",
       "       [ 1.00000000e+00, -1.61190672e+00],\n",
       "       [ 1.00000000e+00,  1.83175133e+00],\n",
       "       [ 1.00000000e+00, -1.73955110e+00],\n",
       "       [ 1.00000000e+00,  2.67773782e+00],\n",
       "       [ 1.00000000e+00,  1.51056348e+00],\n",
       "       [ 1.00000000e+00, -8.96200406e-02],\n",
       "       [ 1.00000000e+00,  1.01142225e+00],\n",
       "       [ 1.00000000e+00,  9.41084568e-02],\n",
       "       [ 1.00000000e+00,  8.19632010e-01],\n",
       "       [ 1.00000000e+00,  5.98845048e-01],\n",
       "       [ 1.00000000e+00, -6.24430347e-01],\n",
       "       [ 1.00000000e+00,  4.13366802e-01],\n",
       "       [ 1.00000000e+00, -6.33504517e-01],\n",
       "       [ 1.00000000e+00,  5.25660582e-01],\n",
       "       [ 1.00000000e+00, -9.90869125e-01],\n",
       "       [ 1.00000000e+00,  1.75083999e+00],\n",
       "       [ 1.00000000e+00, -5.91350670e-01],\n",
       "       [ 1.00000000e+00, -1.07759857e+00],\n",
       "       [ 1.00000000e+00, -7.14943457e-01],\n",
       "       [ 1.00000000e+00, -3.48286285e-01],\n",
       "       [ 1.00000000e+00, -1.04896946e+00],\n",
       "       [ 1.00000000e+00,  8.65639299e-01],\n",
       "       [ 1.00000000e+00,  1.47855735e+00],\n",
       "       [ 1.00000000e+00,  2.09918890e+00],\n",
       "       [ 1.00000000e+00, -1.04272314e+00],\n",
       "       [ 1.00000000e+00,  3.70963364e-01],\n",
       "       [ 1.00000000e+00,  1.59447460e+00],\n",
       "       [ 1.00000000e+00,  2.51475224e-01],\n",
       "       [ 1.00000000e+00,  1.40793030e+00],\n",
       "       [ 1.00000000e+00,  8.69387556e-01],\n",
       "       [ 1.00000000e+00,  3.73715993e-01],\n",
       "       [ 1.00000000e+00,  5.30155717e-01],\n",
       "       [ 1.00000000e+00, -8.22322510e-01],\n",
       "       [ 1.00000000e+00, -4.84083544e-01],\n",
       "       [ 1.00000000e+00, -1.20726549e-01]])"
      ]
     },
     "execution_count": 16,
     "metadata": {},
     "output_type": "execute_result"
    }
   ],
   "source": [
    "np.c_[np.ones(len(x_1)), x_1]"
   ]
  },
  {
   "cell_type": "code",
   "execution_count": 25,
   "metadata": {},
   "outputs": [
    {
     "data": {
      "text/plain": [
       "array([ 5.83582493, -1.24918544,  1.4997438 ,  1.54834146, -2.45616297,\n",
       "        3.40977802, -2.06444689, -3.14422626, -2.81044522,  3.78959011,\n",
       "        2.06801829, -6.09203549, -4.01994909,  1.85792969, -1.3005839 ,\n",
       "        0.90004735, -1.22270412, -3.04873544,  1.00120182,  1.46874202,\n",
       "        3.99314354,  2.82004653,  4.41527198,  3.90283127, -1.56368176,\n",
       "       -0.60218852,  2.64866798, -0.14736311,  5.92713995, -4.05397917,\n",
       "       -4.0281442 ,  0.15958555,  3.89913263,  0.52268692,  0.52929047,\n",
       "        1.31866816,  1.06669463,  3.81852369, -0.92474088, -1.91552296,\n",
       "       -3.86545841,  6.26558537,  2.63535668, -1.37784191, -0.08194988,\n",
       "       -0.11400572,  7.79906621,  1.56915347, -0.1044558 , -1.28210732,\n",
       "        4.99566235, -1.79937479,  1.58529432, -0.4270806 ,  1.62635123,\n",
       "        1.81766365, -1.21747126,  3.04843496, -9.10299407, -1.03452347,\n",
       "        2.52663247, -2.77142431,  3.62682932,  5.00388744, -4.07789195,\n",
       "       -4.36025021,  5.31919438, -3.9343556 ,  7.32067044,  4.47632587,\n",
       "        0.86270933,  4.0699994 ,  0.99873762,  1.99197482,  1.83683649,\n",
       "        0.35275716,  1.10329702, -1.66114916,  0.92517049, -2.76916685,\n",
       "        4.15319636, -0.41686117, -3.09682094, -1.9632895 , -0.03234583,\n",
       "       -3.32722472,  2.75733914,  5.72211567,  6.50946859, -3.06187102,\n",
       "       -0.03464235,  5.41539076,  2.52643039,  3.57793042,  0.89681676,\n",
       "        1.39655849,  1.37156819, -2.09526904, -1.67755276, -1.37179556])"
      ]
     },
     "execution_count": 25,
     "metadata": {},
     "output_type": "execute_result"
    }
   ],
   "source": [
    "y"
   ]
  },
  {
   "cell_type": "code",
   "execution_count": 24,
   "metadata": {},
   "outputs": [
    {
     "data": {
      "text/plain": [
       "array([ 66.78203637, 329.24138195])"
      ]
     },
     "execution_count": 24,
     "metadata": {},
     "output_type": "execute_result"
    }
   ],
   "source": [
    "(X.T).dot(y)"
   ]
  },
  {
   "cell_type": "code",
   "execution_count": 39,
   "metadata": {},
   "outputs": [],
   "source": [
    "theta = np.linalg.inv(X.T.dot(X)).dot((X.T).dot(y))"
   ]
  },
  {
   "cell_type": "code",
   "execution_count": 40,
   "metadata": {},
   "outputs": [],
   "source": [
    "pred = theta.dot(X.T)"
   ]
  },
  {
   "cell_type": "code",
   "execution_count": 41,
   "metadata": {},
   "outputs": [
    {
     "data": {
      "text/plain": [
       "array([ 0.00893355, -1.44892003, -6.18015765,  0.52906263, -6.31624264,\n",
       "        4.69466545,  3.34908524, -1.10886132,  0.72319654,  2.29587353,\n",
       "        0.02145579,  5.86400705, -0.54259928, -4.97068267, -2.00776916,\n",
       "        1.22352478, -4.53767848, -5.0613912 , -0.15638766, -6.36814741,\n",
       "       -0.43372012, -2.83688357,  2.46976072,  2.04388457, -4.93888905,\n",
       "        3.05570907,  4.88603391, -2.83135956, -0.68982654, -7.53856513,\n",
       "        5.16474951, -2.08696267,  2.75268382,  4.35062277, -0.95767247,\n",
       "        0.65440556, -1.43963861, -4.4709781 ,  2.36041172,  1.93862101,\n",
       "       -4.28645419,  4.01015335,  1.97933771,  1.33123098,  0.13859905,\n",
       "       -2.31792835,  2.23779394,  4.04651574, -1.42245046,  0.37008709,\n",
       "       -7.517203  ,  2.56199451,  2.17612149, -0.90003271,  3.02717004,\n",
       "       -8.59157737,  0.6454691 , -2.54957373, -1.16584255,  3.72299284,\n",
       "       -1.09768121,  2.77314708,  5.58286573,  2.92454256,  2.72702784,\n",
       "       -1.35426359,  1.27419539, -1.46276782, -3.47703754,  0.8761137 ,\n",
       "        2.28119254, -3.03683539,  1.14966959, -1.32020404, -5.26455474,\n",
       "       -1.72803173,  1.68710338, -2.53229138,  3.21488057, -3.12078456,\n",
       "       -2.31052977,  3.29246126,  1.14500157,  3.02419719, -1.51252506,\n",
       "        0.36766554, -1.21343817, -3.90821742, -1.15631098,  2.55892152,\n",
       "       -1.08047756, -2.74648876,  6.52732124,  0.9619204 ,  0.21849238,\n",
       "        1.45981283, -1.15379143,  2.42074013,  1.70150199, -0.65705011])"
      ]
     },
     "execution_count": 41,
     "metadata": {},
     "output_type": "execute_result"
    }
   ],
   "source": [
    "pred"
   ]
  },
  {
   "cell_type": "code",
   "execution_count": 42,
   "metadata": {},
   "outputs": [
    {
     "data": {
      "image/png": "[encoded data removed]",
      "text/plain": [
       "<Figure size 432x288 with 1 Axes>"
      ]
     },
     "metadata": {
      "needs_background": "light"
     },
     "output_type": "display_data"
    }
   ],
   "source": [
    "plt.plot(x_1, y, 'o')\n",
    "plt.plot(x_1, pred, '--')\n",
    "plt.show()"
   ]
  },
  {
   "cell_type": "code",
   "execution_count": 43,
   "metadata": {},
   "outputs": [],
   "source": [
    "from sklearn.datasets import load_boston"
   ]
  },
  {
   "cell_type": "code",
   "execution_count": 44,
   "metadata": {},
   "outputs": [
    {
     "data": {
      "text/plain": [
       "{'data': array([[6.3200e-03, 1.8000e+01, 2.3100e+00, ..., 1.5300e+01, 3.9690e+02,\n",
       "         4.9800e+00],\n",
       "        [2.7310e-02, 0.0000e+00, 7.0700e+00, ..., 1.7800e+01, 3.9690e+02,\n",
       "         9.1400e+00],\n",
       "        [2.7290e-02, 0.0000e+00, 7.0700e+00, ..., 1.7800e+01, 3.9283e+02,\n",
       "         4.0300e+00],\n",
       "        ...,\n",
       "        [6.0760e-02, 0.0000e+00, 1.1930e+01, ..., 2.1000e+01, 3.9690e+02,\n",
       "         5.6400e+00],\n",
       "        [1.0959e-01, 0.0000e+00, 1.1930e+01, ..., 2.1000e+01, 3.9345e+02,\n",
       "         6.4800e+00],\n",
       "        [4.7410e-02, 0.0000e+00, 1.1930e+01, ..., 2.1000e+01, 3.9690e+02,\n",
       "         7.8800e+00]]),\n",
       " 'target': array([24. , 21.6, 34.7, 33.4, 36.2, 28.7, 22.9, 27.1, 16.5, 18.9, 15. ,\n",
       "        18.9, 21.7, 20.4, 18.2, 19.9, 23.1, 17.5, 20.2, 18.2, 13.6, 19.6,\n",
       "        15.2, 14.5, 15.6, 13.9, 16.6, 14.8, 18.4, 21. , 12.7, 14.5, 13.2,\n",
       "        13.1, 13.5, 18.9, 20. , 21. , 24.7, 30.8, 34.9, 26.6, 25.3, 24.7,\n",
       "        21.2, 19.3, 20. , 16.6, 14.4, 19.4, 19.7, 20.5, 25. , 23.4, 18.9,\n",
       "        35.4, 24.7, 31.6, 23.3, 19.6, 18.7, 16. , 22.2, 25. , 33. , 23.5,\n",
       "        19.4, 22. , 17.4, 20.9, 24.2, 21.7, 22.8, 23.4, 24.1, 21.4, 20. ,\n",
       "        20.8, 21.2, 20.3, 28. , 23.9, 24.8, 22.9, 23.9, 26.6, 22.5, 22.2,\n",
       "        23.6, 28.7, 22.6, 22. , 22.9, 25. , 20.6, 28.4, 21.4, 38.7, 43.8,\n",
       "        33.2, 27.5, 26.5, 18.6, 19.3, 20.1, 19.5, 19.5, 20.4, 19.8, 19.4,\n",
       "        21.7, 22.8, 18.8, 18.7, 18.5, 18.3, 21.2, 19.2, 20.4, 19.3, 22. ,\n",
       "        20.3, 20.5, 17.3, 18.8, 21.4, 15.7, 16.2, 18. , 14.3, 19.2, 19.6,\n",
       "        23. , 18.4, 15.6, 18.1, 17.4, 17.1, 13.3, 17.8, 14. , 14.4, 13.4,\n",
       "        15.6, 11.8, 13.8, 15.6, 14.6, 17.8, 15.4, 21.5, 19.6, 15.3, 19.4,\n",
       "        17. , 15.6, 13.1, 41.3, 24.3, 23.3, 27. , 50. , 50. , 50. , 22.7,\n",
       "        25. , 50. , 23.8, 23.8, 22.3, 17.4, 19.1, 23.1, 23.6, 22.6, 29.4,\n",
       "        23.2, 24.6, 29.9, 37.2, 39.8, 36.2, 37.9, 32.5, 26.4, 29.6, 50. ,\n",
       "        32. , 29.8, 34.9, 37. , 30.5, 36.4, 31.1, 29.1, 50. , 33.3, 30.3,\n",
       "        34.6, 34.9, 32.9, 24.1, 42.3, 48.5, 50. , 22.6, 24.4, 22.5, 24.4,\n",
       "        20. , 21.7, 19.3, 22.4, 28.1, 23.7, 25. , 23.3, 28.7, 21.5, 23. ,\n",
       "        26.7, 21.7, 27.5, 30.1, 44.8, 50. , 37.6, 31.6, 46.7, 31.5, 24.3,\n",
       "        31.7, 41.7, 48.3, 29. , 24. , 25.1, 31.5, 23.7, 23.3, 22. , 20.1,\n",
       "        22.2, 23.7, 17.6, 18.5, 24.3, 20.5, 24.5, 26.2, 24.4, 24.8, 29.6,\n",
       "        42.8, 21.9, 20.9, 44. , 50. , 36. , 30.1, 33.8, 43.1, 48.8, 31. ,\n",
       "        36.5, 22.8, 30.7, 50. , 43.5, 20.7, 21.1, 25.2, 24.4, 35.2, 32.4,\n",
       "        32. , 33.2, 33.1, 29.1, 35.1, 45.4, 35.4, 46. , 50. , 32.2, 22. ,\n",
       "        20.1, 23.2, 22.3, 24.8, 28.5, 37.3, 27.9, 23.9, 21.7, 28.6, 27.1,\n",
       "        20.3, 22.5, 29. , 24.8, 22. , 26.4, 33.1, 36.1, 28.4, 33.4, 28.2,\n",
       "        22.8, 20.3, 16.1, 22.1, 19.4, 21.6, 23.8, 16.2, 17.8, 19.8, 23.1,\n",
       "        21. , 23.8, 23.1, 20.4, 18.5, 25. , 24.6, 23. , 22.2, 19.3, 22.6,\n",
       "        19.8, 17.1, 19.4, 22.2, 20.7, 21.1, 19.5, 18.5, 20.6, 19. , 18.7,\n",
       "        32.7, 16.5, 23.9, 31.2, 17.5, 17.2, 23.1, 24.5, 26.6, 22.9, 24.1,\n",
       "        18.6, 30.1, 18.2, 20.6, 17.8, 21.7, 22.7, 22.6, 25. , 19.9, 20.8,\n",
       "        16.8, 21.9, 27.5, 21.9, 23.1, 50. , 50. , 50. , 50. , 50. , 13.8,\n",
       "        13.8, 15. , 13.9, 13.3, 13.1, 10.2, 10.4, 10.9, 11.3, 12.3,  8.8,\n",
       "         7.2, 10.5,  7.4, 10.2, 11.5, 15.1, 23.2,  9.7, 13.8, 12.7, 13.1,\n",
       "        12.5,  8.5,  5. ,  6.3,  5.6,  7.2, 12.1,  8.3,  8.5,  5. , 11.9,\n",
       "        27.9, 17.2, 27.5, 15. , 17.2, 17.9, 16.3,  7. ,  7.2,  7.5, 10.4,\n",
       "         8.8,  8.4, 16.7, 14.2, 20.8, 13.4, 11.7,  8.3, 10.2, 10.9, 11. ,\n",
       "         9.5, 14.5, 14.1, 16.1, 14.3, 11.7, 13.4,  9.6,  8.7,  8.4, 12.8,\n",
       "        10.5, 17.1, 18.4, 15.4, 10.8, 11.8, 14.9, 12.6, 14.1, 13. , 13.4,\n",
       "        15.2, 16.1, 17.8, 14.9, 14.1, 12.7, 13.5, 14.9, 20. , 16.4, 17.7,\n",
       "        19.5, 20.2, 21.4, 19.9, 19. , 19.1, 19.1, 20.1, 19.9, 19.6, 23.2,\n",
       "        29.8, 13.8, 13.3, 16.7, 12. , 14.6, 21.4, 23. , 23.7, 25. , 21.8,\n",
       "        20.6, 21.2, 19.1, 20.6, 15.2,  7. ,  8.1, 13.6, 20.1, 21.8, 24.5,\n",
       "        23.1, 19.7, 18.3, 21.2, 17.5, 16.8, 22.4, 20.6, 23.9, 22. , 11.9]),\n",
       " 'feature_names': array(['CRIM', 'ZN', 'INDUS', 'CHAS', 'NOX', 'RM', 'AGE', 'DIS', 'RAD',\n",
       "        'TAX', 'PTRATIO', 'B', 'LSTAT'], dtype='<U7'),\n",
       " 'DESCR': \".. _boston_dataset:\\n\\nBoston house prices dataset\\n---------------------------\\n\\n**Data Set Characteristics:**  \\n\\n    :Number of Instances: 506 \\n\\n    :Number of Attributes: 13 numeric/categorical predictive. Median Value (attribute 14) is usually the target.\\n\\n    :Attribute Information (in order):\\n        - CRIM     per capita crime rate by town\\n        - ZN       proportion of residential land zoned for lots over 25,000 sq.ft.\\n        - INDUS    proportion of non-retail business acres per town\\n        - CHAS     Charles River dummy variable (= 1 if tract bounds river; 0 otherwise)\\n        - NOX      nitric oxides concentration (parts per 10 million)\\n        - RM       average number of rooms per dwelling\\n        - AGE      proportion of owner-occupied units built prior to 1940\\n        - DIS      weighted distances to five Boston employment centres\\n        - RAD      index of accessibility to radial highways\\n        - TAX      full-value property-tax rate per $10,000\\n        - PTRATIO  pupil-teacher ratio by town\\n        - B        1000(Bk - 0.63)^2 where Bk is the proportion of blacks by town\\n        - LSTAT    % lower status of the population\\n        - MEDV     Median value of owner-occupied homes in $1000's\\n\\n    :Missing Attribute Values: None\\n\\n    :Creator: Harrison, D. and Rubinfeld, D.L.\\n\\nThis is a copy of UCI ML housing dataset.\\nhttps://archive.ics.uci.edu/ml/machine-learning-databases/housing/\\n\\n\\nThis dataset was taken from the StatLib library which is maintained at Carnegie Mellon University.\\n\\nThe Boston house-price data of Harrison, D. and Rubinfeld, D.L. 'Hedonic\\nprices and the demand for clean air', J. Environ. Economics & Management,\\nvol.5, 81-102, 1978.   Used in Belsley, Kuh & Welsch, 'Regression diagnostics\\n...', Wiley, 1980.   N.B. Various transformations are used in the table on\\npages 244-261 of the latter.\\n\\nThe Boston house-price data has been used in many machine learning papers that address regression\\nproblems.   \\n     \\n.. topic:: References\\n\\n   - Belsley, Kuh & Welsch, 'Regression diagnostics: Identifying Influential Data and Sources of Collinearity', Wiley, 1980. 244-261.\\n   - Quinlan,R. (1993). Combining Instance-Based and Model-Based Learning. In Proceedings on the Tenth International Conference of Machine Learning, 236-243, University of Massachusetts, Amherst. Morgan Kaufmann.\\n\",\n",
       " 'filename': 'C:\\\\Anaconda\\\\lib\\\\site-packages\\\\sklearn\\\\datasets\\\\data\\\\boston_house_prices.csv'}"
      ]
     },
     "execution_count": 44,
     "metadata": {},
     "output_type": "execute_result"
    }
   ],
   "source": [
    "load_boston()"
   ]
  },
  {
   "cell_type": "code",
   "execution_count": null,
   "metadata": {},
   "outputs": [],
   "source": []
  }
 ],
 "metadata": {
  "kernelspec": {
   "display_name": "Python 3",
   "language": "python",
   "name": "python3"
  },
  "language_info": {
   "codemirror_mode": {
    "name": "ipython",
    "version": 3
   },
   "file_extension": ".py",
   "mimetype": "text/x-python",
   "name": "python",
   "nbconvert_exporter": "python",
   "pygments_lexer": "ipython3",
   "version": "3.8.5"
  }
 },
 "nbformat": 4,
 "nbformat_minor": 4
}
