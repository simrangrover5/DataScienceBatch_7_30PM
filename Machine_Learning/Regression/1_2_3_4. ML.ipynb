{
 "cells": [
  {
   "cell_type": "markdown",
   "metadata": {},
   "source": [
    "    Machine Learning \n",
    "    \n",
    "        Machine --> An apparatus which makes our work easy.\n",
    "        \n",
    "        We will make our machine learn by using some algorithms such that \n",
    "        machine can predict or it can forcast or it can learn on its own\n",
    "        \n",
    "        It improves the performance P of a task T from its experience E "
   ]
  },
  {
   "cell_type": "markdown",
   "metadata": {},
   "source": [
    "### Applications of ML and AI\n",
    "\n",
    "\n",
    "    1. Alexa and siri etc\n",
    "    2. Object recog, face recog, face detection or object detection\n",
    "    3. Automatic completion\n",
    "    4. Self driving cars\n",
    "    5. Recommendation\n",
    "    6. Health sector\n",
    "    7. Uber etc\n",
    "    8. anomly detection\n",
    "    9. Pharmaceuticals\n",
    "    10. Forecasting\n",
    "    11. Stock Market\n",
    "    12. handwritten character recognition\n",
    "    13. music indusrty and entertainment industry\n",
    "    14. Fraud Detection\n",
    "    15. Gender and Age Prediction \n",
    "    16. Sentiment Analysis\n",
    "    17. Spam and Ham Detection\n",
    "    18. etc "
   ]
  },
  {
   "cell_type": "markdown",
   "metadata": {},
   "source": [
    "#### Read any research or blog on ML OR AI"
   ]
  },
  {
   "cell_type": "markdown",
   "metadata": {},
   "source": [
    "#### Traditional Programming \n",
    "\n",
    "\n",
    "\n",
    "            Input \n",
    "                              Machine            Output\n",
    "            \n",
    "            Program\n",
    "\n",
    "    \n",
    "#### Machine Learning \n",
    "\n",
    "            Input            \n",
    "            \n",
    "                            Machine            Program(model)\n",
    "            Algorithm\n",
    "            \n",
    "            Output"
   ]
  },
  {
   "cell_type": "code",
   "execution_count": 1,
   "metadata": {},
   "outputs": [
    {
     "name": "stdout",
     "output_type": "stream",
     "text": [
      "hello world\n",
      "welcome to my world\n",
      "this is my world of python\n"
     ]
    }
   ],
   "source": [
    "print(\"hello world\")\n",
    "print(\"welcome to my world\")\n",
    "print(\"this is my world of python\")"
   ]
  },
  {
   "cell_type": "markdown",
   "metadata": {},
   "source": [
    "$$ y = \\beta_0x + \\beta_1 $$\n",
    "\n",
    "    x --> input\n",
    "    y --> output\n",
    "$ \\beta_0 $ and $ \\beta_1 $ --> constants "
   ]
  },
  {
   "cell_type": "markdown",
   "metadata": {},
   "source": [
    "### Types of Machine Learning \n",
    "\n",
    "    1. Supervised\n",
    "    2. Unsupervised\n",
    "    3. Semi-Supervised\n",
    "    4. Reinforcement Learning \n",
    "    5. Deep Learning \n",
    "    6. Deep Reinforcement Learning \n",
    "    6. NLP"
   ]
  },
  {
   "cell_type": "markdown",
   "metadata": {},
   "source": [
    "#### Training and Testing \n",
    "\n",
    "        Height --> 5.2  weight --> 60\n",
    "                    6              70\n",
    "                   6.1             59\n",
    "                   6.2             70\n",
    "                   \n",
    "                   \n",
    "        Split our data into training and testing \n",
    "        Model --> Train (data)\n",
    "                Input     Output\n",
    "               \n",
    "                Height --> 5.2  weight --> 60\n",
    "                            6              70\n",
    "                \n",
    "                      Test\n",
    "               Input     Output\n",
    "               Height         Weight\n",
    "                6.1             59\n",
    "                6.2             70\n",
    "                \n",
    "                \n",
    "                \n",
    "              Input --> X  ---> train, test\n",
    "              Output --> Y --> train, test\n",
    "              \n",
    "              \n",
    "              Categorial Data\n",
    "                  Fraud Detection --> Yes No\n",
    "                  \n",
    "                  Training --> 100%--> yes \n",
    "                  Testing --> 100% --> no\n",
    "                  \n",
    "                  Biased problem \n",
    "                  \n",
    "                  "
   ]
  },
  {
   "cell_type": "code",
   "execution_count": 5,
   "metadata": {},
   "outputs": [],
   "source": [
    "import numpy as np\n",
    "import pandas as pd"
   ]
  },
  {
   "cell_type": "code",
   "execution_count": 6,
   "metadata": {},
   "outputs": [
    {
     "data": {
      "text/plain": [
       "Yes    59\n",
       "No     41\n",
       "dtype: int64"
      ]
     },
     "execution_count": 6,
     "metadata": {},
     "output_type": "execute_result"
    }
   ],
   "source": [
    "pd.Series(np.random.choice(['Yes', 'No'], 100)).value_counts()\n",
    "# Yes --> 59%\n",
    "# No --> 41%"
   ]
  },
  {
   "cell_type": "markdown",
   "metadata": {},
   "source": [
    "### Supervised Learning \n",
    "\n",
    "    Data --> Labeled\n",
    "            Input --> Output (Labeled)\n",
    "            \n",
    "            Input    Output\n",
    "            Marks    Result\n",
    "             34"
   ]
  },
  {
   "cell_type": "code",
   "execution_count": 9,
   "metadata": {},
   "outputs": [],
   "source": [
    "data = pd.read_excel(\"G:/Prestige_workshop/batch_1/Python_Mock_Test(1-280).xlsx\")"
   ]
  },
  {
   "cell_type": "code",
   "execution_count": 10,
   "metadata": {},
   "outputs": [
    {
     "data": {
      "text/html": [
       "<div>\n",
       "<style scoped>\n",
       "    .dataframe tbody tr th:only-of-type {\n",
       "        vertical-align: middle;\n",
       "    }\n",
       "\n",
       "    .dataframe tbody tr th {\n",
       "        vertical-align: top;\n",
       "    }\n",
       "\n",
       "    .dataframe thead th {\n",
       "        text-align: right;\n",
       "    }\n",
       "</style>\n",
       "<table border=\"1\" class=\"dataframe\">\n",
       "  <thead>\n",
       "    <tr style=\"text-align: right;\">\n",
       "      <th></th>\n",
       "      <th>ID</th>\n",
       "      <th>Start time</th>\n",
       "      <th>Completion time</th>\n",
       "      <th>Email</th>\n",
       "      <th>Name</th>\n",
       "      <th>Total points</th>\n",
       "      <th>Quiz feedback</th>\n",
       "      <th>Please fill your full name?</th>\n",
       "      <th>Points - Please fill your full name?</th>\n",
       "      <th>Feedback - Please fill your full name?</th>\n",
       "      <th>...</th>\n",
       "      <th>Feedback -  What should be replace in blank space to get output as 33?\\n\\nnames1 = ['Amir', 'Bear', 'Charlton', 'Daman']\\nnames2 = names1\\nnames3 = names1\\n\\nnames2[0] = 'Alice'\\nnames3[1] = 'Bob'\\n\\nsum = 0\\nfor ls i...</th>\n",
       "      <th>Which should we write to get the output as NEWYORK or to access NEWYORK?\\n\\ndata = {1: {\\n        \"id\" : 390669115,\\n        \"name\" : \"ProgramState\",\\n        \"dataTypeName\" : \"text\",\\n        \"descript...</th>\n",
       "      <th>Points - Which should we write to get the output as NEWYORK or to access NEWYORK?\\n\\ndata = {1: {\\n        \"id\" : 390669115,\\n        \"name\" : \"ProgramState\",\\n        \"dataTypeName\" : \"text\",\\n        \"descript...</th>\n",
       "      <th>Feedback - Which should we write to get the output as NEWYORK or to access NEWYORK?\\n\\ndata = {1: {\\n        \"id\" : 390669115,\\n        \"name\" : \"ProgramState\",\\n        \"dataTypeName\" : \"text\",\\n        \"descript...</th>\n",
       "      <th>What should be replaced in line 5 blank space to get the output as 1?\\n\\n1. myList = [1, 5, 5, 5, 5, 1]\\n2. max = myList[0]\\n3. indexOfMax = 0\\n4. for i in range(1, len(myList)):\\n5.     if myList[i] __...</th>\n",
       "      <th>Points - What should be replaced in line 5 blank space to get the output as 1?\\n\\n1. myList = [1, 5, 5, 5, 5, 1]\\n2. max = myList[0]\\n3. indexOfMax = 0\\n4. for i in range(1, len(myList)):\\n5.     if myList[i] __...</th>\n",
       "      <th>Feedback - What should be replaced in line 5 blank space to get the output as 1?\\n\\n1. myList = [1, 5, 5, 5, 5, 1]\\n2. max = myList[0]\\n3. indexOfMax = 0\\n4. for i in range(1, len(myList)):\\n5.     if myList[i] __...</th>\n",
       "      <th>What should be replaced in blank space to get the output as \\nOutput:\\n     0\\n     1\\n     2\\n\\ni = 0\\nwhile i &lt; 5:\\n    print(i)\\n    i += 1\\n    if i == 3:\\n        ________\\nelse:\\n    print(0)</th>\n",
       "      <th>Points - What should be replaced in blank space to get the output as \\nOutput:\\n     0\\n     1\\n     2\\n\\ni = 0\\nwhile i &lt; 5:\\n    print(i)\\n    i += 1\\n    if i == 3:\\n        ________\\nelse:\\n    print(0)</th>\n",
       "      <th>Feedback - What should be replaced in blank space to get the output as \\nOutput:\\n     0\\n     1\\n     2\\n\\ni = 0\\nwhile i &lt; 5:\\n    print(i)\\n    i += 1\\n    if i == 3:\\n        ________\\nelse:\\n    print(0)</th>\n",
       "    </tr>\n",
       "  </thead>\n",
       "  <tbody>\n",
       "    <tr>\n",
       "      <th>0</th>\n",
       "      <td>1</td>\n",
       "      <td>2021-07-02 21:51:56</td>\n",
       "      <td>2021-07-02 21:52:13</td>\n",
       "      <td>anonymous</td>\n",
       "      <td>NaN</td>\n",
       "      <td>1</td>\n",
       "      <td>NaN</td>\n",
       "      <td>NaN</td>\n",
       "      <td>NaN</td>\n",
       "      <td>NaN</td>\n",
       "      <td>...</td>\n",
       "      <td>NaN</td>\n",
       "      <td>NaN</td>\n",
       "      <td>0</td>\n",
       "      <td>NaN</td>\n",
       "      <td>NaN</td>\n",
       "      <td>0</td>\n",
       "      <td>NaN</td>\n",
       "      <td>NaN</td>\n",
       "      <td>0</td>\n",
       "      <td>NaN</td>\n",
       "    </tr>\n",
       "    <tr>\n",
       "      <th>1</th>\n",
       "      <td>2</td>\n",
       "      <td>2021-07-03 14:13:47</td>\n",
       "      <td>2021-07-03 14:18:16</td>\n",
       "      <td>anonymous</td>\n",
       "      <td>NaN</td>\n",
       "      <td>9</td>\n",
       "      <td>NaN</td>\n",
       "      <td>Vishal thakur</td>\n",
       "      <td>NaN</td>\n",
       "      <td>NaN</td>\n",
       "      <td>...</td>\n",
       "      <td>NaN</td>\n",
       "      <td>New York</td>\n",
       "      <td>0</td>\n",
       "      <td>NaN</td>\n",
       "      <td>0</td>\n",
       "      <td>0</td>\n",
       "      <td>NaN</td>\n",
       "      <td>0</td>\n",
       "      <td>0</td>\n",
       "      <td>NaN</td>\n",
       "    </tr>\n",
       "    <tr>\n",
       "      <th>2</th>\n",
       "      <td>3</td>\n",
       "      <td>2021-07-03 14:18:11</td>\n",
       "      <td>2021-07-03 14:23:05</td>\n",
       "      <td>anonymous</td>\n",
       "      <td>NaN</td>\n",
       "      <td>14</td>\n",
       "      <td>NaN</td>\n",
       "      <td>Nikita prajapati</td>\n",
       "      <td>NaN</td>\n",
       "      <td>NaN</td>\n",
       "      <td>...</td>\n",
       "      <td>NaN</td>\n",
       "      <td>NaN</td>\n",
       "      <td>0</td>\n",
       "      <td>NaN</td>\n",
       "      <td>NaN</td>\n",
       "      <td>0</td>\n",
       "      <td>NaN</td>\n",
       "      <td>NaN</td>\n",
       "      <td>0</td>\n",
       "      <td>NaN</td>\n",
       "    </tr>\n",
       "    <tr>\n",
       "      <th>3</th>\n",
       "      <td>4</td>\n",
       "      <td>2021-07-03 14:19:02</td>\n",
       "      <td>2021-07-03 14:23:40</td>\n",
       "      <td>anonymous</td>\n",
       "      <td>NaN</td>\n",
       "      <td>14</td>\n",
       "      <td>NaN</td>\n",
       "      <td>ansh</td>\n",
       "      <td>NaN</td>\n",
       "      <td>NaN</td>\n",
       "      <td>...</td>\n",
       "      <td>NaN</td>\n",
       "      <td>8</td>\n",
       "      <td>0</td>\n",
       "      <td>NaN</td>\n",
       "      <td>8</td>\n",
       "      <td>0</td>\n",
       "      <td>NaN</td>\n",
       "      <td>7</td>\n",
       "      <td>0</td>\n",
       "      <td>NaN</td>\n",
       "    </tr>\n",
       "    <tr>\n",
       "      <th>4</th>\n",
       "      <td>5</td>\n",
       "      <td>2021-07-03 14:14:44</td>\n",
       "      <td>2021-07-03 14:26:08</td>\n",
       "      <td>anonymous</td>\n",
       "      <td>NaN</td>\n",
       "      <td>9</td>\n",
       "      <td>NaN</td>\n",
       "      <td>Krishna garare</td>\n",
       "      <td>NaN</td>\n",
       "      <td>NaN</td>\n",
       "      <td>...</td>\n",
       "      <td>NaN</td>\n",
       "      <td>NaN</td>\n",
       "      <td>0</td>\n",
       "      <td>NaN</td>\n",
       "      <td>NaN</td>\n",
       "      <td>0</td>\n",
       "      <td>NaN</td>\n",
       "      <td>NaN</td>\n",
       "      <td>0</td>\n",
       "      <td>NaN</td>\n",
       "    </tr>\n",
       "  </tbody>\n",
       "</table>\n",
       "<p>5 rows × 112 columns</p>\n",
       "</div>"
      ],
      "text/plain": [
       "   ID          Start time     Completion time      Email  Name  Total points  \\\n",
       "0   1 2021-07-02 21:51:56 2021-07-02 21:52:13  anonymous   NaN             1   \n",
       "1   2 2021-07-03 14:13:47 2021-07-03 14:18:16  anonymous   NaN             9   \n",
       "2   3 2021-07-03 14:18:11 2021-07-03 14:23:05  anonymous   NaN            14   \n",
       "3   4 2021-07-03 14:19:02 2021-07-03 14:23:40  anonymous   NaN            14   \n",
       "4   5 2021-07-03 14:14:44 2021-07-03 14:26:08  anonymous   NaN             9   \n",
       "\n",
       "   Quiz feedback Please fill your full name?  \\\n",
       "0            NaN                         NaN   \n",
       "1            NaN               Vishal thakur   \n",
       "2            NaN            Nikita prajapati   \n",
       "3            NaN                        ansh   \n",
       "4            NaN              Krishna garare   \n",
       "\n",
       "   Points - Please fill your full name?  \\\n",
       "0                                   NaN   \n",
       "1                                   NaN   \n",
       "2                                   NaN   \n",
       "3                                   NaN   \n",
       "4                                   NaN   \n",
       "\n",
       "   Feedback - Please fill your full name?  ...  \\\n",
       "0                                     NaN  ...   \n",
       "1                                     NaN  ...   \n",
       "2                                     NaN  ...   \n",
       "3                                     NaN  ...   \n",
       "4                                     NaN  ...   \n",
       "\n",
       "  Feedback -  What should be replace in blank space to get output as 33?\\n\\nnames1 = ['Amir', 'Bear', 'Charlton', 'Daman']\\nnames2 = names1\\nnames3 = names1\\n\\nnames2[0] = 'Alice'\\nnames3[1] = 'Bob'\\n\\nsum = 0\\nfor ls i...  \\\n",
       "0                                                NaN                                                                                                                                                                             \n",
       "1                                                NaN                                                                                                                                                                             \n",
       "2                                                NaN                                                                                                                                                                             \n",
       "3                                                NaN                                                                                                                                                                             \n",
       "4                                                NaN                                                                                                                                                                             \n",
       "\n",
       "   Which should we write to get the output as NEWYORK or to access NEWYORK?\\n\\ndata = {1: {\\n        \"id\" : 390669115,\\n        \"name\" : \"ProgramState\",\\n        \"dataTypeName\" : \"text\",\\n        \"descript...  \\\n",
       "0                                                NaN                                                                                                                                                               \n",
       "1                                           New York                                                                                                                                                               \n",
       "2                                                NaN                                                                                                                                                               \n",
       "3                                                  8                                                                                                                                                               \n",
       "4                                                NaN                                                                                                                                                               \n",
       "\n",
       "   Points - Which should we write to get the output as NEWYORK or to access NEWYORK?\\n\\ndata = {1: {\\n        \"id\" : 390669115,\\n        \"name\" : \"ProgramState\",\\n        \"dataTypeName\" : \"text\",\\n        \"descript...  \\\n",
       "0                                                  0                                                                                                                                                                        \n",
       "1                                                  0                                                                                                                                                                        \n",
       "2                                                  0                                                                                                                                                                        \n",
       "3                                                  0                                                                                                                                                                        \n",
       "4                                                  0                                                                                                                                                                        \n",
       "\n",
       "  Feedback - Which should we write to get the output as NEWYORK or to access NEWYORK?\\n\\ndata = {1: {\\n        \"id\" : 390669115,\\n        \"name\" : \"ProgramState\",\\n        \"dataTypeName\" : \"text\",\\n        \"descript...  \\\n",
       "0                                                NaN                                                                                                                                                                         \n",
       "1                                                NaN                                                                                                                                                                         \n",
       "2                                                NaN                                                                                                                                                                         \n",
       "3                                                NaN                                                                                                                                                                         \n",
       "4                                                NaN                                                                                                                                                                         \n",
       "\n",
       "   What should be replaced in line 5 blank space to get the output as 1?\\n\\n1. myList = [1, 5, 5, 5, 5, 1]\\n2. max = myList[0]\\n3. indexOfMax = 0\\n4. for i in range(1, len(myList)):\\n5.     if myList[i] __...  \\\n",
       "0                                                NaN                                                                                                                                                               \n",
       "1                                                  0                                                                                                                                                               \n",
       "2                                                NaN                                                                                                                                                               \n",
       "3                                                  8                                                                                                                                                               \n",
       "4                                                NaN                                                                                                                                                               \n",
       "\n",
       "   Points - What should be replaced in line 5 blank space to get the output as 1?\\n\\n1. myList = [1, 5, 5, 5, 5, 1]\\n2. max = myList[0]\\n3. indexOfMax = 0\\n4. for i in range(1, len(myList)):\\n5.     if myList[i] __...  \\\n",
       "0                                                  0                                                                                                                                                                        \n",
       "1                                                  0                                                                                                                                                                        \n",
       "2                                                  0                                                                                                                                                                        \n",
       "3                                                  0                                                                                                                                                                        \n",
       "4                                                  0                                                                                                                                                                        \n",
       "\n",
       "  Feedback - What should be replaced in line 5 blank space to get the output as 1?\\n\\n1. myList = [1, 5, 5, 5, 5, 1]\\n2. max = myList[0]\\n3. indexOfMax = 0\\n4. for i in range(1, len(myList)):\\n5.     if myList[i] __...  \\\n",
       "0                                                NaN                                                                                                                                                                         \n",
       "1                                                NaN                                                                                                                                                                         \n",
       "2                                                NaN                                                                                                                                                                         \n",
       "3                                                NaN                                                                                                                                                                         \n",
       "4                                                NaN                                                                                                                                                                         \n",
       "\n",
       "   What should be replaced in blank space to get the output as \\nOutput:\\n     0\\n     1\\n     2\\n\\ni = 0\\nwhile i < 5:\\n    print(i)\\n    i += 1\\n    if i == 3:\\n        ________\\nelse:\\n    print(0)  \\\n",
       "0                                                NaN                                                                                                                                                       \n",
       "1                                                  0                                                                                                                                                       \n",
       "2                                                NaN                                                                                                                                                       \n",
       "3                                                  7                                                                                                                                                       \n",
       "4                                                NaN                                                                                                                                                       \n",
       "\n",
       "   Points - What should be replaced in blank space to get the output as \\nOutput:\\n     0\\n     1\\n     2\\n\\ni = 0\\nwhile i < 5:\\n    print(i)\\n    i += 1\\n    if i == 3:\\n        ________\\nelse:\\n    print(0)  \\\n",
       "0                                                  0                                                                                                                                                                \n",
       "1                                                  0                                                                                                                                                                \n",
       "2                                                  0                                                                                                                                                                \n",
       "3                                                  0                                                                                                                                                                \n",
       "4                                                  0                                                                                                                                                                \n",
       "\n",
       "  Feedback - What should be replaced in blank space to get the output as \\nOutput:\\n     0\\n     1\\n     2\\n\\ni = 0\\nwhile i < 5:\\n    print(i)\\n    i += 1\\n    if i == 3:\\n        ________\\nelse:\\n    print(0)  \n",
       "0                                                NaN                                                                                                                                                                \n",
       "1                                                NaN                                                                                                                                                                \n",
       "2                                                NaN                                                                                                                                                                \n",
       "3                                                NaN                                                                                                                                                                \n",
       "4                                                NaN                                                                                                                                                                \n",
       "\n",
       "[5 rows x 112 columns]"
      ]
     },
     "execution_count": 10,
     "metadata": {},
     "output_type": "execute_result"
    }
   ],
   "source": [
    "data.head()"
   ]
  },
  {
   "cell_type": "code",
   "execution_count": 11,
   "metadata": {},
   "outputs": [
    {
     "data": {
      "text/plain": [
       "(280, 112)"
      ]
     },
     "execution_count": 11,
     "metadata": {},
     "output_type": "execute_result"
    }
   ],
   "source": [
    "data.shape"
   ]
  },
  {
   "cell_type": "code",
   "execution_count": 19,
   "metadata": {},
   "outputs": [
    {
     "data": {
      "text/plain": [
       "0            NaN\n",
       "1      elif else\n",
       "2      elif else\n",
       "3        if else\n",
       "4        if else\n",
       "         ...    \n",
       "275      if elif\n",
       "276      if else\n",
       "277        if if\n",
       "278        if if\n",
       "279      if elif\n",
       "Name:  What should be replace in blank space to get output as 33?\\n\\nnames1 = ['Amir', 'Bear', 'Charlton', 'Daman']\\nnames2 = names1\\nnames3 = names1\\n\\nnames2[0] = 'Alice'\\nnames3[1] = 'Bob'\\n\\nsum = 0\\nfor ls i..., Length: 280, dtype: object"
      ]
     },
     "execution_count": 19,
     "metadata": {},
     "output_type": "execute_result"
    }
   ],
   "source": [
    "data[' What should be replace in blank space to get output as 33?\\n\\nnames1 = [\\'Amir\\', \\'Bear\\', \\'Charlton\\', \\'Daman\\']\\nnames2 = names1\\nnames3 = names1\\n\\nnames2[0] = \\'Alice\\'\\nnames3[1] = \\'Bob\\'\\n\\nsum = 0\\nfor ls i...']"
   ]
  },
  {
   "cell_type": "code",
   "execution_count": 20,
   "metadata": {},
   "outputs": [],
   "source": [
    "# the students who gave ans if if (they should get 3 points)"
   ]
  },
  {
   "cell_type": "markdown",
   "metadata": {},
   "source": [
    "### You need to find top 5 scorers name"
   ]
  },
  {
   "cell_type": "markdown",
   "metadata": {},
   "source": [
    "### Supervised Learning \n",
    "\n",
    "    Data --> Labeled\n",
    "            Input --> Output (Labeled)\n",
    "            \n",
    "            Input    Output\n",
    "            Marks    Result\n",
    "             \n",
    "             35       Fail\n",
    "             50       Pass\n",
    "             55       Pass\n",
    "             40       Fail\n",
    "             39       Fail\n",
    "             \n",
    "    1. Regression\n",
    "    2. Classification\n",
    "        Algorithms for categorial data\n",
    "    3. Recommendation\n",
    "    \n",
    "    \n",
    "### Unsupervised Learning \n",
    "\n",
    "        Unlabeled data\n",
    "        \n",
    "            1. DR\n",
    "                30 --> columns \n",
    "                to 3 columns \n",
    "            2. Clustering \n",
    "            etc. \n",
    "         \n",
    "### Semi-Supervised Learning\n",
    "    \n",
    "        Labeled and unlabeled data \n",
    "        Train --> labeled data\n",
    "        Test --> Unlabeled data\n",
    "        \n",
    "### Reinforcement Learning \n",
    "    \n",
    "        Punishment and reward \n",
    "        \n",
    "        Q-learning \n",
    "        \n",
    "### Deep Learning \n",
    "        \n",
    "        NN\n",
    "    \n",
    "### NLP\n",
    "\n",
    "    Natural Language Processing "
   ]
  },
  {
   "cell_type": "markdown",
   "metadata": {},
   "source": [
    "### Steps of ML\n",
    "\n",
    "    \n",
    "    1. Data Collection\n",
    "    2. Data Preprocessing \n",
    "    3. EDA (Exploratory Data Analysis)\n",
    "    4. Split Data Into Training and Testing \n",
    "    5. Model Selection \n",
    "    6. Model Evaluation\n",
    "    7. Model Deployment\n",
    "    \n",
    "        Model --> File --> File(read) to use\n",
    "        "
   ]
  },
  {
   "cell_type": "markdown",
   "metadata": {},
   "source": [
    "    INPUT --> Features\n",
    "    OUTPUT --> Target \n",
    "    \n",
    "        Target --> 0(No) and 1(Yes)\n",
    "        Features --> Age, BMI, BP, weight etc"
   ]
  },
  {
   "cell_type": "code",
   "execution_count": 1,
   "metadata": {},
   "outputs": [],
   "source": [
    "import pandas as pd"
   ]
  },
  {
   "cell_type": "code",
   "execution_count": 10,
   "metadata": {},
   "outputs": [],
   "source": [
    "from sklearn.linear_model import LogisticRegression"
   ]
  },
  {
   "cell_type": "code",
   "execution_count": 17,
   "metadata": {},
   "outputs": [],
   "source": [
    "from sklearn.datasets import load_iris\n",
    "from sklearn.metrics import accuracy_score"
   ]
  },
  {
   "cell_type": "code",
   "execution_count": 11,
   "metadata": {},
   "outputs": [],
   "source": [
    "algo = LogisticRegression()\n",
    "iris = load_iris()"
   ]
  },
  {
   "cell_type": "code",
   "execution_count": 6,
   "metadata": {},
   "outputs": [
    {
     "data": {
      "text/plain": [
       "sklearn.utils.Bunch"
      ]
     },
     "execution_count": 6,
     "metadata": {},
     "output_type": "execute_result"
    }
   ],
   "source": [
    "type(iris)"
   ]
  },
  {
   "cell_type": "code",
   "execution_count": 13,
   "metadata": {},
   "outputs": [],
   "source": [
    "feature = iris['data'] # features or input"
   ]
  },
  {
   "cell_type": "code",
   "execution_count": 12,
   "metadata": {},
   "outputs": [],
   "source": [
    "target = iris['target']"
   ]
  },
  {
   "cell_type": "code",
   "execution_count": 14,
   "metadata": {},
   "outputs": [
    {
     "name": "stderr",
     "output_type": "stream",
     "text": [
      "C:\\Anaconda\\lib\\site-packages\\sklearn\\linear_model\\_logistic.py:762: ConvergenceWarning: lbfgs failed to converge (status=1):\n",
      "STOP: TOTAL NO. of ITERATIONS REACHED LIMIT.\n",
      "\n",
      "Increase the number of iterations (max_iter) or scale the data as shown in:\n",
      "    https://scikit-learn.org/stable/modules/preprocessing.html\n",
      "Please also refer to the documentation for alternative solver options:\n",
      "    https://scikit-learn.org/stable/modules/linear_model.html#logistic-regression\n",
      "  n_iter_i = _check_optimize_result(\n"
     ]
    },
    {
     "data": {
      "text/plain": [
       "LogisticRegression()"
      ]
     },
     "execution_count": 14,
     "metadata": {},
     "output_type": "execute_result"
    }
   ],
   "source": [
    "algo.fit(feature, target)  # training "
   ]
  },
  {
   "cell_type": "code",
   "execution_count": 16,
   "metadata": {},
   "outputs": [],
   "source": [
    "pred = algo.predict(feature) # it will predict the target or output\n",
    "# right now I am testing with the I have trained with"
   ]
  },
  {
   "cell_type": "code",
   "execution_count": 18,
   "metadata": {},
   "outputs": [
    {
     "data": {
      "text/plain": [
       "0.9733333333333334"
      ]
     },
     "execution_count": 18,
     "metadata": {},
     "output_type": "execute_result"
    }
   ],
   "source": [
    "accuracy_score(target, pred)\n",
    "# target --> actual ans "
   ]
  },
  {
   "cell_type": "code",
   "execution_count": 19,
   "metadata": {},
   "outputs": [
    {
     "data": {
      "text/plain": [
       "array([0, 0, 0, 0, 0, 0, 0, 0, 0, 0, 0, 0, 0, 0, 0, 0, 0, 0, 0, 0, 0, 0,\n",
       "       0, 0, 0, 0, 0, 0, 0, 0, 0, 0, 0, 0, 0, 0, 0, 0, 0, 0, 0, 0, 0, 0,\n",
       "       0, 0, 0, 0, 0, 0, 1, 1, 1, 1, 1, 1, 1, 1, 1, 1, 1, 1, 1, 1, 1, 1,\n",
       "       1, 1, 1, 1, 1, 1, 1, 1, 1, 1, 1, 1, 1, 1, 1, 1, 1, 1, 1, 1, 1, 1,\n",
       "       1, 1, 1, 1, 1, 1, 1, 1, 1, 1, 1, 1, 2, 2, 2, 2, 2, 2, 2, 2, 2, 2,\n",
       "       2, 2, 2, 2, 2, 2, 2, 2, 2, 2, 2, 2, 2, 2, 2, 2, 2, 2, 2, 2, 2, 2,\n",
       "       2, 2, 2, 2, 2, 2, 2, 2, 2, 2, 2, 2, 2, 2, 2, 2, 2, 2])"
      ]
     },
     "execution_count": 19,
     "metadata": {},
     "output_type": "execute_result"
    }
   ],
   "source": [
    "target"
   ]
  },
  {
   "cell_type": "code",
   "execution_count": null,
   "metadata": {},
   "outputs": [],
   "source": []
  }
 ],
 "metadata": {
  "kernelspec": {
   "display_name": "Python 3",
   "language": "python",
   "name": "python3"
  },
  "language_info": {
   "codemirror_mode": {
    "name": "ipython",
    "version": 3
   },
   "file_extension": ".py",
   "mimetype": "text/x-python",
   "name": "python",
   "nbconvert_exporter": "python",
   "pygments_lexer": "ipython3",
   "version": "3.8.5"
  }
 },
 "nbformat": 4,
 "nbformat_minor": 4
}
