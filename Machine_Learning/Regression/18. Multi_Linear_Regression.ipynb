{
 "cells": [
  {
   "cell_type": "code",
   "execution_count": 1,
   "metadata": {},
   "outputs": [],
   "source": [
    "import pandas as pd\n",
    "import numpy as np\n",
    "import seaborn as sns\n",
    "import matplotlib.pyplot as plt"
   ]
  },
  {
   "cell_type": "code",
   "execution_count": 2,
   "metadata": {},
   "outputs": [],
   "source": [
    "feature = np.random.randint(1, 100, 100)"
   ]
  },
  {
   "cell_type": "code",
   "execution_count": 14,
   "metadata": {},
   "outputs": [],
   "source": [
    "from sklearn.base import BaseEstimator, TransformerMixin\n",
    "from sklearn.preprocessing import StandardScaler\n",
    "from sklearn.pipeline import Pipeline"
   ]
  },
  {
   "cell_type": "code",
   "execution_count": 4,
   "metadata": {},
   "outputs": [
    {
     "name": "stdout",
     "output_type": "stream",
     "text": [
      "Help on class BaseEstimator in module sklearn.base:\n",
      "\n",
      "class BaseEstimator(builtins.object)\n",
      " |  Base class for all estimators in scikit-learn\n",
      " |  \n",
      " |  Notes\n",
      " |  -----\n",
      " |  All estimators should specify all the parameters that can be set\n",
      " |  at the class level in their ``__init__`` as explicit keyword\n",
      " |  arguments (no ``*args`` or ``**kwargs``).\n",
      " |  \n",
      " |  Methods defined here:\n",
      " |  \n",
      " |  __getstate__(self)\n",
      " |  \n",
      " |  __repr__(self, N_CHAR_MAX=700)\n",
      " |      Return repr(self).\n",
      " |  \n",
      " |  __setstate__(self, state)\n",
      " |  \n",
      " |  get_params(self, deep=True)\n",
      " |      Get parameters for this estimator.\n",
      " |      \n",
      " |      Parameters\n",
      " |      ----------\n",
      " |      deep : bool, default=True\n",
      " |          If True, will return the parameters for this estimator and\n",
      " |          contained subobjects that are estimators.\n",
      " |      \n",
      " |      Returns\n",
      " |      -------\n",
      " |      params : mapping of string to any\n",
      " |          Parameter names mapped to their values.\n",
      " |  \n",
      " |  set_params(self, **params)\n",
      " |      Set the parameters of this estimator.\n",
      " |      \n",
      " |      The method works on simple estimators as well as on nested objects\n",
      " |      (such as pipelines). The latter have parameters of the form\n",
      " |      ``<component>__<parameter>`` so that it's possible to update each\n",
      " |      component of a nested object.\n",
      " |      \n",
      " |      Parameters\n",
      " |      ----------\n",
      " |      **params : dict\n",
      " |          Estimator parameters.\n",
      " |      \n",
      " |      Returns\n",
      " |      -------\n",
      " |      self : object\n",
      " |          Estimator instance.\n",
      " |  \n",
      " |  ----------------------------------------------------------------------\n",
      " |  Data descriptors defined here:\n",
      " |  \n",
      " |  __dict__\n",
      " |      dictionary for instance variables (if defined)\n",
      " |  \n",
      " |  __weakref__\n",
      " |      list of weak references to the object (if defined)\n",
      "\n"
     ]
    }
   ],
   "source": [
    "help(BaseEstimator)"
   ]
  },
  {
   "cell_type": "code",
   "execution_count": 5,
   "metadata": {},
   "outputs": [
    {
     "name": "stdout",
     "output_type": "stream",
     "text": [
      "Help on class TransformerMixin in module sklearn.base:\n",
      "\n",
      "class TransformerMixin(builtins.object)\n",
      " |  Mixin class for all transformers in scikit-learn.\n",
      " |  \n",
      " |  Methods defined here:\n",
      " |  \n",
      " |  fit_transform(self, X, y=None, **fit_params)\n",
      " |      Fit to data, then transform it.\n",
      " |      \n",
      " |      Fits transformer to X and y with optional parameters fit_params\n",
      " |      and returns a transformed version of X.\n",
      " |      \n",
      " |      Parameters\n",
      " |      ----------\n",
      " |      X : {array-like, sparse matrix, dataframe} of shape                 (n_samples, n_features)\n",
      " |      \n",
      " |      y : ndarray of shape (n_samples,), default=None\n",
      " |          Target values.\n",
      " |      \n",
      " |      **fit_params : dict\n",
      " |          Additional fit parameters.\n",
      " |      \n",
      " |      Returns\n",
      " |      -------\n",
      " |      X_new : ndarray array of shape (n_samples, n_features_new)\n",
      " |          Transformed array.\n",
      " |  \n",
      " |  ----------------------------------------------------------------------\n",
      " |  Data descriptors defined here:\n",
      " |  \n",
      " |  __dict__\n",
      " |      dictionary for instance variables (if defined)\n",
      " |  \n",
      " |  __weakref__\n",
      " |      list of weak references to the object (if defined)\n",
      "\n"
     ]
    }
   ],
   "source": [
    "help(TransformerMixin)"
   ]
  },
  {
   "cell_type": "code",
   "execution_count": 9,
   "metadata": {},
   "outputs": [],
   "source": [
    "class Transformer:\n",
    "    def __init__(self):\n",
    "        self.mean_ = None\n",
    "        self.scale_ = None\n",
    "    \n",
    "    def fit(self, X):\n",
    "        self.mean_ = sum(X)/len(X)\n",
    "        self.scale_ = np.sqrt(sum((self.mean_ - X)**2)/len(X))\n",
    "        \n",
    "    def transform(self, X):\n",
    "        return (X - self.mean_)/self.scale_"
   ]
  },
  {
   "cell_type": "code",
   "execution_count": 10,
   "metadata": {},
   "outputs": [],
   "source": [
    "scale = Transformer()\n",
    "scale.fit(feature)"
   ]
  },
  {
   "cell_type": "code",
   "execution_count": 11,
   "metadata": {},
   "outputs": [
    {
     "data": {
      "text/plain": [
       "48.82"
      ]
     },
     "execution_count": 11,
     "metadata": {},
     "output_type": "execute_result"
    }
   ],
   "source": [
    "scale.mean_"
   ]
  },
  {
   "cell_type": "code",
   "execution_count": 12,
   "metadata": {},
   "outputs": [
    {
     "data": {
      "text/plain": [
       "29.57038383247671"
      ]
     },
     "execution_count": 12,
     "metadata": {},
     "output_type": "execute_result"
    }
   ],
   "source": [
    "scale.scale_"
   ]
  },
  {
   "cell_type": "code",
   "execution_count": 19,
   "metadata": {},
   "outputs": [
    {
     "data": {
      "text/plain": [
       "array([ 0.85152767,  0.81771005, -1.07607666,  0.71625719, -0.83935333])"
      ]
     },
     "execution_count": 19,
     "metadata": {},
     "output_type": "execute_result"
    }
   ],
   "source": [
    "scale.transform(feature)[:5]"
   ]
  },
  {
   "cell_type": "code",
   "execution_count": 18,
   "metadata": {},
   "outputs": [
    {
     "data": {
      "text/plain": [
       "array([[ 0.85152767],\n",
       "       [ 0.81771005],\n",
       "       [-1.07607666],\n",
       "       [ 0.71625719],\n",
       "       [-0.83935333]])"
      ]
     },
     "execution_count": 18,
     "metadata": {},
     "output_type": "execute_result"
    }
   ],
   "source": [
    "ss = StandardScaler()\n",
    "ss.fit(feature.reshape(-1, 1))\n",
    "ss.transform(feature.reshape(-1, 1))[:5]"
   ]
  },
  {
   "cell_type": "code",
   "execution_count": 20,
   "metadata": {},
   "outputs": [],
   "source": [
    "pipe = Pipeline([\n",
    "    ('scale', Transformer())\n",
    "])"
   ]
  },
  {
   "cell_type": "code",
   "execution_count": 29,
   "metadata": {},
   "outputs": [],
   "source": [
    "class Transformer:\n",
    "    def __init__(self):\n",
    "        self.mean_ = None\n",
    "        self.scale_ = None\n",
    "    \n",
    "    def fit(self, X, y=None):\n",
    "        print(X, y)\n",
    "        self.mean_ = sum(X)/len(X)\n",
    "        self.scale_ = np.sqrt(sum((self.mean_ - X)**2)/len(X))\n",
    "        \n",
    "    def transform(self, X, y=None):\n",
    "        return (X - self.mean_)/self.scale_"
   ]
  },
  {
   "cell_type": "code",
   "execution_count": 30,
   "metadata": {},
   "outputs": [
    {
     "name": "stdout",
     "output_type": "stream",
     "text": [
      "[74 73 17 70 24 76 25 64 92  6  1  9  3 87 85 20 98 56 77 85 96 49 35 63\n",
      "  1 49 64 17 88 75 47  6 44  1 94 97 49 67 14  6  6 85 13 42 98 68 85 11\n",
      " 81 36 27 83 86 74 75 39 15 62 58 63 96 13  6 13 22 20  1 21 56 33 37 61\n",
      " 32 56  7 94 76 59 53  4 53 39 72 70 85 57 39 67 53 39  8 54 65 46 65  1\n",
      " 75 44 35 44] None\n"
     ]
    },
    {
     "data": {
      "text/plain": [
       "Pipeline(steps=[('scale', <__main__.Transformer object at 0x000002440D47CCA0>)])"
      ]
     },
     "execution_count": 30,
     "metadata": {},
     "output_type": "execute_result"
    }
   ],
   "source": [
    "pipe = Pipeline([\n",
    "    ('scale', Transformer())\n",
    "])\n",
    "pipe.fit(feature)"
   ]
  },
  {
   "cell_type": "code",
   "execution_count": 32,
   "metadata": {},
   "outputs": [
    {
     "data": {
      "text/plain": [
       "array([ 0.85152767,  0.81771005, -1.07607666,  0.71625719, -0.83935333])"
      ]
     },
     "execution_count": 32,
     "metadata": {},
     "output_type": "execute_result"
    }
   ],
   "source": [
    "pipe.transform(feature)[:5]"
   ]
  },
  {
   "cell_type": "code",
   "execution_count": 34,
   "metadata": {},
   "outputs": [
    {
     "data": {
      "text/plain": [
       "Pipeline(steps=[('scale', <__main__.Transformer object at 0x000002440A0838B0>)])"
      ]
     },
     "execution_count": 34,
     "metadata": {},
     "output_type": "execute_result"
    }
   ],
   "source": [
    "class Transformer(TransformerMixin):\n",
    "    def __init__(self):\n",
    "        self.mean_ = None\n",
    "        self.scale_ = None\n",
    "    \n",
    "    def fit(self, X, y=None):\n",
    "        self.mean_ = sum(X)/len(X)\n",
    "        self.scale_ = np.sqrt(sum((self.mean_ - X)**2)/len(X))\n",
    "        return self\n",
    "    \n",
    "    def transform(self, X, y=None):\n",
    "        return (X - self.mean_)/self.scale_\n",
    "    \n",
    "    \n",
    "pipe = Pipeline([\n",
    "    ('scale', Transformer())\n",
    "])\n",
    "pipe.fit(feature)"
   ]
  },
  {
   "cell_type": "code",
   "execution_count": 35,
   "metadata": {},
   "outputs": [
    {
     "data": {
      "text/plain": [
       "array([ 0.85152767,  0.81771005, -1.07607666,  0.71625719, -0.83935333,\n",
       "        0.91916291, -0.80553571,  0.51335147,  1.46024483, -1.44807048,\n",
       "       -1.61715858, -1.34661762, -1.54952334,  1.29115673,  1.22352149,\n",
       "       -0.9746238 ,  1.66315055,  0.24281051,  0.95298053,  1.22352149,\n",
       "        1.59551531,  0.00608717, -0.46735951,  0.47953385, -1.61715858,\n",
       "        0.00608717,  0.51335147, -1.07607666,  1.32497435,  0.88534529,\n",
       "       -0.06154807, -1.44807048, -0.16300093, -1.61715858,  1.52788007,\n",
       "        1.62933293,  0.00608717,  0.61480433, -1.17752952, -1.44807048,\n",
       "       -1.44807048,  1.22352149, -1.21134714, -0.23063617,  1.66315055,\n",
       "        0.64862195,  1.22352149, -1.27898238,  1.08825101, -0.43354189,\n",
       "       -0.73790047,  1.15588625,  1.25733911,  0.85152767,  0.88534529,\n",
       "       -0.33208903, -1.1437119 ,  0.44571623,  0.31044575,  0.47953385,\n",
       "        1.59551531, -1.21134714, -1.44807048, -1.21134714, -0.90698857,\n",
       "       -0.9746238 , -1.61715858, -0.94080618,  0.24281051, -0.53499475,\n",
       "       -0.39972427,  0.41189861, -0.56881237,  0.24281051, -1.41425286,\n",
       "        1.52788007,  0.91916291,  0.34426337,  0.14135765, -1.51570572,\n",
       "        0.14135765, -0.33208903,  0.78389243,  0.71625719,  1.22352149,\n",
       "        0.27662813, -0.33208903,  0.61480433,  0.14135765, -0.33208903,\n",
       "       -1.38043524,  0.17517527,  0.54716909, -0.09536569,  0.54716909,\n",
       "       -1.61715858,  0.88534529, -0.16300093, -0.46735951, -0.16300093])"
      ]
     },
     "execution_count": 35,
     "metadata": {},
     "output_type": "execute_result"
    }
   ],
   "source": [
    "pipe.fit_transform(feature)"
   ]
  },
  {
   "cell_type": "code",
   "execution_count": 36,
   "metadata": {},
   "outputs": [],
   "source": [
    "class Transformer(TransformerMixin):\n",
    "    def __init__(self):\n",
    "        self.mean_ = None\n",
    "        self.scale_ = None\n",
    "    \n",
    "    def fit(self, X, y=None):\n",
    "        self.mean_ = sum(X)/len(X)\n",
    "        self.scale_ = np.sqrt(sum((self.mean_ - X)**2)/len(X))\n",
    "        return self\n",
    "    \n",
    "    def transform(self, X, y=None):\n",
    "        return (X - self.mean_)/self.scale_\n",
    "    \n",
    "scale = Transformer()"
   ]
  },
  {
   "cell_type": "code",
   "execution_count": 38,
   "metadata": {},
   "outputs": [
    {
     "data": {
      "text/plain": [
       "array([ 0.85152767,  0.81771005, -1.07607666,  0.71625719, -0.83935333,\n",
       "        0.91916291, -0.80553571,  0.51335147,  1.46024483, -1.44807048,\n",
       "       -1.61715858, -1.34661762, -1.54952334,  1.29115673,  1.22352149,\n",
       "       -0.9746238 ,  1.66315055,  0.24281051,  0.95298053,  1.22352149,\n",
       "        1.59551531,  0.00608717, -0.46735951,  0.47953385, -1.61715858,\n",
       "        0.00608717,  0.51335147, -1.07607666,  1.32497435,  0.88534529,\n",
       "       -0.06154807, -1.44807048, -0.16300093, -1.61715858,  1.52788007,\n",
       "        1.62933293,  0.00608717,  0.61480433, -1.17752952, -1.44807048,\n",
       "       -1.44807048,  1.22352149, -1.21134714, -0.23063617,  1.66315055,\n",
       "        0.64862195,  1.22352149, -1.27898238,  1.08825101, -0.43354189,\n",
       "       -0.73790047,  1.15588625,  1.25733911,  0.85152767,  0.88534529,\n",
       "       -0.33208903, -1.1437119 ,  0.44571623,  0.31044575,  0.47953385,\n",
       "        1.59551531, -1.21134714, -1.44807048, -1.21134714, -0.90698857,\n",
       "       -0.9746238 , -1.61715858, -0.94080618,  0.24281051, -0.53499475,\n",
       "       -0.39972427,  0.41189861, -0.56881237,  0.24281051, -1.41425286,\n",
       "        1.52788007,  0.91916291,  0.34426337,  0.14135765, -1.51570572,\n",
       "        0.14135765, -0.33208903,  0.78389243,  0.71625719,  1.22352149,\n",
       "        0.27662813, -0.33208903,  0.61480433,  0.14135765, -0.33208903,\n",
       "       -1.38043524,  0.17517527,  0.54716909, -0.09536569,  0.54716909,\n",
       "       -1.61715858,  0.88534529, -0.16300093, -0.46735951, -0.16300093])"
      ]
     },
     "execution_count": 38,
     "metadata": {},
     "output_type": "execute_result"
    }
   ],
   "source": [
    "scale.fit_transform(feature)"
   ]
  },
  {
   "cell_type": "code",
   "execution_count": 39,
   "metadata": {},
   "outputs": [],
   "source": [
    "class Transformer(BaseEstimator, TransformerMixin):\n",
    "    def __init__(self):\n",
    "        self.mean_ = None\n",
    "        self.scale_ = None\n",
    "    \n",
    "    def fit(self, X, y=None):\n",
    "        self.mean_ = sum(X)/len(X)\n",
    "        self.scale_ = np.sqrt(sum((self.mean_ - X)**2)/len(X))\n",
    "        return self\n",
    "    \n",
    "    def transform(self, X, y=None):\n",
    "        return (X - self.mean_)/self.scale_\n",
    "    \n",
    "scale = Transformer()"
   ]
  },
  {
   "cell_type": "code",
   "execution_count": 41,
   "metadata": {},
   "outputs": [
    {
     "data": {
      "text/plain": [
       "array([ 0.85152767,  0.81771005, -1.07607666,  0.71625719, -0.83935333])"
      ]
     },
     "execution_count": 41,
     "metadata": {},
     "output_type": "execute_result"
    }
   ],
   "source": [
    "scale.fit_transform(feature)[:5]  # TransforMixin"
   ]
  },
  {
   "cell_type": "code",
   "execution_count": 42,
   "metadata": {},
   "outputs": [
    {
     "data": {
      "text/plain": [
       "{}"
      ]
     },
     "execution_count": 42,
     "metadata": {},
     "output_type": "execute_result"
    }
   ],
   "source": [
    "scale.get_params()  # BaseEstimator"
   ]
  },
  {
   "cell_type": "code",
   "execution_count": 50,
   "metadata": {},
   "outputs": [
    {
     "ename": "ValueError",
     "evalue": "Invalid parameter abc for estimator Transformer(). Check the list of available parameters with `estimator.get_params().keys()`.",
     "output_type": "error",
     "traceback": [
      "\u001b[1;31m---------------------------------------------------------------------------\u001b[0m",
      "\u001b[1;31mValueError\u001b[0m                                Traceback (most recent call last)",
      "\u001b[1;32m<ipython-input-50-ea771d1c775a>\u001b[0m in \u001b[0;36m<module>\u001b[1;34m\u001b[0m\n\u001b[1;32m----> 1\u001b[1;33m \u001b[0mscale\u001b[0m\u001b[1;33m.\u001b[0m\u001b[0mset_params\u001b[0m\u001b[1;33m(\u001b[0m\u001b[0mabc\u001b[0m\u001b[1;33m=\u001b[0m\u001b[1;36m10\u001b[0m\u001b[1;33m)\u001b[0m\u001b[1;33m\u001b[0m\u001b[1;33m\u001b[0m\u001b[0m\n\u001b[0m",
      "\u001b[1;32mC:\\Anaconda\\lib\\site-packages\\sklearn\\base.py\u001b[0m in \u001b[0;36mset_params\u001b[1;34m(self, **params)\u001b[0m\n\u001b[0;32m    247\u001b[0m             \u001b[0mkey\u001b[0m\u001b[1;33m,\u001b[0m \u001b[0mdelim\u001b[0m\u001b[1;33m,\u001b[0m \u001b[0msub_key\u001b[0m \u001b[1;33m=\u001b[0m \u001b[0mkey\u001b[0m\u001b[1;33m.\u001b[0m\u001b[0mpartition\u001b[0m\u001b[1;33m(\u001b[0m\u001b[1;34m'__'\u001b[0m\u001b[1;33m)\u001b[0m\u001b[1;33m\u001b[0m\u001b[1;33m\u001b[0m\u001b[0m\n\u001b[0;32m    248\u001b[0m             \u001b[1;32mif\u001b[0m \u001b[0mkey\u001b[0m \u001b[1;32mnot\u001b[0m \u001b[1;32min\u001b[0m \u001b[0mvalid_params\u001b[0m\u001b[1;33m:\u001b[0m\u001b[1;33m\u001b[0m\u001b[1;33m\u001b[0m\u001b[0m\n\u001b[1;32m--> 249\u001b[1;33m                 raise ValueError('Invalid parameter %s for estimator %s. '\n\u001b[0m\u001b[0;32m    250\u001b[0m                                  \u001b[1;34m'Check the list of available parameters '\u001b[0m\u001b[1;33m\u001b[0m\u001b[1;33m\u001b[0m\u001b[0m\n\u001b[0;32m    251\u001b[0m                                  \u001b[1;34m'with `estimator.get_params().keys()`.'\u001b[0m \u001b[1;33m%\u001b[0m\u001b[1;33m\u001b[0m\u001b[1;33m\u001b[0m\u001b[0m\n",
      "\u001b[1;31mValueError\u001b[0m: Invalid parameter abc for estimator Transformer(). Check the list of available parameters with `estimator.get_params().keys()`."
     ]
    }
   ],
   "source": [
    "scale.set_params(abc=10)"
   ]
  },
  {
   "cell_type": "code",
   "execution_count": 55,
   "metadata": {},
   "outputs": [
    {
     "data": {
      "text/plain": [
       "{'copy': True, 'with_mean': True, 'with_std': True}"
      ]
     },
     "execution_count": 55,
     "metadata": {},
     "output_type": "execute_result"
    }
   ],
   "source": [
    "ss.get_params()"
   ]
  },
  {
   "cell_type": "code",
   "execution_count": 60,
   "metadata": {},
   "outputs": [
    {
     "data": {
      "text/plain": [
       "Pipeline(steps=[('scale', Transformer())])"
      ]
     },
     "execution_count": 60,
     "metadata": {},
     "output_type": "execute_result"
    }
   ],
   "source": [
    "class Transformer(BaseEstimator, TransformerMixin):\n",
    "    def __init__(self):\n",
    "        self.mean_ = None\n",
    "        self.scale_ = None\n",
    "    \n",
    "    def fit(self, X, y=None):\n",
    "        self.mean_ = sum(X)/len(X)\n",
    "        self.scale_ = np.sqrt(sum((self.mean_ - X)**2)/len(X))\n",
    "        return self\n",
    "    \n",
    "    def transform(self, X, y=None):\n",
    "        return (X - self.mean_)/self.scale_\n",
    "\n",
    "pipe = Pipeline([\n",
    "    ('scale', Transformer())\n",
    "])\n",
    "pipe.fit(feature)"
   ]
  },
  {
   "cell_type": "code",
   "execution_count": 57,
   "metadata": {},
   "outputs": [
    {
     "data": {
      "text/plain": [
       "{'memory': None,\n",
       " 'steps': [('scale', Transformer())],\n",
       " 'verbose': False,\n",
       " 'scale': Transformer()}"
      ]
     },
     "execution_count": 57,
     "metadata": {},
     "output_type": "execute_result"
    }
   ],
   "source": [
    "pipe.get_params()"
   ]
  },
  {
   "cell_type": "code",
   "execution_count": 68,
   "metadata": {},
   "outputs": [
    {
     "data": {
      "text/plain": [
       "Transformer()"
      ]
     },
     "execution_count": 68,
     "metadata": {},
     "output_type": "execute_result"
    }
   ],
   "source": [
    "class Transformer(BaseEstimator, TransformerMixin):\n",
    "    def __init__(self, mean=None, scale=None):\n",
    "        self.mean_ = None\n",
    "        self.scale_ = None\n",
    "    \n",
    "    def fit(self, X, y=None, a=None):\n",
    "        self.mean_ = sum(X)/len(X)\n",
    "        self.scale_ = np.sqrt(sum((self.mean_ - X)**2)/len(X))\n",
    "        return self\n",
    "    \n",
    "    def transform(self, X, y=None, a=None):\n",
    "        return (X - self.mean_)/self.scale_\n",
    "    \n",
    "scale = Transformer()\n",
    "scale.fit(feature)"
   ]
  },
  {
   "cell_type": "code",
   "execution_count": 69,
   "metadata": {},
   "outputs": [
    {
     "data": {
      "text/plain": [
       "array([ 0.85152767,  0.81771005, -1.07607666,  0.71625719, -0.83935333,\n",
       "        0.91916291, -0.80553571,  0.51335147,  1.46024483, -1.44807048,\n",
       "       -1.61715858, -1.34661762, -1.54952334,  1.29115673,  1.22352149,\n",
       "       -0.9746238 ,  1.66315055,  0.24281051,  0.95298053,  1.22352149,\n",
       "        1.59551531,  0.00608717, -0.46735951,  0.47953385, -1.61715858,\n",
       "        0.00608717,  0.51335147, -1.07607666,  1.32497435,  0.88534529,\n",
       "       -0.06154807, -1.44807048, -0.16300093, -1.61715858,  1.52788007,\n",
       "        1.62933293,  0.00608717,  0.61480433, -1.17752952, -1.44807048,\n",
       "       -1.44807048,  1.22352149, -1.21134714, -0.23063617,  1.66315055,\n",
       "        0.64862195,  1.22352149, -1.27898238,  1.08825101, -0.43354189,\n",
       "       -0.73790047,  1.15588625,  1.25733911,  0.85152767,  0.88534529,\n",
       "       -0.33208903, -1.1437119 ,  0.44571623,  0.31044575,  0.47953385,\n",
       "        1.59551531, -1.21134714, -1.44807048, -1.21134714, -0.90698857,\n",
       "       -0.9746238 , -1.61715858, -0.94080618,  0.24281051, -0.53499475,\n",
       "       -0.39972427,  0.41189861, -0.56881237,  0.24281051, -1.41425286,\n",
       "        1.52788007,  0.91916291,  0.34426337,  0.14135765, -1.51570572,\n",
       "        0.14135765, -0.33208903,  0.78389243,  0.71625719,  1.22352149,\n",
       "        0.27662813, -0.33208903,  0.61480433,  0.14135765, -0.33208903,\n",
       "       -1.38043524,  0.17517527,  0.54716909, -0.09536569,  0.54716909,\n",
       "       -1.61715858,  0.88534529, -0.16300093, -0.46735951, -0.16300093])"
      ]
     },
     "execution_count": 69,
     "metadata": {},
     "output_type": "execute_result"
    }
   ],
   "source": [
    "scale.fit_transform(feature)"
   ]
  },
  {
   "cell_type": "code",
   "execution_count": 65,
   "metadata": {},
   "outputs": [
    {
     "name": "stderr",
     "output_type": "stream",
     "text": [
      "C:\\Anaconda\\lib\\site-packages\\sklearn\\base.py:209: FutureWarning: From version 0.24, get_params will raise an AttributeError if a parameter cannot be retrieved as an instance attribute. Previously it would return None.\n",
      "  warnings.warn('From version 0.24, get_params will raise an '\n"
     ]
    },
    {
     "data": {
      "text/plain": [
       "{'mean': None, 'scale': None}"
      ]
     },
     "execution_count": 65,
     "metadata": {},
     "output_type": "execute_result"
    }
   ],
   "source": [
    "scale.get_params()"
   ]
  },
  {
   "cell_type": "code",
   "execution_count": 66,
   "metadata": {},
   "outputs": [
    {
     "data": {
      "text/plain": [
       "Transformer(mean=10)"
      ]
     },
     "execution_count": 66,
     "metadata": {},
     "output_type": "execute_result"
    }
   ],
   "source": [
    "scale.set_params(mean=10)"
   ]
  },
  {
   "cell_type": "code",
   "execution_count": 71,
   "metadata": {},
   "outputs": [
    {
     "data": {
      "text/plain": [
       "Pipeline(steps=[('scale', Transformer())])"
      ]
     },
     "execution_count": 71,
     "metadata": {},
     "output_type": "execute_result"
    }
   ],
   "source": [
    "class Transformer(BaseEstimator, TransformerMixin):\n",
    "    def __init__(self, mean=None, scale=None):\n",
    "        self.mean_ = None\n",
    "        self.scale_ = None\n",
    "    \n",
    "    def fit(self, X, y=None, a=None):\n",
    "        self.mean_ = sum(X)/len(X)\n",
    "        self.scale_ = np.sqrt(sum((self.mean_ - X)**2)/len(X))\n",
    "        return self\n",
    "    \n",
    "    def transform(self, X, y=None, a=None):\n",
    "        return (X - self.mean_)/self.scale_\n",
    "\n",
    "pipe = Pipeline([\n",
    "    ('scale', Transformer())\n",
    "])\n",
    "pipe.fit(feature)"
   ]
  },
  {
   "cell_type": "code",
   "execution_count": 77,
   "metadata": {},
   "outputs": [
    {
     "ename": "TypeError",
     "evalue": "fit() takes from 2 to 3 positional arguments but 4 were given",
     "output_type": "error",
     "traceback": [
      "\u001b[1;31m---------------------------------------------------------------------------\u001b[0m",
      "\u001b[1;31mTypeError\u001b[0m                                 Traceback (most recent call last)",
      "\u001b[1;32m<ipython-input-77-5c1001517828>\u001b[0m in \u001b[0;36m<module>\u001b[1;34m\u001b[0m\n\u001b[1;32m----> 1\u001b[1;33m \u001b[0mpipe\u001b[0m\u001b[1;33m.\u001b[0m\u001b[0mfit\u001b[0m\u001b[1;33m(\u001b[0m\u001b[0mfeature\u001b[0m\u001b[1;33m,\u001b[0m \u001b[1;36m10\u001b[0m\u001b[1;33m,\u001b[0m \u001b[1;36m10\u001b[0m\u001b[1;33m)\u001b[0m\u001b[1;33m\u001b[0m\u001b[1;33m\u001b[0m\u001b[0m\n\u001b[0m",
      "\u001b[1;31mTypeError\u001b[0m: fit() takes from 2 to 3 positional arguments but 4 were given"
     ]
    }
   ],
   "source": [
    "pipe.fit(feature, 10, 10)"
   ]
  },
  {
   "cell_type": "code",
   "execution_count": 76,
   "metadata": {},
   "outputs": [
    {
     "data": {
      "text/plain": [
       "array([ 0.85152767,  0.81771005, -1.07607666,  0.71625719, -0.83935333,\n",
       "        0.91916291, -0.80553571,  0.51335147,  1.46024483, -1.44807048,\n",
       "       -1.61715858, -1.34661762, -1.54952334,  1.29115673,  1.22352149,\n",
       "       -0.9746238 ,  1.66315055,  0.24281051,  0.95298053,  1.22352149,\n",
       "        1.59551531,  0.00608717, -0.46735951,  0.47953385, -1.61715858,\n",
       "        0.00608717,  0.51335147, -1.07607666,  1.32497435,  0.88534529,\n",
       "       -0.06154807, -1.44807048, -0.16300093, -1.61715858,  1.52788007,\n",
       "        1.62933293,  0.00608717,  0.61480433, -1.17752952, -1.44807048,\n",
       "       -1.44807048,  1.22352149, -1.21134714, -0.23063617,  1.66315055,\n",
       "        0.64862195,  1.22352149, -1.27898238,  1.08825101, -0.43354189,\n",
       "       -0.73790047,  1.15588625,  1.25733911,  0.85152767,  0.88534529,\n",
       "       -0.33208903, -1.1437119 ,  0.44571623,  0.31044575,  0.47953385,\n",
       "        1.59551531, -1.21134714, -1.44807048, -1.21134714, -0.90698857,\n",
       "       -0.9746238 , -1.61715858, -0.94080618,  0.24281051, -0.53499475,\n",
       "       -0.39972427,  0.41189861, -0.56881237,  0.24281051, -1.41425286,\n",
       "        1.52788007,  0.91916291,  0.34426337,  0.14135765, -1.51570572,\n",
       "        0.14135765, -0.33208903,  0.78389243,  0.71625719,  1.22352149,\n",
       "        0.27662813, -0.33208903,  0.61480433,  0.14135765, -0.33208903,\n",
       "       -1.38043524,  0.17517527,  0.54716909, -0.09536569,  0.54716909,\n",
       "       -1.61715858,  0.88534529, -0.16300093, -0.46735951, -0.16300093])"
      ]
     },
     "execution_count": 76,
     "metadata": {},
     "output_type": "execute_result"
    }
   ],
   "source": [
    "pipe.transform(feature)"
   ]
  },
  {
   "cell_type": "code",
   "execution_count": 74,
   "metadata": {},
   "outputs": [
    {
     "ename": "TypeError",
     "evalue": "fit_transform() takes from 2 to 3 positional arguments but 4 were given",
     "output_type": "error",
     "traceback": [
      "\u001b[1;31m---------------------------------------------------------------------------\u001b[0m",
      "\u001b[1;31mTypeError\u001b[0m                                 Traceback (most recent call last)",
      "\u001b[1;32m<ipython-input-74-7d0bd2167c20>\u001b[0m in \u001b[0;36m<module>\u001b[1;34m\u001b[0m\n\u001b[1;32m----> 1\u001b[1;33m \u001b[0mpipe\u001b[0m\u001b[1;33m.\u001b[0m\u001b[0mfit_transform\u001b[0m\u001b[1;33m(\u001b[0m\u001b[0mfeature\u001b[0m\u001b[1;33m,\u001b[0m \u001b[1;36m10\u001b[0m\u001b[1;33m,\u001b[0m \u001b[1;36m10\u001b[0m\u001b[1;33m)\u001b[0m\u001b[1;33m\u001b[0m\u001b[1;33m\u001b[0m\u001b[0m\n\u001b[0m",
      "\u001b[1;31mTypeError\u001b[0m: fit_transform() takes from 2 to 3 positional arguments but 4 were given"
     ]
    }
   ],
   "source": [
    "pipe.fit_transform(feature, 10, 10)"
   ]
  },
  {
   "cell_type": "code",
   "execution_count": 78,
   "metadata": {},
   "outputs": [
    {
     "name": "stdout",
     "output_type": "stream",
     "text": [
      "['__abstractmethods__', '__annotations__', '__class__', '__delattr__', '__dict__', '__dir__', '__doc__', '__eq__', '__format__', '__ge__', '__getattribute__', '__getitem__', '__getstate__', '__gt__', '__hash__', '__init__', '__init_subclass__', '__le__', '__len__', '__lt__', '__module__', '__ne__', '__new__', '__reduce__', '__reduce_ex__', '__repr__', '__setattr__', '__setstate__', '__sizeof__', '__str__', '__subclasshook__', '__weakref__', '_abc_impl', '_check_fit_params', '_check_n_features', '_estimator_type', '_final_estimator', '_fit', '_get_param_names', '_get_params', '_get_tags', '_inverse_transform', '_iter', '_log_message', '_more_tags', '_pairwise', '_replace_estimator', '_repr_html_', '_repr_html_inner', '_repr_mimebundle_', '_required_parameters', '_set_params', '_sk_visual_block_', '_transform', '_validate_data', '_validate_names', '_validate_steps', 'classes_', 'decision_function', 'fit', 'fit_predict', 'fit_transform', 'get_params', 'inverse_transform', 'memory', 'n_features_in_', 'named_steps', 'predict', 'predict_log_proba', 'predict_proba', 'score', 'score_samples', 'set_params', 'steps', 'transform', 'verbose']\n"
     ]
    }
   ],
   "source": [
    "print(dir(pipe))"
   ]
  },
  {
   "cell_type": "code",
   "execution_count": 85,
   "metadata": {},
   "outputs": [],
   "source": [
    "class Transformer(BaseEstimator, TransformerMixin):\n",
    "    def __init__(self, mean=None, scale=None):\n",
    "        self.mean_ = None\n",
    "        self.scale_ = None\n",
    "    \n",
    "    def fit(self, X, y=None, a=None):\n",
    "        self.mean_ = sum(X)/len(X)\n",
    "        self.scale_ = np.sqrt(sum((self.mean_ - X)**2)/len(X))\n",
    "        return self\n",
    "    \n",
    "    def transform(self, X, y=None, a=None):\n",
    "        return (X - self.mean_)/self.scale_\n",
    "\n",
    "pipe = Pipeline([\n",
    "    ('sc', Transformer())\n",
    "])\n",
    "#pipe.fit(feature)"
   ]
  },
  {
   "cell_type": "code",
   "execution_count": 86,
   "metadata": {},
   "outputs": [
    {
     "data": {
      "text/plain": [
       "''"
      ]
     },
     "execution_count": 86,
     "metadata": {},
     "output_type": "execute_result"
    }
   ],
   "source": [
    "sc"
   ]
  },
  {
   "cell_type": "code",
   "execution_count": 100,
   "metadata": {},
   "outputs": [
    {
     "ename": "TypeError",
     "evalue": "unhashable type: 'list'",
     "output_type": "error",
     "traceback": [
      "\u001b[1;31m---------------------------------------------------------------------------\u001b[0m",
      "\u001b[1;31mTypeError\u001b[0m                                 Traceback (most recent call last)",
      "\u001b[1;32m<ipython-input-100-74f2d1b92b79>\u001b[0m in \u001b[0;36m<module>\u001b[1;34m\u001b[0m\n\u001b[1;32m----> 1\u001b[1;33m pipe = Pipeline([\n\u001b[0m\u001b[0;32m      2\u001b[0m     \u001b[1;33m(\u001b[0m\u001b[1;33m[\u001b[0m\u001b[1;36m1\u001b[0m\u001b[1;33m,\u001b[0m \u001b[1;36m2\u001b[0m\u001b[1;33m,\u001b[0m \u001b[1;36m3\u001b[0m\u001b[1;33m]\u001b[0m\u001b[1;33m,\u001b[0m \u001b[0mStandardScaler\u001b[0m\u001b[1;33m(\u001b[0m\u001b[1;33m)\u001b[0m\u001b[1;33m)\u001b[0m  \u001b[1;31m# scaler.fit()\u001b[0m\u001b[1;33m\u001b[0m\u001b[1;33m\u001b[0m\u001b[0m\n\u001b[0;32m      3\u001b[0m ])\n",
      "\u001b[1;32mC:\\Anaconda\\lib\\site-packages\\sklearn\\utils\\validation.py\u001b[0m in \u001b[0;36minner_f\u001b[1;34m(*args, **kwargs)\u001b[0m\n\u001b[0;32m     70\u001b[0m                           FutureWarning)\n\u001b[0;32m     71\u001b[0m         \u001b[0mkwargs\u001b[0m\u001b[1;33m.\u001b[0m\u001b[0mupdate\u001b[0m\u001b[1;33m(\u001b[0m\u001b[1;33m{\u001b[0m\u001b[0mk\u001b[0m\u001b[1;33m:\u001b[0m \u001b[0marg\u001b[0m \u001b[1;32mfor\u001b[0m \u001b[0mk\u001b[0m\u001b[1;33m,\u001b[0m \u001b[0marg\u001b[0m \u001b[1;32min\u001b[0m \u001b[0mzip\u001b[0m\u001b[1;33m(\u001b[0m\u001b[0msig\u001b[0m\u001b[1;33m.\u001b[0m\u001b[0mparameters\u001b[0m\u001b[1;33m,\u001b[0m \u001b[0margs\u001b[0m\u001b[1;33m)\u001b[0m\u001b[1;33m}\u001b[0m\u001b[1;33m)\u001b[0m\u001b[1;33m\u001b[0m\u001b[1;33m\u001b[0m\u001b[0m\n\u001b[1;32m---> 72\u001b[1;33m         \u001b[1;32mreturn\u001b[0m \u001b[0mf\u001b[0m\u001b[1;33m(\u001b[0m\u001b[1;33m**\u001b[0m\u001b[0mkwargs\u001b[0m\u001b[1;33m)\u001b[0m\u001b[1;33m\u001b[0m\u001b[1;33m\u001b[0m\u001b[0m\n\u001b[0m\u001b[0;32m     73\u001b[0m     \u001b[1;32mreturn\u001b[0m \u001b[0minner_f\u001b[0m\u001b[1;33m\u001b[0m\u001b[1;33m\u001b[0m\u001b[0m\n\u001b[0;32m     74\u001b[0m \u001b[1;33m\u001b[0m\u001b[0m\n",
      "\u001b[1;32mC:\\Anaconda\\lib\\site-packages\\sklearn\\pipeline.py\u001b[0m in \u001b[0;36m__init__\u001b[1;34m(self, steps, memory, verbose)\u001b[0m\n\u001b[0;32m    112\u001b[0m         \u001b[0mself\u001b[0m\u001b[1;33m.\u001b[0m\u001b[0mmemory\u001b[0m \u001b[1;33m=\u001b[0m \u001b[0mmemory\u001b[0m\u001b[1;33m\u001b[0m\u001b[1;33m\u001b[0m\u001b[0m\n\u001b[0;32m    113\u001b[0m         \u001b[0mself\u001b[0m\u001b[1;33m.\u001b[0m\u001b[0mverbose\u001b[0m \u001b[1;33m=\u001b[0m \u001b[0mverbose\u001b[0m\u001b[1;33m\u001b[0m\u001b[1;33m\u001b[0m\u001b[0m\n\u001b[1;32m--> 114\u001b[1;33m         \u001b[0mself\u001b[0m\u001b[1;33m.\u001b[0m\u001b[0m_validate_steps\u001b[0m\u001b[1;33m(\u001b[0m\u001b[1;33m)\u001b[0m\u001b[1;33m\u001b[0m\u001b[1;33m\u001b[0m\u001b[0m\n\u001b[0m\u001b[0;32m    115\u001b[0m \u001b[1;33m\u001b[0m\u001b[0m\n\u001b[0;32m    116\u001b[0m     \u001b[1;32mdef\u001b[0m \u001b[0mget_params\u001b[0m\u001b[1;33m(\u001b[0m\u001b[0mself\u001b[0m\u001b[1;33m,\u001b[0m \u001b[0mdeep\u001b[0m\u001b[1;33m=\u001b[0m\u001b[1;32mTrue\u001b[0m\u001b[1;33m)\u001b[0m\u001b[1;33m:\u001b[0m\u001b[1;33m\u001b[0m\u001b[1;33m\u001b[0m\u001b[0m\n",
      "\u001b[1;32mC:\\Anaconda\\lib\\site-packages\\sklearn\\pipeline.py\u001b[0m in \u001b[0;36m_validate_steps\u001b[1;34m(self)\u001b[0m\n\u001b[0;32m    146\u001b[0m \u001b[1;33m\u001b[0m\u001b[0m\n\u001b[0;32m    147\u001b[0m         \u001b[1;31m# validate names\u001b[0m\u001b[1;33m\u001b[0m\u001b[1;33m\u001b[0m\u001b[1;33m\u001b[0m\u001b[0m\n\u001b[1;32m--> 148\u001b[1;33m         \u001b[0mself\u001b[0m\u001b[1;33m.\u001b[0m\u001b[0m_validate_names\u001b[0m\u001b[1;33m(\u001b[0m\u001b[0mnames\u001b[0m\u001b[1;33m)\u001b[0m\u001b[1;33m\u001b[0m\u001b[1;33m\u001b[0m\u001b[0m\n\u001b[0m\u001b[0;32m    149\u001b[0m \u001b[1;33m\u001b[0m\u001b[0m\n\u001b[0;32m    150\u001b[0m         \u001b[1;31m# validate estimators\u001b[0m\u001b[1;33m\u001b[0m\u001b[1;33m\u001b[0m\u001b[1;33m\u001b[0m\u001b[0m\n",
      "\u001b[1;32mC:\\Anaconda\\lib\\site-packages\\sklearn\\utils\\metaestimators.py\u001b[0m in \u001b[0;36m_validate_names\u001b[1;34m(self, names)\u001b[0m\n\u001b[0;32m     64\u001b[0m \u001b[1;33m\u001b[0m\u001b[0m\n\u001b[0;32m     65\u001b[0m     \u001b[1;32mdef\u001b[0m \u001b[0m_validate_names\u001b[0m\u001b[1;33m(\u001b[0m\u001b[0mself\u001b[0m\u001b[1;33m,\u001b[0m \u001b[0mnames\u001b[0m\u001b[1;33m)\u001b[0m\u001b[1;33m:\u001b[0m\u001b[1;33m\u001b[0m\u001b[1;33m\u001b[0m\u001b[0m\n\u001b[1;32m---> 66\u001b[1;33m         \u001b[1;32mif\u001b[0m \u001b[0mlen\u001b[0m\u001b[1;33m(\u001b[0m\u001b[0mset\u001b[0m\u001b[1;33m(\u001b[0m\u001b[0mnames\u001b[0m\u001b[1;33m)\u001b[0m\u001b[1;33m)\u001b[0m \u001b[1;33m!=\u001b[0m \u001b[0mlen\u001b[0m\u001b[1;33m(\u001b[0m\u001b[0mnames\u001b[0m\u001b[1;33m)\u001b[0m\u001b[1;33m:\u001b[0m\u001b[1;33m\u001b[0m\u001b[1;33m\u001b[0m\u001b[0m\n\u001b[0m\u001b[0;32m     67\u001b[0m             raise ValueError('Names provided are not unique: '\n\u001b[0;32m     68\u001b[0m                              '{0!r}'.format(list(names)))\n",
      "\u001b[1;31mTypeError\u001b[0m: unhashable type: 'list'"
     ]
    }
   ],
   "source": [
    "pipe = Pipeline([\n",
    "    ([1, 2, 3], StandardScaler())  # scaler.fit()\n",
    "])"
   ]
  },
  {
   "cell_type": "code",
   "execution_count": 101,
   "metadata": {},
   "outputs": [
    {
     "ename": "NameError",
     "evalue": "name 'scaler' is not defined",
     "output_type": "error",
     "traceback": [
      "\u001b[1;31m---------------------------------------------------------------------------\u001b[0m",
      "\u001b[1;31mNameError\u001b[0m                                 Traceback (most recent call last)",
      "\u001b[1;32m<ipython-input-101-76b0c4a37558>\u001b[0m in \u001b[0;36m<module>\u001b[1;34m\u001b[0m\n\u001b[1;32m----> 1\u001b[1;33m \u001b[0mscaler\u001b[0m\u001b[1;33m\u001b[0m\u001b[1;33m\u001b[0m\u001b[0m\n\u001b[0m",
      "\u001b[1;31mNameError\u001b[0m: name 'scaler' is not defined"
     ]
    }
   ],
   "source": [
    "scaler"
   ]
  },
  {
   "cell_type": "markdown",
   "metadata": {},
   "source": [
    "### Multiple Linear Regression\n",
    "\n",
    "    Multi Variant Linear Regression\n",
    "    \n",
    "    \n",
    "        We will have multiple features and a single target\n",
    "        \n",
    "        \n",
    "                Height   Weight   BMI   STEPS\n",
    "                \n",
    "                \n",
    "                STEPS --> Target --> Dependent Features\n",
    "                Height, Weight, BMI, Disease --> Independent Features\n",
    "        "
   ]
  },
  {
   "cell_type": "markdown",
   "metadata": {},
   "source": [
    "$$ \\beta_1 = \\frac{\\sum\\limits_{i=0}^N (x_i - \\bar x)(y_i - \\bar y)} {\\sum\\limits_{i=0}^N (x_i - \\bar x)^2} $$"
   ]
  },
  {
   "cell_type": "markdown",
   "metadata": {},
   "source": [
    "$$ y = \\beta_0 + \\beta_1x_1 + \\beta_2 x_2 + \\beta_3 x_3 + ..... + \\beta_n x_n $$"
   ]
  },
  {
   "cell_type": "markdown",
   "metadata": {},
   "source": [
    "$$ \\beta_1 = \\frac{\\sum\\limits_{i=0}^N (x_{1i} - \\bar x_1)(y_i - \\bar y)} {\\sum\\limits_{i=0}^N (x_{1i} - \\bar x_1)^2} $$\n",
    "\n",
    "$$ \\beta_2 = \\frac{\\sum\\limits_{i=0}^N (x_{2i} - \\bar x_2)(y_i - \\bar y)} {\\sum\\limits_{i=0}^N (x_{2i} - \\bar x_2)^2} $$\n",
    "\n",
    "$$ \\beta_n = \\frac{\\sum\\limits_{i=0}^N (x_{ni} - \\bar x_n)(y_i - \\bar y)} {\\sum\\limits_{i=0}^N (x_{ni} - \\bar x_n)^2} $$\n",
    "\n",
    "$$ \\beta_0 = \\bar y - (\\beta_1 \\bar x_1 + \\beta_2 \\bar x_2 + \\beta_3 \\bar x_3 + ..... + \\beta_n \\bar x_n) $$"
   ]
  },
  {
   "cell_type": "markdown",
   "metadata": {},
   "source": [
    "#### Without Vector form of equation is \n",
    "\n",
    "$$ y = \\theta_0 + \\theta_1 x $$\n",
    "\n",
    "#### With Vector form of equation is \n",
    "\n",
    "$$ y = \\theta.X $$"
   ]
  },
  {
   "cell_type": "code",
   "execution_count": null,
   "metadata": {},
   "outputs": [],
   "source": []
  }
 ],
 "metadata": {
  "kernelspec": {
   "display_name": "Python 3",
   "language": "python",
   "name": "python3"
  },
  "language_info": {
   "codemirror_mode": {
    "name": "ipython",
    "version": 3
   },
   "file_extension": ".py",
   "mimetype": "text/x-python",
   "name": "python",
   "nbconvert_exporter": "python",
   "pygments_lexer": "ipython3",
   "version": "3.8.5"
  }
 },
 "nbformat": 4,
 "nbformat_minor": 4
}
