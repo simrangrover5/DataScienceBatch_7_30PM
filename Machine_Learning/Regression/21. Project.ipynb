{
 "cells": [
  {
   "cell_type": "code",
   "execution_count": 1,
   "metadata": {},
   "outputs": [],
   "source": [
    "import pandas as pd\n",
    "import numpy as np\n",
    "import matplotlib.pyplot as plt\n",
    "import seaborn as sns"
   ]
  },
  {
   "cell_type": "markdown",
   "metadata": {},
   "source": [
    "    py to exe \n",
    "    \n",
    "    \n",
    "    exe"
   ]
  },
  {
   "cell_type": "code",
   "execution_count": 105,
   "metadata": {},
   "outputs": [],
   "source": [
    "data = pd.read_csv(\"../datasets/student_scores.csv\")\n"
   ]
  },
  {
   "cell_type": "code",
   "execution_count": 3,
   "metadata": {},
   "outputs": [],
   "source": [
    "from sklearn.metrics import r2_score, mean_absolute_error\n",
    "from sklearn.linear_model import LinearRegression\n",
    "from sklearn.model_selection import train_test_split"
   ]
  },
  {
   "cell_type": "code",
   "execution_count": 106,
   "metadata": {},
   "outputs": [
    {
     "data": {
      "text/html": [
       "<div>\n",
       "<style scoped>\n",
       "    .dataframe tbody tr th:only-of-type {\n",
       "        vertical-align: middle;\n",
       "    }\n",
       "\n",
       "    .dataframe tbody tr th {\n",
       "        vertical-align: top;\n",
       "    }\n",
       "\n",
       "    .dataframe thead th {\n",
       "        text-align: right;\n",
       "    }\n",
       "</style>\n",
       "<table border=\"1\" class=\"dataframe\">\n",
       "  <thead>\n",
       "    <tr style=\"text-align: right;\">\n",
       "      <th></th>\n",
       "      <th>x1</th>\n",
       "      <th>x2</th>\n",
       "      <th>x3</th>\n",
       "      <th>x4</th>\n",
       "      <th>x5</th>\n",
       "      <th>x6</th>\n",
       "      <th>x7</th>\n",
       "      <th>x8</th>\n",
       "      <th>x9</th>\n",
       "      <th>x10</th>\n",
       "      <th>...</th>\n",
       "      <th>x28</th>\n",
       "      <th>x29</th>\n",
       "      <th>x30</th>\n",
       "      <th>x31</th>\n",
       "      <th>x32</th>\n",
       "      <th>x33</th>\n",
       "      <th>x34</th>\n",
       "      <th>x35</th>\n",
       "      <th>x36</th>\n",
       "      <th>y</th>\n",
       "    </tr>\n",
       "  </thead>\n",
       "  <tbody>\n",
       "    <tr>\n",
       "      <th>0</th>\n",
       "      <td>1.0</td>\n",
       "      <td>0.0</td>\n",
       "      <td>0.0</td>\n",
       "      <td>0.0</td>\n",
       "      <td>0.0</td>\n",
       "      <td>0.0</td>\n",
       "      <td>0.0</td>\n",
       "      <td>0.0</td>\n",
       "      <td>0.0</td>\n",
       "      <td>0.0</td>\n",
       "      <td>...</td>\n",
       "      <td>0.0</td>\n",
       "      <td>0.0</td>\n",
       "      <td>1.0</td>\n",
       "      <td>1.0</td>\n",
       "      <td>0.0</td>\n",
       "      <td>1.0</td>\n",
       "      <td>0.0</td>\n",
       "      <td>20.0</td>\n",
       "      <td>62.0</td>\n",
       "      <td>72.0</td>\n",
       "    </tr>\n",
       "    <tr>\n",
       "      <th>1</th>\n",
       "      <td>1.0</td>\n",
       "      <td>0.0</td>\n",
       "      <td>0.0</td>\n",
       "      <td>0.0</td>\n",
       "      <td>0.0</td>\n",
       "      <td>0.0</td>\n",
       "      <td>0.0</td>\n",
       "      <td>0.0</td>\n",
       "      <td>0.0</td>\n",
       "      <td>0.0</td>\n",
       "      <td>...</td>\n",
       "      <td>0.0</td>\n",
       "      <td>0.0</td>\n",
       "      <td>1.0</td>\n",
       "      <td>1.0</td>\n",
       "      <td>0.0</td>\n",
       "      <td>1.0</td>\n",
       "      <td>0.0</td>\n",
       "      <td>20.0</td>\n",
       "      <td>66.0</td>\n",
       "      <td>79.0</td>\n",
       "    </tr>\n",
       "    <tr>\n",
       "      <th>2</th>\n",
       "      <td>1.0</td>\n",
       "      <td>0.0</td>\n",
       "      <td>0.0</td>\n",
       "      <td>0.0</td>\n",
       "      <td>0.0</td>\n",
       "      <td>0.0</td>\n",
       "      <td>0.0</td>\n",
       "      <td>0.0</td>\n",
       "      <td>0.0</td>\n",
       "      <td>0.0</td>\n",
       "      <td>...</td>\n",
       "      <td>0.0</td>\n",
       "      <td>0.0</td>\n",
       "      <td>1.0</td>\n",
       "      <td>0.0</td>\n",
       "      <td>1.0</td>\n",
       "      <td>1.0</td>\n",
       "      <td>0.0</td>\n",
       "      <td>20.0</td>\n",
       "      <td>64.0</td>\n",
       "      <td>76.0</td>\n",
       "    </tr>\n",
       "    <tr>\n",
       "      <th>3</th>\n",
       "      <td>1.0</td>\n",
       "      <td>0.0</td>\n",
       "      <td>0.0</td>\n",
       "      <td>0.0</td>\n",
       "      <td>0.0</td>\n",
       "      <td>0.0</td>\n",
       "      <td>0.0</td>\n",
       "      <td>0.0</td>\n",
       "      <td>0.0</td>\n",
       "      <td>0.0</td>\n",
       "      <td>...</td>\n",
       "      <td>0.0</td>\n",
       "      <td>0.0</td>\n",
       "      <td>1.0</td>\n",
       "      <td>1.0</td>\n",
       "      <td>0.0</td>\n",
       "      <td>1.0</td>\n",
       "      <td>0.0</td>\n",
       "      <td>20.0</td>\n",
       "      <td>61.0</td>\n",
       "      <td>77.0</td>\n",
       "    </tr>\n",
       "    <tr>\n",
       "      <th>4</th>\n",
       "      <td>1.0</td>\n",
       "      <td>0.0</td>\n",
       "      <td>0.0</td>\n",
       "      <td>0.0</td>\n",
       "      <td>0.0</td>\n",
       "      <td>0.0</td>\n",
       "      <td>0.0</td>\n",
       "      <td>0.0</td>\n",
       "      <td>0.0</td>\n",
       "      <td>0.0</td>\n",
       "      <td>...</td>\n",
       "      <td>0.0</td>\n",
       "      <td>0.0</td>\n",
       "      <td>1.0</td>\n",
       "      <td>0.0</td>\n",
       "      <td>1.0</td>\n",
       "      <td>1.0</td>\n",
       "      <td>0.0</td>\n",
       "      <td>20.0</td>\n",
       "      <td>64.0</td>\n",
       "      <td>76.0</td>\n",
       "    </tr>\n",
       "  </tbody>\n",
       "</table>\n",
       "<p>5 rows × 37 columns</p>\n",
       "</div>"
      ],
      "text/plain": [
       "    x1   x2   x3   x4   x5   x6   x7   x8   x9  x10  ...  x28  x29  x30  x31  \\\n",
       "0  1.0  0.0  0.0  0.0  0.0  0.0  0.0  0.0  0.0  0.0  ...  0.0  0.0  1.0  1.0   \n",
       "1  1.0  0.0  0.0  0.0  0.0  0.0  0.0  0.0  0.0  0.0  ...  0.0  0.0  1.0  1.0   \n",
       "2  1.0  0.0  0.0  0.0  0.0  0.0  0.0  0.0  0.0  0.0  ...  0.0  0.0  1.0  0.0   \n",
       "3  1.0  0.0  0.0  0.0  0.0  0.0  0.0  0.0  0.0  0.0  ...  0.0  0.0  1.0  1.0   \n",
       "4  1.0  0.0  0.0  0.0  0.0  0.0  0.0  0.0  0.0  0.0  ...  0.0  0.0  1.0  0.0   \n",
       "\n",
       "   x32  x33  x34   x35   x36     y  \n",
       "0  0.0  1.0  0.0  20.0  62.0  72.0  \n",
       "1  0.0  1.0  0.0  20.0  66.0  79.0  \n",
       "2  1.0  1.0  0.0  20.0  64.0  76.0  \n",
       "3  0.0  1.0  0.0  20.0  61.0  77.0  \n",
       "4  1.0  1.0  0.0  20.0  64.0  76.0  \n",
       "\n",
       "[5 rows x 37 columns]"
      ]
     },
     "execution_count": 106,
     "metadata": {},
     "output_type": "execute_result"
    }
   ],
   "source": [
    "data.head()"
   ]
  },
  {
   "cell_type": "code",
   "execution_count": 107,
   "metadata": {},
   "outputs": [],
   "source": [
    "features = data.drop(\"y\", axis=1)\n",
    "target = data['y']"
   ]
  },
  {
   "cell_type": "code",
   "execution_count": 108,
   "metadata": {},
   "outputs": [],
   "source": [
    "X_train, X_test, Y_train, Y_test = train_test_split(features, target)"
   ]
  },
  {
   "cell_type": "code",
   "execution_count": 109,
   "metadata": {},
   "outputs": [
    {
     "data": {
      "text/plain": [
       "36"
      ]
     },
     "execution_count": 109,
     "metadata": {},
     "output_type": "execute_result"
    }
   ],
   "source": [
    "len(features.columns)"
   ]
  },
  {
   "cell_type": "code",
   "execution_count": 113,
   "metadata": {},
   "outputs": [],
   "source": [
    "class MyLinearRegression:\n",
    "    def __init__(self):\n",
    "        self._coef = None\n",
    "        self._intercept = None\n",
    "    \n",
    "    def fit(self, feature, target):\n",
    "        \"\"\"This method will make our model learn and find the best values \n",
    "        of coeffiecient and intercept\"\"\"\n",
    "        feature = np.array(feature)\n",
    "        target = np.array(target)\n",
    "        X = np.c_[np.ones(len(feature)), feature]\n",
    "        self.theta = (np.linalg.pinv(X.T.dot(X))).dot(X.T).dot(target)\n",
    "        self.coef_ = self.theta[1:]\n",
    "        self.intercept_ = self.theta[0]\n",
    "        \n",
    "    def predict(self, X_test):\n",
    "        try:\n",
    "            len(X_test)\n",
    "        except:\n",
    "            raise ValueError(\"Testing Data Should Be Iterable Object\") \n",
    "        else:\n",
    "            X = np.array(X_test)\n",
    "            X = np.c_[np.ones(len(X_test)), X]\n",
    "            y_test = self.theta.dot(X.T)\n",
    "            return y_test\n",
    "        \n",
    "    def mean_absolute_error(self, y, y_hat):\n",
    "        return (abs((y - y_hat)).sum())/len(y)\n",
    "    \n",
    "    def mean_square_error(self, y, y_hat):\n",
    "        return (((y - y_hat)**2).sum())/len(y)\n",
    "    \n",
    "    def rmse(self, y, y_hat):\n",
    "        return np.sqrt((((y - y_hat)**2).sum())/len(y))\n",
    "\n",
    "    def r2_score(self, y, y_hat):\n",
    "        r2score = 1 - (sum((y - y_hat)**2) / sum((y - y.mean())**2))\n",
    "        return r2score"
   ]
  },
  {
   "cell_type": "code",
   "execution_count": 114,
   "metadata": {},
   "outputs": [
    {
     "name": "stdout",
     "output_type": "stream",
     "text": [
      "*********************************INBUILT MODEL**********************************\n",
      "\n",
      " Coeff :  [ 0.89771081 -0.82257795  1.66219166  1.02807748 -1.24704548]\n",
      "\n",
      " Intercept :  23.29396688381496\n",
      "\n",
      " Predicted Values :  [75.76284196 73.74266529 84.63820532 58.65954404 58.41528228]\n",
      "\n",
      " Actual Values :  [77. 76. 87. 56. 50.]\n",
      "\n",
      " Score :  94.47789952103986\n",
      "\n",
      " Error :  2.4548616292279464\n",
      "\n",
      "********************************************************************************\n"
     ]
    }
   ],
   "source": [
    "print(\"INBUILT MODEL\".center(80, \"*\"))\n",
    "model = LinearRegression()\n",
    "model.fit(X_train, Y_train)\n",
    "print(\"\\n Coeff : \", model.coef_[:5])\n",
    "print(\"\\n Intercept : \", model.intercept_)\n",
    "pred = model.predict(X_test)\n",
    "print(\"\\n Predicted Values : \", pred[:5])\n",
    "print(\"\\n Actual Values : \", Y_test[:5].values)\n",
    "score = r2_score(Y_test, pred)\n",
    "print(\"\\n Score : \", score*100)\n",
    "print(\"\\n Error : \", mean_absolute_error(Y_test, pred))\n",
    "print()\n",
    "print(\"*\"*80)"
   ]
  },
  {
   "cell_type": "code",
   "execution_count": 115,
   "metadata": {},
   "outputs": [
    {
     "name": "stdout",
     "output_type": "stream",
     "text": [
      "************************************My MODEL************************************\n",
      "\n",
      " Coeff :  [ 1.26939216 -0.35797627  2.03387301  1.20230311 -0.97989951]\n",
      "\n",
      " Intercept :  6.887719951217257\n",
      "\n",
      " Predicted Values :  [75.76284196 73.74266529 84.63820532 58.65954404 58.41528228]\n",
      "\n",
      " Actual Values :  [77. 76. 87. 56. 50.]\n",
      "\n",
      " Score :  94.47789952103889\n",
      "\n",
      " Error :  2.4548616292287275\n",
      "\n",
      "********************************************************************************\n"
     ]
    }
   ],
   "source": [
    "print(\"My MODEL\".center(80, \"*\"))\n",
    "mymodel = MyLinearRegression()\n",
    "mymodel.fit(X_train, Y_train)\n",
    "print(\"\\n Coeff : \", mymodel.coef_[:5])\n",
    "print(\"\\n Intercept : \", mymodel.intercept_)\n",
    "mypred = mymodel.predict(X_test)\n",
    "print(\"\\n Predicted Values : \", mypred[:5])\n",
    "print(\"\\n Actual Values : \", Y_test[:5].values)\n",
    "score = r2_score(Y_test, mypred)\n",
    "print(\"\\n Score : \", score*100)\n",
    "print(\"\\n Error : \", mean_absolute_error(Y_test, mypred))\n",
    "print()\n",
    "print(\"*\"*80)"
   ]
  },
  {
   "cell_type": "code",
   "execution_count": 116,
   "metadata": {},
   "outputs": [],
   "source": [
    "ori = pd.read_csv(\"../datasets/test_scores.csv\")"
   ]
  },
  {
   "cell_type": "code",
   "execution_count": 13,
   "metadata": {},
   "outputs": [
    {
     "data": {
      "text/html": [
       "<div>\n",
       "<style scoped>\n",
       "    .dataframe tbody tr th:only-of-type {\n",
       "        vertical-align: middle;\n",
       "    }\n",
       "\n",
       "    .dataframe tbody tr th {\n",
       "        vertical-align: top;\n",
       "    }\n",
       "\n",
       "    .dataframe thead th {\n",
       "        text-align: right;\n",
       "    }\n",
       "</style>\n",
       "<table border=\"1\" class=\"dataframe\">\n",
       "  <thead>\n",
       "    <tr style=\"text-align: right;\">\n",
       "      <th></th>\n",
       "      <th>school</th>\n",
       "      <th>school_setting</th>\n",
       "      <th>school_type</th>\n",
       "      <th>classroom</th>\n",
       "      <th>teaching_method</th>\n",
       "      <th>n_student</th>\n",
       "      <th>student_id</th>\n",
       "      <th>gender</th>\n",
       "      <th>lunch</th>\n",
       "      <th>pretest</th>\n",
       "      <th>posttest</th>\n",
       "    </tr>\n",
       "  </thead>\n",
       "  <tbody>\n",
       "    <tr>\n",
       "      <th>0</th>\n",
       "      <td>ANKYI</td>\n",
       "      <td>Urban</td>\n",
       "      <td>Non-public</td>\n",
       "      <td>6OL</td>\n",
       "      <td>Standard</td>\n",
       "      <td>20.0</td>\n",
       "      <td>2FHT3</td>\n",
       "      <td>Female</td>\n",
       "      <td>Does not qualify</td>\n",
       "      <td>62.0</td>\n",
       "      <td>72.0</td>\n",
       "    </tr>\n",
       "    <tr>\n",
       "      <th>1</th>\n",
       "      <td>ANKYI</td>\n",
       "      <td>Urban</td>\n",
       "      <td>Non-public</td>\n",
       "      <td>6OL</td>\n",
       "      <td>Standard</td>\n",
       "      <td>20.0</td>\n",
       "      <td>3JIVH</td>\n",
       "      <td>Female</td>\n",
       "      <td>Does not qualify</td>\n",
       "      <td>66.0</td>\n",
       "      <td>79.0</td>\n",
       "    </tr>\n",
       "    <tr>\n",
       "      <th>2</th>\n",
       "      <td>ANKYI</td>\n",
       "      <td>Urban</td>\n",
       "      <td>Non-public</td>\n",
       "      <td>6OL</td>\n",
       "      <td>Standard</td>\n",
       "      <td>20.0</td>\n",
       "      <td>3XOWE</td>\n",
       "      <td>Male</td>\n",
       "      <td>Does not qualify</td>\n",
       "      <td>64.0</td>\n",
       "      <td>76.0</td>\n",
       "    </tr>\n",
       "    <tr>\n",
       "      <th>3</th>\n",
       "      <td>ANKYI</td>\n",
       "      <td>Urban</td>\n",
       "      <td>Non-public</td>\n",
       "      <td>6OL</td>\n",
       "      <td>Standard</td>\n",
       "      <td>20.0</td>\n",
       "      <td>556O0</td>\n",
       "      <td>Female</td>\n",
       "      <td>Does not qualify</td>\n",
       "      <td>61.0</td>\n",
       "      <td>77.0</td>\n",
       "    </tr>\n",
       "    <tr>\n",
       "      <th>4</th>\n",
       "      <td>ANKYI</td>\n",
       "      <td>Urban</td>\n",
       "      <td>Non-public</td>\n",
       "      <td>6OL</td>\n",
       "      <td>Standard</td>\n",
       "      <td>20.0</td>\n",
       "      <td>74LOE</td>\n",
       "      <td>Male</td>\n",
       "      <td>Does not qualify</td>\n",
       "      <td>64.0</td>\n",
       "      <td>76.0</td>\n",
       "    </tr>\n",
       "  </tbody>\n",
       "</table>\n",
       "</div>"
      ],
      "text/plain": [
       "  school school_setting school_type classroom teaching_method  n_student  \\\n",
       "0  ANKYI          Urban  Non-public       6OL        Standard       20.0   \n",
       "1  ANKYI          Urban  Non-public       6OL        Standard       20.0   \n",
       "2  ANKYI          Urban  Non-public       6OL        Standard       20.0   \n",
       "3  ANKYI          Urban  Non-public       6OL        Standard       20.0   \n",
       "4  ANKYI          Urban  Non-public       6OL        Standard       20.0   \n",
       "\n",
       "  student_id  gender             lunch  pretest  posttest  \n",
       "0      2FHT3  Female  Does not qualify     62.0      72.0  \n",
       "1      3JIVH  Female  Does not qualify     66.0      79.0  \n",
       "2      3XOWE    Male  Does not qualify     64.0      76.0  \n",
       "3      556O0  Female  Does not qualify     61.0      77.0  \n",
       "4      74LOE    Male  Does not qualify     64.0      76.0  "
      ]
     },
     "execution_count": 13,
     "metadata": {},
     "output_type": "execute_result"
    }
   ],
   "source": [
    "ori.head()"
   ]
  },
  {
   "cell_type": "code",
   "execution_count": 118,
   "metadata": {},
   "outputs": [],
   "source": [
    "ori.drop(\"school\", axis=1, inplace=True)"
   ]
  },
  {
   "cell_type": "code",
   "execution_count": 119,
   "metadata": {},
   "outputs": [],
   "source": [
    "ori.drop(\"student_id\", axis=1, inplace=True)"
   ]
  },
  {
   "cell_type": "code",
   "execution_count": 15,
   "metadata": {},
   "outputs": [
    {
     "data": {
      "text/plain": [
       "(2133, 10)"
      ]
     },
     "execution_count": 15,
     "metadata": {},
     "output_type": "execute_result"
    }
   ],
   "source": [
    "ori.shape"
   ]
  },
  {
   "cell_type": "code",
   "execution_count": 17,
   "metadata": {},
   "outputs": [
    {
     "data": {
      "text/plain": [
       "Urban       906\n",
       "Suburban    717\n",
       "Rural       510\n",
       "Name: school_setting, dtype: int64"
      ]
     },
     "execution_count": 17,
     "metadata": {},
     "output_type": "execute_result"
    }
   ],
   "source": [
    "ori['school_setting'].value_counts()"
   ]
  },
  {
   "cell_type": "code",
   "execution_count": 18,
   "metadata": {},
   "outputs": [
    {
     "data": {
      "text/plain": [
       "Public        1582\n",
       "Non-public     551\n",
       "Name: school_type, dtype: int64"
      ]
     },
     "execution_count": 18,
     "metadata": {},
     "output_type": "execute_result"
    }
   ],
   "source": [
    "ori['school_type'].value_counts()"
   ]
  },
  {
   "cell_type": "code",
   "execution_count": 19,
   "metadata": {},
   "outputs": [
    {
     "data": {
      "text/plain": [
       "18K    31\n",
       "Q0E    30\n",
       "ZBH    30\n",
       "QA2    30\n",
       "A93    30\n",
       "       ..\n",
       "SSP    15\n",
       "KR1    15\n",
       "IQN    15\n",
       "JGD    14\n",
       "197    14\n",
       "Name: classroom, Length: 97, dtype: int64"
      ]
     },
     "execution_count": 19,
     "metadata": {},
     "output_type": "execute_result"
    }
   ],
   "source": [
    "ori['classroom'].value_counts()"
   ]
  },
  {
   "cell_type": "code",
   "execution_count": 117,
   "metadata": {},
   "outputs": [],
   "source": [
    "ori.drop(\"classroom\", axis=1, inplace=True)"
   ]
  },
  {
   "cell_type": "code",
   "execution_count": 120,
   "metadata": {},
   "outputs": [],
   "source": [
    "cat = ['school_setting', 'school_type', 'gender', 'teaching_method', 'lunch']"
   ]
  },
  {
   "cell_type": "code",
   "execution_count": 36,
   "metadata": {},
   "outputs": [],
   "source": [
    "from sklearn.pipeline import Pipeline\n",
    "from sklearn.preprocessing import OrdinalEncoder, OneHotEncoder\n",
    "from sklearn.compose import ColumnTransformer\n",
    "from sklearn.impute import SimpleImputer"
   ]
  },
  {
   "cell_type": "code",
   "execution_count": 33,
   "metadata": {},
   "outputs": [],
   "source": [
    "num = Pipeline([\n",
    "    ('clean', SimpleImputer(strategy='median'))\n",
    "])"
   ]
  },
  {
   "cell_type": "code",
   "execution_count": 121,
   "metadata": {},
   "outputs": [],
   "source": [
    "num_attribs = ['n_student', 'pretest']\n",
    "cat_attribs = cat\n",
    "full_pipeline = ColumnTransformer([\n",
    " (\"num\", num, num_attribs),\n",
    " (\"cat\", OneHotEncoder(), cat_attribs),\n",
    " ])\n",
    "clean = full_pipeline.fit_transform(ori)\n"
   ]
  },
  {
   "cell_type": "code",
   "execution_count": 122,
   "metadata": {},
   "outputs": [
    {
     "data": {
      "text/plain": [
       "array([[20., 62.,  0., ...,  1.,  1.,  0.],\n",
       "       [20., 66.,  0., ...,  1.,  1.,  0.],\n",
       "       [20., 64.,  0., ...,  1.,  1.,  0.],\n",
       "       ...,\n",
       "       [30., 45.,  0., ...,  1.,  0.,  1.],\n",
       "       [30., 46.,  0., ...,  1.,  0.,  1.],\n",
       "       [30., 41.,  0., ...,  1.,  0.,  1.]])"
      ]
     },
     "execution_count": 122,
     "metadata": {},
     "output_type": "execute_result"
    }
   ],
   "source": [
    "clean"
   ]
  },
  {
   "cell_type": "code",
   "execution_count": 123,
   "metadata": {},
   "outputs": [],
   "source": [
    "target = ori['posttest']"
   ]
  },
  {
   "cell_type": "code",
   "execution_count": 124,
   "metadata": {},
   "outputs": [
    {
     "data": {
      "text/plain": [
       "(2133, 13)"
      ]
     },
     "execution_count": 124,
     "metadata": {},
     "output_type": "execute_result"
    }
   ],
   "source": [
    "clean.shape"
   ]
  },
  {
   "cell_type": "code",
   "execution_count": 125,
   "metadata": {},
   "outputs": [],
   "source": [
    "X_train, X_test, Y_train, Y_test = train_test_split(clean, target)"
   ]
  },
  {
   "cell_type": "code",
   "execution_count": 126,
   "metadata": {},
   "outputs": [
    {
     "name": "stdout",
     "output_type": "stream",
     "text": [
      "*********************************INBUILT MODEL**********************************\n",
      "\n",
      " Coeff :  [-0.09375344  0.90527471 -0.39235278  0.51683124 -0.12447846]\n",
      "\n",
      " Intercept :  20.310102029110503\n",
      "\n",
      " Predicted Values :  [74.15697126 58.7914809  68.64977121 60.8071048  43.89386235]\n",
      "\n",
      " Actual Values :  [79. 55. 69. 59. 41.]\n",
      "\n",
      " Score :  94.85971470981332\n",
      "\n",
      " Error :  2.5245316484885905\n",
      "\n",
      "********************************************************************************\n"
     ]
    }
   ],
   "source": [
    "print(\"INBUILT MODEL\".center(80, \"*\"))\n",
    "model = LinearRegression()\n",
    "model.fit(X_train, Y_train)\n",
    "print(\"\\n Coeff : \", model.coef_[:5])\n",
    "print(\"\\n Intercept : \", model.intercept_)\n",
    "pred = model.predict(X_test)\n",
    "print(\"\\n Predicted Values : \", pred[:5])\n",
    "print(\"\\n Actual Values : \", Y_test[:5].values)\n",
    "score = r2_score(Y_test, pred)\n",
    "print(\"\\n Score : \", score*100)\n",
    "print(\"\\n Error : \", mean_absolute_error(Y_test, pred))\n",
    "print()\n",
    "print(\"*\"*80)"
   ]
  },
  {
   "cell_type": "code",
   "execution_count": 127,
   "metadata": {},
   "outputs": [
    {
     "name": "stdout",
     "output_type": "stream",
     "text": [
      "************************************My MODEL************************************\n",
      "\n",
      " Coeff :  [-0.09375344  0.90527471  1.63865742  2.54784144  1.90653174]\n",
      "\n",
      " Intercept :  6.093030608743834\n",
      "\n",
      " Predicted Values :  [74.15697126 58.7914809  68.64977121 60.8071048  43.89386235]\n",
      "\n",
      " Actual Values :  [79. 55. 69. 59. 41.]\n",
      "\n",
      " Score :  94.85971470981312\n",
      "\n",
      " Error :  2.5245316484885074\n",
      "\n",
      "********************************************************************************\n"
     ]
    }
   ],
   "source": [
    "print(\"My MODEL\".center(80, \"*\"))\n",
    "mymodel = MyLinearRegression()\n",
    "mymodel.fit(X_train, Y_train)\n",
    "print(\"\\n Coeff : \", mymodel.coef_[:5])\n",
    "print(\"\\n Intercept : \", mymodel.intercept_)\n",
    "mypred = mymodel.predict(X_test)\n",
    "print(\"\\n Predicted Values : \", mypred[:5])\n",
    "print(\"\\n Actual Values : \", Y_test[:5].values)\n",
    "score = r2_score(Y_test, mypred)\n",
    "print(\"\\n Score : \", score*100)\n",
    "print(\"\\n Error : \", mean_absolute_error(Y_test, mypred))\n",
    "print()\n",
    "print(\"*\"*80)"
   ]
  },
  {
   "cell_type": "code",
   "execution_count": 50,
   "metadata": {},
   "outputs": [
    {
     "data": {
      "text/plain": [
       "array([27., 51.,  0.,  0.,  1.,  1.,  0.,  0.,  1.,  1.,  0.,  1.,  0.])"
      ]
     },
     "execution_count": 50,
     "metadata": {},
     "output_type": "execute_result"
    }
   ],
   "source": [
    "X_train[0]"
   ]
  },
  {
   "cell_type": "code",
   "execution_count": 53,
   "metadata": {},
   "outputs": [],
   "source": [
    "cat = ['gender', 'teaching_method', 'lunch']\n",
    "num_attribs = ['n_student', 'pretest']\n",
    "cat_attribs = cat\n",
    "full_pipeline = ColumnTransformer([\n",
    " (\"num\", num, num_attribs),\n",
    " (\"cat\", OneHotEncoder(), cat_attribs),\n",
    " ])\n",
    "clean = full_pipeline.fit_transform(ori)\n"
   ]
  },
  {
   "cell_type": "code",
   "execution_count": 55,
   "metadata": {},
   "outputs": [],
   "source": [
    "X_train, X_test, Y_train, Y_test = train_test_split(clean, target)"
   ]
  },
  {
   "cell_type": "code",
   "execution_count": 56,
   "metadata": {},
   "outputs": [
    {
     "name": "stdout",
     "output_type": "stream",
     "text": [
      "*********************************INBUILT MODEL**********************************\n",
      "\n",
      " Coeff :  [-0.07504381  0.92649908  0.01272394 -0.01272394  3.07498271]\n",
      "\n",
      " Intercept :  18.7311735644235\n",
      "\n",
      " Predicted Values :  [80.49336274 51.4752917  56.53442735 72.7409785  48.72124236]\n",
      "\n",
      " Actual Values :  [78. 51. 55. 73. 51.]\n",
      "\n",
      " Score :  94.90761233224848\n",
      "\n",
      " Error :  2.5140284878189982\n",
      "\n",
      "********************************************************************************\n"
     ]
    }
   ],
   "source": [
    "print(\"INBUILT MODEL\".center(80, \"*\"))\n",
    "model = LinearRegression()\n",
    "model.fit(X_train, Y_train)\n",
    "print(\"\\n Coeff : \", model.coef_[:5])\n",
    "print(\"\\n Intercept : \", model.intercept_)\n",
    "pred = model.predict(X_test)\n",
    "print(\"\\n Predicted Values : \", pred[:5])\n",
    "print(\"\\n Actual Values : \", Y_test[:5].values)\n",
    "score = r2_score(Y_test, pred)\n",
    "print(\"\\n Score : \", score*100)\n",
    "print(\"\\n Error : \", mean_absolute_error(Y_test, pred))\n",
    "print()\n",
    "print(\"*\"*80)"
   ]
  },
  {
   "cell_type": "code",
   "execution_count": 57,
   "metadata": {},
   "outputs": [
    {
     "name": "stdout",
     "output_type": "stream",
     "text": [
      "************************************My MODEL************************************\n",
      "\n",
      " Coeff :  [ 4.15900898e+02  8.93032495e+01  4.21061186e+18  4.21061186e+18\n",
      " -3.54177212e+17]\n",
      "\n",
      " Intercept :  -3.8564346460013107e+18\n",
      "\n",
      " Predicted Values :  [4994.8870007 2176.        4608.        2048.        1024.       ]\n",
      "\n",
      " Actual Values :  [78. 51. 55. 73. 51.]\n",
      "\n",
      " Score :  -4267363.090216803\n",
      "\n",
      " Error :  2500.57960372471\n",
      "\n",
      "********************************************************************************\n"
     ]
    }
   ],
   "source": [
    "print(\"My MODEL\".center(80, \"*\"))\n",
    "mymodel = MyLinearRegression()\n",
    "mymodel.fit(X_train, Y_train)\n",
    "print(\"\\n Coeff : \", mymodel.coef_[:5])\n",
    "print(\"\\n Intercept : \", mymodel.intercept_)\n",
    "mypred = mymodel.predict(X_test)\n",
    "print(\"\\n Predicted Values : \", mypred[:5])\n",
    "print(\"\\n Actual Values : \", Y_test[:5].values)\n",
    "score = r2_score(Y_test, mypred)\n",
    "print(\"\\n Score : \", score*100)\n",
    "print(\"\\n Error : \", mean_absolute_error(Y_test, mypred))\n",
    "print()\n",
    "print(\"*\"*80)"
   ]
  },
  {
   "cell_type": "code",
   "execution_count": 58,
   "metadata": {},
   "outputs": [],
   "source": [
    "X_train, X_test, Y_train, Y_test = train_test_split(ori[['n_student', 'pretest']], target)"
   ]
  },
  {
   "cell_type": "code",
   "execution_count": 59,
   "metadata": {},
   "outputs": [
    {
     "name": "stdout",
     "output_type": "stream",
     "text": [
      "*********************************INBUILT MODEL**********************************\n",
      "\n",
      " Coeff :  [-0.11221601  0.96366889]\n",
      "\n",
      " Intercept :  16.656766417737074\n",
      "\n",
      " Predicted Values :  [84.46990225 70.19302573 55.57950118 73.37440522 68.15347194]\n",
      "\n",
      " Actual Values :  [84. 67. 59. 69. 72.]\n",
      "\n",
      " Score :  91.21831919940074\n",
      "\n",
      " Error :  3.4421352931233558\n",
      "\n",
      "********************************************************************************\n"
     ]
    }
   ],
   "source": [
    "print(\"INBUILT MODEL\".center(80, \"*\"))\n",
    "model = LinearRegression()\n",
    "model.fit(X_train, Y_train)\n",
    "print(\"\\n Coeff : \", model.coef_[:5])\n",
    "print(\"\\n Intercept : \", model.intercept_)\n",
    "pred = model.predict(X_test)\n",
    "print(\"\\n Predicted Values : \", pred[:5])\n",
    "print(\"\\n Actual Values : \", Y_test[:5].values)\n",
    "score = r2_score(Y_test, pred)\n",
    "print(\"\\n Score : \", score*100)\n",
    "print(\"\\n Error : \", mean_absolute_error(Y_test, pred))\n",
    "print()\n",
    "print(\"*\"*80)"
   ]
  },
  {
   "cell_type": "code",
   "execution_count": 60,
   "metadata": {},
   "outputs": [
    {
     "name": "stdout",
     "output_type": "stream",
     "text": [
      "************************************My MODEL************************************\n",
      "\n",
      " Coeff :  [-0.11221601  0.96366889]\n",
      "\n",
      " Intercept :  16.65676641773689\n",
      "\n",
      " Predicted Values :  [84.46990225 70.19302573 55.57950118 73.37440522 68.15347194]\n",
      "\n",
      " Actual Values :  [84. 67. 59. 69. 72.]\n",
      "\n",
      " Score :  91.21831919940068\n",
      "\n",
      " Error :  3.4421352931233584\n",
      "\n",
      "********************************************************************************\n"
     ]
    }
   ],
   "source": [
    "print(\"My MODEL\".center(80, \"*\"))\n",
    "mymodel = MyLinearRegression()\n",
    "mymodel.fit(X_train, Y_train)\n",
    "print(\"\\n Coeff : \", mymodel.coef_[:5])\n",
    "print(\"\\n Intercept : \", mymodel.intercept_)\n",
    "mypred = mymodel.predict(X_test)\n",
    "print(\"\\n Predicted Values : \", mypred[:5])\n",
    "print(\"\\n Actual Values : \", Y_test[:5].values)\n",
    "score = r2_score(Y_test, mypred)\n",
    "print(\"\\n Score : \", score*100)\n",
    "print(\"\\n Error : \", mean_absolute_error(Y_test, mypred))\n",
    "print()\n",
    "print(\"*\"*80)"
   ]
  },
  {
   "cell_type": "code",
   "execution_count": 92,
   "metadata": {},
   "outputs": [],
   "source": [
    "cat = ['gender']\n",
    "num_attribs = ['n_student', 'pretest']\n",
    "cat_attribs = cat\n",
    "full_pipeline = ColumnTransformer([\n",
    " (\"num\", num, num_attribs),\n",
    " (\"cat\", OneHotEncoder(), cat_attribs),\n",
    " ])\n",
    "clean = full_pipeline.fit_transform(ori[['gender', 'n_student', 'pretest']])\n"
   ]
  },
  {
   "cell_type": "code",
   "execution_count": 93,
   "metadata": {},
   "outputs": [],
   "source": [
    "X_train, X_test, Y_train, Y_test = train_test_split(clean, target)"
   ]
  },
  {
   "cell_type": "code",
   "execution_count": 94,
   "metadata": {},
   "outputs": [
    {
     "name": "stdout",
     "output_type": "stream",
     "text": [
      "*********************************INBUILT MODEL**********************************\n",
      "\n",
      " Coeff :  [-0.14517117  0.95285022  0.03174756 -0.03174756]\n",
      "\n",
      " Intercept :  17.954512387969586\n",
      "\n",
      " Predicted Values :  [71.23750439 74.38654454 81.28334329 44.26735592 95.28575424]\n",
      "\n",
      " Actual Values :  [71. 79. 86. 37. 91.]\n",
      "\n",
      " Score :  90.85220740281935\n",
      "\n",
      " Error :  3.53358895673641\n",
      "\n",
      "********************************************************************************\n"
     ]
    }
   ],
   "source": [
    "print(\"INBUILT MODEL\".center(80, \"*\"))\n",
    "model = LinearRegression()\n",
    "model.fit(X_train, Y_train)\n",
    "print(\"\\n Coeff : \", model.coef_[:5])\n",
    "print(\"\\n Intercept : \", model.intercept_)\n",
    "pred = model.predict(X_test)\n",
    "print(\"\\n Predicted Values : \", pred[:5])\n",
    "print(\"\\n Actual Values : \", Y_test[:5].values)\n",
    "score = r2_score(Y_test, pred)\n",
    "print(\"\\n Score : \", score*100)\n",
    "print(\"\\n Error : \", mean_absolute_error(Y_test, pred))\n",
    "print()\n",
    "print(\"*\"*80)"
   ]
  },
  {
   "cell_type": "code",
   "execution_count": 95,
   "metadata": {},
   "outputs": [
    {
     "name": "stdout",
     "output_type": "stream",
     "text": [
      "************************************My MODEL************************************\n",
      "\n",
      " Coeff :  [  -0.42444089    1.05968031 -205.6015625  -411.203125  ]\n",
      "\n",
      " Intercept :  479.28515625\n",
      "\n",
      " Predicted Values :  [122.11435162 329.83243089 132.49751235  91.59442118 147.5438352 ]\n",
      "\n",
      " Actual Values :  [71. 79. 86. 37. 91.]\n",
      "\n",
      " Score :  -16537.73010377673\n",
      "\n",
      " Error :  152.15262962101193\n",
      "\n",
      "********************************************************************************\n"
     ]
    }
   ],
   "source": [
    "print(\"My MODEL\".center(80, \"*\"))\n",
    "mymodel = MyLinearRegression()\n",
    "mymodel.fit(X_train, Y_train)\n",
    "print(\"\\n Coeff : \", mymodel.coef_[:5])\n",
    "print(\"\\n Intercept : \", mymodel.intercept_)\n",
    "mypred = mymodel.predict(X_test)\n",
    "print(\"\\n Predicted Values : \", mypred[:5])\n",
    "print(\"\\n Actual Values : \", Y_test[:5].values)\n",
    "score = r2_score(Y_test, mypred)\n",
    "print(\"\\n Score : \", score*100)\n",
    "print(\"\\n Error : \", mean_absolute_error(Y_test, mypred))\n",
    "print()\n",
    "print(\"*\"*80)"
   ]
  },
  {
   "cell_type": "code",
   "execution_count": 96,
   "metadata": {},
   "outputs": [],
   "source": [
    "X = np.c_[np.ones(len(clean)), clean]\n",
    "X_train, X_test, Y_train, Y_test = train_test_split(X, target)"
   ]
  },
  {
   "cell_type": "code",
   "execution_count": 97,
   "metadata": {},
   "outputs": [
    {
     "data": {
      "text/plain": [
       "1599"
      ]
     },
     "execution_count": 97,
     "metadata": {},
     "output_type": "execute_result"
    }
   ],
   "source": [
    "X_train.__len__()"
   ]
  },
  {
   "cell_type": "code",
   "execution_count": 98,
   "metadata": {},
   "outputs": [
    {
     "data": {
      "text/plain": [
       "1599"
      ]
     },
     "execution_count": 98,
     "metadata": {},
     "output_type": "execute_result"
    }
   ],
   "source": [
    "Y_train.__len__()"
   ]
  },
  {
   "cell_type": "code",
   "execution_count": 99,
   "metadata": {},
   "outputs": [
    {
     "data": {
      "text/plain": [
       "(5, 5)"
      ]
     },
     "execution_count": 99,
     "metadata": {},
     "output_type": "execute_result"
    }
   ],
   "source": [
    "(X_train.T.dot(X_train)).shape"
   ]
  },
  {
   "cell_type": "code",
   "execution_count": 103,
   "metadata": {},
   "outputs": [
    {
     "data": {
      "text/plain": [
       "array([11.82712974, -0.14825374,  0.95867389,  5.88464341,  5.94248633])"
      ]
     },
     "execution_count": 103,
     "metadata": {},
     "output_type": "execute_result"
    }
   ],
   "source": [
    "(np.linalg.pinv(X_train.T.dot(X_train))).dot(X_train.T).dot(Y_train)"
   ]
  },
  {
   "cell_type": "code",
   "execution_count": 101,
   "metadata": {},
   "outputs": [
    {
     "ename": "LinAlgError",
     "evalue": "Singular matrix",
     "output_type": "error",
     "traceback": [
      "\u001b[1;31m---------------------------------------------------------------------------\u001b[0m",
      "\u001b[1;31mLinAlgError\u001b[0m                               Traceback (most recent call last)",
      "\u001b[1;32m<ipython-input-101-51fecf838e9f>\u001b[0m in \u001b[0;36m<module>\u001b[1;34m\u001b[0m\n\u001b[1;32m----> 1\u001b[1;33m \u001b[0mnp\u001b[0m\u001b[1;33m.\u001b[0m\u001b[0mlinalg\u001b[0m\u001b[1;33m.\u001b[0m\u001b[0minv\u001b[0m\u001b[1;33m(\u001b[0m\u001b[1;33m(\u001b[0m\u001b[0mX_train\u001b[0m\u001b[1;33m.\u001b[0m\u001b[0mdot\u001b[0m\u001b[1;33m(\u001b[0m\u001b[0mX_train\u001b[0m\u001b[1;33m.\u001b[0m\u001b[0mT\u001b[0m\u001b[1;33m)\u001b[0m\u001b[1;33m)\u001b[0m\u001b[1;33m)\u001b[0m\u001b[1;33m.\u001b[0m\u001b[0mdot\u001b[0m\u001b[1;33m(\u001b[0m\u001b[0mX_train\u001b[0m\u001b[1;33m.\u001b[0m\u001b[0mT\u001b[0m\u001b[1;33m)\u001b[0m\u001b[1;33m.\u001b[0m\u001b[0mdot\u001b[0m\u001b[1;33m(\u001b[0m\u001b[0mY_train\u001b[0m\u001b[1;33m)\u001b[0m\u001b[1;33m\u001b[0m\u001b[1;33m\u001b[0m\u001b[0m\n\u001b[0m",
      "\u001b[1;32m<__array_function__ internals>\u001b[0m in \u001b[0;36minv\u001b[1;34m(*args, **kwargs)\u001b[0m\n",
      "\u001b[1;32mC:\\Anaconda\\lib\\site-packages\\numpy\\linalg\\linalg.py\u001b[0m in \u001b[0;36minv\u001b[1;34m(a)\u001b[0m\n\u001b[0;32m    544\u001b[0m     \u001b[0msignature\u001b[0m \u001b[1;33m=\u001b[0m \u001b[1;34m'D->D'\u001b[0m \u001b[1;32mif\u001b[0m \u001b[0misComplexType\u001b[0m\u001b[1;33m(\u001b[0m\u001b[0mt\u001b[0m\u001b[1;33m)\u001b[0m \u001b[1;32melse\u001b[0m \u001b[1;34m'd->d'\u001b[0m\u001b[1;33m\u001b[0m\u001b[1;33m\u001b[0m\u001b[0m\n\u001b[0;32m    545\u001b[0m     \u001b[0mextobj\u001b[0m \u001b[1;33m=\u001b[0m \u001b[0mget_linalg_error_extobj\u001b[0m\u001b[1;33m(\u001b[0m\u001b[0m_raise_linalgerror_singular\u001b[0m\u001b[1;33m)\u001b[0m\u001b[1;33m\u001b[0m\u001b[1;33m\u001b[0m\u001b[0m\n\u001b[1;32m--> 546\u001b[1;33m     \u001b[0mainv\u001b[0m \u001b[1;33m=\u001b[0m \u001b[0m_umath_linalg\u001b[0m\u001b[1;33m.\u001b[0m\u001b[0minv\u001b[0m\u001b[1;33m(\u001b[0m\u001b[0ma\u001b[0m\u001b[1;33m,\u001b[0m \u001b[0msignature\u001b[0m\u001b[1;33m=\u001b[0m\u001b[0msignature\u001b[0m\u001b[1;33m,\u001b[0m \u001b[0mextobj\u001b[0m\u001b[1;33m=\u001b[0m\u001b[0mextobj\u001b[0m\u001b[1;33m)\u001b[0m\u001b[1;33m\u001b[0m\u001b[1;33m\u001b[0m\u001b[0m\n\u001b[0m\u001b[0;32m    547\u001b[0m     \u001b[1;32mreturn\u001b[0m \u001b[0mwrap\u001b[0m\u001b[1;33m(\u001b[0m\u001b[0mainv\u001b[0m\u001b[1;33m.\u001b[0m\u001b[0mastype\u001b[0m\u001b[1;33m(\u001b[0m\u001b[0mresult_t\u001b[0m\u001b[1;33m,\u001b[0m \u001b[0mcopy\u001b[0m\u001b[1;33m=\u001b[0m\u001b[1;32mFalse\u001b[0m\u001b[1;33m)\u001b[0m\u001b[1;33m)\u001b[0m\u001b[1;33m\u001b[0m\u001b[1;33m\u001b[0m\u001b[0m\n\u001b[0;32m    548\u001b[0m \u001b[1;33m\u001b[0m\u001b[0m\n",
      "\u001b[1;32mC:\\Anaconda\\lib\\site-packages\\numpy\\linalg\\linalg.py\u001b[0m in \u001b[0;36m_raise_linalgerror_singular\u001b[1;34m(err, flag)\u001b[0m\n\u001b[0;32m     86\u001b[0m \u001b[1;33m\u001b[0m\u001b[0m\n\u001b[0;32m     87\u001b[0m \u001b[1;32mdef\u001b[0m \u001b[0m_raise_linalgerror_singular\u001b[0m\u001b[1;33m(\u001b[0m\u001b[0merr\u001b[0m\u001b[1;33m,\u001b[0m \u001b[0mflag\u001b[0m\u001b[1;33m)\u001b[0m\u001b[1;33m:\u001b[0m\u001b[1;33m\u001b[0m\u001b[1;33m\u001b[0m\u001b[0m\n\u001b[1;32m---> 88\u001b[1;33m     \u001b[1;32mraise\u001b[0m \u001b[0mLinAlgError\u001b[0m\u001b[1;33m(\u001b[0m\u001b[1;34m\"Singular matrix\"\u001b[0m\u001b[1;33m)\u001b[0m\u001b[1;33m\u001b[0m\u001b[1;33m\u001b[0m\u001b[0m\n\u001b[0m\u001b[0;32m     89\u001b[0m \u001b[1;33m\u001b[0m\u001b[0m\n\u001b[0;32m     90\u001b[0m \u001b[1;32mdef\u001b[0m \u001b[0m_raise_linalgerror_nonposdef\u001b[0m\u001b[1;33m(\u001b[0m\u001b[0merr\u001b[0m\u001b[1;33m,\u001b[0m \u001b[0mflag\u001b[0m\u001b[1;33m)\u001b[0m\u001b[1;33m:\u001b[0m\u001b[1;33m\u001b[0m\u001b[1;33m\u001b[0m\u001b[0m\n",
      "\u001b[1;31mLinAlgError\u001b[0m: Singular matrix"
     ]
    }
   ],
   "source": [
    "np.linalg.inv((X_train.dot(X_train.T))).dot(X_train.T).dot(Y_train)"
   ]
  },
  {
   "cell_type": "code",
   "execution_count": null,
   "metadata": {},
   "outputs": [],
   "source": []
  }
 ],
 "metadata": {
  "kernelspec": {
   "display_name": "Python 3",
   "language": "python",
   "name": "python3"
  },
  "language_info": {
   "codemirror_mode": {
    "name": "ipython",
    "version": 3
   },
   "file_extension": ".py",
   "mimetype": "text/x-python",
   "name": "python",
   "nbconvert_exporter": "python",
   "pygments_lexer": "ipython3",
   "version": "3.8.5"
  }
 },
 "nbformat": 4,
 "nbformat_minor": 4
}
