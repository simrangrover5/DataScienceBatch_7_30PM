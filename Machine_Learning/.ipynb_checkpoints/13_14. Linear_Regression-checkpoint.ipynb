{
 "cells": [
  {
   "cell_type": "code",
   "execution_count": 1,
   "metadata": {},
   "outputs": [],
   "source": [
    "import pandas as pd\n",
    "import numpy as np\n",
    "import matplotlib.pyplot as plt\n",
    "import seaborn as sns"
   ]
  },
  {
   "cell_type": "code",
   "execution_count": 167,
   "metadata": {},
   "outputs": [
    {
     "data": {
      "text/plain": [
       "[<matplotlib.lines.Line2D at 0x154673c72e0>]"
      ]
     },
     "execution_count": 167,
     "metadata": {},
     "output_type": "execute_result"
    },
    {
     "data": {
      "image/png": "[encoded data removed]",
      "text/plain": [
       "<Figure size 432x288 with 1 Axes>"
      ]
     },
     "metadata": {
      "needs_background": "light"
     },
     "output_type": "display_data"
    }
   ],
   "source": [
    "x = np.random.normal(10, 8, 500)\n",
    "y = 3 + 2*x + np.random.normal(5, 3, 500)\n",
    "plt.plot(x, y, 'o')"
   ]
  },
  {
   "cell_type": "markdown",
   "metadata": {},
   "source": [
    "    training --> 0.7 or 70% or 80%\n",
    "    testing --> 0.3 or 30% or 20%\n",
    "    \n",
    "    \n",
    "    \n",
    "    Pens    Pay  Pay_per_pen (feature adding)\n",
    "    10      100     10"
   ]
  },
  {
   "cell_type": "code",
   "execution_count": 170,
   "metadata": {},
   "outputs": [],
   "source": [
    "def train_test_split(feature, target, test_ratio=0.3):\n",
    "    \"\"\"This Function will split the data into training and test\n",
    "    Return X_train, X_test, Y_train, Y_test\"\"\"\n",
    "    if len(feature) == len(target):\n",
    "        X_train = []\n",
    "        Y_train = []\n",
    "        X_test = []\n",
    "        Y_test = []\n",
    "        train_ratio = 1 - test_ratio\n",
    "        train_size = int(len(feature)*train_ratio)\n",
    "        test_size = int(len(feature)*test_ratio)\n",
    "        X_train.extend(feature[:train_size])\n",
    "        Y_train.extend(target[:train_size])\n",
    "        X_test.extend(feature[train_size:])\n",
    "        Y_test.extend(target[train_size:])\n",
    "        return np.array(X_train), np.array(X_test), np.array(Y_train), np.array(Y_test)\n",
    "    else:\n",
    "        return \"Length Mismatch --> Length of feature and target is not same...\""
   ]
  },
  {
   "cell_type": "code",
   "execution_count": 4,
   "metadata": {},
   "outputs": [
    {
     "data": {
      "text/plain": [
       "30.0"
      ]
     },
     "execution_count": 4,
     "metadata": {},
     "output_type": "execute_result"
    }
   ],
   "source": [
    "100*0.3"
   ]
  },
  {
   "cell_type": "code",
   "execution_count": 5,
   "metadata": {},
   "outputs": [
    {
     "data": {
      "text/plain": [
       "350.0"
      ]
     },
     "execution_count": 5,
     "metadata": {},
     "output_type": "execute_result"
    }
   ],
   "source": [
    "500*0.7"
   ]
  },
  {
   "cell_type": "code",
   "execution_count": 94,
   "metadata": {},
   "outputs": [],
   "source": [
    "X_train, X_test, Y_train, Y_test = train_test_split(x, y)"
   ]
  },
  {
   "cell_type": "code",
   "execution_count": 8,
   "metadata": {},
   "outputs": [
    {
     "data": {
      "text/plain": [
       "array([ 7.981598  ,  2.79566953,  4.57803104,  4.64668104, -3.33949002,\n",
       "       13.15756834,  7.71707826,  7.64866898,  2.61777767,  3.48244162,\n",
       "        9.44369658, 15.73677019, 16.84260321, -1.32813532, 14.7842899 ,\n",
       "       21.18424115, 12.82122679, 24.92137624,  9.36110672,  7.27866575,\n",
       "       12.84410203, 12.11492021, 11.28612267, 14.29509875,  1.37975955,\n",
       "       17.3854345 , 33.02419274,  0.74866951, 19.89832388,  2.48978002,\n",
       "        8.45049645, 23.43323369, 13.5777159 ,  4.72064849, 12.16146195,\n",
       "        9.4751866 ,  3.39226151, 14.55833406,  8.44315681,  7.32187084,\n",
       "       15.00831409,  2.29803028, 13.12034651,  2.14947805, 18.33742503,\n",
       "       13.75669008, 18.09780074, 20.50266948, 11.09436785, 20.38432848,\n",
       "       12.11820422, 13.11961717, 11.43671089, -5.66354525,  5.14921903,\n",
       "       -1.77987449,  5.03567407, 25.19978029, 17.906907  , 12.90588489,\n",
       "       11.11224825, 15.03480885, 17.1757133 ,  9.88386158, 18.05068132,\n",
       "       10.169122  , 14.39922313, -3.70326381,  7.37162045, 25.65409339,\n",
       "        1.32831984,  2.00431576, 22.56473319,  3.78453748, 10.79186195,\n",
       "       13.07457406, 12.36795059, 12.97539332,  7.00682126, 19.70353545,\n",
       "       15.85137312, 20.91280002,  8.30087186, 11.73814273, 15.90837631,\n",
       "       19.03219439,  8.10076362, 17.43314917,  8.37403719, 21.59903079,\n",
       "        4.51424306,  5.19001546, 18.5794603 , 11.35690557, 13.66595115,\n",
       "       10.17485242, -2.5521835 , 19.08625504, 16.29889609,  1.29033115])"
      ]
     },
     "execution_count": 8,
     "metadata": {},
     "output_type": "execute_result"
    }
   ],
   "source": [
    "x[:350]"
   ]
  },
  {
   "cell_type": "code",
   "execution_count": 95,
   "metadata": {},
   "outputs": [],
   "source": [
    "class LinearRegression:\n",
    "    def __init__(self):\n",
    "        self._coef = None\n",
    "        self._intercept = None\n",
    "    \n",
    "    def fit(self, feature, target):\n",
    "        \"\"\"This method will make our model learn and find the best values \n",
    "        of coeffiecient and intercept\"\"\"\n",
    "        feature = np.array(feature)\n",
    "        target = np.array(target)\n",
    "        a = sum((feature - feature.mean()) * (target - target.mean()))\n",
    "        b = sum((feature - feature.mean())**2)\n",
    "        self._coef = a/b\n",
    "        self._intercept = target.mean() - (self._coef*feature.mean())\n",
    "        \n",
    "    def predict(self, X_test):\n",
    "        try:\n",
    "            len(X_test)\n",
    "        except:\n",
    "            raise ValueError(\"Testing Data Should Be Iterable Object\") \n",
    "        else:\n",
    "            y_test = []\n",
    "            for x in X_test:\n",
    "                y_test.append(self._intercept + self._coef*x)\n",
    "            return np.array(y_test)\n",
    "        \n",
    "    def mean_absolute_error(self, y, y_hat):\n",
    "        return (abs((y - y_hat)).sum())/len(y)\n",
    "    \n",
    "    def mean_square_error(self, y, y_hat):\n",
    "        return (((y - y_hat)**2).sum())/len(y)\n",
    "    \n",
    "    def rmse(self, y, y_hat):\n",
    "        return np.sqrt((((y - y_hat)**2).sum())/len(y))\n",
    "\n",
    "    def r2_score(self, y, y_hat):\n",
    "        r2score = 1 - (sum((y - y_hat)**2) / sum((y - y.mean())**2))\n",
    "        return r2score"
   ]
  },
  {
   "cell_type": "code",
   "execution_count": 96,
   "metadata": {},
   "outputs": [],
   "source": [
    "model = LinearRegression()\n"
   ]
  },
  {
   "cell_type": "code",
   "execution_count": 97,
   "metadata": {},
   "outputs": [],
   "source": [
    "X_train, X_test, Y_train, Y_test = train_test_split(x, y)"
   ]
  },
  {
   "cell_type": "code",
   "execution_count": 98,
   "metadata": {},
   "outputs": [
    {
     "data": {
      "text/plain": [
       "70"
      ]
     },
     "execution_count": 98,
     "metadata": {},
     "output_type": "execute_result"
    }
   ],
   "source": [
    "len(X_train)"
   ]
  },
  {
   "cell_type": "code",
   "execution_count": 99,
   "metadata": {},
   "outputs": [
    {
     "data": {
      "text/plain": [
       "30"
      ]
     },
     "execution_count": 99,
     "metadata": {},
     "output_type": "execute_result"
    }
   ],
   "source": [
    "len(X_test)"
   ]
  },
  {
   "cell_type": "code",
   "execution_count": 100,
   "metadata": {},
   "outputs": [
    {
     "data": {
      "text/plain": [
       "70"
      ]
     },
     "execution_count": 100,
     "metadata": {},
     "output_type": "execute_result"
    }
   ],
   "source": [
    "len(Y_train)"
   ]
  },
  {
   "cell_type": "code",
   "execution_count": 101,
   "metadata": {},
   "outputs": [
    {
     "data": {
      "text/plain": [
       "30"
      ]
     },
     "execution_count": 101,
     "metadata": {},
     "output_type": "execute_result"
    }
   ],
   "source": [
    "len(Y_test)"
   ]
  },
  {
   "cell_type": "code",
   "execution_count": 102,
   "metadata": {},
   "outputs": [],
   "source": [
    "model.fit(X_train, Y_train)"
   ]
  },
  {
   "cell_type": "code",
   "execution_count": 103,
   "metadata": {},
   "outputs": [
    {
     "data": {
      "text/plain": [
       "2.028606721114044"
      ]
     },
     "execution_count": 103,
     "metadata": {},
     "output_type": "execute_result"
    }
   ],
   "source": [
    "model._coef"
   ]
  },
  {
   "cell_type": "code",
   "execution_count": 104,
   "metadata": {},
   "outputs": [
    {
     "data": {
      "text/plain": [
       "7.617880482164118"
      ]
     },
     "execution_count": 104,
     "metadata": {},
     "output_type": "execute_result"
    }
   ],
   "source": [
    "model._intercept"
   ]
  },
  {
   "cell_type": "code",
   "execution_count": 105,
   "metadata": {},
   "outputs": [],
   "source": [
    "pred = model.predict(X_test)"
   ]
  },
  {
   "cell_type": "code",
   "execution_count": 106,
   "metadata": {},
   "outputs": [
    {
     "data": {
      "text/plain": [
       "array([40.51668172, 32.63080974, 80.04695117, 19.76360697, 26.422128  ])"
      ]
     },
     "execution_count": 106,
     "metadata": {},
     "output_type": "execute_result"
    }
   ],
   "source": [
    "Y_test[:5]"
   ]
  },
  {
   "cell_type": "code",
   "execution_count": 107,
   "metadata": {},
   "outputs": [
    {
     "data": {
      "text/plain": [
       "array([38.59442475, 33.79530963, 76.51943917, 19.70181981, 26.13526251])"
      ]
     },
     "execution_count": 107,
     "metadata": {},
     "output_type": "execute_result"
    }
   ],
   "source": [
    "pred[:5]"
   ]
  },
  {
   "cell_type": "code",
   "execution_count": 108,
   "metadata": {},
   "outputs": [
    {
     "data": {
      "text/plain": [
       "2.5828480033722423"
      ]
     },
     "execution_count": 108,
     "metadata": {},
     "output_type": "execute_result"
    }
   ],
   "source": [
    "model.mean_absolute_error(Y_test, pred)"
   ]
  },
  {
   "cell_type": "code",
   "execution_count": 109,
   "metadata": {},
   "outputs": [
    {
     "data": {
      "text/plain": [
       "0.9707131434626913"
      ]
     },
     "execution_count": 109,
     "metadata": {},
     "output_type": "execute_result"
    }
   ],
   "source": [
    "model.r2_score(Y_test, pred)"
   ]
  },
  {
   "cell_type": "code",
   "execution_count": 110,
   "metadata": {},
   "outputs": [
    {
     "data": {
      "text/plain": [
       "<matplotlib.legend.Legend at 0x15465f54bb0>"
      ]
     },
     "execution_count": 110,
     "metadata": {},
     "output_type": "execute_result"
    },
    {
     "data": {
      "image/png": "[encoded data removed]",
      "text/plain": [
       "<Figure size 432x288 with 1 Axes>"
      ]
     },
     "metadata": {
      "needs_background": "light"
     },
     "output_type": "display_data"
    }
   ],
   "source": [
    "plt.plot(X_train, Y_train, 'o', label=\"TRAINING\")\n",
    "plt.plot(X_test, Y_test, 'o', label=\"TESTING\")\n",
    "plt.plot(X_test, pred, '--', label=\"PREDICTED\")\n",
    "plt.legend()"
   ]
  },
  {
   "cell_type": "code",
   "execution_count": 21,
   "metadata": {},
   "outputs": [],
   "source": [
    "model = LinearRegression()\n",
    "model.fit(x, y)"
   ]
  },
  {
   "cell_type": "code",
   "execution_count": 22,
   "metadata": {},
   "outputs": [
    {
     "data": {
      "text/plain": [
       "1.9937078623346098"
      ]
     },
     "execution_count": 22,
     "metadata": {},
     "output_type": "execute_result"
    }
   ],
   "source": [
    "model._coef"
   ]
  },
  {
   "cell_type": "code",
   "execution_count": 23,
   "metadata": {},
   "outputs": [
    {
     "data": {
      "text/plain": [
       "8.138984699414479"
      ]
     },
     "execution_count": 23,
     "metadata": {},
     "output_type": "execute_result"
    }
   ],
   "source": [
    "model._intercept"
   ]
  },
  {
   "cell_type": "code",
   "execution_count": 24,
   "metadata": {},
   "outputs": [],
   "source": [
    "pred1 = model.predict(x)"
   ]
  },
  {
   "cell_type": "code",
   "execution_count": 25,
   "metadata": {},
   "outputs": [
    {
     "data": {
      "text/plain": [
       "2.9148861575644713"
      ]
     },
     "execution_count": 25,
     "metadata": {},
     "output_type": "execute_result"
    }
   ],
   "source": [
    "model.mean_absolute_error(y, pred1)"
   ]
  },
  {
   "cell_type": "code",
   "execution_count": 26,
   "metadata": {},
   "outputs": [
    {
     "data": {
      "text/plain": [
       "0.9557644331259598"
      ]
     },
     "execution_count": 26,
     "metadata": {},
     "output_type": "execute_result"
    }
   ],
   "source": [
    "model.r2_score(y, pred1)"
   ]
  },
  {
   "cell_type": "code",
   "execution_count": 88,
   "metadata": {},
   "outputs": [],
   "source": [
    "def train_test_split(feature, target, test_ratio=0.3):\n",
    "    \"\"\"This Function will split the data into training and test\n",
    "    Return X_train, X_test, Y_train, Y_test without sampling bias\"\"\"\n",
    "    if len(feature) == len(target):\n",
    "        X_train = []\n",
    "        Y_train = []\n",
    "        X_test = []\n",
    "        Y_test = []\n",
    "        train_ratio = 1 - test_ratio\n",
    "        train_size = int(len(feature)*train_ratio)\n",
    "        test_size = int(len(feature)*test_ratio)\n",
    "        X_train.extend(feature[:train_size])\n",
    "        Y_train.extend(target[:train_size])\n",
    "        X_test.extend(feature[train_size:])\n",
    "        Y_test.extend(feature[train_size:])\n",
    "        return np.array(X_train), np.array(X_test), np.array(Y_train), np.array(Y_test)\n",
    "    else:\n",
    "        return \"Length Mismatch --> Length of feature and target is not same...\""
   ]
  },
  {
   "cell_type": "code",
   "execution_count": 30,
   "metadata": {},
   "outputs": [],
   "source": [
    "l = list(range(0, 100))\n",
    "np.random.shuffle(l)"
   ]
  },
  {
   "cell_type": "code",
   "execution_count": 31,
   "metadata": {},
   "outputs": [
    {
     "data": {
      "text/plain": [
       "[35,\n",
       " 20,\n",
       " 1,\n",
       " 89,\n",
       " 78,\n",
       " 68,\n",
       " 63,\n",
       " 60,\n",
       " 91,\n",
       " 99,\n",
       " 17,\n",
       " 24,\n",
       " 23,\n",
       " 49,\n",
       " 54,\n",
       " 28,\n",
       " 61,\n",
       " 75,\n",
       " 22,\n",
       " 59,\n",
       " 2,\n",
       " 88,\n",
       " 71,\n",
       " 5,\n",
       " 52,\n",
       " 93,\n",
       " 48,\n",
       " 69,\n",
       " 36,\n",
       " 77,\n",
       " 26,\n",
       " 38,\n",
       " 58,\n",
       " 72,\n",
       " 14,\n",
       " 25,\n",
       " 83,\n",
       " 90,\n",
       " 32,\n",
       " 76,\n",
       " 56,\n",
       " 0,\n",
       " 40,\n",
       " 47,\n",
       " 92,\n",
       " 15,\n",
       " 41,\n",
       " 43,\n",
       " 86,\n",
       " 21,\n",
       " 46,\n",
       " 13,\n",
       " 80,\n",
       " 37,\n",
       " 33,\n",
       " 4,\n",
       " 8,\n",
       " 18,\n",
       " 11,\n",
       " 62,\n",
       " 39,\n",
       " 45,\n",
       " 57,\n",
       " 82,\n",
       " 66,\n",
       " 94,\n",
       " 73,\n",
       " 67,\n",
       " 96,\n",
       " 10,\n",
       " 97,\n",
       " 85,\n",
       " 27,\n",
       " 12,\n",
       " 50,\n",
       " 81,\n",
       " 53,\n",
       " 74,\n",
       " 65,\n",
       " 19,\n",
       " 87,\n",
       " 34,\n",
       " 3,\n",
       " 55,\n",
       " 7,\n",
       " 51,\n",
       " 44,\n",
       " 95,\n",
       " 84,\n",
       " 79,\n",
       " 30,\n",
       " 9,\n",
       " 16,\n",
       " 64,\n",
       " 42,\n",
       " 98,\n",
       " 70,\n",
       " 31,\n",
       " 29,\n",
       " 6]"
      ]
     },
     "execution_count": 31,
     "metadata": {},
     "output_type": "execute_result"
    }
   ],
   "source": [
    "l"
   ]
  },
  {
   "cell_type": "code",
   "execution_count": 33,
   "metadata": {},
   "outputs": [
    {
     "data": {
      "text/plain": [
       "array([38,  8, 85, 31, 33, 23, 40,  0, 17, 99, 10, 64, 53, 78, 79, 91, 47,\n",
       "       15, 28, 82, 84,  3, 32, 56, 16, 42, 83, 14, 71, 48, 21, 59,  4, 60,\n",
       "       96, 98, 63, 90, 46, 27, 57, 13, 87, 18,  2, 50, 76, 75,  9, 81,  7,\n",
       "       34, 30, 77, 26,  5, 45, 58, 80, 74, 69,  1, 51, 54, 52, 62, 19, 12,\n",
       "       65,  6, 36, 44, 41, 94, 73, 25, 22, 92, 29, 35, 95, 55, 89, 43, 97,\n",
       "       67, 88, 61, 72, 24, 49, 11, 68, 37, 93, 86, 39, 20, 66, 70])"
      ]
     },
     "execution_count": 33,
     "metadata": {},
     "output_type": "execute_result"
    }
   ],
   "source": [
    "np.random.permutation(range(100))"
   ]
  },
  {
   "cell_type": "code",
   "execution_count": 37,
   "metadata": {},
   "outputs": [
    {
     "data": {
      "text/plain": [
       "8.209421685998162"
      ]
     },
     "execution_count": 37,
     "metadata": {},
     "output_type": "execute_result"
    }
   ],
   "source": [
    "x[40]"
   ]
  },
  {
   "cell_type": "code",
   "execution_count": 36,
   "metadata": {},
   "outputs": [
    {
     "data": {
      "text/plain": [
       "array([13.62588647, -8.10958558,  5.15642508,  8.20942169])"
      ]
     },
     "execution_count": 36,
     "metadata": {},
     "output_type": "execute_result"
    }
   ],
   "source": [
    "x[[0, 1, 2, 40]]"
   ]
  },
  {
   "cell_type": "code",
   "execution_count": 43,
   "metadata": {},
   "outputs": [
    {
     "ename": "KeyError",
     "evalue": "\"None of [Int64Index([3, 4, 5, 40], dtype='int64')] are in the [columns]\"",
     "output_type": "error",
     "traceback": [
      "\u001b[1;31m---------------------------------------------------------------------------\u001b[0m",
      "\u001b[1;31mKeyError\u001b[0m                                  Traceback (most recent call last)",
      "\u001b[1;32m<ipython-input-43-e613a578ffed>\u001b[0m in \u001b[0;36m<module>\u001b[1;34m\u001b[0m\n\u001b[1;32m----> 1\u001b[1;33m \u001b[0mpd\u001b[0m\u001b[1;33m.\u001b[0m\u001b[0mDataFrame\u001b[0m\u001b[1;33m(\u001b[0m\u001b[0mx\u001b[0m\u001b[1;33m)\u001b[0m\u001b[1;33m[\u001b[0m\u001b[1;33m[\u001b[0m\u001b[1;36m3\u001b[0m\u001b[1;33m,\u001b[0m \u001b[1;36m4\u001b[0m\u001b[1;33m,\u001b[0m \u001b[1;36m5\u001b[0m\u001b[1;33m,\u001b[0m \u001b[1;36m40\u001b[0m\u001b[1;33m]\u001b[0m\u001b[1;33m]\u001b[0m\u001b[1;33m\u001b[0m\u001b[1;33m\u001b[0m\u001b[0m\n\u001b[0m",
      "\u001b[1;32mC:\\Anaconda\\lib\\site-packages\\pandas\\core\\frame.py\u001b[0m in \u001b[0;36m__getitem__\u001b[1;34m(self, key)\u001b[0m\n\u001b[0;32m   2906\u001b[0m             \u001b[1;32mif\u001b[0m \u001b[0mis_iterator\u001b[0m\u001b[1;33m(\u001b[0m\u001b[0mkey\u001b[0m\u001b[1;33m)\u001b[0m\u001b[1;33m:\u001b[0m\u001b[1;33m\u001b[0m\u001b[1;33m\u001b[0m\u001b[0m\n\u001b[0;32m   2907\u001b[0m                 \u001b[0mkey\u001b[0m \u001b[1;33m=\u001b[0m \u001b[0mlist\u001b[0m\u001b[1;33m(\u001b[0m\u001b[0mkey\u001b[0m\u001b[1;33m)\u001b[0m\u001b[1;33m\u001b[0m\u001b[1;33m\u001b[0m\u001b[0m\n\u001b[1;32m-> 2908\u001b[1;33m             \u001b[0mindexer\u001b[0m \u001b[1;33m=\u001b[0m \u001b[0mself\u001b[0m\u001b[1;33m.\u001b[0m\u001b[0mloc\u001b[0m\u001b[1;33m.\u001b[0m\u001b[0m_get_listlike_indexer\u001b[0m\u001b[1;33m(\u001b[0m\u001b[0mkey\u001b[0m\u001b[1;33m,\u001b[0m \u001b[0maxis\u001b[0m\u001b[1;33m=\u001b[0m\u001b[1;36m1\u001b[0m\u001b[1;33m,\u001b[0m \u001b[0mraise_missing\u001b[0m\u001b[1;33m=\u001b[0m\u001b[1;32mTrue\u001b[0m\u001b[1;33m)\u001b[0m\u001b[1;33m[\u001b[0m\u001b[1;36m1\u001b[0m\u001b[1;33m]\u001b[0m\u001b[1;33m\u001b[0m\u001b[1;33m\u001b[0m\u001b[0m\n\u001b[0m\u001b[0;32m   2909\u001b[0m \u001b[1;33m\u001b[0m\u001b[0m\n\u001b[0;32m   2910\u001b[0m         \u001b[1;31m# take() does not accept boolean indexers\u001b[0m\u001b[1;33m\u001b[0m\u001b[1;33m\u001b[0m\u001b[1;33m\u001b[0m\u001b[0m\n",
      "\u001b[1;32mC:\\Anaconda\\lib\\site-packages\\pandas\\core\\indexing.py\u001b[0m in \u001b[0;36m_get_listlike_indexer\u001b[1;34m(self, key, axis, raise_missing)\u001b[0m\n\u001b[0;32m   1252\u001b[0m             \u001b[0mkeyarr\u001b[0m\u001b[1;33m,\u001b[0m \u001b[0mindexer\u001b[0m\u001b[1;33m,\u001b[0m \u001b[0mnew_indexer\u001b[0m \u001b[1;33m=\u001b[0m \u001b[0max\u001b[0m\u001b[1;33m.\u001b[0m\u001b[0m_reindex_non_unique\u001b[0m\u001b[1;33m(\u001b[0m\u001b[0mkeyarr\u001b[0m\u001b[1;33m)\u001b[0m\u001b[1;33m\u001b[0m\u001b[1;33m\u001b[0m\u001b[0m\n\u001b[0;32m   1253\u001b[0m \u001b[1;33m\u001b[0m\u001b[0m\n\u001b[1;32m-> 1254\u001b[1;33m         \u001b[0mself\u001b[0m\u001b[1;33m.\u001b[0m\u001b[0m_validate_read_indexer\u001b[0m\u001b[1;33m(\u001b[0m\u001b[0mkeyarr\u001b[0m\u001b[1;33m,\u001b[0m \u001b[0mindexer\u001b[0m\u001b[1;33m,\u001b[0m \u001b[0maxis\u001b[0m\u001b[1;33m,\u001b[0m \u001b[0mraise_missing\u001b[0m\u001b[1;33m=\u001b[0m\u001b[0mraise_missing\u001b[0m\u001b[1;33m)\u001b[0m\u001b[1;33m\u001b[0m\u001b[1;33m\u001b[0m\u001b[0m\n\u001b[0m\u001b[0;32m   1255\u001b[0m         \u001b[1;32mreturn\u001b[0m \u001b[0mkeyarr\u001b[0m\u001b[1;33m,\u001b[0m \u001b[0mindexer\u001b[0m\u001b[1;33m\u001b[0m\u001b[1;33m\u001b[0m\u001b[0m\n\u001b[0;32m   1256\u001b[0m \u001b[1;33m\u001b[0m\u001b[0m\n",
      "\u001b[1;32mC:\\Anaconda\\lib\\site-packages\\pandas\\core\\indexing.py\u001b[0m in \u001b[0;36m_validate_read_indexer\u001b[1;34m(self, key, indexer, axis, raise_missing)\u001b[0m\n\u001b[0;32m   1296\u001b[0m             \u001b[1;32mif\u001b[0m \u001b[0mmissing\u001b[0m \u001b[1;33m==\u001b[0m \u001b[0mlen\u001b[0m\u001b[1;33m(\u001b[0m\u001b[0mindexer\u001b[0m\u001b[1;33m)\u001b[0m\u001b[1;33m:\u001b[0m\u001b[1;33m\u001b[0m\u001b[1;33m\u001b[0m\u001b[0m\n\u001b[0;32m   1297\u001b[0m                 \u001b[0maxis_name\u001b[0m \u001b[1;33m=\u001b[0m \u001b[0mself\u001b[0m\u001b[1;33m.\u001b[0m\u001b[0mobj\u001b[0m\u001b[1;33m.\u001b[0m\u001b[0m_get_axis_name\u001b[0m\u001b[1;33m(\u001b[0m\u001b[0maxis\u001b[0m\u001b[1;33m)\u001b[0m\u001b[1;33m\u001b[0m\u001b[1;33m\u001b[0m\u001b[0m\n\u001b[1;32m-> 1298\u001b[1;33m                 \u001b[1;32mraise\u001b[0m \u001b[0mKeyError\u001b[0m\u001b[1;33m(\u001b[0m\u001b[1;34mf\"None of [{key}] are in the [{axis_name}]\"\u001b[0m\u001b[1;33m)\u001b[0m\u001b[1;33m\u001b[0m\u001b[1;33m\u001b[0m\u001b[0m\n\u001b[0m\u001b[0;32m   1299\u001b[0m \u001b[1;33m\u001b[0m\u001b[0m\n\u001b[0;32m   1300\u001b[0m             \u001b[1;31m# We (temporarily) allow for some missing keys with .loc, except in\u001b[0m\u001b[1;33m\u001b[0m\u001b[1;33m\u001b[0m\u001b[1;33m\u001b[0m\u001b[0m\n",
      "\u001b[1;31mKeyError\u001b[0m: \"None of [Int64Index([3, 4, 5, 40], dtype='int64')] are in the [columns]\""
     ]
    }
   ],
   "source": [
    "pd.DataFrame(x)[[3, 4, 5, 40]]"
   ]
  },
  {
   "cell_type": "code",
   "execution_count": 151,
   "metadata": {},
   "outputs": [],
   "source": [
    "def train_test_split(feature, target, test_ratio=0.3):\n",
    "    \"\"\"This Function will split the data into training and test\n",
    "    Return X_train, X_test, Y_train, Y_test without sampling bias\"\"\"\n",
    "    if len(feature) == len(target):\n",
    "        X_train = []\n",
    "        Y_train = []\n",
    "        X_test = []\n",
    "        Y_test = []\n",
    "        train_ratio = 1 - test_ratio\n",
    "        train_size = int(len(feature)*train_ratio)\n",
    "        test_size = int(len(feature)*test_ratio)\n",
    "        indices = np.random.permutation(range(len(feature)))\n",
    "        train_ind = indices[:train_size]\n",
    "        test_ind = indices[train_size:]\n",
    "        X_train.extend(feature[train_ind])\n",
    "        Y_train.extend(target[train_ind])\n",
    "        X_test.extend(feature[test_ind])\n",
    "        Y_test.extend(target[test_ind])\n",
    "        return np.array(X_train), np.array(X_test), np.array(Y_train), np.array(Y_test)\n",
    "    else:\n",
    "        return \"Length Mismatch --> Length of feature and target is not same...\""
   ]
  },
  {
   "cell_type": "code",
   "execution_count": 152,
   "metadata": {},
   "outputs": [],
   "source": [
    "model = LinearRegression()\n",
    "X_train, X_test, Y_train, Y_test = train_test_split(x, y)"
   ]
  },
  {
   "cell_type": "code",
   "execution_count": 153,
   "metadata": {},
   "outputs": [
    {
     "data": {
      "text/plain": [
       "array([ 9.64037342,  3.48688024,  0.34245837, 13.95748672, 14.35980932])"
      ]
     },
     "execution_count": 153,
     "metadata": {},
     "output_type": "execute_result"
    }
   ],
   "source": [
    "X_train[:5]"
   ]
  },
  {
   "cell_type": "code",
   "execution_count": 154,
   "metadata": {},
   "outputs": [
    {
     "data": {
      "text/plain": [
       "array([24.80427585, 12.3450618 ,  7.29500475, 39.08549894, 37.44758324])"
      ]
     },
     "execution_count": 154,
     "metadata": {},
     "output_type": "execute_result"
    }
   ],
   "source": [
    "Y_train[:5]"
   ]
  },
  {
   "cell_type": "code",
   "execution_count": 155,
   "metadata": {},
   "outputs": [],
   "source": [
    "model.fit(X_train, Y_train)"
   ]
  },
  {
   "cell_type": "code",
   "execution_count": 156,
   "metadata": {},
   "outputs": [
    {
     "data": {
      "text/plain": [
       "2.0420324365521365"
      ]
     },
     "execution_count": 156,
     "metadata": {},
     "output_type": "execute_result"
    }
   ],
   "source": [
    "model._coef"
   ]
  },
  {
   "cell_type": "code",
   "execution_count": 160,
   "metadata": {},
   "outputs": [
    {
     "data": {
      "text/plain": [
       "7.324898844467995"
      ]
     },
     "execution_count": 160,
     "metadata": {},
     "output_type": "execute_result"
    }
   ],
   "source": [
    "model._intercept"
   ]
  },
  {
   "cell_type": "code",
   "execution_count": 161,
   "metadata": {},
   "outputs": [],
   "source": [
    "test_pred = model.predict(X_test)\n",
    "train_pred = model.predict(X_train)"
   ]
  },
  {
   "cell_type": "code",
   "execution_count": 162,
   "metadata": {},
   "outputs": [
    {
     "data": {
      "image/png": "[encoded data removed]",
      "text/plain": [
       "<Figure size 432x288 with 1 Axes>"
      ]
     },
     "metadata": {
      "needs_background": "light"
     },
     "output_type": "display_data"
    }
   ],
   "source": [
    "plt.plot(X_train, Y_train, 'o', label=\"TRAIN DATA\")\n",
    "plt.plot(X_train, train_pred, 'r', label=\"TRAIN PREDICT\")\n",
    "plt.show()"
   ]
  },
  {
   "cell_type": "code",
   "execution_count": 163,
   "metadata": {},
   "outputs": [
    {
     "data": {
      "text/plain": [
       "2.489915592430111"
      ]
     },
     "execution_count": 163,
     "metadata": {},
     "output_type": "execute_result"
    }
   ],
   "source": [
    "model.mean_absolute_error(Y_train, train_pred)"
   ]
  },
  {
   "cell_type": "code",
   "execution_count": 164,
   "metadata": {},
   "outputs": [
    {
     "data": {
      "text/plain": [
       "0.9616902796033764"
      ]
     },
     "execution_count": 164,
     "metadata": {},
     "output_type": "execute_result"
    }
   ],
   "source": [
    "model.r2_score(Y_train, train_pred)"
   ]
  },
  {
   "cell_type": "code",
   "execution_count": 165,
   "metadata": {},
   "outputs": [
    {
     "data": {
      "image/png": "[encoded data removed]",
      "text/plain": [
       "<Figure size 432x288 with 1 Axes>"
      ]
     },
     "metadata": {
      "needs_background": "light"
     },
     "output_type": "display_data"
    }
   ],
   "source": [
    "plt.plot(X_test, Y_test, 'o', label=\"ACTUAL TEST DATA\")\n",
    "plt.plot(X_test, test_pred, 'r', label=\"PREDICT TEST DATA\")\n",
    "plt.legend()\n",
    "plt.show()"
   ]
  },
  {
   "cell_type": "code",
   "execution_count": 166,
   "metadata": {},
   "outputs": [
    {
     "data": {
      "text/plain": [
       "0.9602322830185565"
      ]
     },
     "execution_count": 166,
     "metadata": {},
     "output_type": "execute_result"
    }
   ],
   "source": [
    "model.r2_score(Y_test, test_pred)"
   ]
  },
  {
   "cell_type": "code",
   "execution_count": 171,
   "metadata": {},
   "outputs": [],
   "source": [
    "def train_test_split_with_bias(feature, target, test_ratio=0.3):\n",
    "    \"\"\"This Function will split the data into training and test\n",
    "    Return X_train, X_test, Y_train, Y_test\"\"\"\n",
    "    if len(feature) == len(target):\n",
    "        X_train = []\n",
    "        Y_train = []\n",
    "        X_test = []\n",
    "        Y_test = []\n",
    "        train_ratio = 1 - test_ratio\n",
    "        train_size = int(len(feature)*train_ratio)\n",
    "        test_size = int(len(feature)*test_ratio)\n",
    "        X_train.extend(feature[:train_size])\n",
    "        Y_train.extend(target[:train_size])\n",
    "        X_test.extend(feature[train_size:])\n",
    "        Y_test.extend(target[train_size:])\n",
    "        return np.array(X_train), np.array(X_test), np.array(Y_train), np.array(Y_test)\n",
    "    else:\n",
    "        return \"Length Mismatch --> Length of feature and target is not same...\""
   ]
  },
  {
   "cell_type": "code",
   "execution_count": 172,
   "metadata": {},
   "outputs": [],
   "source": [
    "def train_test_split_without_bias(feature, target, test_ratio=0.3):\n",
    "    \"\"\"This Function will split the data into training and test\n",
    "    Return X_train, X_test, Y_train, Y_test without sampling bias\"\"\"\n",
    "    if len(feature) == len(target):\n",
    "        X_train = []\n",
    "        Y_train = []\n",
    "        X_test = []\n",
    "        Y_test = []\n",
    "        train_ratio = 1 - test_ratio\n",
    "        train_size = int(len(feature)*train_ratio)\n",
    "        test_size = int(len(feature)*test_ratio)\n",
    "        indices = np.random.permutation(range(len(feature)))\n",
    "        train_ind = indices[:train_size]\n",
    "        test_ind = indices[train_size:]\n",
    "        X_train.extend(feature[train_ind])\n",
    "        Y_train.extend(target[train_ind])\n",
    "        X_test.extend(feature[test_ind])\n",
    "        Y_test.extend(target[test_ind])\n",
    "        return np.array(X_train), np.array(X_test), np.array(Y_train), np.array(Y_test)\n",
    "    else:\n",
    "        return \"Length Mismatch --> Length of feature and target is not same...\""
   ]
  },
  {
   "cell_type": "code",
   "execution_count": 173,
   "metadata": {},
   "outputs": [
    {
     "data": {
      "text/plain": [
       "500"
      ]
     },
     "execution_count": 173,
     "metadata": {},
     "output_type": "execute_result"
    }
   ],
   "source": [
    "len(x)"
   ]
  },
  {
   "cell_type": "code",
   "execution_count": 174,
   "metadata": {},
   "outputs": [
    {
     "data": {
      "text/plain": [
       "500"
      ]
     },
     "execution_count": 174,
     "metadata": {},
     "output_type": "execute_result"
    }
   ],
   "source": [
    "len(y)"
   ]
  },
  {
   "cell_type": "code",
   "execution_count": 231,
   "metadata": {},
   "outputs": [],
   "source": [
    "class MyLinearRegression:\n",
    "    def __init__(self):\n",
    "        self._coef = None\n",
    "        self._intercept = None\n",
    "    \n",
    "    def fit(self, feature, target):\n",
    "        \"\"\"This method will make our model learn and find the best values \n",
    "        of coeffiecient and intercept\"\"\"\n",
    "        feature = np.array(feature)\n",
    "        target = np.array(target)\n",
    "        a = sum((feature - feature.mean()) * (target - target.mean()))\n",
    "        b = sum((feature - feature.mean())**2)\n",
    "        self._coef = a/b\n",
    "        self._intercept = target.mean() - (self._coef*feature.mean())\n",
    "        \n",
    "    def predict(self, X_test):\n",
    "        try:\n",
    "            len(X_test)\n",
    "        except:\n",
    "            raise ValueError(\"Testing Data Should Be Iterable Object\") \n",
    "        else:\n",
    "            y_test = []\n",
    "            for x in X_test:\n",
    "                y_test.append(self._intercept + self._coef*x)\n",
    "            return np.array(y_test)\n",
    "        \n",
    "    def mean_absolute_error(self, y, y_hat):\n",
    "        return (abs((y - y_hat)).sum())/len(y)\n",
    "    \n",
    "    def mean_square_error(self, y, y_hat):\n",
    "        return (((y - y_hat)**2).sum())/len(y)\n",
    "    \n",
    "    def rmse(self, y, y_hat):\n",
    "        return np.sqrt((((y - y_hat)**2).sum())/len(y))\n",
    "\n",
    "    def r2_score(self, y, y_hat):\n",
    "        r2score = 1 - (sum((y - y_hat)**2) / sum((y - y.mean())**2))\n",
    "        return r2score"
   ]
  },
  {
   "cell_type": "code",
   "execution_count": 234,
   "metadata": {},
   "outputs": [
    {
     "name": "stdout",
     "output_type": "stream",
     "text": [
      "\n",
      " Accuracy of model with bias splitting :  0.9597180203711035\n",
      "\n",
      " Accuracy of model without bias splitting :  0.9707191086648194\n"
     ]
    }
   ],
   "source": [
    "model1 = MyLinearRegression()\n",
    "X_train, X_test, Y_train, Y_test = train_test_split_with_bias(x, y)\n",
    "model1.fit(X_train, Y_train)\n",
    "pred1 = model1.predict(X_test)\n",
    "acc1 = model1.r2_score(Y_test, pred1)\n",
    "print(\"\\n Accuracy of model with bias splitting : \", acc1)\n",
    "\n",
    "\n",
    "model2 = MyLinearRegression()\n",
    "X_train, X_test, Y_train, Y_test = train_test_split_without_bias(x, y)\n",
    "model2.fit(X_train, Y_train)\n",
    "pred2 = model2.predict(X_test)\n",
    "acc2 = model2.r2_score(Y_test, pred2)\n",
    "print(\"\\n Accuracy of model without bias splitting : \", acc2)\n",
    "\n"
   ]
  },
  {
   "cell_type": "code",
   "execution_count": 177,
   "metadata": {},
   "outputs": [],
   "source": [
    "from sklearn.linear_model import LinearRegression\n",
    "from sklearn.metrics import r2_score, mean_absolute_error\n",
    "from sklearn.model_selection import train_test_split"
   ]
  },
  {
   "cell_type": "code",
   "execution_count": 178,
   "metadata": {},
   "outputs": [
    {
     "data": {
      "text/plain": [
       "0.9653080980081906"
      ]
     },
     "execution_count": 178,
     "metadata": {},
     "output_type": "execute_result"
    }
   ],
   "source": [
    "lin_model = LinearRegression()\n",
    "lin_model.fit(X_train.reshape(-1, 1), Y_train)\n",
    "lin_pred = lin_model.predict(X_test.reshape(-1, 1))\n",
    "r2_score(Y_test, lin_pred)"
   ]
  },
  {
   "cell_type": "code",
   "execution_count": 225,
   "metadata": {},
   "outputs": [],
   "source": [
    "x_train, x_test, y_train, y_test = train_test_split(x, y, random_state=1)"
   ]
  },
  {
   "cell_type": "code",
   "execution_count": 226,
   "metadata": {},
   "outputs": [
    {
     "data": {
      "text/plain": [
       "array([ 8.80231998,  9.79833408, -1.33055684, 24.40718405, 18.16552516])"
      ]
     },
     "execution_count": 226,
     "metadata": {},
     "output_type": "execute_result"
    }
   ],
   "source": [
    "x_train[:5]"
   ]
  },
  {
   "cell_type": "code",
   "execution_count": 227,
   "metadata": {},
   "outputs": [
    {
     "data": {
      "text/plain": [
       "array([17.44657508, 17.39311529,  5.08222951, 18.39474498, 12.91285376])"
      ]
     },
     "execution_count": 227,
     "metadata": {},
     "output_type": "execute_result"
    }
   ],
   "source": [
    "x_test[:5]"
   ]
  },
  {
   "cell_type": "code",
   "execution_count": 228,
   "metadata": {},
   "outputs": [
    {
     "data": {
      "text/plain": [
       "array([30.0601727 , 26.79134048,  9.17304192, 56.40175882, 34.25757404])"
      ]
     },
     "execution_count": 228,
     "metadata": {},
     "output_type": "execute_result"
    }
   ],
   "source": [
    "y_train[:5]"
   ]
  },
  {
   "cell_type": "code",
   "execution_count": 229,
   "metadata": {},
   "outputs": [
    {
     "data": {
      "text/plain": [
       "array([47.17638277, 41.94951989, 19.06172818, 43.8477745 , 33.75289495])"
      ]
     },
     "execution_count": 229,
     "metadata": {},
     "output_type": "execute_result"
    }
   ],
   "source": [
    "y_test[:5]"
   ]
  },
  {
   "cell_type": "code",
   "execution_count": 235,
   "metadata": {},
   "outputs": [],
   "source": [
    "tip = sns.load_dataset(\"tips\")"
   ]
  },
  {
   "cell_type": "code",
   "execution_count": 236,
   "metadata": {},
   "outputs": [],
   "source": [
    "feature = tip['total_bill']\n",
    "target = tip['tip']"
   ]
  },
  {
   "cell_type": "code",
   "execution_count": 237,
   "metadata": {},
   "outputs": [],
   "source": [
    "X_train, X_test, Y_train, Y_test = train_test_split_without_bias(feature, target)"
   ]
  },
  {
   "cell_type": "code",
   "execution_count": 238,
   "metadata": {},
   "outputs": [
    {
     "data": {
      "text/plain": [
       "170"
      ]
     },
     "execution_count": 238,
     "metadata": {},
     "output_type": "execute_result"
    }
   ],
   "source": [
    "len(X_train)"
   ]
  },
  {
   "cell_type": "code",
   "execution_count": 239,
   "metadata": {},
   "outputs": [
    {
     "data": {
      "text/plain": [
       "74"
      ]
     },
     "execution_count": 239,
     "metadata": {},
     "output_type": "execute_result"
    }
   ],
   "source": [
    "len(X_test)"
   ]
  },
  {
   "cell_type": "code",
   "execution_count": 250,
   "metadata": {},
   "outputs": [
    {
     "name": "stdout",
     "output_type": "stream",
     "text": [
      "\n",
      " MYMODEL ACCURACY -->  0.5560460342049236\n",
      "\n",
      " MYMODEL ERROR -->  0.7695696456526496\n",
      "\n",
      " INBUILT MODEL ACCURACY -->  0.5560460342049236\n",
      "\n",
      " INBUILT MODEL ERROR -->  0.7695696456526494\n"
     ]
    }
   ],
   "source": [
    "X_train, X_test, Y_train, Y_test = train_test_split_without_bias(feature, target)\n",
    "\n",
    "mymodel = MyLinearRegression()\n",
    "mymodel.fit(X_train, Y_train)\n",
    "mypred = mymodel.predict(X_test)\n",
    "acc1 = mymodel.r2_score(Y_test, mypred)\n",
    "err1 = mymodel.mean_absolute_error(Y_test, mypred)\n",
    "\n",
    "model = LinearRegression()\n",
    "model.fit(X_train.reshape(-1, 1), Y_train) # learning\n",
    "pred = model.predict(X_test.reshape(-1, 1))\n",
    "acc2 = r2_score(Y_test, pred)\n",
    "err2 = mean_absolute_error(Y_test, pred)\n",
    "\n",
    "\n",
    "print(\"\\n MYMODEL ACCURACY --> \", acc1)\n",
    "print(\"\\n MYMODEL ERROR --> \", err1)\n",
    "\n",
    "print(\"\\n INBUILT MODEL ACCURACY --> \", acc2)\n",
    "print(\"\\n INBUILT MODEL ERROR --> \", err2)"
   ]
  },
  {
   "cell_type": "code",
   "execution_count": 254,
   "metadata": {},
   "outputs": [
    {
     "name": "stdout",
     "output_type": "stream",
     "text": [
      "\n",
      " MYMODEL ACCURACY -->  0.37806991676651813\n",
      "\n",
      " MYMODEL ERROR -->  0.7485815077298009\n",
      "\n",
      " INBUILT MODEL ACCURACY -->  0.37806991676651713\n",
      "\n",
      " INBUILT MODEL ERROR -->  0.7485815077298008\n"
     ]
    }
   ],
   "source": [
    "\n",
    "mymodel = MyLinearRegression()\n",
    "mymodel.fit(X_train, Y_train)\n",
    "mypred = mymodel.predict(X_train)\n",
    "acc1 = mymodel.r2_score(Y_train, mypred)\n",
    "err1 = mymodel.mean_absolute_error(Y_train, mypred)\n",
    "\n",
    "model = LinearRegression()\n",
    "model.fit(X_train.reshape(-1, 1), Y_train) # learning\n",
    "pred = model.predict(X_train.reshape(-1, 1))\n",
    "acc2 = r2_score(Y_train, pred)\n",
    "err2 = mean_absolute_error(Y_train, pred)\n",
    "\n",
    "\n",
    "print(\"\\n MYMODEL ACCURACY --> \", acc1)\n",
    "print(\"\\n MYMODEL ERROR --> \", err1)\n",
    "\n",
    "print(\"\\n INBUILT MODEL ACCURACY --> \", acc2)\n",
    "print(\"\\n INBUILT MODEL ERROR --> \", err2)"
   ]
  },
  {
   "cell_type": "code",
   "execution_count": 252,
   "metadata": {},
   "outputs": [
    {
     "data": {
      "text/plain": [
       "[<matplotlib.lines.Line2D at 0x15467932070>]"
      ]
     },
     "execution_count": 252,
     "metadata": {},
     "output_type": "execute_result"
    },
    {
     "data": {
      "image/png": "[encoded data removed]",
      "text/plain": [
       "<Figure size 432x288 with 1 Axes>"
      ]
     },
     "metadata": {
      "needs_background": "light"
     },
     "output_type": "display_data"
    }
   ],
   "source": [
    "plt.plot(feature, target, 'o')"
   ]
  },
  {
   "cell_type": "code",
   "execution_count": 255,
   "metadata": {},
   "outputs": [
    {
     "data": {
      "image/png": "[encoded data removed]",
      "text/plain": [
       "<Figure size 432x288 with 1 Axes>"
      ]
     },
     "metadata": {
      "needs_background": "light"
     },
     "output_type": "display_data"
    }
   ],
   "source": [
    "plt.plot(X_train, Y_train, 'o', label=\"ACTUAL\")\n",
    "plt.plot(X_train, pred, '-', label=\"PREDICTED\")\n",
    "plt.show()"
   ]
  },
  {
   "cell_type": "code",
   "execution_count": 253,
   "metadata": {},
   "outputs": [
    {
     "data": {
      "image/png": "[encoded data removed]",
      "text/plain": [
       "<Figure size 432x288 with 1 Axes>"
      ]
     },
     "metadata": {
      "needs_background": "light"
     },
     "output_type": "display_data"
    }
   ],
   "source": [
    "plt.plot(X_test, Y_test, 'o', label=\"ACTUAL\")\n",
    "plt.plot(X_test, pred, '-', label=\"PREDICTED\")\n",
    "plt.show()"
   ]
  },
  {
   "cell_type": "code",
   "execution_count": 256,
   "metadata": {},
   "outputs": [],
   "source": [
    "covid = pd.read_csv(\"C:/batches/online_batch/batch1pm/Machine_Learning/covid_19_data.csv\")"
   ]
  },
  {
   "cell_type": "code",
   "execution_count": 257,
   "metadata": {},
   "outputs": [
    {
     "data": {
      "text/html": [
       "<div>\n",
       "<style scoped>\n",
       "    .dataframe tbody tr th:only-of-type {\n",
       "        vertical-align: middle;\n",
       "    }\n",
       "\n",
       "    .dataframe tbody tr th {\n",
       "        vertical-align: top;\n",
       "    }\n",
       "\n",
       "    .dataframe thead th {\n",
       "        text-align: right;\n",
       "    }\n",
       "</style>\n",
       "<table border=\"1\" class=\"dataframe\">\n",
       "  <thead>\n",
       "    <tr style=\"text-align: right;\">\n",
       "      <th></th>\n",
       "      <th>SNo</th>\n",
       "      <th>ObservationDate</th>\n",
       "      <th>Province/State</th>\n",
       "      <th>Country/Region</th>\n",
       "      <th>Last Update</th>\n",
       "      <th>Confirmed</th>\n",
       "      <th>Deaths</th>\n",
       "      <th>Recovered</th>\n",
       "    </tr>\n",
       "  </thead>\n",
       "  <tbody>\n",
       "    <tr>\n",
       "      <th>0</th>\n",
       "      <td>1</td>\n",
       "      <td>01/22/2020</td>\n",
       "      <td>Anhui</td>\n",
       "      <td>Mainland China</td>\n",
       "      <td>1/22/2020 17:00</td>\n",
       "      <td>1.0</td>\n",
       "      <td>0.0</td>\n",
       "      <td>0.0</td>\n",
       "    </tr>\n",
       "    <tr>\n",
       "      <th>1</th>\n",
       "      <td>2</td>\n",
       "      <td>01/22/2020</td>\n",
       "      <td>Beijing</td>\n",
       "      <td>Mainland China</td>\n",
       "      <td>1/22/2020 17:00</td>\n",
       "      <td>14.0</td>\n",
       "      <td>0.0</td>\n",
       "      <td>0.0</td>\n",
       "    </tr>\n",
       "    <tr>\n",
       "      <th>2</th>\n",
       "      <td>3</td>\n",
       "      <td>01/22/2020</td>\n",
       "      <td>Chongqing</td>\n",
       "      <td>Mainland China</td>\n",
       "      <td>1/22/2020 17:00</td>\n",
       "      <td>6.0</td>\n",
       "      <td>0.0</td>\n",
       "      <td>0.0</td>\n",
       "    </tr>\n",
       "    <tr>\n",
       "      <th>3</th>\n",
       "      <td>4</td>\n",
       "      <td>01/22/2020</td>\n",
       "      <td>Fujian</td>\n",
       "      <td>Mainland China</td>\n",
       "      <td>1/22/2020 17:00</td>\n",
       "      <td>1.0</td>\n",
       "      <td>0.0</td>\n",
       "      <td>0.0</td>\n",
       "    </tr>\n",
       "    <tr>\n",
       "      <th>4</th>\n",
       "      <td>5</td>\n",
       "      <td>01/22/2020</td>\n",
       "      <td>Gansu</td>\n",
       "      <td>Mainland China</td>\n",
       "      <td>1/22/2020 17:00</td>\n",
       "      <td>0.0</td>\n",
       "      <td>0.0</td>\n",
       "      <td>0.0</td>\n",
       "    </tr>\n",
       "  </tbody>\n",
       "</table>\n",
       "</div>"
      ],
      "text/plain": [
       "   SNo ObservationDate Province/State  Country/Region      Last Update  \\\n",
       "0    1      01/22/2020          Anhui  Mainland China  1/22/2020 17:00   \n",
       "1    2      01/22/2020        Beijing  Mainland China  1/22/2020 17:00   \n",
       "2    3      01/22/2020      Chongqing  Mainland China  1/22/2020 17:00   \n",
       "3    4      01/22/2020         Fujian  Mainland China  1/22/2020 17:00   \n",
       "4    5      01/22/2020          Gansu  Mainland China  1/22/2020 17:00   \n",
       "\n",
       "   Confirmed  Deaths  Recovered  \n",
       "0        1.0     0.0        0.0  \n",
       "1       14.0     0.0        0.0  \n",
       "2        6.0     0.0        0.0  \n",
       "3        1.0     0.0        0.0  \n",
       "4        0.0     0.0        0.0  "
      ]
     },
     "execution_count": 257,
     "metadata": {},
     "output_type": "execute_result"
    }
   ],
   "source": [
    "covid.head()"
   ]
  },
  {
   "cell_type": "code",
   "execution_count": 259,
   "metadata": {},
   "outputs": [
    {
     "data": {
      "text/plain": [
       "(205951, 8)"
      ]
     },
     "execution_count": 259,
     "metadata": {},
     "output_type": "execute_result"
    }
   ],
   "source": [
    "covid.shape"
   ]
  },
  {
   "cell_type": "code",
   "execution_count": 260,
   "metadata": {},
   "outputs": [
    {
     "data": {
      "text/plain": [
       "<seaborn.axisgrid.PairGrid at 0x15401914d90>"
      ]
     },
     "execution_count": 260,
     "metadata": {},
     "output_type": "execute_result"
    },
    {
     "data": {
      "image/png": "[encoded data removed]",
      "text/plain": [
       "<Figure size 540x540 with 12 Axes>"
      ]
     },
     "metadata": {
      "needs_background": "light"
     },
     "output_type": "display_data"
    }
   ],
   "source": [
    "sns.pairplot(covid[['Confirmed', 'Deaths', 'Recovered']])"
   ]
  },
  {
   "cell_type": "code",
   "execution_count": 261,
   "metadata": {},
   "outputs": [],
   "source": [
    "feature = covid['Confirmed']\n",
    "target = covid['Deaths']"
   ]
  },
  {
   "cell_type": "code",
   "execution_count": 283,
   "metadata": {},
   "outputs": [
    {
     "name": "stdout",
     "output_type": "stream",
     "text": [
      "\n",
      " MYMODEL ACCURACY -->  0.6989427584098875\n",
      "\n",
      " MYMODEL ERROR -->  754.9964139952143\n",
      "\n",
      " INBUILT MODEL ACCURACY -->  0.6989427584098413\n",
      "\n",
      " INBUILT MODEL ERROR -->  754.996413995157\n"
     ]
    }
   ],
   "source": [
    "X_train, X_test, Y_train, Y_test = train_test_split_without_bias(feature, target)\n",
    "\n",
    "mymodel = MyLinearRegression()\n",
    "mymodel.fit(X_train, Y_train)\n",
    "mypred = mymodel.predict(X_test)\n",
    "acc1 = mymodel.r2_score(Y_test, mypred)\n",
    "err1 = mymodel.mean_absolute_error(Y_test, mypred)\n",
    "\n",
    "model = LinearRegression()\n",
    "model.fit(X_train.reshape(-1, 1), Y_train) # learning\n",
    "pred = model.predict(X_test.reshape(-1, 1))\n",
    "acc2 = r2_score(Y_test, pred)\n",
    "err2 = mean_absolute_error(Y_test, pred)\n",
    "\n",
    "\n",
    "print(\"\\n MYMODEL ACCURACY --> \", acc1)\n",
    "print(\"\\n MYMODEL ERROR --> \", err1)\n",
    "\n",
    "print(\"\\n INBUILT MODEL ACCURACY --> \", acc2)\n",
    "print(\"\\n INBUILT MODEL ERROR --> \", err2)"
   ]
  },
  {
   "cell_type": "code",
   "execution_count": 284,
   "metadata": {},
   "outputs": [
    {
     "data": {
      "image/png": "[encoded data removed]",
      "text/plain": [
       "<Figure size 432x288 with 1 Axes>"
      ]
     },
     "metadata": {
      "needs_background": "light"
     },
     "output_type": "display_data"
    }
   ],
   "source": [
    "plt.plot(X_test, Y_test, 'o', label=\"ACTUAL\")\n",
    "plt.plot(X_test, pred, '-', label=\"PREDICTED\")\n",
    "plt.show()"
   ]
  },
  {
   "cell_type": "code",
   "execution_count": 264,
   "metadata": {},
   "outputs": [
    {
     "data": {
      "text/plain": [
       "205946     62492.0\n",
       "205947     13031.0\n",
       "205948      1316.0\n",
       "205949     42758.0\n",
       "205950    224398.0\n",
       "Name: Confirmed, dtype: float64"
      ]
     },
     "execution_count": 264,
     "metadata": {},
     "output_type": "execute_result"
    }
   ],
   "source": [
    "feature.tail()"
   ]
  },
  {
   "cell_type": "code",
   "execution_count": 285,
   "metadata": {},
   "outputs": [
    {
     "name": "stdout",
     "output_type": "stream",
     "text": [
      "\n",
      " MYMODEL ACCURACY -->  0.6827874890402597\n",
      "\n",
      " MYMODEL ERROR -->  763.9787301519958\n",
      "\n",
      " INBUILT MODEL ACCURACY -->  0.6827874890402607\n",
      "\n",
      " INBUILT MODEL ERROR -->  763.9787301519414\n"
     ]
    }
   ],
   "source": [
    "\n",
    "mymodel = MyLinearRegression()\n",
    "mymodel.fit(X_train, Y_train)\n",
    "mypred = mymodel.predict(X_train)\n",
    "acc1 = mymodel.r2_score(Y_train, mypred)\n",
    "err1 = mymodel.mean_absolute_error(Y_train, mypred)\n",
    "\n",
    "model = LinearRegression()\n",
    "model.fit(X_train.reshape(-1, 1), Y_train) # learning\n",
    "pred = model.predict(X_train.reshape(-1, 1))\n",
    "acc2 = r2_score(Y_train, pred)\n",
    "err2 = mean_absolute_error(Y_train, pred)\n",
    "\n",
    "\n",
    "print(\"\\n MYMODEL ACCURACY --> \", acc1)\n",
    "print(\"\\n MYMODEL ERROR --> \", err1)\n",
    "\n",
    "print(\"\\n INBUILT MODEL ACCURACY --> \", acc2)\n",
    "print(\"\\n INBUILT MODEL ERROR --> \", err2)"
   ]
  },
  {
   "cell_type": "code",
   "execution_count": 286,
   "metadata": {},
   "outputs": [
    {
     "data": {
      "image/png": "[encoded data removed]",
      "text/plain": [
       "<Figure size 432x288 with 1 Axes>"
      ]
     },
     "metadata": {
      "needs_background": "light"
     },
     "output_type": "display_data"
    }
   ],
   "source": [
    "plt.plot(X_train, Y_train, 'o', label=\"ACTUAL\")\n",
    "plt.plot(X_train, pred, '-', label=\"PREDICTED\")\n",
    "plt.show()"
   ]
  },
  {
   "cell_type": "code",
   "execution_count": null,
   "metadata": {},
   "outputs": [],
   "source": []
  }
 ],
 "metadata": {
  "kernelspec": {
   "display_name": "Python 3",
   "language": "python",
   "name": "python3"
  },
  "language_info": {
   "codemirror_mode": {
    "name": "ipython",
    "version": 3
   },
   "file_extension": ".py",
   "mimetype": "text/x-python",
   "name": "python",
   "nbconvert_exporter": "python",
   "pygments_lexer": "ipython3",
   "version": "3.8.5"
  }
 },
 "nbformat": 4,
 "nbformat_minor": 4
}
