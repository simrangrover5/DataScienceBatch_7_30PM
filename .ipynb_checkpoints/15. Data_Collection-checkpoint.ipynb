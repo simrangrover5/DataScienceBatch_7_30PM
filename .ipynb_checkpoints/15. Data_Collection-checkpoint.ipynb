{
 "cells": [
  {
   "cell_type": "markdown",
   "metadata": {},
   "source": [
    "#### API\n",
    "\n",
    "    Interface --> Medium through which 2 devices can connect with each other\n",
    "    \n",
    "    API --> Application Programming Interface\n",
    "    \n",
    "        Medium between Application or program\n",
    "        Medium between one program and another program\n",
    "        Medium between one application and another application\n",
    "        \n",
    "        \n",
    "    API --> URL and we need to create an app\n",
    "    \n",
    "    app --> project --> program --> Api access\n",
    "    key or token --> authenticate and authorize --> api access\n",
    "    \n",
    "    \n",
    "    api request --> API URL + key/token\n",
    "    \n",
    "    \n",
    "    Real Time Applications of API\n",
    "    \n",
    "    \n",
    "        1. Zomato, Swiggy --> Map API, restaurants data\n",
    "        2. Payment Gateway API\n",
    "        3. Travel websites  \n",
    "        4. Google API\n",
    "        5. Facebook API\n",
    "        6. Authentication API (Login with google, Facebook, etc)\n",
    "        7. News API\n",
    "        8. Bots API\n",
    "        9. Livemint\n",
    "        10. Bookmyshow"
   ]
  },
  {
   "cell_type": "markdown",
   "metadata": {},
   "source": [
    "    REST API AND SOAP API difference"
   ]
  },
  {
   "cell_type": "markdown",
   "metadata": {},
   "source": [
    "    ? --> query string \n",
    "    & --> to separate parameters"
   ]
  },
  {
   "cell_type": "code",
   "execution_count": 1,
   "metadata": {},
   "outputs": [],
   "source": [
    "import requests"
   ]
  },
  {
   "cell_type": "code",
   "execution_count": 6,
   "metadata": {},
   "outputs": [],
   "source": [
    "key = \"EAAG9jDQCtREBAKc6ZAOBHAWuTCrXnTPYMFVek3fRlzqIFGZBRTyqyIucsoAZCnZAEhGGqCOUQWPxaRJGzGhKOy37dYaeZCAZAGNEQrwBUMF5GIo7K40AyU7BQIGZAx87Cc9TZCY4IkhRlattwjSN1trspfxRRaPRKoz6R0zu37Joqd5DKZCXwDMU750duFd664KdDZClq2ZCnH4n95XsMJtw36tAnGTWzZATuYiwYaB2p1vNXQZDZD\"\n",
    "url = f\"https://graph.facebook.com/v10.0/me?fields=id,name&access_token={key}\"\n"
   ]
  },
  {
   "cell_type": "code",
   "execution_count": 7,
   "metadata": {},
   "outputs": [
    {
     "data": {
      "text/plain": [
       "<Response [200]>"
      ]
     },
     "execution_count": 7,
     "metadata": {},
     "output_type": "execute_result"
    }
   ],
   "source": [
    "requests.get(url)  # requests.get(method) , requests.post(method)\n",
    "# 200 --> status code --> successfully"
   ]
  },
  {
   "cell_type": "code",
   "execution_count": 8,
   "metadata": {},
   "outputs": [],
   "source": [
    "resp = requests.get(url)"
   ]
  },
  {
   "cell_type": "code",
   "execution_count": 10,
   "metadata": {},
   "outputs": [
    {
     "data": {
      "text/plain": [
       "{'ETag': '\"66eaa041f27fed27887d3609090c8c3114981d2a\"', 'Expires': 'Sat, 01 Jan 2000 00:00:00 GMT', 'Content-Type': 'application/json; charset=UTF-8', 'facebook-api-version': 'v10.0', 'x-fb-request-id': 'A_WWV7vl1ZWF00demEBaop0', 'Strict-Transport-Security': 'max-age=15552000; preload', 'x-fb-trace-id': 'FDzmFhqBlhw', 'x-fb-rev': '1003528293', 'Cache-Control': 'private, no-cache, no-store, must-revalidate', 'Pragma': 'no-cache', 'x-app-usage': '{\"call_count\":7,\"total_cputime\":0,\"total_time\":3}', 'x-fb-rlafr': '0', 'Access-Control-Allow-Origin': '*', 'X-FB-Debug': 'HssxRAbB1lCEMItunvwwp9937vxgDNrcx57n/Uaen2dgIc6Ghl1SyE2J5Xmzz8pk40AyDZSzsiWpDe02pbh6NQ==', 'Date': 'Sat, 27 Mar 2021 08:26:06 GMT', 'Priority': 'u=3,i', 'Alt-Svc': 'h3-29=\":443\"; ma=3600,h3-27=\":443\"; ma=3600', 'Connection': 'keep-alive', 'Content-Length': '48'}"
      ]
     },
     "execution_count": 10,
     "metadata": {},
     "output_type": "execute_result"
    }
   ],
   "source": [
    "resp.headers  #resp head part"
   ]
  },
  {
   "cell_type": "code",
   "execution_count": 11,
   "metadata": {},
   "outputs": [
    {
     "data": {
      "text/plain": [
       "200"
      ]
     },
     "execution_count": 11,
     "metadata": {},
     "output_type": "execute_result"
    }
   ],
   "source": [
    "resp.status_code"
   ]
  },
  {
   "cell_type": "code",
   "execution_count": 12,
   "metadata": {},
   "outputs": [
    {
     "data": {
      "text/plain": [
       "b'{\"id\":\"3861571440622942\",\"name\":\"Simran Grover\"}'"
      ]
     },
     "execution_count": 12,
     "metadata": {},
     "output_type": "execute_result"
    }
   ],
   "source": [
    "resp.content  # byte "
   ]
  },
  {
   "cell_type": "code",
   "execution_count": 13,
   "metadata": {},
   "outputs": [
    {
     "data": {
      "text/plain": [
       "'{\"id\":\"3861571440622942\",\"name\":\"Simran Grover\"}'"
      ]
     },
     "execution_count": 13,
     "metadata": {},
     "output_type": "execute_result"
    }
   ],
   "source": [
    "resp.text  # string"
   ]
  },
  {
   "cell_type": "code",
   "execution_count": 16,
   "metadata": {},
   "outputs": [],
   "source": [
    "data = resp.json()  # json data"
   ]
  },
  {
   "cell_type": "code",
   "execution_count": 18,
   "metadata": {},
   "outputs": [
    {
     "data": {
      "text/plain": [
       "'3861571440622942'"
      ]
     },
     "execution_count": 18,
     "metadata": {},
     "output_type": "execute_result"
    }
   ],
   "source": [
    "data['id']"
   ]
  },
  {
   "cell_type": "code",
   "execution_count": 19,
   "metadata": {},
   "outputs": [
    {
     "data": {
      "text/plain": [
       "'Simran Grover'"
      ]
     },
     "execution_count": 19,
     "metadata": {},
     "output_type": "execute_result"
    }
   ],
   "source": [
    "data['name']"
   ]
  },
  {
   "cell_type": "code",
   "execution_count": 21,
   "metadata": {},
   "outputs": [
    {
     "name": "stdout",
     "output_type": "stream",
     "text": [
      "\n",
      " Enter Fields , separated --> id,name,posts\n",
      "{'id': '3861571440622942', 'name': 'Simran Grover', 'posts': {'data': [{'created_time': '2020-10-29T15:34:40+0000', 'id': '3861571440622942_2106467652800005'}, {'created_time': '2020-06-06T13:26:13+0000', 'id': '3861571440622942_3050666135046814'}, {'created_time': '2020-06-01T17:52:28+0000', 'message': 'Omg 6 years back Prateek Pasricha Sonam Grover🤣🤣', 'id': '3861571440622942_3038494352930659'}, {'created_time': '2020-05-12T07:47:58+0000', 'message': 'Proud❤️😇', 'id': '3861571440622942_2987979897982105'}, {'created_time': '2020-05-07T10:03:04+0000', 'id': '3861571440622942_2976948349085260'}, {'created_time': '2020-05-04T04:20:27+0000', 'id': '3861571440622942_2969687816477980'}, {'created_time': '2020-03-19T12:42:16+0000', 'id': '3861571440622942_2868820909898005'}, {'created_time': '2020-02-25T14:17:58+0000', 'message': 'Too hard to carry😪', 'id': '3861571440622942_2821500974629999'}, {'created_time': '2019-10-13T02:32:53+0000', 'id': '3861571440622942_2536022416511191'}, {'created_time': '2019-09-20T06:27:15+0000', 'id': '3861571440622942_2485729834873783'}, {'created_time': '2019-08-19T17:06:58+0000', 'message': 'Hey babe ♥️ Muskan Batra birthday soon🤩', 'id': '3861571440622942_2428307400616027'}, {'created_time': '2019-08-18T19:33:54+0000', 'id': '3861571440622942_2426749554105145'}, {'created_time': '2019-07-28T02:57:25+0000', 'id': '3861571440622942_2390061257773975'}, {'created_time': '2019-07-15T05:36:27+0000', 'id': '3861571440622942_2367914416655326'}, {'created_time': '2019-05-28T15:40:57+0000', 'message': 'Now only this picture is left Sonam Grover🤣', 'id': '3861571440622942_2285031841610251'}, {'created_time': '2019-05-26T10:14:05+0000', 'id': '3861571440622942_2281341411979294'}, {'created_time': '2019-05-25T09:55:35+0000', 'id': '3861571440622942_2279649135481855'}, {'created_time': '2019-05-03T13:56:42+0000', 'id': '3861571440622942_2244574925655943'}, {'created_time': '2019-04-23T18:22:52+0000', 'id': '3861571440622942_2229682317145204'}, {'created_time': '2019-03-31T08:02:22+0000', 'id': '3861571440622942_2194347604012009'}, {'created_time': '2019-03-07T18:42:12+0000', 'id': '3861571440622942_2161371100642993'}, {'created_time': '2019-02-21T17:12:29+0000', 'id': '3861571440622942_2140903952689708'}, {'created_time': '2019-02-12T14:58:08+0000', 'id': '3861571440622942_2126090164171087'}, {'created_time': '2019-01-30T13:35:44+0000', 'id': '3861571440622942_2106467709466666'}, {'created_time': '2019-01-11T15:17:11+0000', 'message': 'Nobody really has its \"all\"  whatever you do have thats the \"all\" you need', 'id': '3861571440622942_2077900658990038'}], 'paging': {'previous': 'https://graph.facebook.com/v10.0/3861571440622942/posts?access_token=EAAG9jDQCtREBAKc6ZAOBHAWuTCrXnTPYMFVek3fRlzqIFGZBRTyqyIucsoAZCnZAEhGGqCOUQWPxaRJGzGhKOy37dYaeZCAZAGNEQrwBUMF5GIo7K40AyU7BQIGZAx87Cc9TZCY4IkhRlattwjSN1trspfxRRaPRKoz6R0zu37Joqd5DKZCXwDMU750duFd664KdDZClq2ZCnH4n95XsMJtw36tAnGTWzZATuYiwYaB2p1vNXQZDZD&__previous=1&since=1603985680&until&__paging_token=enc_AdDBSO914w0dgjmqAKp1Y8eMsyWT8cX9945QrZBAd9qcyfIOdCJO2OolnudoAGeR3HtyyZBaIoVN8mGNGxdPpi5nqjQqHmFlCYDATM0WOu0h8yZC9WTy3Be2XHpheAXTnD27W9KexOn39of1ZCaXEum6jJIz', 'next': 'https://graph.facebook.com/v10.0/3861571440622942/posts?access_token=EAAG9jDQCtREBAKc6ZAOBHAWuTCrXnTPYMFVek3fRlzqIFGZBRTyqyIucsoAZCnZAEhGGqCOUQWPxaRJGzGhKOy37dYaeZCAZAGNEQrwBUMF5GIo7K40AyU7BQIGZAx87Cc9TZCY4IkhRlattwjSN1trspfxRRaPRKoz6R0zu37Joqd5DKZCXwDMU750duFd664KdDZClq2ZCnH4n95XsMJtw36tAnGTWzZATuYiwYaB2p1vNXQZDZD&until=1547219831&since&__paging_token=enc_AdCu0cZCxH0IqWfUeIlu8BTpb1dXtDZAFaNfUpq9YZBneK1ZAyWiNSayslNRjpbC6RHEZCyHZARLaZB651rFTZA7ozbZASl3zEHeKEIwbOynkKpGlmmaukUiHL0ZBsZBliZCTTQ6PgsDRKHT6uOuDpuucXF8DhI1oqPz&__previous'}}}\n"
     ]
    }
   ],
   "source": [
    "key = \"EAAG9jDQCtREBAKc6ZAOBHAWuTCrXnTPYMFVek3fRlzqIFGZBRTyqyIucsoAZCnZAEhGGqCOUQWPxaRJGzGhKOy37dYaeZCAZAGNEQrwBUMF5GIo7K40AyU7BQIGZAx87Cc9TZCY4IkhRlattwjSN1trspfxRRaPRKoz6R0zu37Joqd5DKZCXwDMU750duFd664KdDZClq2ZCnH4n95XsMJtw36tAnGTWzZATuYiwYaB2p1vNXQZDZD\"\n",
    "fields = input(\"\\n Enter Fields , separated --> \")\n",
    "url = f\"https://graph.facebook.com/v10.0/me?fields={fields}&access_token={key}\"\n",
    "resp = requests.get(url)\n",
    "if resp.status_code == 200:\n",
    "    print(resp.json())\n",
    "else:\n",
    "    print(\"\\n Invalid URL/SOMETHING GOES WRONG\")"
   ]
  },
  {
   "cell_type": "code",
   "execution_count": 22,
   "metadata": {},
   "outputs": [],
   "source": [
    "from pprint import pprint"
   ]
  },
  {
   "cell_type": "code",
   "execution_count": 23,
   "metadata": {},
   "outputs": [
    {
     "name": "stdout",
     "output_type": "stream",
     "text": [
      "{'id': '3861571440622942',\n",
      " 'name': 'Simran Grover',\n",
      " 'posts': {'data': [{'created_time': '2020-10-29T15:34:40+0000',\n",
      "                     'id': '3861571440622942_2106467652800005'},\n",
      "                    {'created_time': '2020-06-06T13:26:13+0000',\n",
      "                     'id': '3861571440622942_3050666135046814'},\n",
      "                    {'created_time': '2020-06-01T17:52:28+0000',\n",
      "                     'id': '3861571440622942_3038494352930659',\n",
      "                     'message': 'Omg 6 years back Prateek Pasricha Sonam '\n",
      "                                'Grover🤣🤣'},\n",
      "                    {'created_time': '2020-05-12T07:47:58+0000',\n",
      "                     'id': '3861571440622942_2987979897982105',\n",
      "                     'message': 'Proud❤️😇'},\n",
      "                    {'created_time': '2020-05-07T10:03:04+0000',\n",
      "                     'id': '3861571440622942_2976948349085260'},\n",
      "                    {'created_time': '2020-05-04T04:20:27+0000',\n",
      "                     'id': '3861571440622942_2969687816477980'},\n",
      "                    {'created_time': '2020-03-19T12:42:16+0000',\n",
      "                     'id': '3861571440622942_2868820909898005'},\n",
      "                    {'created_time': '2020-02-25T14:17:58+0000',\n",
      "                     'id': '3861571440622942_2821500974629999',\n",
      "                     'message': 'Too hard to carry😪'},\n",
      "                    {'created_time': '2019-10-13T02:32:53+0000',\n",
      "                     'id': '3861571440622942_2536022416511191'},\n",
      "                    {'created_time': '2019-09-20T06:27:15+0000',\n",
      "                     'id': '3861571440622942_2485729834873783'},\n",
      "                    {'created_time': '2019-08-19T17:06:58+0000',\n",
      "                     'id': '3861571440622942_2428307400616027',\n",
      "                     'message': 'Hey babe ♥️ Muskan Batra birthday soon🤩'},\n",
      "                    {'created_time': '2019-08-18T19:33:54+0000',\n",
      "                     'id': '3861571440622942_2426749554105145'},\n",
      "                    {'created_time': '2019-07-28T02:57:25+0000',\n",
      "                     'id': '3861571440622942_2390061257773975'},\n",
      "                    {'created_time': '2019-07-15T05:36:27+0000',\n",
      "                     'id': '3861571440622942_2367914416655326'},\n",
      "                    {'created_time': '2019-05-28T15:40:57+0000',\n",
      "                     'id': '3861571440622942_2285031841610251',\n",
      "                     'message': 'Now only this picture is left Sonam Grover🤣'},\n",
      "                    {'created_time': '2019-05-26T10:14:05+0000',\n",
      "                     'id': '3861571440622942_2281341411979294'},\n",
      "                    {'created_time': '2019-05-25T09:55:35+0000',\n",
      "                     'id': '3861571440622942_2279649135481855'},\n",
      "                    {'created_time': '2019-05-03T13:56:42+0000',\n",
      "                     'id': '3861571440622942_2244574925655943'},\n",
      "                    {'created_time': '2019-04-23T18:22:52+0000',\n",
      "                     'id': '3861571440622942_2229682317145204'},\n",
      "                    {'created_time': '2019-03-31T08:02:22+0000',\n",
      "                     'id': '3861571440622942_2194347604012009'},\n",
      "                    {'created_time': '2019-03-07T18:42:12+0000',\n",
      "                     'id': '3861571440622942_2161371100642993'},\n",
      "                    {'created_time': '2019-02-21T17:12:29+0000',\n",
      "                     'id': '3861571440622942_2140903952689708'},\n",
      "                    {'created_time': '2019-02-12T14:58:08+0000',\n",
      "                     'id': '3861571440622942_2126090164171087'},\n",
      "                    {'created_time': '2019-01-30T13:35:44+0000',\n",
      "                     'id': '3861571440622942_2106467709466666'},\n",
      "                    {'created_time': '2019-01-11T15:17:11+0000',\n",
      "                     'id': '3861571440622942_2077900658990038',\n",
      "                     'message': 'Nobody really has its \"all\"  whatever you do '\n",
      "                                'have thats the \"all\" you need'}],\n",
      "           'paging': {'next': 'https://graph.facebook.com/v10.0/3861571440622942/posts?access_token=EAAG9jDQCtREBAKc6ZAOBHAWuTCrXnTPYMFVek3fRlzqIFGZBRTyqyIucsoAZCnZAEhGGqCOUQWPxaRJGzGhKOy37dYaeZCAZAGNEQrwBUMF5GIo7K40AyU7BQIGZAx87Cc9TZCY4IkhRlattwjSN1trspfxRRaPRKoz6R0zu37Joqd5DKZCXwDMU750duFd664KdDZClq2ZCnH4n95XsMJtw36tAnGTWzZATuYiwYaB2p1vNXQZDZD&until=1547219831&since&__paging_token=enc_AdCu0cZCxH0IqWfUeIlu8BTpb1dXtDZAFaNfUpq9YZBneK1ZAyWiNSayslNRjpbC6RHEZCyHZARLaZB651rFTZA7ozbZASl3zEHeKEIwbOynkKpGlmmaukUiHL0ZBsZBliZCTTQ6PgsDRKHT6uOuDpuucXF8DhI1oqPz&__previous',\n",
      "                      'previous': 'https://graph.facebook.com/v10.0/3861571440622942/posts?access_token=EAAG9jDQCtREBAKc6ZAOBHAWuTCrXnTPYMFVek3fRlzqIFGZBRTyqyIucsoAZCnZAEhGGqCOUQWPxaRJGzGhKOy37dYaeZCAZAGNEQrwBUMF5GIo7K40AyU7BQIGZAx87Cc9TZCY4IkhRlattwjSN1trspfxRRaPRKoz6R0zu37Joqd5DKZCXwDMU750duFd664KdDZClq2ZCnH4n95XsMJtw36tAnGTWzZATuYiwYaB2p1vNXQZDZD&__previous=1&since=1603985680&until&__paging_token=enc_AdDBSO914w0dgjmqAKp1Y8eMsyWT8cX9945QrZBAd9qcyfIOdCJO2OolnudoAGeR3HtyyZBaIoVN8mGNGxdPpi5nqjQqHmFlCYDATM0WOu0h8yZC9WTy3Be2XHpheAXTnD27W9KexOn39of1ZCaXEum6jJIz'}}}\n"
     ]
    }
   ],
   "source": [
    "pprint(resp.json())"
   ]
  },
  {
   "cell_type": "code",
   "execution_count": 24,
   "metadata": {},
   "outputs": [],
   "source": [
    "data = resp.json()"
   ]
  },
  {
   "cell_type": "code",
   "execution_count": 25,
   "metadata": {},
   "outputs": [
    {
     "name": "stdout",
     "output_type": "stream",
     "text": [
      "{'id': '3861571440622942',\n",
      " 'name': 'Simran Grover',\n",
      " 'posts': {'data': [{'created_time': '2020-10-29T15:34:40+0000',\n",
      "                     'id': '3861571440622942_2106467652800005'},\n",
      "                    {'created_time': '2020-06-06T13:26:13+0000',\n",
      "                     'id': '3861571440622942_3050666135046814'},\n",
      "                    {'created_time': '2020-06-01T17:52:28+0000',\n",
      "                     'id': '3861571440622942_3038494352930659',\n",
      "                     'message': 'Omg 6 years back Prateek Pasricha Sonam '\n",
      "                                'Grover🤣🤣'},\n",
      "                    {'created_time': '2020-05-12T07:47:58+0000',\n",
      "                     'id': '3861571440622942_2987979897982105',\n",
      "                     'message': 'Proud❤️😇'},\n",
      "                    {'created_time': '2020-05-07T10:03:04+0000',\n",
      "                     'id': '3861571440622942_2976948349085260'},\n",
      "                    {'created_time': '2020-05-04T04:20:27+0000',\n",
      "                     'id': '3861571440622942_2969687816477980'},\n",
      "                    {'created_time': '2020-03-19T12:42:16+0000',\n",
      "                     'id': '3861571440622942_2868820909898005'},\n",
      "                    {'created_time': '2020-02-25T14:17:58+0000',\n",
      "                     'id': '3861571440622942_2821500974629999',\n",
      "                     'message': 'Too hard to carry😪'},\n",
      "                    {'created_time': '2019-10-13T02:32:53+0000',\n",
      "                     'id': '3861571440622942_2536022416511191'},\n",
      "                    {'created_time': '2019-09-20T06:27:15+0000',\n",
      "                     'id': '3861571440622942_2485729834873783'},\n",
      "                    {'created_time': '2019-08-19T17:06:58+0000',\n",
      "                     'id': '3861571440622942_2428307400616027',\n",
      "                     'message': 'Hey babe ♥️ Muskan Batra birthday soon🤩'},\n",
      "                    {'created_time': '2019-08-18T19:33:54+0000',\n",
      "                     'id': '3861571440622942_2426749554105145'},\n",
      "                    {'created_time': '2019-07-28T02:57:25+0000',\n",
      "                     'id': '3861571440622942_2390061257773975'},\n",
      "                    {'created_time': '2019-07-15T05:36:27+0000',\n",
      "                     'id': '3861571440622942_2367914416655326'},\n",
      "                    {'created_time': '2019-05-28T15:40:57+0000',\n",
      "                     'id': '3861571440622942_2285031841610251',\n",
      "                     'message': 'Now only this picture is left Sonam Grover🤣'},\n",
      "                    {'created_time': '2019-05-26T10:14:05+0000',\n",
      "                     'id': '3861571440622942_2281341411979294'},\n",
      "                    {'created_time': '2019-05-25T09:55:35+0000',\n",
      "                     'id': '3861571440622942_2279649135481855'},\n",
      "                    {'created_time': '2019-05-03T13:56:42+0000',\n",
      "                     'id': '3861571440622942_2244574925655943'},\n",
      "                    {'created_time': '2019-04-23T18:22:52+0000',\n",
      "                     'id': '3861571440622942_2229682317145204'},\n",
      "                    {'created_time': '2019-03-31T08:02:22+0000',\n",
      "                     'id': '3861571440622942_2194347604012009'},\n",
      "                    {'created_time': '2019-03-07T18:42:12+0000',\n",
      "                     'id': '3861571440622942_2161371100642993'},\n",
      "                    {'created_time': '2019-02-21T17:12:29+0000',\n",
      "                     'id': '3861571440622942_2140903952689708'},\n",
      "                    {'created_time': '2019-02-12T14:58:08+0000',\n",
      "                     'id': '3861571440622942_2126090164171087'},\n",
      "                    {'created_time': '2019-01-30T13:35:44+0000',\n",
      "                     'id': '3861571440622942_2106467709466666'},\n",
      "                    {'created_time': '2019-01-11T15:17:11+0000',\n",
      "                     'id': '3861571440622942_2077900658990038',\n",
      "                     'message': 'Nobody really has its \"all\"  whatever you do '\n",
      "                                'have thats the \"all\" you need'}],\n",
      "           'paging': {'next': 'https://graph.facebook.com/v10.0/3861571440622942/posts?access_token=EAAG9jDQCtREBAKc6ZAOBHAWuTCrXnTPYMFVek3fRlzqIFGZBRTyqyIucsoAZCnZAEhGGqCOUQWPxaRJGzGhKOy37dYaeZCAZAGNEQrwBUMF5GIo7K40AyU7BQIGZAx87Cc9TZCY4IkhRlattwjSN1trspfxRRaPRKoz6R0zu37Joqd5DKZCXwDMU750duFd664KdDZClq2ZCnH4n95XsMJtw36tAnGTWzZATuYiwYaB2p1vNXQZDZD&until=1547219831&since&__paging_token=enc_AdCu0cZCxH0IqWfUeIlu8BTpb1dXtDZAFaNfUpq9YZBneK1ZAyWiNSayslNRjpbC6RHEZCyHZARLaZB651rFTZA7ozbZASl3zEHeKEIwbOynkKpGlmmaukUiHL0ZBsZBliZCTTQ6PgsDRKHT6uOuDpuucXF8DhI1oqPz&__previous',\n",
      "                      'previous': 'https://graph.facebook.com/v10.0/3861571440622942/posts?access_token=EAAG9jDQCtREBAKc6ZAOBHAWuTCrXnTPYMFVek3fRlzqIFGZBRTyqyIucsoAZCnZAEhGGqCOUQWPxaRJGzGhKOy37dYaeZCAZAGNEQrwBUMF5GIo7K40AyU7BQIGZAx87Cc9TZCY4IkhRlattwjSN1trspfxRRaPRKoz6R0zu37Joqd5DKZCXwDMU750duFd664KdDZClq2ZCnH4n95XsMJtw36tAnGTWzZATuYiwYaB2p1vNXQZDZD&__previous=1&since=1603985680&until&__paging_token=enc_AdDBSO914w0dgjmqAKp1Y8eMsyWT8cX9945QrZBAd9qcyfIOdCJO2OolnudoAGeR3HtyyZBaIoVN8mGNGxdPpi5nqjQqHmFlCYDATM0WOu0h8yZC9WTy3Be2XHpheAXTnD27W9KexOn39of1ZCaXEum6jJIz'}}}\n"
     ]
    }
   ],
   "source": [
    "pprint(data)"
   ]
  },
  {
   "cell_type": "code",
   "execution_count": 29,
   "metadata": {},
   "outputs": [
    {
     "data": {
      "text/plain": [
       "'Too hard to carry😪'"
      ]
     },
     "execution_count": 29,
     "metadata": {},
     "output_type": "execute_result"
    }
   ],
   "source": [
    "data['posts']['data'][7]['message']"
   ]
  },
  {
   "cell_type": "code",
   "execution_count": 30,
   "metadata": {},
   "outputs": [],
   "source": [
    "#### movie api --> movie data "
   ]
  },
  {
   "cell_type": "markdown",
   "metadata": {},
   "source": [
    "    http://www.omdbapi.com/?apikey=[yourkey]&t={title_name}\n",
    "    function --> title as parameter and show useful movie details"
   ]
  },
  {
   "cell_type": "code",
   "execution_count": null,
   "metadata": {},
   "outputs": [],
   "source": []
  }
 ],
 "metadata": {
  "kernelspec": {
   "display_name": "Python 3",
   "language": "python",
   "name": "python3"
  },
  "language_info": {
   "codemirror_mode": {
    "name": "ipython",
    "version": 3
   },
   "file_extension": ".py",
   "mimetype": "text/x-python",
   "name": "python",
   "nbconvert_exporter": "python",
   "pygments_lexer": "ipython3",
   "version": "3.8.5"
  }
 },
 "nbformat": 4,
 "nbformat_minor": 4
}
